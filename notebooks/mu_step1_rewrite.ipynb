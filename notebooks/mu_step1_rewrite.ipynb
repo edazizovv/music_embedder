{
 "cells": [
  {
   "cell_type": "code",
   "execution_count": 1,
   "id": "d7300d77-dcb0-42dc-91d9-7cce8ddf5198",
   "metadata": {},
   "outputs": [],
   "source": [
    "import os"
   ]
  },
  {
   "cell_type": "code",
   "execution_count": 2,
   "id": "2005c7ef-946e-4a2b-8066-6ac40dc1ca0a",
   "metadata": {},
   "outputs": [],
   "source": [
    "from transformers import Wav2Vec2Processor, Data2VecAudioModel\n",
    "import torch\n",
    "from torch import nn\n",
    "from datasets import load_dataset\n",
    "import numpy\n",
    "import pandas\n",
    "import seaborn\n",
    "from sklearn import cluster"
   ]
  },
  {
   "cell_type": "code",
   "execution_count": null,
   "id": "ad26fabd-1211-4be3-a590-8c3f07730a3b",
   "metadata": {},
   "outputs": [],
   "source": []
  },
  {
   "cell_type": "code",
   "execution_count": 3,
   "id": "ee6bac00-f001-47af-a7ba-36b7e7736894",
   "metadata": {},
   "outputs": [],
   "source": [
    "dataset = load_dataset(\"hf-internal-testing/librispeech_asr_demo\", \"clean\", split=\"validation\", trust_remote_code=True)\n",
    "dataset = dataset.sort(\"id\")\n",
    "sampling_rate = dataset.features[\"audio\"].sampling_rate"
   ]
  },
  {
   "cell_type": "code",
   "execution_count": null,
   "id": "5a05e240-451c-47fb-8575-e22a6f26a646",
   "metadata": {},
   "outputs": [],
   "source": []
  },
  {
   "cell_type": "code",
   "execution_count": 4,
   "id": "212a1192-49d1-47f1-9ad9-d17d8fceaf2f",
   "metadata": {},
   "outputs": [],
   "source": [
    "from moviepy.editor import VideoFileClip"
   ]
  },
  {
   "cell_type": "code",
   "execution_count": 5,
   "id": "91f49a69-bebe-4361-9d42-9f103efa3fdb",
   "metadata": {},
   "outputs": [],
   "source": [
    "cut_length = 300"
   ]
  },
  {
   "cell_type": "code",
   "execution_count": 6,
   "id": "11f97aed-7dbb-4bb3-a87c-645d4c782ca4",
   "metadata": {
    "scrolled": true
   },
   "outputs": [
    {
     "name": "stdout",
     "output_type": "stream",
     "text": [
      "-PVZWsClTPY\n",
      "MoviePy - Writing audio in ./data_mp3/-PVZWsClTPY.mp3\n"
     ]
    },
    {
     "name": "stderr",
     "output_type": "stream",
     "text": [
      "                                                                                                                       \r"
     ]
    },
    {
     "name": "stdout",
     "output_type": "stream",
     "text": [
      "MoviePy - Done.\n",
      "0j7_Tb4LgPA\n",
      "MoviePy - Writing audio in ./data_mp3/0j7_Tb4LgPA.mp3\n"
     ]
    },
    {
     "name": "stderr",
     "output_type": "stream",
     "text": [
      "                                                                                                                       \r"
     ]
    },
    {
     "name": "stdout",
     "output_type": "stream",
     "text": [
      "MoviePy - Done.\n",
      "0poLsDf1TvM\n",
      "MoviePy - Writing audio in ./data_mp3/0poLsDf1TvM.mp3\n"
     ]
    },
    {
     "name": "stderr",
     "output_type": "stream",
     "text": [
      "                                                                                                                       \r"
     ]
    },
    {
     "name": "stdout",
     "output_type": "stream",
     "text": [
      "MoviePy - Done.\n",
      "1AfkQES9PPw\n",
      "MoviePy - Writing audio in ./data_mp3/1AfkQES9PPw__ы1.mp3\n"
     ]
    },
    {
     "name": "stderr",
     "output_type": "stream",
     "text": [
      "                                                                                                                       \r"
     ]
    },
    {
     "name": "stdout",
     "output_type": "stream",
     "text": [
      "MoviePy - Done.\n",
      "MoviePy - Writing audio in ./data_mp3/1AfkQES9PPw__ы2.mp3\n"
     ]
    },
    {
     "name": "stderr",
     "output_type": "stream",
     "text": [
      "                                                                                                                       \r"
     ]
    },
    {
     "name": "stdout",
     "output_type": "stream",
     "text": [
      "MoviePy - Done.\n",
      "MoviePy - Writing audio in ./data_mp3/1AfkQES9PPw__ы3.mp3\n"
     ]
    },
    {
     "name": "stderr",
     "output_type": "stream",
     "text": [
      "                                                                                                                       \r"
     ]
    },
    {
     "name": "stdout",
     "output_type": "stream",
     "text": [
      "MoviePy - Done.\n",
      "MoviePy - Writing audio in ./data_mp3/1AfkQES9PPw__ы4.mp3\n"
     ]
    },
    {
     "name": "stderr",
     "output_type": "stream",
     "text": [
      "                                                                                                                       \r"
     ]
    },
    {
     "name": "stdout",
     "output_type": "stream",
     "text": [
      "MoviePy - Done.\n",
      "MoviePy - Writing audio in ./data_mp3/1AfkQES9PPw__ы5.mp3\n"
     ]
    },
    {
     "name": "stderr",
     "output_type": "stream",
     "text": [
      "                                                                                                                       \r"
     ]
    },
    {
     "name": "stdout",
     "output_type": "stream",
     "text": [
      "MoviePy - Done.\n",
      "MoviePy - Writing audio in ./data_mp3/1AfkQES9PPw__ы6.mp3\n"
     ]
    },
    {
     "name": "stderr",
     "output_type": "stream",
     "text": [
      "                                                                                                                       \r"
     ]
    },
    {
     "name": "stdout",
     "output_type": "stream",
     "text": [
      "MoviePy - Done.\n",
      "MoviePy - Writing audio in ./data_mp3/1AfkQES9PPw__ы7.mp3\n"
     ]
    },
    {
     "name": "stderr",
     "output_type": "stream",
     "text": [
      "                                                                                                                       \r"
     ]
    },
    {
     "name": "stdout",
     "output_type": "stream",
     "text": [
      "MoviePy - Done.\n",
      "MoviePy - Writing audio in ./data_mp3/1AfkQES9PPw__ы8.mp3\n"
     ]
    },
    {
     "name": "stderr",
     "output_type": "stream",
     "text": [
      "                                                                                                                       \r"
     ]
    },
    {
     "name": "stdout",
     "output_type": "stream",
     "text": [
      "MoviePy - Done.\n",
      "MoviePy - Writing audio in ./data_mp3/1AfkQES9PPw__ы9.mp3\n"
     ]
    },
    {
     "name": "stderr",
     "output_type": "stream",
     "text": [
      "                                                                                                                       \r"
     ]
    },
    {
     "name": "stdout",
     "output_type": "stream",
     "text": [
      "MoviePy - Done.\n",
      "MoviePy - Writing audio in ./data_mp3/1AfkQES9PPw__ы10.mp3\n"
     ]
    },
    {
     "name": "stderr",
     "output_type": "stream",
     "text": [
      "                                                                                                                       \r"
     ]
    },
    {
     "name": "stdout",
     "output_type": "stream",
     "text": [
      "MoviePy - Done.\n",
      "MoviePy - Writing audio in ./data_mp3/1AfkQES9PPw__ы11.mp3\n"
     ]
    },
    {
     "name": "stderr",
     "output_type": "stream",
     "text": [
      "                                                                                                                       \r"
     ]
    },
    {
     "name": "stdout",
     "output_type": "stream",
     "text": [
      "MoviePy - Done.\n",
      "MoviePy - Writing audio in ./data_mp3/1AfkQES9PPw__ы12.mp3\n"
     ]
    },
    {
     "name": "stderr",
     "output_type": "stream",
     "text": [
      "                                                                                                                       \r"
     ]
    },
    {
     "name": "stdout",
     "output_type": "stream",
     "text": [
      "MoviePy - Done.\n",
      "MoviePy - Writing audio in ./data_mp3/1AfkQES9PPw__ы13.mp3\n"
     ]
    },
    {
     "name": "stderr",
     "output_type": "stream",
     "text": [
      "                                                                                                                       \r"
     ]
    },
    {
     "name": "stdout",
     "output_type": "stream",
     "text": [
      "MoviePy - Done.\n",
      "MoviePy - Writing audio in ./data_mp3/1AfkQES9PPw__ы14.mp3\n"
     ]
    },
    {
     "name": "stderr",
     "output_type": "stream",
     "text": [
      "                                                                                                                       \r"
     ]
    },
    {
     "name": "stdout",
     "output_type": "stream",
     "text": [
      "MoviePy - Done.\n",
      "MoviePy - Writing audio in ./data_mp3/1AfkQES9PPw__ы15.mp3\n"
     ]
    },
    {
     "name": "stderr",
     "output_type": "stream",
     "text": [
      "                                                                                                                       \r"
     ]
    },
    {
     "name": "stdout",
     "output_type": "stream",
     "text": [
      "MoviePy - Done.\n",
      "MoviePy - Writing audio in ./data_mp3/1AfkQES9PPw__ы16.mp3\n"
     ]
    },
    {
     "name": "stderr",
     "output_type": "stream",
     "text": [
      "                                                                                                                       \r"
     ]
    },
    {
     "name": "stdout",
     "output_type": "stream",
     "text": [
      "MoviePy - Done.\n",
      "MoviePy - Writing audio in ./data_mp3/1AfkQES9PPw__ы17.mp3\n"
     ]
    },
    {
     "name": "stderr",
     "output_type": "stream",
     "text": [
      "                                                                                                                       \r"
     ]
    },
    {
     "name": "stdout",
     "output_type": "stream",
     "text": [
      "MoviePy - Done.\n",
      "MoviePy - Writing audio in ./data_mp3/1AfkQES9PPw__ы18.mp3\n"
     ]
    },
    {
     "name": "stderr",
     "output_type": "stream",
     "text": [
      "                                                                                                                       \r"
     ]
    },
    {
     "name": "stdout",
     "output_type": "stream",
     "text": [
      "MoviePy - Done.\n",
      "MoviePy - Writing audio in ./data_mp3/1AfkQES9PPw__ы19.mp3\n"
     ]
    },
    {
     "name": "stderr",
     "output_type": "stream",
     "text": [
      "                                                                                                                       \r"
     ]
    },
    {
     "name": "stdout",
     "output_type": "stream",
     "text": [
      "MoviePy - Done.\n",
      "MoviePy - Writing audio in ./data_mp3/1AfkQES9PPw__ы20.mp3\n"
     ]
    },
    {
     "name": "stderr",
     "output_type": "stream",
     "text": [
      "                                                                                                                       \r"
     ]
    },
    {
     "name": "stdout",
     "output_type": "stream",
     "text": [
      "MoviePy - Done.\n",
      "MoviePy - Writing audio in ./data_mp3/1AfkQES9PPw__ы21.mp3\n"
     ]
    },
    {
     "name": "stderr",
     "output_type": "stream",
     "text": [
      "                                                                                                                       \r"
     ]
    },
    {
     "name": "stdout",
     "output_type": "stream",
     "text": [
      "MoviePy - Done.\n",
      "MoviePy - Writing audio in ./data_mp3/1AfkQES9PPw__ы22.mp3\n"
     ]
    },
    {
     "name": "stderr",
     "output_type": "stream",
     "text": [
      "                                                                                                                       \r"
     ]
    },
    {
     "name": "stdout",
     "output_type": "stream",
     "text": [
      "MoviePy - Done.\n",
      "MoviePy - Writing audio in ./data_mp3/1AfkQES9PPw__ы23.mp3\n"
     ]
    },
    {
     "name": "stderr",
     "output_type": "stream",
     "text": [
      "                                                                                                                       \r"
     ]
    },
    {
     "name": "stdout",
     "output_type": "stream",
     "text": [
      "MoviePy - Done.\n",
      "MoviePy - Writing audio in ./data_mp3/1AfkQES9PPw__ы24.mp3\n"
     ]
    },
    {
     "name": "stderr",
     "output_type": "stream",
     "text": [
      "                                                                                                                       \r"
     ]
    },
    {
     "name": "stdout",
     "output_type": "stream",
     "text": [
      "MoviePy - Done.\n",
      "MoviePy - Writing audio in ./data_mp3/1AfkQES9PPw__ы25.mp3\n"
     ]
    },
    {
     "name": "stderr",
     "output_type": "stream",
     "text": [
      "                                                                                                                       \r"
     ]
    },
    {
     "name": "stdout",
     "output_type": "stream",
     "text": [
      "MoviePy - Done.\n",
      "MoviePy - Writing audio in ./data_mp3/1AfkQES9PPw__ы26.mp3\n"
     ]
    },
    {
     "name": "stderr",
     "output_type": "stream",
     "text": [
      "                                                                                                                       \r"
     ]
    },
    {
     "name": "stdout",
     "output_type": "stream",
     "text": [
      "MoviePy - Done.\n",
      "MoviePy - Writing audio in ./data_mp3/1AfkQES9PPw__ы27.mp3\n"
     ]
    },
    {
     "name": "stderr",
     "output_type": "stream",
     "text": [
      "                                                                                                                       \r"
     ]
    },
    {
     "name": "stdout",
     "output_type": "stream",
     "text": [
      "MoviePy - Done.\n",
      "MoviePy - Writing audio in ./data_mp3/1AfkQES9PPw__ы28.mp3\n"
     ]
    },
    {
     "name": "stderr",
     "output_type": "stream",
     "text": [
      "                                                                                                                       \r"
     ]
    },
    {
     "name": "stdout",
     "output_type": "stream",
     "text": [
      "MoviePy - Done.\n",
      "MoviePy - Writing audio in ./data_mp3/1AfkQES9PPw__ы29.mp3\n"
     ]
    },
    {
     "name": "stderr",
     "output_type": "stream",
     "text": [
      "                                                                                                                       \r"
     ]
    },
    {
     "name": "stdout",
     "output_type": "stream",
     "text": [
      "MoviePy - Done.\n",
      "MoviePy - Writing audio in ./data_mp3/1AfkQES9PPw__ы30.mp3\n"
     ]
    },
    {
     "name": "stderr",
     "output_type": "stream",
     "text": [
      "                                                                                                                       \r"
     ]
    },
    {
     "name": "stdout",
     "output_type": "stream",
     "text": [
      "MoviePy - Done.\n",
      "MoviePy - Writing audio in ./data_mp3/1AfkQES9PPw__ы31.mp3\n"
     ]
    },
    {
     "name": "stderr",
     "output_type": "stream",
     "text": [
      "                                                                                                                       \r"
     ]
    },
    {
     "name": "stdout",
     "output_type": "stream",
     "text": [
      "MoviePy - Done.\n",
      "MoviePy - Writing audio in ./data_mp3/1AfkQES9PPw__ы32.mp3\n"
     ]
    },
    {
     "name": "stderr",
     "output_type": "stream",
     "text": [
      "                                                                                                                       \r"
     ]
    },
    {
     "name": "stdout",
     "output_type": "stream",
     "text": [
      "MoviePy - Done.\n",
      "MoviePy - Writing audio in ./data_mp3/1AfkQES9PPw__ы33.mp3\n"
     ]
    },
    {
     "name": "stderr",
     "output_type": "stream",
     "text": [
      "                                                                                                                       \r"
     ]
    },
    {
     "name": "stdout",
     "output_type": "stream",
     "text": [
      "MoviePy - Done.\n",
      "MoviePy - Writing audio in ./data_mp3/1AfkQES9PPw__ы34.mp3\n"
     ]
    },
    {
     "name": "stderr",
     "output_type": "stream",
     "text": [
      "                                                                                                                       \r"
     ]
    },
    {
     "name": "stdout",
     "output_type": "stream",
     "text": [
      "MoviePy - Done.\n",
      "MoviePy - Writing audio in ./data_mp3/1AfkQES9PPw__ы35.mp3\n"
     ]
    },
    {
     "name": "stderr",
     "output_type": "stream",
     "text": [
      "                                                                                                                       \r"
     ]
    },
    {
     "name": "stdout",
     "output_type": "stream",
     "text": [
      "MoviePy - Done.\n",
      "MoviePy - Writing audio in ./data_mp3/1AfkQES9PPw__ы36.mp3\n"
     ]
    },
    {
     "name": "stderr",
     "output_type": "stream",
     "text": [
      "                                                                                                                       \r"
     ]
    },
    {
     "name": "stdout",
     "output_type": "stream",
     "text": [
      "MoviePy - Done.\n",
      "MoviePy - Writing audio in ./data_mp3/1AfkQES9PPw__ы37.mp3\n"
     ]
    },
    {
     "name": "stderr",
     "output_type": "stream",
     "text": [
      "                                                                                                                       \r"
     ]
    },
    {
     "name": "stdout",
     "output_type": "stream",
     "text": [
      "MoviePy - Done.\n",
      "MoviePy - Writing audio in ./data_mp3/1AfkQES9PPw__ы38.mp3\n"
     ]
    },
    {
     "name": "stderr",
     "output_type": "stream",
     "text": [
      "                                                                                                                       \r"
     ]
    },
    {
     "name": "stdout",
     "output_type": "stream",
     "text": [
      "MoviePy - Done.\n",
      "MoviePy - Writing audio in ./data_mp3/1AfkQES9PPw__ы39.mp3\n"
     ]
    },
    {
     "name": "stderr",
     "output_type": "stream",
     "text": [
      "                                                                                                                       \r"
     ]
    },
    {
     "name": "stdout",
     "output_type": "stream",
     "text": [
      "MoviePy - Done.\n",
      "1VgqTZptlt4\n",
      "MoviePy - Writing audio in ./data_mp3/1VgqTZptlt4.mp3\n"
     ]
    },
    {
     "name": "stderr",
     "output_type": "stream",
     "text": [
      "                                                                                                                       \r"
     ]
    },
    {
     "name": "stdout",
     "output_type": "stream",
     "text": [
      "MoviePy - Done.\n",
      "2PN548CszJ4\n",
      "MoviePy - Writing audio in ./data_mp3/2PN548CszJ4__ы1.mp3\n"
     ]
    },
    {
     "name": "stderr",
     "output_type": "stream",
     "text": [
      "                                                                                                                       \r"
     ]
    },
    {
     "name": "stdout",
     "output_type": "stream",
     "text": [
      "MoviePy - Done.\n",
      "MoviePy - Writing audio in ./data_mp3/2PN548CszJ4__ы2.mp3\n"
     ]
    },
    {
     "name": "stderr",
     "output_type": "stream",
     "text": [
      "                                                                                                                       \r"
     ]
    },
    {
     "name": "stdout",
     "output_type": "stream",
     "text": [
      "MoviePy - Done.\n",
      "MoviePy - Writing audio in ./data_mp3/2PN548CszJ4__ы3.mp3\n"
     ]
    },
    {
     "name": "stderr",
     "output_type": "stream",
     "text": [
      "                                                                                                                       \r"
     ]
    },
    {
     "name": "stdout",
     "output_type": "stream",
     "text": [
      "MoviePy - Done.\n",
      "MoviePy - Writing audio in ./data_mp3/2PN548CszJ4__ы4.mp3\n"
     ]
    },
    {
     "name": "stderr",
     "output_type": "stream",
     "text": [
      "                                                                                                                       \r"
     ]
    },
    {
     "name": "stdout",
     "output_type": "stream",
     "text": [
      "MoviePy - Done.\n",
      "MoviePy - Writing audio in ./data_mp3/2PN548CszJ4__ы5.mp3\n"
     ]
    },
    {
     "name": "stderr",
     "output_type": "stream",
     "text": [
      "                                                                                                                       \r"
     ]
    },
    {
     "name": "stdout",
     "output_type": "stream",
     "text": [
      "MoviePy - Done.\n",
      "MoviePy - Writing audio in ./data_mp3/2PN548CszJ4__ы6.mp3\n"
     ]
    },
    {
     "name": "stderr",
     "output_type": "stream",
     "text": [
      "                                                                                                                       \r"
     ]
    },
    {
     "name": "stdout",
     "output_type": "stream",
     "text": [
      "MoviePy - Done.\n",
      "MoviePy - Writing audio in ./data_mp3/2PN548CszJ4__ы7.mp3\n"
     ]
    },
    {
     "name": "stderr",
     "output_type": "stream",
     "text": [
      "                                                                                                                       \r"
     ]
    },
    {
     "name": "stdout",
     "output_type": "stream",
     "text": [
      "MoviePy - Done.\n",
      "MoviePy - Writing audio in ./data_mp3/2PN548CszJ4__ы8.mp3\n"
     ]
    },
    {
     "name": "stderr",
     "output_type": "stream",
     "text": [
      "                                                                                                                       \r"
     ]
    },
    {
     "name": "stdout",
     "output_type": "stream",
     "text": [
      "MoviePy - Done.\n",
      "MoviePy - Writing audio in ./data_mp3/2PN548CszJ4__ы9.mp3\n"
     ]
    },
    {
     "name": "stderr",
     "output_type": "stream",
     "text": [
      "                                                                                                                       \r"
     ]
    },
    {
     "name": "stdout",
     "output_type": "stream",
     "text": [
      "MoviePy - Done.\n",
      "MoviePy - Writing audio in ./data_mp3/2PN548CszJ4__ы10.mp3\n"
     ]
    },
    {
     "name": "stderr",
     "output_type": "stream",
     "text": [
      "                                                                                                                       \r"
     ]
    },
    {
     "name": "stdout",
     "output_type": "stream",
     "text": [
      "MoviePy - Done.\n",
      "MoviePy - Writing audio in ./data_mp3/2PN548CszJ4__ы11.mp3\n"
     ]
    },
    {
     "name": "stderr",
     "output_type": "stream",
     "text": [
      "                                                                                                                       \r"
     ]
    },
    {
     "name": "stdout",
     "output_type": "stream",
     "text": [
      "MoviePy - Done.\n",
      "MoviePy - Writing audio in ./data_mp3/2PN548CszJ4__ы12.mp3\n"
     ]
    },
    {
     "name": "stderr",
     "output_type": "stream",
     "text": [
      "                                                                                                                       \r"
     ]
    },
    {
     "name": "stdout",
     "output_type": "stream",
     "text": [
      "MoviePy - Done.\n",
      "MoviePy - Writing audio in ./data_mp3/2PN548CszJ4__ы13.mp3\n"
     ]
    },
    {
     "name": "stderr",
     "output_type": "stream",
     "text": [
      "                                                                                                                       \r"
     ]
    },
    {
     "name": "stdout",
     "output_type": "stream",
     "text": [
      "MoviePy - Done.\n",
      "MoviePy - Writing audio in ./data_mp3/2PN548CszJ4__ы14.mp3\n"
     ]
    },
    {
     "name": "stderr",
     "output_type": "stream",
     "text": [
      "                                                                                                                       \r"
     ]
    },
    {
     "name": "stdout",
     "output_type": "stream",
     "text": [
      "MoviePy - Done.\n",
      "MoviePy - Writing audio in ./data_mp3/2PN548CszJ4__ы15.mp3\n"
     ]
    },
    {
     "name": "stderr",
     "output_type": "stream",
     "text": [
      "                                                                                                                       \r"
     ]
    },
    {
     "name": "stdout",
     "output_type": "stream",
     "text": [
      "MoviePy - Done.\n",
      "MoviePy - Writing audio in ./data_mp3/2PN548CszJ4__ы16.mp3\n"
     ]
    },
    {
     "name": "stderr",
     "output_type": "stream",
     "text": [
      "                                                                                                                       \r"
     ]
    },
    {
     "name": "stdout",
     "output_type": "stream",
     "text": [
      "MoviePy - Done.\n",
      "MoviePy - Writing audio in ./data_mp3/2PN548CszJ4__ы17.mp3\n"
     ]
    },
    {
     "name": "stderr",
     "output_type": "stream",
     "text": [
      "                                                                                                                       \r"
     ]
    },
    {
     "name": "stdout",
     "output_type": "stream",
     "text": [
      "MoviePy - Done.\n",
      "MoviePy - Writing audio in ./data_mp3/2PN548CszJ4__ы18.mp3\n"
     ]
    },
    {
     "name": "stderr",
     "output_type": "stream",
     "text": [
      "                                                                                                                       \r"
     ]
    },
    {
     "name": "stdout",
     "output_type": "stream",
     "text": [
      "MoviePy - Done.\n",
      "MoviePy - Writing audio in ./data_mp3/2PN548CszJ4__ы19.mp3\n"
     ]
    },
    {
     "name": "stderr",
     "output_type": "stream",
     "text": [
      "                                                                                                                       \r"
     ]
    },
    {
     "name": "stdout",
     "output_type": "stream",
     "text": [
      "MoviePy - Done.\n",
      "MoviePy - Writing audio in ./data_mp3/2PN548CszJ4__ы20.mp3\n"
     ]
    },
    {
     "name": "stderr",
     "output_type": "stream",
     "text": [
      "                                                                                                                       \r"
     ]
    },
    {
     "name": "stdout",
     "output_type": "stream",
     "text": [
      "MoviePy - Done.\n",
      "MoviePy - Writing audio in ./data_mp3/2PN548CszJ4__ы21.mp3\n"
     ]
    },
    {
     "name": "stderr",
     "output_type": "stream",
     "text": [
      "                                                                                                                       \r"
     ]
    },
    {
     "name": "stdout",
     "output_type": "stream",
     "text": [
      "MoviePy - Done.\n",
      "MoviePy - Writing audio in ./data_mp3/2PN548CszJ4__ы22.mp3\n"
     ]
    },
    {
     "name": "stderr",
     "output_type": "stream",
     "text": [
      "                                                                                                                       \r"
     ]
    },
    {
     "name": "stdout",
     "output_type": "stream",
     "text": [
      "MoviePy - Done.\n",
      "MoviePy - Writing audio in ./data_mp3/2PN548CszJ4__ы23.mp3\n"
     ]
    },
    {
     "name": "stderr",
     "output_type": "stream",
     "text": [
      "                                                                                                                       \r"
     ]
    },
    {
     "name": "stdout",
     "output_type": "stream",
     "text": [
      "MoviePy - Done.\n",
      "MoviePy - Writing audio in ./data_mp3/2PN548CszJ4__ы24.mp3\n"
     ]
    },
    {
     "name": "stderr",
     "output_type": "stream",
     "text": [
      "                                                                                                                       \r"
     ]
    },
    {
     "name": "stdout",
     "output_type": "stream",
     "text": [
      "MoviePy - Done.\n",
      "36qnhrJGgfc\n",
      "MoviePy - Writing audio in ./data_mp3/36qnhrJGgfc.mp3\n"
     ]
    },
    {
     "name": "stderr",
     "output_type": "stream",
     "text": [
      "                                                                                                                       \r"
     ]
    },
    {
     "name": "stdout",
     "output_type": "stream",
     "text": [
      "MoviePy - Done.\n",
      "36v6XBpa7CA\n",
      "MoviePy - Writing audio in ./data_mp3/36v6XBpa7CA.mp3\n"
     ]
    },
    {
     "name": "stderr",
     "output_type": "stream",
     "text": [
      "                                                                                                                       \r"
     ]
    },
    {
     "name": "stdout",
     "output_type": "stream",
     "text": [
      "MoviePy - Done.\n",
      "40PLk5VKVKQ\n",
      "MoviePy - Writing audio in ./data_mp3/40PLk5VKVKQ__ы1.mp3\n"
     ]
    },
    {
     "name": "stderr",
     "output_type": "stream",
     "text": [
      "                                                                                                                       \r"
     ]
    },
    {
     "name": "stdout",
     "output_type": "stream",
     "text": [
      "MoviePy - Done.\n",
      "MoviePy - Writing audio in ./data_mp3/40PLk5VKVKQ__ы2.mp3\n"
     ]
    },
    {
     "name": "stderr",
     "output_type": "stream",
     "text": [
      "                                                                                                                       \r"
     ]
    },
    {
     "name": "stdout",
     "output_type": "stream",
     "text": [
      "MoviePy - Done.\n",
      "MoviePy - Writing audio in ./data_mp3/40PLk5VKVKQ__ы3.mp3\n"
     ]
    },
    {
     "name": "stderr",
     "output_type": "stream",
     "text": [
      "                                                                                                                       \r"
     ]
    },
    {
     "name": "stdout",
     "output_type": "stream",
     "text": [
      "MoviePy - Done.\n",
      "MoviePy - Writing audio in ./data_mp3/40PLk5VKVKQ__ы4.mp3\n"
     ]
    },
    {
     "name": "stderr",
     "output_type": "stream",
     "text": [
      "                                                                                                                       \r"
     ]
    },
    {
     "name": "stdout",
     "output_type": "stream",
     "text": [
      "MoviePy - Done.\n",
      "MoviePy - Writing audio in ./data_mp3/40PLk5VKVKQ__ы5.mp3\n"
     ]
    },
    {
     "name": "stderr",
     "output_type": "stream",
     "text": [
      "                                                                                                                       \r"
     ]
    },
    {
     "name": "stdout",
     "output_type": "stream",
     "text": [
      "MoviePy - Done.\n",
      "MoviePy - Writing audio in ./data_mp3/40PLk5VKVKQ__ы6.mp3\n"
     ]
    },
    {
     "name": "stderr",
     "output_type": "stream",
     "text": [
      "                                                                                                                       \r"
     ]
    },
    {
     "name": "stdout",
     "output_type": "stream",
     "text": [
      "MoviePy - Done.\n",
      "MoviePy - Writing audio in ./data_mp3/40PLk5VKVKQ__ы7.mp3\n"
     ]
    },
    {
     "name": "stderr",
     "output_type": "stream",
     "text": [
      "                                                                                                                       \r"
     ]
    },
    {
     "name": "stdout",
     "output_type": "stream",
     "text": [
      "MoviePy - Done.\n",
      "MoviePy - Writing audio in ./data_mp3/40PLk5VKVKQ__ы8.mp3\n"
     ]
    },
    {
     "name": "stderr",
     "output_type": "stream",
     "text": [
      "                                                                                                                       \r"
     ]
    },
    {
     "name": "stdout",
     "output_type": "stream",
     "text": [
      "MoviePy - Done.\n",
      "MoviePy - Writing audio in ./data_mp3/40PLk5VKVKQ__ы9.mp3\n"
     ]
    },
    {
     "name": "stderr",
     "output_type": "stream",
     "text": [
      "                                                                                                                       \r"
     ]
    },
    {
     "name": "stdout",
     "output_type": "stream",
     "text": [
      "MoviePy - Done.\n",
      "5mHYwdeBDAE\n",
      "MoviePy - Writing audio in ./data_mp3/5mHYwdeBDAE__ы1.mp3\n"
     ]
    },
    {
     "name": "stderr",
     "output_type": "stream",
     "text": [
      "                                                                                                                       \r"
     ]
    },
    {
     "name": "stdout",
     "output_type": "stream",
     "text": [
      "MoviePy - Done.\n",
      "MoviePy - Writing audio in ./data_mp3/5mHYwdeBDAE__ы2.mp3\n"
     ]
    },
    {
     "name": "stderr",
     "output_type": "stream",
     "text": [
      "                                                                                                                       \r"
     ]
    },
    {
     "name": "stdout",
     "output_type": "stream",
     "text": [
      "MoviePy - Done.\n",
      "MoviePy - Writing audio in ./data_mp3/5mHYwdeBDAE__ы3.mp3\n"
     ]
    },
    {
     "name": "stderr",
     "output_type": "stream",
     "text": [
      "                                                                                                                       \r"
     ]
    },
    {
     "name": "stdout",
     "output_type": "stream",
     "text": [
      "MoviePy - Done.\n",
      "MoviePy - Writing audio in ./data_mp3/5mHYwdeBDAE__ы4.mp3\n"
     ]
    },
    {
     "name": "stderr",
     "output_type": "stream",
     "text": [
      "                                                                                                                       \r"
     ]
    },
    {
     "name": "stdout",
     "output_type": "stream",
     "text": [
      "MoviePy - Done.\n",
      "MoviePy - Writing audio in ./data_mp3/5mHYwdeBDAE__ы5.mp3\n"
     ]
    },
    {
     "name": "stderr",
     "output_type": "stream",
     "text": [
      "                                                                                                                       \r"
     ]
    },
    {
     "name": "stdout",
     "output_type": "stream",
     "text": [
      "MoviePy - Done.\n",
      "MoviePy - Writing audio in ./data_mp3/5mHYwdeBDAE__ы6.mp3\n"
     ]
    },
    {
     "name": "stderr",
     "output_type": "stream",
     "text": [
      "                                                                                                                       \r"
     ]
    },
    {
     "name": "stdout",
     "output_type": "stream",
     "text": [
      "MoviePy - Done.\n",
      "MoviePy - Writing audio in ./data_mp3/5mHYwdeBDAE__ы7.mp3\n"
     ]
    },
    {
     "name": "stderr",
     "output_type": "stream",
     "text": [
      "                                                                                                                       \r"
     ]
    },
    {
     "name": "stdout",
     "output_type": "stream",
     "text": [
      "MoviePy - Done.\n",
      "MoviePy - Writing audio in ./data_mp3/5mHYwdeBDAE__ы8.mp3\n"
     ]
    },
    {
     "name": "stderr",
     "output_type": "stream",
     "text": [
      "                                                                                                                       \r"
     ]
    },
    {
     "name": "stdout",
     "output_type": "stream",
     "text": [
      "MoviePy - Done.\n",
      "MoviePy - Writing audio in ./data_mp3/5mHYwdeBDAE__ы9.mp3\n"
     ]
    },
    {
     "name": "stderr",
     "output_type": "stream",
     "text": [
      "                                                                                                                       \r"
     ]
    },
    {
     "name": "stdout",
     "output_type": "stream",
     "text": [
      "MoviePy - Done.\n",
      "MoviePy - Writing audio in ./data_mp3/5mHYwdeBDAE__ы10.mp3\n"
     ]
    },
    {
     "name": "stderr",
     "output_type": "stream",
     "text": [
      "                                                                                                                       \r"
     ]
    },
    {
     "name": "stdout",
     "output_type": "stream",
     "text": [
      "MoviePy - Done.\n",
      "MoviePy - Writing audio in ./data_mp3/5mHYwdeBDAE__ы11.mp3\n"
     ]
    },
    {
     "name": "stderr",
     "output_type": "stream",
     "text": [
      "                                                                                                                       \r"
     ]
    },
    {
     "name": "stdout",
     "output_type": "stream",
     "text": [
      "MoviePy - Done.\n",
      "MoviePy - Writing audio in ./data_mp3/5mHYwdeBDAE__ы12.mp3\n"
     ]
    },
    {
     "name": "stderr",
     "output_type": "stream",
     "text": [
      "                                                                                                                       \r"
     ]
    },
    {
     "name": "stdout",
     "output_type": "stream",
     "text": [
      "MoviePy - Done.\n",
      "6A4A9Xkx6Xo\n",
      "MoviePy - Writing audio in ./data_mp3/6A4A9Xkx6Xo__ы1.mp3\n"
     ]
    },
    {
     "name": "stderr",
     "output_type": "stream",
     "text": [
      "                                                                                                                       \r"
     ]
    },
    {
     "name": "stdout",
     "output_type": "stream",
     "text": [
      "MoviePy - Done.\n",
      "MoviePy - Writing audio in ./data_mp3/6A4A9Xkx6Xo__ы2.mp3\n"
     ]
    },
    {
     "name": "stderr",
     "output_type": "stream",
     "text": [
      "                                                                                                                       \r"
     ]
    },
    {
     "name": "stdout",
     "output_type": "stream",
     "text": [
      "MoviePy - Done.\n",
      "MoviePy - Writing audio in ./data_mp3/6A4A9Xkx6Xo__ы3.mp3\n"
     ]
    },
    {
     "name": "stderr",
     "output_type": "stream",
     "text": [
      "                                                                                                                       \r"
     ]
    },
    {
     "name": "stdout",
     "output_type": "stream",
     "text": [
      "MoviePy - Done.\n",
      "MoviePy - Writing audio in ./data_mp3/6A4A9Xkx6Xo__ы4.mp3\n"
     ]
    },
    {
     "name": "stderr",
     "output_type": "stream",
     "text": [
      "                                                                                                                       \r"
     ]
    },
    {
     "name": "stdout",
     "output_type": "stream",
     "text": [
      "MoviePy - Done.\n",
      "MoviePy - Writing audio in ./data_mp3/6A4A9Xkx6Xo__ы5.mp3\n"
     ]
    },
    {
     "name": "stderr",
     "output_type": "stream",
     "text": [
      "                                                                                                                       \r"
     ]
    },
    {
     "name": "stdout",
     "output_type": "stream",
     "text": [
      "MoviePy - Done.\n",
      "MoviePy - Writing audio in ./data_mp3/6A4A9Xkx6Xo__ы6.mp3\n"
     ]
    },
    {
     "name": "stderr",
     "output_type": "stream",
     "text": [
      "                                                                                                                       \r"
     ]
    },
    {
     "name": "stdout",
     "output_type": "stream",
     "text": [
      "MoviePy - Done.\n",
      "MoviePy - Writing audio in ./data_mp3/6A4A9Xkx6Xo__ы7.mp3\n"
     ]
    },
    {
     "name": "stderr",
     "output_type": "stream",
     "text": [
      "                                                                                                                       \r"
     ]
    },
    {
     "name": "stdout",
     "output_type": "stream",
     "text": [
      "MoviePy - Done.\n",
      "MoviePy - Writing audio in ./data_mp3/6A4A9Xkx6Xo__ы8.mp3\n"
     ]
    },
    {
     "name": "stderr",
     "output_type": "stream",
     "text": [
      "                                                                                                                       \r"
     ]
    },
    {
     "name": "stdout",
     "output_type": "stream",
     "text": [
      "MoviePy - Done.\n",
      "MoviePy - Writing audio in ./data_mp3/6A4A9Xkx6Xo__ы9.mp3\n"
     ]
    },
    {
     "name": "stderr",
     "output_type": "stream",
     "text": [
      "                                                                                                                       \r"
     ]
    },
    {
     "name": "stdout",
     "output_type": "stream",
     "text": [
      "MoviePy - Done.\n",
      "MoviePy - Writing audio in ./data_mp3/6A4A9Xkx6Xo__ы10.mp3\n"
     ]
    },
    {
     "name": "stderr",
     "output_type": "stream",
     "text": [
      "                                                                                                                       \r"
     ]
    },
    {
     "name": "stdout",
     "output_type": "stream",
     "text": [
      "MoviePy - Done.\n",
      "MoviePy - Writing audio in ./data_mp3/6A4A9Xkx6Xo__ы11.mp3\n"
     ]
    },
    {
     "name": "stderr",
     "output_type": "stream",
     "text": [
      "                                                                                                                       \r"
     ]
    },
    {
     "name": "stdout",
     "output_type": "stream",
     "text": [
      "MoviePy - Done.\n",
      "MoviePy - Writing audio in ./data_mp3/6A4A9Xkx6Xo__ы12.mp3\n"
     ]
    },
    {
     "name": "stderr",
     "output_type": "stream",
     "text": [
      "                                                                                                                       \r"
     ]
    },
    {
     "name": "stdout",
     "output_type": "stream",
     "text": [
      "MoviePy - Done.\n",
      "MoviePy - Writing audio in ./data_mp3/6A4A9Xkx6Xo__ы13.mp3\n"
     ]
    },
    {
     "name": "stderr",
     "output_type": "stream",
     "text": [
      "                                                                                                                       \r"
     ]
    },
    {
     "name": "stdout",
     "output_type": "stream",
     "text": [
      "MoviePy - Done.\n",
      "MoviePy - Writing audio in ./data_mp3/6A4A9Xkx6Xo__ы14.mp3\n"
     ]
    },
    {
     "name": "stderr",
     "output_type": "stream",
     "text": [
      "                                                                                                                       \r"
     ]
    },
    {
     "name": "stdout",
     "output_type": "stream",
     "text": [
      "MoviePy - Done.\n",
      "MoviePy - Writing audio in ./data_mp3/6A4A9Xkx6Xo__ы15.mp3\n"
     ]
    },
    {
     "name": "stderr",
     "output_type": "stream",
     "text": [
      "                                                                                                                       \r"
     ]
    },
    {
     "name": "stdout",
     "output_type": "stream",
     "text": [
      "MoviePy - Done.\n",
      "MoviePy - Writing audio in ./data_mp3/6A4A9Xkx6Xo__ы16.mp3\n"
     ]
    },
    {
     "name": "stderr",
     "output_type": "stream",
     "text": [
      "                                                                                                                       \r"
     ]
    },
    {
     "name": "stdout",
     "output_type": "stream",
     "text": [
      "MoviePy - Done.\n",
      "MoviePy - Writing audio in ./data_mp3/6A4A9Xkx6Xo__ы17.mp3\n"
     ]
    },
    {
     "name": "stderr",
     "output_type": "stream",
     "text": [
      "                                                                                                                       \r"
     ]
    },
    {
     "name": "stdout",
     "output_type": "stream",
     "text": [
      "MoviePy - Done.\n",
      "MoviePy - Writing audio in ./data_mp3/6A4A9Xkx6Xo__ы18.mp3\n"
     ]
    },
    {
     "name": "stderr",
     "output_type": "stream",
     "text": [
      "                                                                                                                       \r"
     ]
    },
    {
     "name": "stdout",
     "output_type": "stream",
     "text": [
      "MoviePy - Done.\n",
      "MoviePy - Writing audio in ./data_mp3/6A4A9Xkx6Xo__ы19.mp3\n"
     ]
    },
    {
     "name": "stderr",
     "output_type": "stream",
     "text": [
      "                                                                                                                       \r"
     ]
    },
    {
     "name": "stdout",
     "output_type": "stream",
     "text": [
      "MoviePy - Done.\n",
      "MoviePy - Writing audio in ./data_mp3/6A4A9Xkx6Xo__ы20.mp3\n"
     ]
    },
    {
     "name": "stderr",
     "output_type": "stream",
     "text": [
      "                                                                                                                       \r"
     ]
    },
    {
     "name": "stdout",
     "output_type": "stream",
     "text": [
      "MoviePy - Done.\n",
      "MoviePy - Writing audio in ./data_mp3/6A4A9Xkx6Xo__ы21.mp3\n"
     ]
    },
    {
     "name": "stderr",
     "output_type": "stream",
     "text": [
      "                                                                                                                       \r"
     ]
    },
    {
     "name": "stdout",
     "output_type": "stream",
     "text": [
      "MoviePy - Done.\n",
      "MoviePy - Writing audio in ./data_mp3/6A4A9Xkx6Xo__ы22.mp3\n"
     ]
    },
    {
     "name": "stderr",
     "output_type": "stream",
     "text": [
      "                                                                                                                       \r"
     ]
    },
    {
     "name": "stdout",
     "output_type": "stream",
     "text": [
      "MoviePy - Done.\n",
      "MoviePy - Writing audio in ./data_mp3/6A4A9Xkx6Xo__ы23.mp3\n"
     ]
    },
    {
     "name": "stderr",
     "output_type": "stream",
     "text": [
      "                                                                                                                       \r"
     ]
    },
    {
     "name": "stdout",
     "output_type": "stream",
     "text": [
      "MoviePy - Done.\n",
      "MoviePy - Writing audio in ./data_mp3/6A4A9Xkx6Xo__ы24.mp3\n"
     ]
    },
    {
     "name": "stderr",
     "output_type": "stream",
     "text": [
      "                                                                                                                       \r"
     ]
    },
    {
     "name": "stdout",
     "output_type": "stream",
     "text": [
      "MoviePy - Done.\n",
      "6KDvQz-YfKY\n",
      "MoviePy - Writing audio in ./data_mp3/6KDvQz-YfKY__ы1.mp3\n"
     ]
    },
    {
     "name": "stderr",
     "output_type": "stream",
     "text": [
      "                                                                                                                       \r"
     ]
    },
    {
     "name": "stdout",
     "output_type": "stream",
     "text": [
      "MoviePy - Done.\n",
      "MoviePy - Writing audio in ./data_mp3/6KDvQz-YfKY__ы2.mp3\n"
     ]
    },
    {
     "name": "stderr",
     "output_type": "stream",
     "text": [
      "                                                                                                                       \r"
     ]
    },
    {
     "name": "stdout",
     "output_type": "stream",
     "text": [
      "MoviePy - Done.\n",
      "MoviePy - Writing audio in ./data_mp3/6KDvQz-YfKY__ы3.mp3\n"
     ]
    },
    {
     "name": "stderr",
     "output_type": "stream",
     "text": [
      "                                                                                                                       \r"
     ]
    },
    {
     "name": "stdout",
     "output_type": "stream",
     "text": [
      "MoviePy - Done.\n",
      "MoviePy - Writing audio in ./data_mp3/6KDvQz-YfKY__ы4.mp3\n"
     ]
    },
    {
     "name": "stderr",
     "output_type": "stream",
     "text": [
      "                                                                                                                       \r"
     ]
    },
    {
     "name": "stdout",
     "output_type": "stream",
     "text": [
      "MoviePy - Done.\n",
      "MoviePy - Writing audio in ./data_mp3/6KDvQz-YfKY__ы5.mp3\n"
     ]
    },
    {
     "name": "stderr",
     "output_type": "stream",
     "text": [
      "                                                                                                                       \r"
     ]
    },
    {
     "name": "stdout",
     "output_type": "stream",
     "text": [
      "MoviePy - Done.\n",
      "MoviePy - Writing audio in ./data_mp3/6KDvQz-YfKY__ы6.mp3\n"
     ]
    },
    {
     "name": "stderr",
     "output_type": "stream",
     "text": [
      "                                                                                                                       \r"
     ]
    },
    {
     "name": "stdout",
     "output_type": "stream",
     "text": [
      "MoviePy - Done.\n",
      "MoviePy - Writing audio in ./data_mp3/6KDvQz-YfKY__ы7.mp3\n"
     ]
    },
    {
     "name": "stderr",
     "output_type": "stream",
     "text": [
      "                                                                                                                       \r"
     ]
    },
    {
     "name": "stdout",
     "output_type": "stream",
     "text": [
      "MoviePy - Done.\n",
      "MoviePy - Writing audio in ./data_mp3/6KDvQz-YfKY__ы8.mp3\n"
     ]
    },
    {
     "name": "stderr",
     "output_type": "stream",
     "text": [
      "                                                                                                                       \r"
     ]
    },
    {
     "name": "stdout",
     "output_type": "stream",
     "text": [
      "MoviePy - Done.\n",
      "MoviePy - Writing audio in ./data_mp3/6KDvQz-YfKY__ы9.mp3\n"
     ]
    },
    {
     "name": "stderr",
     "output_type": "stream",
     "text": [
      "                                                                                                                       \r"
     ]
    },
    {
     "name": "stdout",
     "output_type": "stream",
     "text": [
      "MoviePy - Done.\n",
      "MoviePy - Writing audio in ./data_mp3/6KDvQz-YfKY__ы10.mp3\n"
     ]
    },
    {
     "name": "stderr",
     "output_type": "stream",
     "text": [
      "                                                                                                                       \r"
     ]
    },
    {
     "name": "stdout",
     "output_type": "stream",
     "text": [
      "MoviePy - Done.\n",
      "MoviePy - Writing audio in ./data_mp3/6KDvQz-YfKY__ы11.mp3\n"
     ]
    },
    {
     "name": "stderr",
     "output_type": "stream",
     "text": [
      "                                                                                                                       \r"
     ]
    },
    {
     "name": "stdout",
     "output_type": "stream",
     "text": [
      "MoviePy - Done.\n",
      "MoviePy - Writing audio in ./data_mp3/6KDvQz-YfKY__ы12.mp3\n"
     ]
    },
    {
     "name": "stderr",
     "output_type": "stream",
     "text": [
      "                                                                                                                       \r"
     ]
    },
    {
     "name": "stdout",
     "output_type": "stream",
     "text": [
      "MoviePy - Done.\n",
      "MoviePy - Writing audio in ./data_mp3/6KDvQz-YfKY__ы13.mp3\n"
     ]
    },
    {
     "name": "stderr",
     "output_type": "stream",
     "text": [
      "                                                                                                                       \r"
     ]
    },
    {
     "name": "stdout",
     "output_type": "stream",
     "text": [
      "MoviePy - Done.\n",
      "MoviePy - Writing audio in ./data_mp3/6KDvQz-YfKY__ы14.mp3\n"
     ]
    },
    {
     "name": "stderr",
     "output_type": "stream",
     "text": [
      "                                                                                                                       \r"
     ]
    },
    {
     "name": "stdout",
     "output_type": "stream",
     "text": [
      "MoviePy - Done.\n",
      "MoviePy - Writing audio in ./data_mp3/6KDvQz-YfKY__ы15.mp3\n"
     ]
    },
    {
     "name": "stderr",
     "output_type": "stream",
     "text": [
      "                                                                                                                       \r"
     ]
    },
    {
     "name": "stdout",
     "output_type": "stream",
     "text": [
      "MoviePy - Done.\n",
      "MoviePy - Writing audio in ./data_mp3/6KDvQz-YfKY__ы16.mp3\n"
     ]
    },
    {
     "name": "stderr",
     "output_type": "stream",
     "text": [
      "                                                                                                                       \r"
     ]
    },
    {
     "name": "stdout",
     "output_type": "stream",
     "text": [
      "MoviePy - Done.\n",
      "MoviePy - Writing audio in ./data_mp3/6KDvQz-YfKY__ы17.mp3\n"
     ]
    },
    {
     "name": "stderr",
     "output_type": "stream",
     "text": [
      "                                                                                                                       \r"
     ]
    },
    {
     "name": "stdout",
     "output_type": "stream",
     "text": [
      "MoviePy - Done.\n",
      "MoviePy - Writing audio in ./data_mp3/6KDvQz-YfKY__ы18.mp3\n"
     ]
    },
    {
     "name": "stderr",
     "output_type": "stream",
     "text": [
      "                                                                                                                       \r"
     ]
    },
    {
     "name": "stdout",
     "output_type": "stream",
     "text": [
      "MoviePy - Done.\n",
      "MoviePy - Writing audio in ./data_mp3/6KDvQz-YfKY__ы19.mp3\n"
     ]
    },
    {
     "name": "stderr",
     "output_type": "stream",
     "text": [
      "                                                                                                                       \r"
     ]
    },
    {
     "name": "stdout",
     "output_type": "stream",
     "text": [
      "MoviePy - Done.\n",
      "MoviePy - Writing audio in ./data_mp3/6KDvQz-YfKY__ы20.mp3\n"
     ]
    },
    {
     "name": "stderr",
     "output_type": "stream",
     "text": [
      "                                                                                                                       \r"
     ]
    },
    {
     "name": "stdout",
     "output_type": "stream",
     "text": [
      "MoviePy - Done.\n",
      "MoviePy - Writing audio in ./data_mp3/6KDvQz-YfKY__ы21.mp3\n"
     ]
    },
    {
     "name": "stderr",
     "output_type": "stream",
     "text": [
      "                                                                                                                       \r"
     ]
    },
    {
     "name": "stdout",
     "output_type": "stream",
     "text": [
      "MoviePy - Done.\n",
      "MoviePy - Writing audio in ./data_mp3/6KDvQz-YfKY__ы22.mp3\n"
     ]
    },
    {
     "name": "stderr",
     "output_type": "stream",
     "text": [
      "                                                                                                                       \r"
     ]
    },
    {
     "name": "stdout",
     "output_type": "stream",
     "text": [
      "MoviePy - Done.\n",
      "MoviePy - Writing audio in ./data_mp3/6KDvQz-YfKY__ы23.mp3\n"
     ]
    },
    {
     "name": "stderr",
     "output_type": "stream",
     "text": [
      "                                                                                                                       \r"
     ]
    },
    {
     "name": "stdout",
     "output_type": "stream",
     "text": [
      "MoviePy - Done.\n",
      "MoviePy - Writing audio in ./data_mp3/6KDvQz-YfKY__ы24.mp3\n"
     ]
    },
    {
     "name": "stderr",
     "output_type": "stream",
     "text": [
      "                                                                                                                       \r"
     ]
    },
    {
     "name": "stdout",
     "output_type": "stream",
     "text": [
      "MoviePy - Done.\n",
      "6oFwfkx-3lg\n",
      "MoviePy - Writing audio in ./data_mp3/6oFwfkx-3lg__ы1.mp3\n"
     ]
    },
    {
     "name": "stderr",
     "output_type": "stream",
     "text": [
      "                                                                                                                       \r"
     ]
    },
    {
     "name": "stdout",
     "output_type": "stream",
     "text": [
      "MoviePy - Done.\n",
      "6QdLsPBa30o\n",
      "MoviePy - Writing audio in ./data_mp3/6QdLsPBa30o__ы1.mp3\n"
     ]
    },
    {
     "name": "stderr",
     "output_type": "stream",
     "text": [
      "                                                                                                                       \r"
     ]
    },
    {
     "name": "stdout",
     "output_type": "stream",
     "text": [
      "MoviePy - Done.\n",
      "MoviePy - Writing audio in ./data_mp3/6QdLsPBa30o__ы2.mp3\n"
     ]
    },
    {
     "name": "stderr",
     "output_type": "stream",
     "text": [
      "                                                                                                                       \r"
     ]
    },
    {
     "name": "stdout",
     "output_type": "stream",
     "text": [
      "MoviePy - Done.\n",
      "MoviePy - Writing audio in ./data_mp3/6QdLsPBa30o__ы3.mp3\n"
     ]
    },
    {
     "name": "stderr",
     "output_type": "stream",
     "text": [
      "                                                                                                                       \r"
     ]
    },
    {
     "name": "stdout",
     "output_type": "stream",
     "text": [
      "MoviePy - Done.\n",
      "MoviePy - Writing audio in ./data_mp3/6QdLsPBa30o__ы4.mp3\n"
     ]
    },
    {
     "name": "stderr",
     "output_type": "stream",
     "text": [
      "                                                                                                                       \r"
     ]
    },
    {
     "name": "stdout",
     "output_type": "stream",
     "text": [
      "MoviePy - Done.\n",
      "MoviePy - Writing audio in ./data_mp3/6QdLsPBa30o__ы5.mp3\n"
     ]
    },
    {
     "name": "stderr",
     "output_type": "stream",
     "text": [
      "                                                                                                                       \r"
     ]
    },
    {
     "name": "stdout",
     "output_type": "stream",
     "text": [
      "MoviePy - Done.\n",
      "MoviePy - Writing audio in ./data_mp3/6QdLsPBa30o__ы6.mp3\n"
     ]
    },
    {
     "name": "stderr",
     "output_type": "stream",
     "text": [
      "                                                                                                                       \r"
     ]
    },
    {
     "name": "stdout",
     "output_type": "stream",
     "text": [
      "MoviePy - Done.\n",
      "MoviePy - Writing audio in ./data_mp3/6QdLsPBa30o__ы7.mp3\n"
     ]
    },
    {
     "name": "stderr",
     "output_type": "stream",
     "text": [
      "                                                                                                                       \r"
     ]
    },
    {
     "name": "stdout",
     "output_type": "stream",
     "text": [
      "MoviePy - Done.\n",
      "MoviePy - Writing audio in ./data_mp3/6QdLsPBa30o__ы8.mp3\n"
     ]
    },
    {
     "name": "stderr",
     "output_type": "stream",
     "text": [
      "                                                                                                                       \r"
     ]
    },
    {
     "name": "stdout",
     "output_type": "stream",
     "text": [
      "MoviePy - Done.\n",
      "MoviePy - Writing audio in ./data_mp3/6QdLsPBa30o__ы9.mp3\n"
     ]
    },
    {
     "name": "stderr",
     "output_type": "stream",
     "text": [
      "                                                                                                                       \r"
     ]
    },
    {
     "name": "stdout",
     "output_type": "stream",
     "text": [
      "MoviePy - Done.\n",
      "MoviePy - Writing audio in ./data_mp3/6QdLsPBa30o__ы10.mp3\n"
     ]
    },
    {
     "name": "stderr",
     "output_type": "stream",
     "text": [
      "                                                                                                                       \r"
     ]
    },
    {
     "name": "stdout",
     "output_type": "stream",
     "text": [
      "MoviePy - Done.\n",
      "MoviePy - Writing audio in ./data_mp3/6QdLsPBa30o__ы11.mp3\n"
     ]
    },
    {
     "name": "stderr",
     "output_type": "stream",
     "text": [
      "                                                                                                                       \r"
     ]
    },
    {
     "name": "stdout",
     "output_type": "stream",
     "text": [
      "MoviePy - Done.\n",
      "MoviePy - Writing audio in ./data_mp3/6QdLsPBa30o__ы12.mp3\n"
     ]
    },
    {
     "name": "stderr",
     "output_type": "stream",
     "text": [
      "                                                                                                                       \r"
     ]
    },
    {
     "name": "stdout",
     "output_type": "stream",
     "text": [
      "MoviePy - Done.\n",
      "MoviePy - Writing audio in ./data_mp3/6QdLsPBa30o__ы13.mp3\n"
     ]
    },
    {
     "name": "stderr",
     "output_type": "stream",
     "text": [
      "                                                                                                                       \r"
     ]
    },
    {
     "name": "stdout",
     "output_type": "stream",
     "text": [
      "MoviePy - Done.\n",
      "MoviePy - Writing audio in ./data_mp3/6QdLsPBa30o__ы14.mp3\n"
     ]
    },
    {
     "name": "stderr",
     "output_type": "stream",
     "text": [
      "                                                                                                                       \r"
     ]
    },
    {
     "name": "stdout",
     "output_type": "stream",
     "text": [
      "MoviePy - Done.\n",
      "MoviePy - Writing audio in ./data_mp3/6QdLsPBa30o__ы15.mp3\n"
     ]
    },
    {
     "name": "stderr",
     "output_type": "stream",
     "text": [
      "                                                                                                                       \r"
     ]
    },
    {
     "name": "stdout",
     "output_type": "stream",
     "text": [
      "MoviePy - Done.\n",
      "MoviePy - Writing audio in ./data_mp3/6QdLsPBa30o__ы16.mp3\n"
     ]
    },
    {
     "name": "stderr",
     "output_type": "stream",
     "text": [
      "                                                                                                                       \r"
     ]
    },
    {
     "name": "stdout",
     "output_type": "stream",
     "text": [
      "MoviePy - Done.\n",
      "MoviePy - Writing audio in ./data_mp3/6QdLsPBa30o__ы17.mp3\n"
     ]
    },
    {
     "name": "stderr",
     "output_type": "stream",
     "text": [
      "                                                                                                                       \r"
     ]
    },
    {
     "name": "stdout",
     "output_type": "stream",
     "text": [
      "MoviePy - Done.\n",
      "MoviePy - Writing audio in ./data_mp3/6QdLsPBa30o__ы18.mp3\n"
     ]
    },
    {
     "name": "stderr",
     "output_type": "stream",
     "text": [
      "                                                                                                                       \r"
     ]
    },
    {
     "name": "stdout",
     "output_type": "stream",
     "text": [
      "MoviePy - Done.\n",
      "MoviePy - Writing audio in ./data_mp3/6QdLsPBa30o__ы19.mp3\n"
     ]
    },
    {
     "name": "stderr",
     "output_type": "stream",
     "text": [
      "                                                                                                                       \r"
     ]
    },
    {
     "name": "stdout",
     "output_type": "stream",
     "text": [
      "MoviePy - Done.\n",
      "MoviePy - Writing audio in ./data_mp3/6QdLsPBa30o__ы20.mp3\n"
     ]
    },
    {
     "name": "stderr",
     "output_type": "stream",
     "text": [
      "                                                                                                                       \r"
     ]
    },
    {
     "name": "stdout",
     "output_type": "stream",
     "text": [
      "MoviePy - Done.\n",
      "MoviePy - Writing audio in ./data_mp3/6QdLsPBa30o__ы21.mp3\n"
     ]
    },
    {
     "name": "stderr",
     "output_type": "stream",
     "text": [
      "                                                                                                                       \r"
     ]
    },
    {
     "name": "stdout",
     "output_type": "stream",
     "text": [
      "MoviePy - Done.\n",
      "MoviePy - Writing audio in ./data_mp3/6QdLsPBa30o__ы22.mp3\n"
     ]
    },
    {
     "name": "stderr",
     "output_type": "stream",
     "text": [
      "                                                                                                                       \r"
     ]
    },
    {
     "name": "stdout",
     "output_type": "stream",
     "text": [
      "MoviePy - Done.\n",
      "MoviePy - Writing audio in ./data_mp3/6QdLsPBa30o__ы23.mp3\n"
     ]
    },
    {
     "name": "stderr",
     "output_type": "stream",
     "text": [
      "                                                                                                                       \r"
     ]
    },
    {
     "name": "stdout",
     "output_type": "stream",
     "text": [
      "MoviePy - Done.\n",
      "MoviePy - Writing audio in ./data_mp3/6QdLsPBa30o__ы24.mp3\n"
     ]
    },
    {
     "name": "stderr",
     "output_type": "stream",
     "text": [
      "                                                                                                                       \r"
     ]
    },
    {
     "name": "stdout",
     "output_type": "stream",
     "text": [
      "MoviePy - Done.\n",
      "6spnsA8dQwA\n",
      "MoviePy - Writing audio in ./data_mp3/6spnsA8dQwA.mp3\n"
     ]
    },
    {
     "name": "stderr",
     "output_type": "stream",
     "text": [
      "                                                                                                                       \r"
     ]
    },
    {
     "name": "stdout",
     "output_type": "stream",
     "text": [
      "MoviePy - Done.\n",
      "7HiOuTpi5dg\n",
      "MoviePy - Writing audio in ./data_mp3/7HiOuTpi5dg__ы1.mp3\n"
     ]
    },
    {
     "name": "stderr",
     "output_type": "stream",
     "text": [
      "                                                                                                                       \r"
     ]
    },
    {
     "name": "stdout",
     "output_type": "stream",
     "text": [
      "MoviePy - Done.\n",
      "MoviePy - Writing audio in ./data_mp3/7HiOuTpi5dg__ы2.mp3\n"
     ]
    },
    {
     "name": "stderr",
     "output_type": "stream",
     "text": [
      "                                                                                                                       \r"
     ]
    },
    {
     "name": "stdout",
     "output_type": "stream",
     "text": [
      "MoviePy - Done.\n",
      "MoviePy - Writing audio in ./data_mp3/7HiOuTpi5dg__ы3.mp3\n"
     ]
    },
    {
     "name": "stderr",
     "output_type": "stream",
     "text": [
      "                                                                                                                       \r"
     ]
    },
    {
     "name": "stdout",
     "output_type": "stream",
     "text": [
      "MoviePy - Done.\n",
      "MoviePy - Writing audio in ./data_mp3/7HiOuTpi5dg__ы4.mp3\n"
     ]
    },
    {
     "name": "stderr",
     "output_type": "stream",
     "text": [
      "                                                                                                                       \r"
     ]
    },
    {
     "name": "stdout",
     "output_type": "stream",
     "text": [
      "MoviePy - Done.\n",
      "MoviePy - Writing audio in ./data_mp3/7HiOuTpi5dg__ы5.mp3\n"
     ]
    },
    {
     "name": "stderr",
     "output_type": "stream",
     "text": [
      "                                                                                                                       \r"
     ]
    },
    {
     "name": "stdout",
     "output_type": "stream",
     "text": [
      "MoviePy - Done.\n",
      "MoviePy - Writing audio in ./data_mp3/7HiOuTpi5dg__ы6.mp3\n"
     ]
    },
    {
     "name": "stderr",
     "output_type": "stream",
     "text": [
      "                                                                                                                       \r"
     ]
    },
    {
     "name": "stdout",
     "output_type": "stream",
     "text": [
      "MoviePy - Done.\n",
      "MoviePy - Writing audio in ./data_mp3/7HiOuTpi5dg__ы7.mp3\n"
     ]
    },
    {
     "name": "stderr",
     "output_type": "stream",
     "text": [
      "                                                                                                                       \r"
     ]
    },
    {
     "name": "stdout",
     "output_type": "stream",
     "text": [
      "MoviePy - Done.\n",
      "MoviePy - Writing audio in ./data_mp3/7HiOuTpi5dg__ы8.mp3\n"
     ]
    },
    {
     "name": "stderr",
     "output_type": "stream",
     "text": [
      "                                                                                                                       \r"
     ]
    },
    {
     "name": "stdout",
     "output_type": "stream",
     "text": [
      "MoviePy - Done.\n",
      "MoviePy - Writing audio in ./data_mp3/7HiOuTpi5dg__ы9.mp3\n"
     ]
    },
    {
     "name": "stderr",
     "output_type": "stream",
     "text": [
      "                                                                                                                       \r"
     ]
    },
    {
     "name": "stdout",
     "output_type": "stream",
     "text": [
      "MoviePy - Done.\n",
      "MoviePy - Writing audio in ./data_mp3/7HiOuTpi5dg__ы10.mp3\n"
     ]
    },
    {
     "name": "stderr",
     "output_type": "stream",
     "text": [
      "                                                                                                                       \r"
     ]
    },
    {
     "name": "stdout",
     "output_type": "stream",
     "text": [
      "MoviePy - Done.\n",
      "MoviePy - Writing audio in ./data_mp3/7HiOuTpi5dg__ы11.mp3\n"
     ]
    },
    {
     "name": "stderr",
     "output_type": "stream",
     "text": [
      "                                                                                                                       \r"
     ]
    },
    {
     "name": "stdout",
     "output_type": "stream",
     "text": [
      "MoviePy - Done.\n",
      "MoviePy - Writing audio in ./data_mp3/7HiOuTpi5dg__ы12.mp3\n"
     ]
    },
    {
     "name": "stderr",
     "output_type": "stream",
     "text": [
      "                                                                                                                       \r"
     ]
    },
    {
     "name": "stdout",
     "output_type": "stream",
     "text": [
      "MoviePy - Done.\n",
      "MoviePy - Writing audio in ./data_mp3/7HiOuTpi5dg__ы13.mp3\n"
     ]
    },
    {
     "name": "stderr",
     "output_type": "stream",
     "text": [
      "                                                                                                                       \r"
     ]
    },
    {
     "name": "stdout",
     "output_type": "stream",
     "text": [
      "MoviePy - Done.\n",
      "7MmhdFwERjE\n",
      "MoviePy - Writing audio in ./data_mp3/7MmhdFwERjE__ы1.mp3\n"
     ]
    },
    {
     "name": "stderr",
     "output_type": "stream",
     "text": [
      "                                                                                                                       \r"
     ]
    },
    {
     "name": "stdout",
     "output_type": "stream",
     "text": [
      "MoviePy - Done.\n",
      "MoviePy - Writing audio in ./data_mp3/7MmhdFwERjE__ы2.mp3\n"
     ]
    },
    {
     "name": "stderr",
     "output_type": "stream",
     "text": [
      "                                                                                                                       \r"
     ]
    },
    {
     "name": "stdout",
     "output_type": "stream",
     "text": [
      "MoviePy - Done.\n",
      "MoviePy - Writing audio in ./data_mp3/7MmhdFwERjE__ы3.mp3\n"
     ]
    },
    {
     "name": "stderr",
     "output_type": "stream",
     "text": [
      "                                                                                                                       \r"
     ]
    },
    {
     "name": "stdout",
     "output_type": "stream",
     "text": [
      "MoviePy - Done.\n",
      "MoviePy - Writing audio in ./data_mp3/7MmhdFwERjE__ы4.mp3\n"
     ]
    },
    {
     "name": "stderr",
     "output_type": "stream",
     "text": [
      "                                                                                                                       \r"
     ]
    },
    {
     "name": "stdout",
     "output_type": "stream",
     "text": [
      "MoviePy - Done.\n",
      "MoviePy - Writing audio in ./data_mp3/7MmhdFwERjE__ы5.mp3\n"
     ]
    },
    {
     "name": "stderr",
     "output_type": "stream",
     "text": [
      "                                                                                                                       \r"
     ]
    },
    {
     "name": "stdout",
     "output_type": "stream",
     "text": [
      "MoviePy - Done.\n",
      "MoviePy - Writing audio in ./data_mp3/7MmhdFwERjE__ы6.mp3\n"
     ]
    },
    {
     "name": "stderr",
     "output_type": "stream",
     "text": [
      "                                                                                                                       \r"
     ]
    },
    {
     "name": "stdout",
     "output_type": "stream",
     "text": [
      "MoviePy - Done.\n",
      "MoviePy - Writing audio in ./data_mp3/7MmhdFwERjE__ы7.mp3\n"
     ]
    },
    {
     "name": "stderr",
     "output_type": "stream",
     "text": [
      "                                                                                                                       \r"
     ]
    },
    {
     "name": "stdout",
     "output_type": "stream",
     "text": [
      "MoviePy - Done.\n",
      "MoviePy - Writing audio in ./data_mp3/7MmhdFwERjE__ы8.mp3\n"
     ]
    },
    {
     "name": "stderr",
     "output_type": "stream",
     "text": [
      "                                                                                                                       \r"
     ]
    },
    {
     "name": "stdout",
     "output_type": "stream",
     "text": [
      "MoviePy - Done.\n",
      "MoviePy - Writing audio in ./data_mp3/7MmhdFwERjE__ы9.mp3\n"
     ]
    },
    {
     "name": "stderr",
     "output_type": "stream",
     "text": [
      "                                                                                                                       \r"
     ]
    },
    {
     "name": "stdout",
     "output_type": "stream",
     "text": [
      "MoviePy - Done.\n",
      "MoviePy - Writing audio in ./data_mp3/7MmhdFwERjE__ы10.mp3\n"
     ]
    },
    {
     "name": "stderr",
     "output_type": "stream",
     "text": [
      "                                                                                                                       \r"
     ]
    },
    {
     "name": "stdout",
     "output_type": "stream",
     "text": [
      "MoviePy - Done.\n",
      "MoviePy - Writing audio in ./data_mp3/7MmhdFwERjE__ы11.mp3\n"
     ]
    },
    {
     "name": "stderr",
     "output_type": "stream",
     "text": [
      "                                                                                                                       \r"
     ]
    },
    {
     "name": "stdout",
     "output_type": "stream",
     "text": [
      "MoviePy - Done.\n",
      "MoviePy - Writing audio in ./data_mp3/7MmhdFwERjE__ы12.mp3\n"
     ]
    },
    {
     "name": "stderr",
     "output_type": "stream",
     "text": [
      "                                                                                                                       \r"
     ]
    },
    {
     "name": "stdout",
     "output_type": "stream",
     "text": [
      "MoviePy - Done.\n",
      "MoviePy - Writing audio in ./data_mp3/7MmhdFwERjE__ы13.mp3\n"
     ]
    },
    {
     "name": "stderr",
     "output_type": "stream",
     "text": [
      "                                                                                                                       \r"
     ]
    },
    {
     "name": "stdout",
     "output_type": "stream",
     "text": [
      "MoviePy - Done.\n",
      "MoviePy - Writing audio in ./data_mp3/7MmhdFwERjE__ы14.mp3\n"
     ]
    },
    {
     "name": "stderr",
     "output_type": "stream",
     "text": [
      "                                                                                                                       \r"
     ]
    },
    {
     "name": "stdout",
     "output_type": "stream",
     "text": [
      "MoviePy - Done.\n",
      "MoviePy - Writing audio in ./data_mp3/7MmhdFwERjE__ы15.mp3\n"
     ]
    },
    {
     "name": "stderr",
     "output_type": "stream",
     "text": [
      "                                                                                                                       \r"
     ]
    },
    {
     "name": "stdout",
     "output_type": "stream",
     "text": [
      "MoviePy - Done.\n",
      "MoviePy - Writing audio in ./data_mp3/7MmhdFwERjE__ы16.mp3\n"
     ]
    },
    {
     "name": "stderr",
     "output_type": "stream",
     "text": [
      "                                                                                                                       \r"
     ]
    },
    {
     "name": "stdout",
     "output_type": "stream",
     "text": [
      "MoviePy - Done.\n",
      "MoviePy - Writing audio in ./data_mp3/7MmhdFwERjE__ы17.mp3\n"
     ]
    },
    {
     "name": "stderr",
     "output_type": "stream",
     "text": [
      "                                                                                                                       \r"
     ]
    },
    {
     "name": "stdout",
     "output_type": "stream",
     "text": [
      "MoviePy - Done.\n",
      "MoviePy - Writing audio in ./data_mp3/7MmhdFwERjE__ы18.mp3\n"
     ]
    },
    {
     "name": "stderr",
     "output_type": "stream",
     "text": [
      "                                                                                                                       \r"
     ]
    },
    {
     "name": "stdout",
     "output_type": "stream",
     "text": [
      "MoviePy - Done.\n",
      "MoviePy - Writing audio in ./data_mp3/7MmhdFwERjE__ы19.mp3\n"
     ]
    },
    {
     "name": "stderr",
     "output_type": "stream",
     "text": [
      "                                                                                                                       \r"
     ]
    },
    {
     "name": "stdout",
     "output_type": "stream",
     "text": [
      "MoviePy - Done.\n",
      "MoviePy - Writing audio in ./data_mp3/7MmhdFwERjE__ы20.mp3\n"
     ]
    },
    {
     "name": "stderr",
     "output_type": "stream",
     "text": [
      "                                                                                                                       \r"
     ]
    },
    {
     "name": "stdout",
     "output_type": "stream",
     "text": [
      "MoviePy - Done.\n",
      "MoviePy - Writing audio in ./data_mp3/7MmhdFwERjE__ы21.mp3\n"
     ]
    },
    {
     "name": "stderr",
     "output_type": "stream",
     "text": [
      "                                                                                                                       \r"
     ]
    },
    {
     "name": "stdout",
     "output_type": "stream",
     "text": [
      "MoviePy - Done.\n",
      "MoviePy - Writing audio in ./data_mp3/7MmhdFwERjE__ы22.mp3\n"
     ]
    },
    {
     "name": "stderr",
     "output_type": "stream",
     "text": [
      "                                                                                                                       \r"
     ]
    },
    {
     "name": "stdout",
     "output_type": "stream",
     "text": [
      "MoviePy - Done.\n",
      "MoviePy - Writing audio in ./data_mp3/7MmhdFwERjE__ы23.mp3\n"
     ]
    },
    {
     "name": "stderr",
     "output_type": "stream",
     "text": [
      "                                                                                                                       \r"
     ]
    },
    {
     "name": "stdout",
     "output_type": "stream",
     "text": [
      "MoviePy - Done.\n",
      "MoviePy - Writing audio in ./data_mp3/7MmhdFwERjE__ы24.mp3\n"
     ]
    },
    {
     "name": "stderr",
     "output_type": "stream",
     "text": [
      "                                                                                                                       \r"
     ]
    },
    {
     "name": "stdout",
     "output_type": "stream",
     "text": [
      "MoviePy - Done.\n",
      "MoviePy - Writing audio in ./data_mp3/7MmhdFwERjE__ы25.mp3\n"
     ]
    },
    {
     "name": "stderr",
     "output_type": "stream",
     "text": [
      "                                                                                                                       \r"
     ]
    },
    {
     "name": "stdout",
     "output_type": "stream",
     "text": [
      "MoviePy - Done.\n",
      "7SpIvGqi5Wk\n",
      "MoviePy - Writing audio in ./data_mp3/7SpIvGqi5Wk.mp3\n"
     ]
    },
    {
     "name": "stderr",
     "output_type": "stream",
     "text": [
      "                                                                                                                       \r"
     ]
    },
    {
     "name": "stdout",
     "output_type": "stream",
     "text": [
      "MoviePy - Done.\n",
      "82FDvDi05w0\n",
      "MoviePy - Writing audio in ./data_mp3/82FDvDi05w0.mp3\n"
     ]
    },
    {
     "name": "stderr",
     "output_type": "stream",
     "text": [
      "                                                                                                                       \r"
     ]
    },
    {
     "name": "stdout",
     "output_type": "stream",
     "text": [
      "MoviePy - Done.\n",
      "8ZspunA4HlM\n",
      "MoviePy - Writing audio in ./data_mp3/8ZspunA4HlM__ы1.mp3\n"
     ]
    },
    {
     "name": "stderr",
     "output_type": "stream",
     "text": [
      "                                                                                                                       \r"
     ]
    },
    {
     "name": "stdout",
     "output_type": "stream",
     "text": [
      "MoviePy - Done.\n",
      "MoviePy - Writing audio in ./data_mp3/8ZspunA4HlM__ы2.mp3\n"
     ]
    },
    {
     "name": "stderr",
     "output_type": "stream",
     "text": [
      "                                                                                                                       \r"
     ]
    },
    {
     "name": "stdout",
     "output_type": "stream",
     "text": [
      "MoviePy - Done.\n",
      "MoviePy - Writing audio in ./data_mp3/8ZspunA4HlM__ы3.mp3\n"
     ]
    },
    {
     "name": "stderr",
     "output_type": "stream",
     "text": [
      "                                                                                                                       \r"
     ]
    },
    {
     "name": "stdout",
     "output_type": "stream",
     "text": [
      "MoviePy - Done.\n",
      "MoviePy - Writing audio in ./data_mp3/8ZspunA4HlM__ы4.mp3\n"
     ]
    },
    {
     "name": "stderr",
     "output_type": "stream",
     "text": [
      "                                                                                                                       \r"
     ]
    },
    {
     "name": "stdout",
     "output_type": "stream",
     "text": [
      "MoviePy - Done.\n",
      "MoviePy - Writing audio in ./data_mp3/8ZspunA4HlM__ы5.mp3\n"
     ]
    },
    {
     "name": "stderr",
     "output_type": "stream",
     "text": [
      "                                                                                                                       \r"
     ]
    },
    {
     "name": "stdout",
     "output_type": "stream",
     "text": [
      "MoviePy - Done.\n",
      "MoviePy - Writing audio in ./data_mp3/8ZspunA4HlM__ы6.mp3\n"
     ]
    },
    {
     "name": "stderr",
     "output_type": "stream",
     "text": [
      "                                                                                                                       \r"
     ]
    },
    {
     "name": "stdout",
     "output_type": "stream",
     "text": [
      "MoviePy - Done.\n",
      "MoviePy - Writing audio in ./data_mp3/8ZspunA4HlM__ы7.mp3\n"
     ]
    },
    {
     "name": "stderr",
     "output_type": "stream",
     "text": [
      "                                                                                                                       \r"
     ]
    },
    {
     "name": "stdout",
     "output_type": "stream",
     "text": [
      "MoviePy - Done.\n",
      "MoviePy - Writing audio in ./data_mp3/8ZspunA4HlM__ы8.mp3\n"
     ]
    },
    {
     "name": "stderr",
     "output_type": "stream",
     "text": [
      "                                                                                                                       \r"
     ]
    },
    {
     "name": "stdout",
     "output_type": "stream",
     "text": [
      "MoviePy - Done.\n",
      "MoviePy - Writing audio in ./data_mp3/8ZspunA4HlM__ы9.mp3\n"
     ]
    },
    {
     "name": "stderr",
     "output_type": "stream",
     "text": [
      "                                                                                                                       \r"
     ]
    },
    {
     "name": "stdout",
     "output_type": "stream",
     "text": [
      "MoviePy - Done.\n",
      "MoviePy - Writing audio in ./data_mp3/8ZspunA4HlM__ы10.mp3\n"
     ]
    },
    {
     "name": "stderr",
     "output_type": "stream",
     "text": [
      "                                                                                                                       \r"
     ]
    },
    {
     "name": "stdout",
     "output_type": "stream",
     "text": [
      "MoviePy - Done.\n",
      "MoviePy - Writing audio in ./data_mp3/8ZspunA4HlM__ы11.mp3\n"
     ]
    },
    {
     "name": "stderr",
     "output_type": "stream",
     "text": [
      "                                                                                                                       \r"
     ]
    },
    {
     "name": "stdout",
     "output_type": "stream",
     "text": [
      "MoviePy - Done.\n",
      "MoviePy - Writing audio in ./data_mp3/8ZspunA4HlM__ы12.mp3\n"
     ]
    },
    {
     "name": "stderr",
     "output_type": "stream",
     "text": [
      "                                                                                                                       \r"
     ]
    },
    {
     "name": "stdout",
     "output_type": "stream",
     "text": [
      "MoviePy - Done.\n",
      "MoviePy - Writing audio in ./data_mp3/8ZspunA4HlM__ы13.mp3\n"
     ]
    },
    {
     "name": "stderr",
     "output_type": "stream",
     "text": [
      "                                                                                                                       \r"
     ]
    },
    {
     "name": "stdout",
     "output_type": "stream",
     "text": [
      "MoviePy - Done.\n",
      "9gM7FUXeIb0\n",
      "MoviePy - Writing audio in ./data_mp3/9gM7FUXeIb0.mp3\n"
     ]
    },
    {
     "name": "stderr",
     "output_type": "stream",
     "text": [
      "                                                                                                                       \r"
     ]
    },
    {
     "name": "stdout",
     "output_type": "stream",
     "text": [
      "MoviePy - Done.\n",
      "9mKCj4Nigpg\n",
      "MoviePy - Writing audio in ./data_mp3/9mKCj4Nigpg.mp3\n"
     ]
    },
    {
     "name": "stderr",
     "output_type": "stream",
     "text": [
      "                                                                                                                       \r"
     ]
    },
    {
     "name": "stdout",
     "output_type": "stream",
     "text": [
      "MoviePy - Done.\n",
      "9o2QPoPlhVI\n",
      "MoviePy - Writing audio in ./data_mp3/9o2QPoPlhVI.mp3\n"
     ]
    },
    {
     "name": "stderr",
     "output_type": "stream",
     "text": [
      "                                                                                                                       \r"
     ]
    },
    {
     "name": "stdout",
     "output_type": "stream",
     "text": [
      "MoviePy - Done.\n",
      "A5oXyThssps\n",
      "MoviePy - Writing audio in ./data_mp3/A5oXyThssps.mp3\n"
     ]
    },
    {
     "name": "stderr",
     "output_type": "stream",
     "text": [
      "                                                                                                                       \r"
     ]
    },
    {
     "name": "stdout",
     "output_type": "stream",
     "text": [
      "MoviePy - Done.\n",
      "A7Pv8Tg4C2Q\n",
      "MoviePy - Writing audio in ./data_mp3/A7Pv8Tg4C2Q.mp3\n"
     ]
    },
    {
     "name": "stderr",
     "output_type": "stream",
     "text": [
      "                                                                                                                       \r"
     ]
    },
    {
     "name": "stdout",
     "output_type": "stream",
     "text": [
      "MoviePy - Done.\n",
      "aChhwFF_SNQ\n",
      "MoviePy - Writing audio in ./data_mp3/aChhwFF_SNQ__ы1.mp3\n"
     ]
    },
    {
     "name": "stderr",
     "output_type": "stream",
     "text": [
      "                                                                                                                       \r"
     ]
    },
    {
     "name": "stdout",
     "output_type": "stream",
     "text": [
      "MoviePy - Done.\n",
      "AFNZosSiNRI\n",
      "MoviePy - Writing audio in ./data_mp3/AFNZosSiNRI.mp3\n"
     ]
    },
    {
     "name": "stderr",
     "output_type": "stream",
     "text": [
      "                                                                                                                       \r"
     ]
    },
    {
     "name": "stdout",
     "output_type": "stream",
     "text": [
      "MoviePy - Done.\n",
      "aJIDqYZ7qM0\n",
      "MoviePy - Writing audio in ./data_mp3/aJIDqYZ7qM0__ы1.mp3\n"
     ]
    },
    {
     "name": "stderr",
     "output_type": "stream",
     "text": [
      "                                                                                                                       \r"
     ]
    },
    {
     "name": "stdout",
     "output_type": "stream",
     "text": [
      "MoviePy - Done.\n",
      "MoviePy - Writing audio in ./data_mp3/aJIDqYZ7qM0__ы2.mp3\n"
     ]
    },
    {
     "name": "stderr",
     "output_type": "stream",
     "text": [
      "                                                                                                                       \r"
     ]
    },
    {
     "name": "stdout",
     "output_type": "stream",
     "text": [
      "MoviePy - Done.\n",
      "MoviePy - Writing audio in ./data_mp3/aJIDqYZ7qM0__ы3.mp3\n"
     ]
    },
    {
     "name": "stderr",
     "output_type": "stream",
     "text": [
      "                                                                                                                       \r"
     ]
    },
    {
     "name": "stdout",
     "output_type": "stream",
     "text": [
      "MoviePy - Done.\n",
      "MoviePy - Writing audio in ./data_mp3/aJIDqYZ7qM0__ы4.mp3\n"
     ]
    },
    {
     "name": "stderr",
     "output_type": "stream",
     "text": [
      "                                                                                                                       \r"
     ]
    },
    {
     "name": "stdout",
     "output_type": "stream",
     "text": [
      "MoviePy - Done.\n",
      "MoviePy - Writing audio in ./data_mp3/aJIDqYZ7qM0__ы5.mp3\n"
     ]
    },
    {
     "name": "stderr",
     "output_type": "stream",
     "text": [
      "                                                                                                                       \r"
     ]
    },
    {
     "name": "stdout",
     "output_type": "stream",
     "text": [
      "MoviePy - Done.\n",
      "MoviePy - Writing audio in ./data_mp3/aJIDqYZ7qM0__ы6.mp3\n"
     ]
    },
    {
     "name": "stderr",
     "output_type": "stream",
     "text": [
      "                                                                                                                       \r"
     ]
    },
    {
     "name": "stdout",
     "output_type": "stream",
     "text": [
      "MoviePy - Done.\n",
      "MoviePy - Writing audio in ./data_mp3/aJIDqYZ7qM0__ы7.mp3\n"
     ]
    },
    {
     "name": "stderr",
     "output_type": "stream",
     "text": [
      "                                                                                                                       \r"
     ]
    },
    {
     "name": "stdout",
     "output_type": "stream",
     "text": [
      "MoviePy - Done.\n",
      "MoviePy - Writing audio in ./data_mp3/aJIDqYZ7qM0__ы8.mp3\n"
     ]
    },
    {
     "name": "stderr",
     "output_type": "stream",
     "text": [
      "                                                                                                                       \r"
     ]
    },
    {
     "name": "stdout",
     "output_type": "stream",
     "text": [
      "MoviePy - Done.\n",
      "MoviePy - Writing audio in ./data_mp3/aJIDqYZ7qM0__ы9.mp3\n"
     ]
    },
    {
     "name": "stderr",
     "output_type": "stream",
     "text": [
      "                                                                                                                       \r"
     ]
    },
    {
     "name": "stdout",
     "output_type": "stream",
     "text": [
      "MoviePy - Done.\n",
      "MoviePy - Writing audio in ./data_mp3/aJIDqYZ7qM0__ы10.mp3\n"
     ]
    },
    {
     "name": "stderr",
     "output_type": "stream",
     "text": [
      "                                                                                                                       \r"
     ]
    },
    {
     "name": "stdout",
     "output_type": "stream",
     "text": [
      "MoviePy - Done.\n",
      "MoviePy - Writing audio in ./data_mp3/aJIDqYZ7qM0__ы11.mp3\n"
     ]
    },
    {
     "name": "stderr",
     "output_type": "stream",
     "text": [
      "                                                                                                                       \r"
     ]
    },
    {
     "name": "stdout",
     "output_type": "stream",
     "text": [
      "MoviePy - Done.\n",
      "AMpvHWfXNFs\n",
      "MoviePy - Writing audio in ./data_mp3/AMpvHWfXNFs.mp3\n"
     ]
    },
    {
     "name": "stderr",
     "output_type": "stream",
     "text": [
      "                                                                                                                       \r"
     ]
    },
    {
     "name": "stdout",
     "output_type": "stream",
     "text": [
      "MoviePy - Done.\n",
      "B6XZRAtrPJU\n",
      "MoviePy - Writing audio in ./data_mp3/B6XZRAtrPJU.mp3\n"
     ]
    },
    {
     "name": "stderr",
     "output_type": "stream",
     "text": [
      "                                                                                                                       \r"
     ]
    },
    {
     "name": "stdout",
     "output_type": "stream",
     "text": [
      "MoviePy - Done.\n",
      "BBEAZkmbyeY\n",
      "MoviePy - Writing audio in ./data_mp3/BBEAZkmbyeY.mp3\n"
     ]
    },
    {
     "name": "stderr",
     "output_type": "stream",
     "text": [
      "                                                                                                                       \r"
     ]
    },
    {
     "name": "stdout",
     "output_type": "stream",
     "text": [
      "MoviePy - Done.\n",
      "bdxTDbrxXSI\n",
      "MoviePy - Writing audio in ./data_mp3/bdxTDbrxXSI.mp3\n"
     ]
    },
    {
     "name": "stderr",
     "output_type": "stream",
     "text": [
      "                                                                                                                       \r"
     ]
    },
    {
     "name": "stdout",
     "output_type": "stream",
     "text": [
      "MoviePy - Done.\n",
      "bpOSxM0rNPM\n",
      "MoviePy - Writing audio in ./data_mp3/bpOSxM0rNPM.mp3\n"
     ]
    },
    {
     "name": "stderr",
     "output_type": "stream",
     "text": [
      "                                                                                                                       \r"
     ]
    },
    {
     "name": "stdout",
     "output_type": "stream",
     "text": [
      "MoviePy - Done.\n",
      "BtXec1z00pM\n",
      "MoviePy - Writing audio in ./data_mp3/BtXec1z00pM__ы1.mp3\n"
     ]
    },
    {
     "name": "stderr",
     "output_type": "stream",
     "text": [
      "                                                                                                                       \r"
     ]
    },
    {
     "name": "stdout",
     "output_type": "stream",
     "text": [
      "MoviePy - Done.\n",
      "ch-HHGuzwRU\n",
      "MoviePy - Writing audio in ./data_mp3/ch-HHGuzwRU__ы1.mp3\n"
     ]
    },
    {
     "name": "stderr",
     "output_type": "stream",
     "text": [
      "                                                                                                                       \r"
     ]
    },
    {
     "name": "stdout",
     "output_type": "stream",
     "text": [
      "MoviePy - Done.\n",
      "MoviePy - Writing audio in ./data_mp3/ch-HHGuzwRU__ы2.mp3\n"
     ]
    },
    {
     "name": "stderr",
     "output_type": "stream",
     "text": [
      "                                                                                                                       \r"
     ]
    },
    {
     "name": "stdout",
     "output_type": "stream",
     "text": [
      "MoviePy - Done.\n",
      "MoviePy - Writing audio in ./data_mp3/ch-HHGuzwRU__ы3.mp3\n"
     ]
    },
    {
     "name": "stderr",
     "output_type": "stream",
     "text": [
      "                                                                                                                       \r"
     ]
    },
    {
     "name": "stdout",
     "output_type": "stream",
     "text": [
      "MoviePy - Done.\n",
      "MoviePy - Writing audio in ./data_mp3/ch-HHGuzwRU__ы4.mp3\n"
     ]
    },
    {
     "name": "stderr",
     "output_type": "stream",
     "text": [
      "                                                                                                                       \r"
     ]
    },
    {
     "name": "stdout",
     "output_type": "stream",
     "text": [
      "MoviePy - Done.\n",
      "MoviePy - Writing audio in ./data_mp3/ch-HHGuzwRU__ы5.mp3\n"
     ]
    },
    {
     "name": "stderr",
     "output_type": "stream",
     "text": [
      "                                                                                                                       \r"
     ]
    },
    {
     "name": "stdout",
     "output_type": "stream",
     "text": [
      "MoviePy - Done.\n",
      "MoviePy - Writing audio in ./data_mp3/ch-HHGuzwRU__ы6.mp3\n"
     ]
    },
    {
     "name": "stderr",
     "output_type": "stream",
     "text": [
      "                                                                                                                       \r"
     ]
    },
    {
     "name": "stdout",
     "output_type": "stream",
     "text": [
      "MoviePy - Done.\n",
      "MoviePy - Writing audio in ./data_mp3/ch-HHGuzwRU__ы7.mp3\n"
     ]
    },
    {
     "name": "stderr",
     "output_type": "stream",
     "text": [
      "                                                                                                                       \r"
     ]
    },
    {
     "name": "stdout",
     "output_type": "stream",
     "text": [
      "MoviePy - Done.\n",
      "MoviePy - Writing audio in ./data_mp3/ch-HHGuzwRU__ы8.mp3\n"
     ]
    },
    {
     "name": "stderr",
     "output_type": "stream",
     "text": [
      "                                                                                                                       \r"
     ]
    },
    {
     "name": "stdout",
     "output_type": "stream",
     "text": [
      "MoviePy - Done.\n",
      "MoviePy - Writing audio in ./data_mp3/ch-HHGuzwRU__ы9.mp3\n"
     ]
    },
    {
     "name": "stderr",
     "output_type": "stream",
     "text": [
      "                                                                                                                       \r"
     ]
    },
    {
     "name": "stdout",
     "output_type": "stream",
     "text": [
      "MoviePy - Done.\n",
      "MoviePy - Writing audio in ./data_mp3/ch-HHGuzwRU__ы10.mp3\n"
     ]
    },
    {
     "name": "stderr",
     "output_type": "stream",
     "text": [
      "                                                                                                                       \r"
     ]
    },
    {
     "name": "stdout",
     "output_type": "stream",
     "text": [
      "MoviePy - Done.\n",
      "MoviePy - Writing audio in ./data_mp3/ch-HHGuzwRU__ы11.mp3\n"
     ]
    },
    {
     "name": "stderr",
     "output_type": "stream",
     "text": [
      "                                                                                                                       \r"
     ]
    },
    {
     "name": "stdout",
     "output_type": "stream",
     "text": [
      "MoviePy - Done.\n",
      "CqMFclGDA20\n",
      "MoviePy - Writing audio in ./data_mp3/CqMFclGDA20.mp3\n"
     ]
    },
    {
     "name": "stderr",
     "output_type": "stream",
     "text": [
      "                                                                                                                       \r"
     ]
    },
    {
     "name": "stdout",
     "output_type": "stream",
     "text": [
      "MoviePy - Done.\n",
      "cSPfeTwl8Kw\n",
      "MoviePy - Writing audio in ./data_mp3/cSPfeTwl8Kw__ы1.mp3\n"
     ]
    },
    {
     "name": "stderr",
     "output_type": "stream",
     "text": [
      "                                                                                                                       \r"
     ]
    },
    {
     "name": "stdout",
     "output_type": "stream",
     "text": [
      "MoviePy - Done.\n",
      "CvRGpXtNc1o\n",
      "MoviePy - Writing audio in ./data_mp3/CvRGpXtNc1o.mp3\n"
     ]
    },
    {
     "name": "stderr",
     "output_type": "stream",
     "text": [
      "                                                                                                                       \r"
     ]
    },
    {
     "name": "stdout",
     "output_type": "stream",
     "text": [
      "MoviePy - Done.\n",
      "D6_b4Iueeo8\n",
      "MoviePy - Writing audio in ./data_mp3/D6_b4Iueeo8.mp3\n"
     ]
    },
    {
     "name": "stderr",
     "output_type": "stream",
     "text": [
      "                                                                                                                       \r"
     ]
    },
    {
     "name": "stdout",
     "output_type": "stream",
     "text": [
      "MoviePy - Done.\n",
      "d8081_cQZyY\n",
      "MoviePy - Writing audio in ./data_mp3/d8081_cQZyY.mp3\n"
     ]
    },
    {
     "name": "stderr",
     "output_type": "stream",
     "text": [
      "                                                                                                                       \r"
     ]
    },
    {
     "name": "stdout",
     "output_type": "stream",
     "text": [
      "MoviePy - Done.\n",
      "DDyoU8Rs-lE\n",
      "MoviePy - Writing audio in ./data_mp3/DDyoU8Rs-lE.mp3\n"
     ]
    },
    {
     "name": "stderr",
     "output_type": "stream",
     "text": [
      "                                                                                                                       \r"
     ]
    },
    {
     "name": "stdout",
     "output_type": "stream",
     "text": [
      "MoviePy - Done.\n",
      "DGKayhZqZRU\n",
      "MoviePy - Writing audio in ./data_mp3/DGKayhZqZRU.mp3\n"
     ]
    },
    {
     "name": "stderr",
     "output_type": "stream",
     "text": [
      "                                                                                                                       \r"
     ]
    },
    {
     "name": "stdout",
     "output_type": "stream",
     "text": [
      "MoviePy - Done.\n",
      "DIQRZkXB9Qk\n",
      "MoviePy - Writing audio in ./data_mp3/DIQRZkXB9Qk__ы1.mp3\n"
     ]
    },
    {
     "name": "stderr",
     "output_type": "stream",
     "text": [
      "                                                                                                                       \r"
     ]
    },
    {
     "name": "stdout",
     "output_type": "stream",
     "text": [
      "MoviePy - Done.\n",
      "MoviePy - Writing audio in ./data_mp3/DIQRZkXB9Qk__ы2.mp3\n"
     ]
    },
    {
     "name": "stderr",
     "output_type": "stream",
     "text": [
      "                                                                                                                       \r"
     ]
    },
    {
     "name": "stdout",
     "output_type": "stream",
     "text": [
      "MoviePy - Done.\n",
      "MoviePy - Writing audio in ./data_mp3/DIQRZkXB9Qk__ы3.mp3\n"
     ]
    },
    {
     "name": "stderr",
     "output_type": "stream",
     "text": [
      "                                                                                                                       \r"
     ]
    },
    {
     "name": "stdout",
     "output_type": "stream",
     "text": [
      "MoviePy - Done.\n",
      "MoviePy - Writing audio in ./data_mp3/DIQRZkXB9Qk__ы4.mp3\n"
     ]
    },
    {
     "name": "stderr",
     "output_type": "stream",
     "text": [
      "                                                                                                                       \r"
     ]
    },
    {
     "name": "stdout",
     "output_type": "stream",
     "text": [
      "MoviePy - Done.\n",
      "MoviePy - Writing audio in ./data_mp3/DIQRZkXB9Qk__ы5.mp3\n"
     ]
    },
    {
     "name": "stderr",
     "output_type": "stream",
     "text": [
      "                                                                                                                       \r"
     ]
    },
    {
     "name": "stdout",
     "output_type": "stream",
     "text": [
      "MoviePy - Done.\n",
      "MoviePy - Writing audio in ./data_mp3/DIQRZkXB9Qk__ы6.mp3\n"
     ]
    },
    {
     "name": "stderr",
     "output_type": "stream",
     "text": [
      "                                                                                                                       \r"
     ]
    },
    {
     "name": "stdout",
     "output_type": "stream",
     "text": [
      "MoviePy - Done.\n",
      "MoviePy - Writing audio in ./data_mp3/DIQRZkXB9Qk__ы7.mp3\n"
     ]
    },
    {
     "name": "stderr",
     "output_type": "stream",
     "text": [
      "                                                                                                                       \r"
     ]
    },
    {
     "name": "stdout",
     "output_type": "stream",
     "text": [
      "MoviePy - Done.\n",
      "MoviePy - Writing audio in ./data_mp3/DIQRZkXB9Qk__ы8.mp3\n"
     ]
    },
    {
     "name": "stderr",
     "output_type": "stream",
     "text": [
      "                                                                                                                       \r"
     ]
    },
    {
     "name": "stdout",
     "output_type": "stream",
     "text": [
      "MoviePy - Done.\n",
      "MoviePy - Writing audio in ./data_mp3/DIQRZkXB9Qk__ы9.mp3\n"
     ]
    },
    {
     "name": "stderr",
     "output_type": "stream",
     "text": [
      "                                                                                                                       \r"
     ]
    },
    {
     "name": "stdout",
     "output_type": "stream",
     "text": [
      "MoviePy - Done.\n",
      "MoviePy - Writing audio in ./data_mp3/DIQRZkXB9Qk__ы10.mp3\n"
     ]
    },
    {
     "name": "stderr",
     "output_type": "stream",
     "text": [
      "                                                                                                                       \r"
     ]
    },
    {
     "name": "stdout",
     "output_type": "stream",
     "text": [
      "MoviePy - Done.\n",
      "MoviePy - Writing audio in ./data_mp3/DIQRZkXB9Qk__ы11.mp3\n"
     ]
    },
    {
     "name": "stderr",
     "output_type": "stream",
     "text": [
      "                                                                                                                       \r"
     ]
    },
    {
     "name": "stdout",
     "output_type": "stream",
     "text": [
      "MoviePy - Done.\n",
      "MoviePy - Writing audio in ./data_mp3/DIQRZkXB9Qk__ы12.mp3\n"
     ]
    },
    {
     "name": "stderr",
     "output_type": "stream",
     "text": [
      "                                                                                                                       \r"
     ]
    },
    {
     "name": "stdout",
     "output_type": "stream",
     "text": [
      "MoviePy - Done.\n",
      "Eiijm2GhKAA\n",
      "MoviePy - Writing audio in ./data_mp3/Eiijm2GhKAA__ы1.mp3\n"
     ]
    },
    {
     "name": "stderr",
     "output_type": "stream",
     "text": [
      "                                                                                                                       \r"
     ]
    },
    {
     "name": "stdout",
     "output_type": "stream",
     "text": [
      "MoviePy - Done.\n",
      "MoviePy - Writing audio in ./data_mp3/Eiijm2GhKAA__ы2.mp3\n"
     ]
    },
    {
     "name": "stderr",
     "output_type": "stream",
     "text": [
      "                                                                                                                       \r"
     ]
    },
    {
     "name": "stdout",
     "output_type": "stream",
     "text": [
      "MoviePy - Done.\n",
      "MoviePy - Writing audio in ./data_mp3/Eiijm2GhKAA__ы3.mp3\n"
     ]
    },
    {
     "name": "stderr",
     "output_type": "stream",
     "text": [
      "                                                                                                                       \r"
     ]
    },
    {
     "name": "stdout",
     "output_type": "stream",
     "text": [
      "MoviePy - Done.\n",
      "MoviePy - Writing audio in ./data_mp3/Eiijm2GhKAA__ы4.mp3\n"
     ]
    },
    {
     "name": "stderr",
     "output_type": "stream",
     "text": [
      "                                                                                                                       \r"
     ]
    },
    {
     "name": "stdout",
     "output_type": "stream",
     "text": [
      "MoviePy - Done.\n",
      "MoviePy - Writing audio in ./data_mp3/Eiijm2GhKAA__ы5.mp3\n"
     ]
    },
    {
     "name": "stderr",
     "output_type": "stream",
     "text": [
      "                                                                                                                       \r"
     ]
    },
    {
     "name": "stdout",
     "output_type": "stream",
     "text": [
      "MoviePy - Done.\n",
      "MoviePy - Writing audio in ./data_mp3/Eiijm2GhKAA__ы6.mp3\n"
     ]
    },
    {
     "name": "stderr",
     "output_type": "stream",
     "text": [
      "                                                                                                                       \r"
     ]
    },
    {
     "name": "stdout",
     "output_type": "stream",
     "text": [
      "MoviePy - Done.\n",
      "MoviePy - Writing audio in ./data_mp3/Eiijm2GhKAA__ы7.mp3\n"
     ]
    },
    {
     "name": "stderr",
     "output_type": "stream",
     "text": [
      "                                                                                                                       \r"
     ]
    },
    {
     "name": "stdout",
     "output_type": "stream",
     "text": [
      "MoviePy - Done.\n",
      "MoviePy - Writing audio in ./data_mp3/Eiijm2GhKAA__ы8.mp3\n"
     ]
    },
    {
     "name": "stderr",
     "output_type": "stream",
     "text": [
      "                                                                                                                       \r"
     ]
    },
    {
     "name": "stdout",
     "output_type": "stream",
     "text": [
      "MoviePy - Done.\n",
      "MoviePy - Writing audio in ./data_mp3/Eiijm2GhKAA__ы9.mp3\n"
     ]
    },
    {
     "name": "stderr",
     "output_type": "stream",
     "text": [
      "                                                                                                                       \r"
     ]
    },
    {
     "name": "stdout",
     "output_type": "stream",
     "text": [
      "MoviePy - Done.\n",
      "MoviePy - Writing audio in ./data_mp3/Eiijm2GhKAA__ы10.mp3\n"
     ]
    },
    {
     "name": "stderr",
     "output_type": "stream",
     "text": [
      "                                                                                                                       \r"
     ]
    },
    {
     "name": "stdout",
     "output_type": "stream",
     "text": [
      "MoviePy - Done.\n",
      "MoviePy - Writing audio in ./data_mp3/Eiijm2GhKAA__ы11.mp3\n"
     ]
    },
    {
     "name": "stderr",
     "output_type": "stream",
     "text": [
      "                                                                                                                       \r"
     ]
    },
    {
     "name": "stdout",
     "output_type": "stream",
     "text": [
      "MoviePy - Done.\n",
      "MoviePy - Writing audio in ./data_mp3/Eiijm2GhKAA__ы12.mp3\n"
     ]
    },
    {
     "name": "stderr",
     "output_type": "stream",
     "text": [
      "                                                                                                                       \r"
     ]
    },
    {
     "name": "stdout",
     "output_type": "stream",
     "text": [
      "MoviePy - Done.\n",
      "MoviePy - Writing audio in ./data_mp3/Eiijm2GhKAA__ы13.mp3\n"
     ]
    },
    {
     "name": "stderr",
     "output_type": "stream",
     "text": [
      "                                                                                                                       \r"
     ]
    },
    {
     "name": "stdout",
     "output_type": "stream",
     "text": [
      "MoviePy - Done.\n",
      "MoviePy - Writing audio in ./data_mp3/Eiijm2GhKAA__ы14.mp3\n"
     ]
    },
    {
     "name": "stderr",
     "output_type": "stream",
     "text": [
      "                                                                                                                       \r"
     ]
    },
    {
     "name": "stdout",
     "output_type": "stream",
     "text": [
      "MoviePy - Done.\n",
      "MoviePy - Writing audio in ./data_mp3/Eiijm2GhKAA__ы15.mp3\n"
     ]
    },
    {
     "name": "stderr",
     "output_type": "stream",
     "text": [
      "                                                                                                                       \r"
     ]
    },
    {
     "name": "stdout",
     "output_type": "stream",
     "text": [
      "MoviePy - Done.\n",
      "MoviePy - Writing audio in ./data_mp3/Eiijm2GhKAA__ы16.mp3\n"
     ]
    },
    {
     "name": "stderr",
     "output_type": "stream",
     "text": [
      "                                                                                                                       \r"
     ]
    },
    {
     "name": "stdout",
     "output_type": "stream",
     "text": [
      "MoviePy - Done.\n",
      "MoviePy - Writing audio in ./data_mp3/Eiijm2GhKAA__ы17.mp3\n"
     ]
    },
    {
     "name": "stderr",
     "output_type": "stream",
     "text": [
      "                                                                                                                       \r"
     ]
    },
    {
     "name": "stdout",
     "output_type": "stream",
     "text": [
      "MoviePy - Done.\n",
      "MoviePy - Writing audio in ./data_mp3/Eiijm2GhKAA__ы18.mp3\n"
     ]
    },
    {
     "name": "stderr",
     "output_type": "stream",
     "text": [
      "                                                                                                                       \r"
     ]
    },
    {
     "name": "stdout",
     "output_type": "stream",
     "text": [
      "MoviePy - Done.\n",
      "MoviePy - Writing audio in ./data_mp3/Eiijm2GhKAA__ы19.mp3\n"
     ]
    },
    {
     "name": "stderr",
     "output_type": "stream",
     "text": [
      "                                                                                                                       \r"
     ]
    },
    {
     "name": "stdout",
     "output_type": "stream",
     "text": [
      "MoviePy - Done.\n",
      "MoviePy - Writing audio in ./data_mp3/Eiijm2GhKAA__ы20.mp3\n"
     ]
    },
    {
     "name": "stderr",
     "output_type": "stream",
     "text": [
      "                                                                                                                       \r"
     ]
    },
    {
     "name": "stdout",
     "output_type": "stream",
     "text": [
      "MoviePy - Done.\n",
      "MoviePy - Writing audio in ./data_mp3/Eiijm2GhKAA__ы21.mp3\n"
     ]
    },
    {
     "name": "stderr",
     "output_type": "stream",
     "text": [
      "                                                                                                                       \r"
     ]
    },
    {
     "name": "stdout",
     "output_type": "stream",
     "text": [
      "MoviePy - Done.\n",
      "MoviePy - Writing audio in ./data_mp3/Eiijm2GhKAA__ы22.mp3\n"
     ]
    },
    {
     "name": "stderr",
     "output_type": "stream",
     "text": [
      "                                                                                                                       \r"
     ]
    },
    {
     "name": "stdout",
     "output_type": "stream",
     "text": [
      "MoviePy - Done.\n",
      "MoviePy - Writing audio in ./data_mp3/Eiijm2GhKAA__ы23.mp3\n"
     ]
    },
    {
     "name": "stderr",
     "output_type": "stream",
     "text": [
      "                                                                                                                       \r"
     ]
    },
    {
     "name": "stdout",
     "output_type": "stream",
     "text": [
      "MoviePy - Done.\n",
      "MoviePy - Writing audio in ./data_mp3/Eiijm2GhKAA__ы24.mp3\n"
     ]
    },
    {
     "name": "stderr",
     "output_type": "stream",
     "text": [
      "                                                                                                                       \r"
     ]
    },
    {
     "name": "stdout",
     "output_type": "stream",
     "text": [
      "MoviePy - Done.\n",
      "MoviePy - Writing audio in ./data_mp3/Eiijm2GhKAA__ы25.mp3\n"
     ]
    },
    {
     "name": "stderr",
     "output_type": "stream",
     "text": [
      "                                                                                                                       \r"
     ]
    },
    {
     "name": "stdout",
     "output_type": "stream",
     "text": [
      "MoviePy - Done.\n",
      "MoviePy - Writing audio in ./data_mp3/Eiijm2GhKAA__ы26.mp3\n"
     ]
    },
    {
     "name": "stderr",
     "output_type": "stream",
     "text": [
      "                                                                                                                       \r"
     ]
    },
    {
     "name": "stdout",
     "output_type": "stream",
     "text": [
      "MoviePy - Done.\n",
      "MoviePy - Writing audio in ./data_mp3/Eiijm2GhKAA__ы27.mp3\n"
     ]
    },
    {
     "name": "stderr",
     "output_type": "stream",
     "text": [
      "                                                                                                                       \r"
     ]
    },
    {
     "name": "stdout",
     "output_type": "stream",
     "text": [
      "MoviePy - Done.\n",
      "MoviePy - Writing audio in ./data_mp3/Eiijm2GhKAA__ы28.mp3\n"
     ]
    },
    {
     "name": "stderr",
     "output_type": "stream",
     "text": [
      "                                                                                                                       \r"
     ]
    },
    {
     "name": "stdout",
     "output_type": "stream",
     "text": [
      "MoviePy - Done.\n",
      "MoviePy - Writing audio in ./data_mp3/Eiijm2GhKAA__ы29.mp3\n"
     ]
    },
    {
     "name": "stderr",
     "output_type": "stream",
     "text": [
      "                                                                                                                       \r"
     ]
    },
    {
     "name": "stdout",
     "output_type": "stream",
     "text": [
      "MoviePy - Done.\n",
      "FdJ_SGof2GI\n",
      "MoviePy - Writing audio in ./data_mp3/FdJ_SGof2GI.mp3\n"
     ]
    },
    {
     "name": "stderr",
     "output_type": "stream",
     "text": [
      "                                                                                                                       \r"
     ]
    },
    {
     "name": "stdout",
     "output_type": "stream",
     "text": [
      "MoviePy - Done.\n",
      "fe8yiBw1ydc\n",
      "MoviePy - Writing audio in ./data_mp3/fe8yiBw1ydc__ы1.mp3\n"
     ]
    },
    {
     "name": "stderr",
     "output_type": "stream",
     "text": [
      "                                                                                                                       \r"
     ]
    },
    {
     "name": "stdout",
     "output_type": "stream",
     "text": [
      "MoviePy - Done.\n",
      "FIgQGRY0EmU\n",
      "MoviePy - Writing audio in ./data_mp3/FIgQGRY0EmU__ы1.mp3\n"
     ]
    },
    {
     "name": "stderr",
     "output_type": "stream",
     "text": [
      "                                                                                                                       \r"
     ]
    },
    {
     "name": "stdout",
     "output_type": "stream",
     "text": [
      "MoviePy - Done.\n",
      "MoviePy - Writing audio in ./data_mp3/FIgQGRY0EmU__ы2.mp3\n"
     ]
    },
    {
     "name": "stderr",
     "output_type": "stream",
     "text": [
      "                                                                                                                       \r"
     ]
    },
    {
     "name": "stdout",
     "output_type": "stream",
     "text": [
      "MoviePy - Done.\n",
      "MoviePy - Writing audio in ./data_mp3/FIgQGRY0EmU__ы3.mp3\n"
     ]
    },
    {
     "name": "stderr",
     "output_type": "stream",
     "text": [
      "                                                                                                                       \r"
     ]
    },
    {
     "name": "stdout",
     "output_type": "stream",
     "text": [
      "MoviePy - Done.\n",
      "MoviePy - Writing audio in ./data_mp3/FIgQGRY0EmU__ы4.mp3\n"
     ]
    },
    {
     "name": "stderr",
     "output_type": "stream",
     "text": [
      "                                                                                                                       \r"
     ]
    },
    {
     "name": "stdout",
     "output_type": "stream",
     "text": [
      "MoviePy - Done.\n",
      "MoviePy - Writing audio in ./data_mp3/FIgQGRY0EmU__ы5.mp3\n"
     ]
    },
    {
     "name": "stderr",
     "output_type": "stream",
     "text": [
      "                                                                                                                       \r"
     ]
    },
    {
     "name": "stdout",
     "output_type": "stream",
     "text": [
      "MoviePy - Done.\n",
      "MoviePy - Writing audio in ./data_mp3/FIgQGRY0EmU__ы6.mp3\n"
     ]
    },
    {
     "name": "stderr",
     "output_type": "stream",
     "text": [
      "                                                                                                                       \r"
     ]
    },
    {
     "name": "stdout",
     "output_type": "stream",
     "text": [
      "MoviePy - Done.\n",
      "MoviePy - Writing audio in ./data_mp3/FIgQGRY0EmU__ы7.mp3\n"
     ]
    },
    {
     "name": "stderr",
     "output_type": "stream",
     "text": [
      "                                                                                                                       \r"
     ]
    },
    {
     "name": "stdout",
     "output_type": "stream",
     "text": [
      "MoviePy - Done.\n",
      "MoviePy - Writing audio in ./data_mp3/FIgQGRY0EmU__ы8.mp3\n"
     ]
    },
    {
     "name": "stderr",
     "output_type": "stream",
     "text": [
      "                                                                                                                       \r"
     ]
    },
    {
     "name": "stdout",
     "output_type": "stream",
     "text": [
      "MoviePy - Done.\n",
      "MoviePy - Writing audio in ./data_mp3/FIgQGRY0EmU__ы9.mp3\n"
     ]
    },
    {
     "name": "stderr",
     "output_type": "stream",
     "text": [
      "                                                                                                                       \r"
     ]
    },
    {
     "name": "stdout",
     "output_type": "stream",
     "text": [
      "MoviePy - Done.\n",
      "MoviePy - Writing audio in ./data_mp3/FIgQGRY0EmU__ы10.mp3\n"
     ]
    },
    {
     "name": "stderr",
     "output_type": "stream",
     "text": [
      "                                                                                                                       \r"
     ]
    },
    {
     "name": "stdout",
     "output_type": "stream",
     "text": [
      "MoviePy - Done.\n",
      "MoviePy - Writing audio in ./data_mp3/FIgQGRY0EmU__ы11.mp3\n"
     ]
    },
    {
     "name": "stderr",
     "output_type": "stream",
     "text": [
      "                                                                                                                       \r"
     ]
    },
    {
     "name": "stdout",
     "output_type": "stream",
     "text": [
      "MoviePy - Done.\n",
      "MoviePy - Writing audio in ./data_mp3/FIgQGRY0EmU__ы12.mp3\n"
     ]
    },
    {
     "name": "stderr",
     "output_type": "stream",
     "text": [
      "                                                                                                                       \r"
     ]
    },
    {
     "name": "stdout",
     "output_type": "stream",
     "text": [
      "MoviePy - Done.\n",
      "fJtBo36ke3g\n",
      "MoviePy - Writing audio in ./data_mp3/fJtBo36ke3g__ы1.mp3\n"
     ]
    },
    {
     "name": "stderr",
     "output_type": "stream",
     "text": [
      "                                                                                                                       \r"
     ]
    },
    {
     "name": "stdout",
     "output_type": "stream",
     "text": [
      "MoviePy - Done.\n",
      "MoviePy - Writing audio in ./data_mp3/fJtBo36ke3g__ы2.mp3\n"
     ]
    },
    {
     "name": "stderr",
     "output_type": "stream",
     "text": [
      "                                                                                                                       \r"
     ]
    },
    {
     "name": "stdout",
     "output_type": "stream",
     "text": [
      "MoviePy - Done.\n",
      "MoviePy - Writing audio in ./data_mp3/fJtBo36ke3g__ы3.mp3\n"
     ]
    },
    {
     "name": "stderr",
     "output_type": "stream",
     "text": [
      "                                                                                                                       \r"
     ]
    },
    {
     "name": "stdout",
     "output_type": "stream",
     "text": [
      "MoviePy - Done.\n",
      "MoviePy - Writing audio in ./data_mp3/fJtBo36ke3g__ы4.mp3\n"
     ]
    },
    {
     "name": "stderr",
     "output_type": "stream",
     "text": [
      "                                                                                                                       \r"
     ]
    },
    {
     "name": "stdout",
     "output_type": "stream",
     "text": [
      "MoviePy - Done.\n",
      "MoviePy - Writing audio in ./data_mp3/fJtBo36ke3g__ы5.mp3\n"
     ]
    },
    {
     "name": "stderr",
     "output_type": "stream",
     "text": [
      "                                                                                                                       \r"
     ]
    },
    {
     "name": "stdout",
     "output_type": "stream",
     "text": [
      "MoviePy - Done.\n",
      "MoviePy - Writing audio in ./data_mp3/fJtBo36ke3g__ы6.mp3\n"
     ]
    },
    {
     "name": "stderr",
     "output_type": "stream",
     "text": [
      "                                                                                                                       \r"
     ]
    },
    {
     "name": "stdout",
     "output_type": "stream",
     "text": [
      "MoviePy - Done.\n",
      "MoviePy - Writing audio in ./data_mp3/fJtBo36ke3g__ы7.mp3\n"
     ]
    },
    {
     "name": "stderr",
     "output_type": "stream",
     "text": [
      "                                                                                                                       \r"
     ]
    },
    {
     "name": "stdout",
     "output_type": "stream",
     "text": [
      "MoviePy - Done.\n",
      "MoviePy - Writing audio in ./data_mp3/fJtBo36ke3g__ы8.mp3\n"
     ]
    },
    {
     "name": "stderr",
     "output_type": "stream",
     "text": [
      "                                                                                                                       \r"
     ]
    },
    {
     "name": "stdout",
     "output_type": "stream",
     "text": [
      "MoviePy - Done.\n",
      "MoviePy - Writing audio in ./data_mp3/fJtBo36ke3g__ы9.mp3\n"
     ]
    },
    {
     "name": "stderr",
     "output_type": "stream",
     "text": [
      "                                                                                                                       \r"
     ]
    },
    {
     "name": "stdout",
     "output_type": "stream",
     "text": [
      "MoviePy - Done.\n",
      "MoviePy - Writing audio in ./data_mp3/fJtBo36ke3g__ы10.mp3\n"
     ]
    },
    {
     "name": "stderr",
     "output_type": "stream",
     "text": [
      "                                                                                                                       \r"
     ]
    },
    {
     "name": "stdout",
     "output_type": "stream",
     "text": [
      "MoviePy - Done.\n",
      "MoviePy - Writing audio in ./data_mp3/fJtBo36ke3g__ы11.mp3\n"
     ]
    },
    {
     "name": "stderr",
     "output_type": "stream",
     "text": [
      "                                                                                                                       \r"
     ]
    },
    {
     "name": "stdout",
     "output_type": "stream",
     "text": [
      "MoviePy - Done.\n",
      "MoviePy - Writing audio in ./data_mp3/fJtBo36ke3g__ы12.mp3\n"
     ]
    },
    {
     "name": "stderr",
     "output_type": "stream",
     "text": [
      "                                                                                                                       \r"
     ]
    },
    {
     "name": "stdout",
     "output_type": "stream",
     "text": [
      "MoviePy - Done.\n",
      "Fo-dHb8GTI8\n",
      "MoviePy - Writing audio in ./data_mp3/Fo-dHb8GTI8.mp3\n"
     ]
    },
    {
     "name": "stderr",
     "output_type": "stream",
     "text": [
      "                                                                                                                       \r"
     ]
    },
    {
     "name": "stdout",
     "output_type": "stream",
     "text": [
      "MoviePy - Done.\n",
      "FRSTaBZfxK4\n",
      "MoviePy - Writing audio in ./data_mp3/FRSTaBZfxK4.mp3\n"
     ]
    },
    {
     "name": "stderr",
     "output_type": "stream",
     "text": [
      "                                                                                                                       \r"
     ]
    },
    {
     "name": "stdout",
     "output_type": "stream",
     "text": [
      "MoviePy - Done.\n",
      "FXk7qopHCMY\n",
      "MoviePy - Writing audio in ./data_mp3/FXk7qopHCMY.mp3\n"
     ]
    },
    {
     "name": "stderr",
     "output_type": "stream",
     "text": [
      "                                                                                                                       \r"
     ]
    },
    {
     "name": "stdout",
     "output_type": "stream",
     "text": [
      "MoviePy - Done.\n",
      "G3lkluCt5-Y\n",
      "MoviePy - Writing audio in ./data_mp3/G3lkluCt5-Y.mp3\n"
     ]
    },
    {
     "name": "stderr",
     "output_type": "stream",
     "text": [
      "                                                                                                                       \r"
     ]
    },
    {
     "name": "stdout",
     "output_type": "stream",
     "text": [
      "MoviePy - Done.\n",
      "gBZi2w11XxU\n",
      "MoviePy - Writing audio in ./data_mp3/gBZi2w11XxU__ы1.mp3\n"
     ]
    },
    {
     "name": "stderr",
     "output_type": "stream",
     "text": [
      "                                                                                                                       \r"
     ]
    },
    {
     "name": "stdout",
     "output_type": "stream",
     "text": [
      "MoviePy - Done.\n",
      "MoviePy - Writing audio in ./data_mp3/gBZi2w11XxU__ы2.mp3\n"
     ]
    },
    {
     "name": "stderr",
     "output_type": "stream",
     "text": [
      "                                                                                                                       \r"
     ]
    },
    {
     "name": "stdout",
     "output_type": "stream",
     "text": [
      "MoviePy - Done.\n",
      "MoviePy - Writing audio in ./data_mp3/gBZi2w11XxU__ы3.mp3\n"
     ]
    },
    {
     "name": "stderr",
     "output_type": "stream",
     "text": [
      "                                                                                                                       \r"
     ]
    },
    {
     "name": "stdout",
     "output_type": "stream",
     "text": [
      "MoviePy - Done.\n",
      "MoviePy - Writing audio in ./data_mp3/gBZi2w11XxU__ы4.mp3\n"
     ]
    },
    {
     "name": "stderr",
     "output_type": "stream",
     "text": [
      "                                                                                                                       \r"
     ]
    },
    {
     "name": "stdout",
     "output_type": "stream",
     "text": [
      "MoviePy - Done.\n",
      "MoviePy - Writing audio in ./data_mp3/gBZi2w11XxU__ы5.mp3\n"
     ]
    },
    {
     "name": "stderr",
     "output_type": "stream",
     "text": [
      "                                                                                                                       \r"
     ]
    },
    {
     "name": "stdout",
     "output_type": "stream",
     "text": [
      "MoviePy - Done.\n",
      "MoviePy - Writing audio in ./data_mp3/gBZi2w11XxU__ы6.mp3\n"
     ]
    },
    {
     "name": "stderr",
     "output_type": "stream",
     "text": [
      "                                                                                                                       \r"
     ]
    },
    {
     "name": "stdout",
     "output_type": "stream",
     "text": [
      "MoviePy - Done.\n",
      "MoviePy - Writing audio in ./data_mp3/gBZi2w11XxU__ы7.mp3\n"
     ]
    },
    {
     "name": "stderr",
     "output_type": "stream",
     "text": [
      "                                                                                                                       \r"
     ]
    },
    {
     "name": "stdout",
     "output_type": "stream",
     "text": [
      "MoviePy - Done.\n",
      "MoviePy - Writing audio in ./data_mp3/gBZi2w11XxU__ы8.mp3\n"
     ]
    },
    {
     "name": "stderr",
     "output_type": "stream",
     "text": [
      "                                                                                                                       \r"
     ]
    },
    {
     "name": "stdout",
     "output_type": "stream",
     "text": [
      "MoviePy - Done.\n",
      "MoviePy - Writing audio in ./data_mp3/gBZi2w11XxU__ы9.mp3\n"
     ]
    },
    {
     "name": "stderr",
     "output_type": "stream",
     "text": [
      "                                                                                                                       \r"
     ]
    },
    {
     "name": "stdout",
     "output_type": "stream",
     "text": [
      "MoviePy - Done.\n",
      "MoviePy - Writing audio in ./data_mp3/gBZi2w11XxU__ы10.mp3\n"
     ]
    },
    {
     "name": "stderr",
     "output_type": "stream",
     "text": [
      "                                                                                                                       \r"
     ]
    },
    {
     "name": "stdout",
     "output_type": "stream",
     "text": [
      "MoviePy - Done.\n",
      "MoviePy - Writing audio in ./data_mp3/gBZi2w11XxU__ы11.mp3\n"
     ]
    },
    {
     "name": "stderr",
     "output_type": "stream",
     "text": [
      "                                                                                                                       \r"
     ]
    },
    {
     "name": "stdout",
     "output_type": "stream",
     "text": [
      "MoviePy - Done.\n",
      "MoviePy - Writing audio in ./data_mp3/gBZi2w11XxU__ы12.mp3\n"
     ]
    },
    {
     "name": "stderr",
     "output_type": "stream",
     "text": [
      "                                                                                                                       \r"
     ]
    },
    {
     "name": "stdout",
     "output_type": "stream",
     "text": [
      "MoviePy - Done.\n",
      "MoviePy - Writing audio in ./data_mp3/gBZi2w11XxU__ы13.mp3\n"
     ]
    },
    {
     "name": "stderr",
     "output_type": "stream",
     "text": [
      "                                                                                                                       \r"
     ]
    },
    {
     "name": "stdout",
     "output_type": "stream",
     "text": [
      "MoviePy - Done.\n",
      "MoviePy - Writing audio in ./data_mp3/gBZi2w11XxU__ы14.mp3\n"
     ]
    },
    {
     "name": "stderr",
     "output_type": "stream",
     "text": [
      "                                                                                                                       \r"
     ]
    },
    {
     "name": "stdout",
     "output_type": "stream",
     "text": [
      "MoviePy - Done.\n",
      "MoviePy - Writing audio in ./data_mp3/gBZi2w11XxU__ы15.mp3\n"
     ]
    },
    {
     "name": "stderr",
     "output_type": "stream",
     "text": [
      "                                                                                                                       \r"
     ]
    },
    {
     "name": "stdout",
     "output_type": "stream",
     "text": [
      "MoviePy - Done.\n",
      "MoviePy - Writing audio in ./data_mp3/gBZi2w11XxU__ы16.mp3\n"
     ]
    },
    {
     "name": "stderr",
     "output_type": "stream",
     "text": [
      "                                                                                                                       \r"
     ]
    },
    {
     "name": "stdout",
     "output_type": "stream",
     "text": [
      "MoviePy - Done.\n",
      "MoviePy - Writing audio in ./data_mp3/gBZi2w11XxU__ы17.mp3\n"
     ]
    },
    {
     "name": "stderr",
     "output_type": "stream",
     "text": [
      "                                                                                                                       \r"
     ]
    },
    {
     "name": "stdout",
     "output_type": "stream",
     "text": [
      "MoviePy - Done.\n",
      "MoviePy - Writing audio in ./data_mp3/gBZi2w11XxU__ы18.mp3\n"
     ]
    },
    {
     "name": "stderr",
     "output_type": "stream",
     "text": [
      "                                                                                                                       \r"
     ]
    },
    {
     "name": "stdout",
     "output_type": "stream",
     "text": [
      "MoviePy - Done.\n",
      "MoviePy - Writing audio in ./data_mp3/gBZi2w11XxU__ы19.mp3\n"
     ]
    },
    {
     "name": "stderr",
     "output_type": "stream",
     "text": [
      "                                                                                                                       \r"
     ]
    },
    {
     "name": "stdout",
     "output_type": "stream",
     "text": [
      "MoviePy - Done.\n",
      "MoviePy - Writing audio in ./data_mp3/gBZi2w11XxU__ы20.mp3\n"
     ]
    },
    {
     "name": "stderr",
     "output_type": "stream",
     "text": [
      "                                                                                                                       \r"
     ]
    },
    {
     "name": "stdout",
     "output_type": "stream",
     "text": [
      "MoviePy - Done.\n",
      "MoviePy - Writing audio in ./data_mp3/gBZi2w11XxU__ы21.mp3\n"
     ]
    },
    {
     "name": "stderr",
     "output_type": "stream",
     "text": [
      "                                                                                                                       \r"
     ]
    },
    {
     "name": "stdout",
     "output_type": "stream",
     "text": [
      "MoviePy - Done.\n",
      "MoviePy - Writing audio in ./data_mp3/gBZi2w11XxU__ы22.mp3\n"
     ]
    },
    {
     "name": "stderr",
     "output_type": "stream",
     "text": [
      "                                                                                                                       \r"
     ]
    },
    {
     "name": "stdout",
     "output_type": "stream",
     "text": [
      "MoviePy - Done.\n",
      "MoviePy - Writing audio in ./data_mp3/gBZi2w11XxU__ы23.mp3\n"
     ]
    },
    {
     "name": "stderr",
     "output_type": "stream",
     "text": [
      "                                                                                                                       \r"
     ]
    },
    {
     "name": "stdout",
     "output_type": "stream",
     "text": [
      "MoviePy - Done.\n",
      "MoviePy - Writing audio in ./data_mp3/gBZi2w11XxU__ы24.mp3\n"
     ]
    },
    {
     "name": "stderr",
     "output_type": "stream",
     "text": [
      "                                                                                                                       \r"
     ]
    },
    {
     "name": "stdout",
     "output_type": "stream",
     "text": [
      "MoviePy - Done.\n",
      "GzeBHIto4Ps\n",
      "MoviePy - Writing audio in ./data_mp3/GzeBHIto4Ps__ы1.mp3\n"
     ]
    },
    {
     "name": "stderr",
     "output_type": "stream",
     "text": [
      "                                                                                                                       \r"
     ]
    },
    {
     "name": "stdout",
     "output_type": "stream",
     "text": [
      "MoviePy - Done.\n",
      "MoviePy - Writing audio in ./data_mp3/GzeBHIto4Ps__ы2.mp3\n"
     ]
    },
    {
     "name": "stderr",
     "output_type": "stream",
     "text": [
      "                                                                                                                       \r"
     ]
    },
    {
     "name": "stdout",
     "output_type": "stream",
     "text": [
      "MoviePy - Done.\n",
      "MoviePy - Writing audio in ./data_mp3/GzeBHIto4Ps__ы3.mp3\n"
     ]
    },
    {
     "name": "stderr",
     "output_type": "stream",
     "text": [
      "                                                                                                                       \r"
     ]
    },
    {
     "name": "stdout",
     "output_type": "stream",
     "text": [
      "MoviePy - Done.\n",
      "MoviePy - Writing audio in ./data_mp3/GzeBHIto4Ps__ы4.mp3\n"
     ]
    },
    {
     "name": "stderr",
     "output_type": "stream",
     "text": [
      "                                                                                                                       \r"
     ]
    },
    {
     "name": "stdout",
     "output_type": "stream",
     "text": [
      "MoviePy - Done.\n",
      "h8rGckNsF-M\n",
      "MoviePy - Writing audio in ./data_mp3/h8rGckNsF-M__ы1.mp3\n"
     ]
    },
    {
     "name": "stderr",
     "output_type": "stream",
     "text": [
      "                                                                                                                       \r"
     ]
    },
    {
     "name": "stdout",
     "output_type": "stream",
     "text": [
      "MoviePy - Done.\n",
      "MoviePy - Writing audio in ./data_mp3/h8rGckNsF-M__ы2.mp3\n"
     ]
    },
    {
     "name": "stderr",
     "output_type": "stream",
     "text": [
      "                                                                                                                       \r"
     ]
    },
    {
     "name": "stdout",
     "output_type": "stream",
     "text": [
      "MoviePy - Done.\n",
      "MoviePy - Writing audio in ./data_mp3/h8rGckNsF-M__ы3.mp3\n"
     ]
    },
    {
     "name": "stderr",
     "output_type": "stream",
     "text": [
      "                                                                                                                       \r"
     ]
    },
    {
     "name": "stdout",
     "output_type": "stream",
     "text": [
      "MoviePy - Done.\n",
      "HfWlHvzu20Y\n",
      "MoviePy - Writing audio in ./data_mp3/HfWlHvzu20Y.mp3\n"
     ]
    },
    {
     "name": "stderr",
     "output_type": "stream",
     "text": [
      "                                                                                                                       \r"
     ]
    },
    {
     "name": "stdout",
     "output_type": "stream",
     "text": [
      "MoviePy - Done.\n",
      "HlP8B0KrJxk\n",
      "MoviePy - Writing audio in ./data_mp3/HlP8B0KrJxk__ы1.mp3\n"
     ]
    },
    {
     "name": "stderr",
     "output_type": "stream",
     "text": [
      "                                                                                                                       \r"
     ]
    },
    {
     "name": "stdout",
     "output_type": "stream",
     "text": [
      "MoviePy - Done.\n",
      "MoviePy - Writing audio in ./data_mp3/HlP8B0KrJxk__ы2.mp3\n"
     ]
    },
    {
     "name": "stderr",
     "output_type": "stream",
     "text": [
      "                                                                                                                       \r"
     ]
    },
    {
     "name": "stdout",
     "output_type": "stream",
     "text": [
      "MoviePy - Done.\n",
      "MoviePy - Writing audio in ./data_mp3/HlP8B0KrJxk__ы3.mp3\n"
     ]
    },
    {
     "name": "stderr",
     "output_type": "stream",
     "text": [
      "                                                                                                                       \r"
     ]
    },
    {
     "name": "stdout",
     "output_type": "stream",
     "text": [
      "MoviePy - Done.\n",
      "MoviePy - Writing audio in ./data_mp3/HlP8B0KrJxk__ы4.mp3\n"
     ]
    },
    {
     "name": "stderr",
     "output_type": "stream",
     "text": [
      "                                                                                                                       \r"
     ]
    },
    {
     "name": "stdout",
     "output_type": "stream",
     "text": [
      "MoviePy - Done.\n",
      "MoviePy - Writing audio in ./data_mp3/HlP8B0KrJxk__ы5.mp3\n"
     ]
    },
    {
     "name": "stderr",
     "output_type": "stream",
     "text": [
      "                                                                                                                       \r"
     ]
    },
    {
     "name": "stdout",
     "output_type": "stream",
     "text": [
      "MoviePy - Done.\n",
      "MoviePy - Writing audio in ./data_mp3/HlP8B0KrJxk__ы6.mp3\n"
     ]
    },
    {
     "name": "stderr",
     "output_type": "stream",
     "text": [
      "                                                                                                                       \r"
     ]
    },
    {
     "name": "stdout",
     "output_type": "stream",
     "text": [
      "MoviePy - Done.\n",
      "MoviePy - Writing audio in ./data_mp3/HlP8B0KrJxk__ы7.mp3\n"
     ]
    },
    {
     "name": "stderr",
     "output_type": "stream",
     "text": [
      "                                                                                                                       \r"
     ]
    },
    {
     "name": "stdout",
     "output_type": "stream",
     "text": [
      "MoviePy - Done.\n",
      "MoviePy - Writing audio in ./data_mp3/HlP8B0KrJxk__ы8.mp3\n"
     ]
    },
    {
     "name": "stderr",
     "output_type": "stream",
     "text": [
      "                                                                                                                       \r"
     ]
    },
    {
     "name": "stdout",
     "output_type": "stream",
     "text": [
      "MoviePy - Done.\n",
      "MoviePy - Writing audio in ./data_mp3/HlP8B0KrJxk__ы9.mp3\n"
     ]
    },
    {
     "name": "stderr",
     "output_type": "stream",
     "text": [
      "                                                                                                                       \r"
     ]
    },
    {
     "name": "stdout",
     "output_type": "stream",
     "text": [
      "MoviePy - Done.\n",
      "MoviePy - Writing audio in ./data_mp3/HlP8B0KrJxk__ы10.mp3\n"
     ]
    },
    {
     "name": "stderr",
     "output_type": "stream",
     "text": [
      "                                                                                                                       \r"
     ]
    },
    {
     "name": "stdout",
     "output_type": "stream",
     "text": [
      "MoviePy - Done.\n",
      "MoviePy - Writing audio in ./data_mp3/HlP8B0KrJxk__ы11.mp3\n"
     ]
    },
    {
     "name": "stderr",
     "output_type": "stream",
     "text": [
      "                                                                                                                       \r"
     ]
    },
    {
     "name": "stdout",
     "output_type": "stream",
     "text": [
      "MoviePy - Done.\n",
      "MoviePy - Writing audio in ./data_mp3/HlP8B0KrJxk__ы12.mp3\n"
     ]
    },
    {
     "name": "stderr",
     "output_type": "stream",
     "text": [
      "                                                                                                                       \r"
     ]
    },
    {
     "name": "stdout",
     "output_type": "stream",
     "text": [
      "MoviePy - Done.\n",
      "huY252lNzx4\n",
      "MoviePy - Writing audio in ./data_mp3/huY252lNzx4__ы1.mp3\n"
     ]
    },
    {
     "name": "stderr",
     "output_type": "stream",
     "text": [
      "                                                                                                                       \r"
     ]
    },
    {
     "name": "stdout",
     "output_type": "stream",
     "text": [
      "MoviePy - Done.\n",
      "MoviePy - Writing audio in ./data_mp3/huY252lNzx4__ы2.mp3\n"
     ]
    },
    {
     "name": "stderr",
     "output_type": "stream",
     "text": [
      "                                                                                                                       \r"
     ]
    },
    {
     "name": "stdout",
     "output_type": "stream",
     "text": [
      "MoviePy - Done.\n",
      "MoviePy - Writing audio in ./data_mp3/huY252lNzx4__ы3.mp3\n"
     ]
    },
    {
     "name": "stderr",
     "output_type": "stream",
     "text": [
      "                                                                                                                       \r"
     ]
    },
    {
     "name": "stdout",
     "output_type": "stream",
     "text": [
      "MoviePy - Done.\n",
      "MoviePy - Writing audio in ./data_mp3/huY252lNzx4__ы4.mp3\n"
     ]
    },
    {
     "name": "stderr",
     "output_type": "stream",
     "text": [
      "                                                                                                                       \r"
     ]
    },
    {
     "name": "stdout",
     "output_type": "stream",
     "text": [
      "MoviePy - Done.\n",
      "MoviePy - Writing audio in ./data_mp3/huY252lNzx4__ы5.mp3\n"
     ]
    },
    {
     "name": "stderr",
     "output_type": "stream",
     "text": [
      "                                                                                                                       \r"
     ]
    },
    {
     "name": "stdout",
     "output_type": "stream",
     "text": [
      "MoviePy - Done.\n",
      "MoviePy - Writing audio in ./data_mp3/huY252lNzx4__ы6.mp3\n"
     ]
    },
    {
     "name": "stderr",
     "output_type": "stream",
     "text": [
      "                                                                                                                       \r"
     ]
    },
    {
     "name": "stdout",
     "output_type": "stream",
     "text": [
      "MoviePy - Done.\n",
      "MoviePy - Writing audio in ./data_mp3/huY252lNzx4__ы7.mp3\n"
     ]
    },
    {
     "name": "stderr",
     "output_type": "stream",
     "text": [
      "                                                                                                                       \r"
     ]
    },
    {
     "name": "stdout",
     "output_type": "stream",
     "text": [
      "MoviePy - Done.\n",
      "MoviePy - Writing audio in ./data_mp3/huY252lNzx4__ы8.mp3\n"
     ]
    },
    {
     "name": "stderr",
     "output_type": "stream",
     "text": [
      "                                                                                                                       \r"
     ]
    },
    {
     "name": "stdout",
     "output_type": "stream",
     "text": [
      "MoviePy - Done.\n",
      "MoviePy - Writing audio in ./data_mp3/huY252lNzx4__ы9.mp3\n"
     ]
    },
    {
     "name": "stderr",
     "output_type": "stream",
     "text": [
      "                                                                                                                       \r"
     ]
    },
    {
     "name": "stdout",
     "output_type": "stream",
     "text": [
      "MoviePy - Done.\n",
      "MoviePy - Writing audio in ./data_mp3/huY252lNzx4__ы10.mp3\n"
     ]
    },
    {
     "name": "stderr",
     "output_type": "stream",
     "text": [
      "                                                                                                                       \r"
     ]
    },
    {
     "name": "stdout",
     "output_type": "stream",
     "text": [
      "MoviePy - Done.\n",
      "MoviePy - Writing audio in ./data_mp3/huY252lNzx4__ы11.mp3\n"
     ]
    },
    {
     "name": "stderr",
     "output_type": "stream",
     "text": [
      "                                                                                                                       \r"
     ]
    },
    {
     "name": "stdout",
     "output_type": "stream",
     "text": [
      "MoviePy - Done.\n",
      "MoviePy - Writing audio in ./data_mp3/huY252lNzx4__ы12.mp3\n"
     ]
    },
    {
     "name": "stderr",
     "output_type": "stream",
     "text": [
      "                                                                                                                       \r"
     ]
    },
    {
     "name": "stdout",
     "output_type": "stream",
     "text": [
      "MoviePy - Done.\n",
      "MoviePy - Writing audio in ./data_mp3/huY252lNzx4__ы13.mp3\n"
     ]
    },
    {
     "name": "stderr",
     "output_type": "stream",
     "text": [
      "                                                                                                                       \r"
     ]
    },
    {
     "name": "stdout",
     "output_type": "stream",
     "text": [
      "MoviePy - Done.\n",
      "MoviePy - Writing audio in ./data_mp3/huY252lNzx4__ы14.mp3\n"
     ]
    },
    {
     "name": "stderr",
     "output_type": "stream",
     "text": [
      "                                                                                                                       \r"
     ]
    },
    {
     "name": "stdout",
     "output_type": "stream",
     "text": [
      "MoviePy - Done.\n",
      "MoviePy - Writing audio in ./data_mp3/huY252lNzx4__ы15.mp3\n"
     ]
    },
    {
     "name": "stderr",
     "output_type": "stream",
     "text": [
      "                                                                                                                       \r"
     ]
    },
    {
     "name": "stdout",
     "output_type": "stream",
     "text": [
      "MoviePy - Done.\n",
      "MoviePy - Writing audio in ./data_mp3/huY252lNzx4__ы16.mp3\n"
     ]
    },
    {
     "name": "stderr",
     "output_type": "stream",
     "text": [
      "                                                                                                                       \r"
     ]
    },
    {
     "name": "stdout",
     "output_type": "stream",
     "text": [
      "MoviePy - Done.\n",
      "MoviePy - Writing audio in ./data_mp3/huY252lNzx4__ы17.mp3\n"
     ]
    },
    {
     "name": "stderr",
     "output_type": "stream",
     "text": [
      "                                                                                                                       \r"
     ]
    },
    {
     "name": "stdout",
     "output_type": "stream",
     "text": [
      "MoviePy - Done.\n",
      "MoviePy - Writing audio in ./data_mp3/huY252lNzx4__ы18.mp3\n"
     ]
    },
    {
     "name": "stderr",
     "output_type": "stream",
     "text": [
      "                                                                                                                       \r"
     ]
    },
    {
     "name": "stdout",
     "output_type": "stream",
     "text": [
      "MoviePy - Done.\n",
      "MoviePy - Writing audio in ./data_mp3/huY252lNzx4__ы19.mp3\n"
     ]
    },
    {
     "name": "stderr",
     "output_type": "stream",
     "text": [
      "                                                                                                                       \r"
     ]
    },
    {
     "name": "stdout",
     "output_type": "stream",
     "text": [
      "MoviePy - Done.\n",
      "MoviePy - Writing audio in ./data_mp3/huY252lNzx4__ы20.mp3\n"
     ]
    },
    {
     "name": "stderr",
     "output_type": "stream",
     "text": [
      "                                                                                                                       \r"
     ]
    },
    {
     "name": "stdout",
     "output_type": "stream",
     "text": [
      "MoviePy - Done.\n",
      "MoviePy - Writing audio in ./data_mp3/huY252lNzx4__ы21.mp3\n"
     ]
    },
    {
     "name": "stderr",
     "output_type": "stream",
     "text": [
      "                                                                                                                       \r"
     ]
    },
    {
     "name": "stdout",
     "output_type": "stream",
     "text": [
      "MoviePy - Done.\n",
      "hXkB92fjCgo\n",
      "MoviePy - Writing audio in ./data_mp3/hXkB92fjCgo__ы1.mp3\n"
     ]
    },
    {
     "name": "stderr",
     "output_type": "stream",
     "text": [
      "                                                                                                                       \r"
     ]
    },
    {
     "name": "stdout",
     "output_type": "stream",
     "text": [
      "MoviePy - Done.\n",
      "MoviePy - Writing audio in ./data_mp3/hXkB92fjCgo__ы2.mp3\n"
     ]
    },
    {
     "name": "stderr",
     "output_type": "stream",
     "text": [
      "                                                                                                                       \r"
     ]
    },
    {
     "name": "stdout",
     "output_type": "stream",
     "text": [
      "MoviePy - Done.\n",
      "MoviePy - Writing audio in ./data_mp3/hXkB92fjCgo__ы3.mp3\n"
     ]
    },
    {
     "name": "stderr",
     "output_type": "stream",
     "text": [
      "                                                                                                                       \r"
     ]
    },
    {
     "name": "stdout",
     "output_type": "stream",
     "text": [
      "MoviePy - Done.\n",
      "MoviePy - Writing audio in ./data_mp3/hXkB92fjCgo__ы4.mp3\n"
     ]
    },
    {
     "name": "stderr",
     "output_type": "stream",
     "text": [
      "                                                                                                                       \r"
     ]
    },
    {
     "name": "stdout",
     "output_type": "stream",
     "text": [
      "MoviePy - Done.\n",
      "MoviePy - Writing audio in ./data_mp3/hXkB92fjCgo__ы5.mp3\n"
     ]
    },
    {
     "name": "stderr",
     "output_type": "stream",
     "text": [
      "                                                                                                                       \r"
     ]
    },
    {
     "name": "stdout",
     "output_type": "stream",
     "text": [
      "MoviePy - Done.\n",
      "MoviePy - Writing audio in ./data_mp3/hXkB92fjCgo__ы6.mp3\n"
     ]
    },
    {
     "name": "stderr",
     "output_type": "stream",
     "text": [
      "                                                                                                                       \r"
     ]
    },
    {
     "name": "stdout",
     "output_type": "stream",
     "text": [
      "MoviePy - Done.\n",
      "MoviePy - Writing audio in ./data_mp3/hXkB92fjCgo__ы7.mp3\n"
     ]
    },
    {
     "name": "stderr",
     "output_type": "stream",
     "text": [
      "                                                                                                                       \r"
     ]
    },
    {
     "name": "stdout",
     "output_type": "stream",
     "text": [
      "MoviePy - Done.\n",
      "MoviePy - Writing audio in ./data_mp3/hXkB92fjCgo__ы8.mp3\n"
     ]
    },
    {
     "name": "stderr",
     "output_type": "stream",
     "text": [
      "                                                                                                                       \r"
     ]
    },
    {
     "name": "stdout",
     "output_type": "stream",
     "text": [
      "MoviePy - Done.\n",
      "MoviePy - Writing audio in ./data_mp3/hXkB92fjCgo__ы9.mp3\n"
     ]
    },
    {
     "name": "stderr",
     "output_type": "stream",
     "text": [
      "                                                                                                                       \r"
     ]
    },
    {
     "name": "stdout",
     "output_type": "stream",
     "text": [
      "MoviePy - Done.\n",
      "MoviePy - Writing audio in ./data_mp3/hXkB92fjCgo__ы10.mp3\n"
     ]
    },
    {
     "name": "stderr",
     "output_type": "stream",
     "text": [
      "                                                                                                                       \r"
     ]
    },
    {
     "name": "stdout",
     "output_type": "stream",
     "text": [
      "MoviePy - Done.\n",
      "MoviePy - Writing audio in ./data_mp3/hXkB92fjCgo__ы11.mp3\n"
     ]
    },
    {
     "name": "stderr",
     "output_type": "stream",
     "text": [
      "                                                                                                                       \r"
     ]
    },
    {
     "name": "stdout",
     "output_type": "stream",
     "text": [
      "MoviePy - Done.\n",
      "hYA2d88vYOs\n",
      "MoviePy - Writing audio in ./data_mp3/hYA2d88vYOs.mp3\n"
     ]
    },
    {
     "name": "stderr",
     "output_type": "stream",
     "text": [
      "                                                                                                                       \r"
     ]
    },
    {
     "name": "stdout",
     "output_type": "stream",
     "text": [
      "MoviePy - Done.\n",
      "HYVXIFfi5N0\n",
      "MoviePy - Writing audio in ./data_mp3/HYVXIFfi5N0__ы1.mp3\n"
     ]
    },
    {
     "name": "stderr",
     "output_type": "stream",
     "text": [
      "                                                                                                                       \r"
     ]
    },
    {
     "name": "stdout",
     "output_type": "stream",
     "text": [
      "MoviePy - Done.\n",
      "MoviePy - Writing audio in ./data_mp3/HYVXIFfi5N0__ы2.mp3\n"
     ]
    },
    {
     "name": "stderr",
     "output_type": "stream",
     "text": [
      "                                                                                                                       \r"
     ]
    },
    {
     "name": "stdout",
     "output_type": "stream",
     "text": [
      "MoviePy - Done.\n",
      "MoviePy - Writing audio in ./data_mp3/HYVXIFfi5N0__ы3.mp3\n"
     ]
    },
    {
     "name": "stderr",
     "output_type": "stream",
     "text": [
      "                                                                                                                       \r"
     ]
    },
    {
     "name": "stdout",
     "output_type": "stream",
     "text": [
      "MoviePy - Done.\n",
      "MoviePy - Writing audio in ./data_mp3/HYVXIFfi5N0__ы4.mp3\n"
     ]
    },
    {
     "name": "stderr",
     "output_type": "stream",
     "text": [
      "                                                                                                                       \r"
     ]
    },
    {
     "name": "stdout",
     "output_type": "stream",
     "text": [
      "MoviePy - Done.\n",
      "MoviePy - Writing audio in ./data_mp3/HYVXIFfi5N0__ы5.mp3\n"
     ]
    },
    {
     "name": "stderr",
     "output_type": "stream",
     "text": [
      "                                                                                                                       \r"
     ]
    },
    {
     "name": "stdout",
     "output_type": "stream",
     "text": [
      "MoviePy - Done.\n",
      "MoviePy - Writing audio in ./data_mp3/HYVXIFfi5N0__ы6.mp3\n"
     ]
    },
    {
     "name": "stderr",
     "output_type": "stream",
     "text": [
      "                                                                                                                       \r"
     ]
    },
    {
     "name": "stdout",
     "output_type": "stream",
     "text": [
      "MoviePy - Done.\n",
      "MoviePy - Writing audio in ./data_mp3/HYVXIFfi5N0__ы7.mp3\n"
     ]
    },
    {
     "name": "stderr",
     "output_type": "stream",
     "text": [
      "                                                                                                                       \r"
     ]
    },
    {
     "name": "stdout",
     "output_type": "stream",
     "text": [
      "MoviePy - Done.\n",
      "MoviePy - Writing audio in ./data_mp3/HYVXIFfi5N0__ы8.mp3\n"
     ]
    },
    {
     "name": "stderr",
     "output_type": "stream",
     "text": [
      "                                                                                                                       \r"
     ]
    },
    {
     "name": "stdout",
     "output_type": "stream",
     "text": [
      "MoviePy - Done.\n",
      "MoviePy - Writing audio in ./data_mp3/HYVXIFfi5N0__ы9.mp3\n"
     ]
    },
    {
     "name": "stderr",
     "output_type": "stream",
     "text": [
      "                                                                                                                       \r"
     ]
    },
    {
     "name": "stdout",
     "output_type": "stream",
     "text": [
      "MoviePy - Done.\n",
      "MoviePy - Writing audio in ./data_mp3/HYVXIFfi5N0__ы10.mp3\n"
     ]
    },
    {
     "name": "stderr",
     "output_type": "stream",
     "text": [
      "                                                                                                                       \r"
     ]
    },
    {
     "name": "stdout",
     "output_type": "stream",
     "text": [
      "MoviePy - Done.\n",
      "MoviePy - Writing audio in ./data_mp3/HYVXIFfi5N0__ы11.mp3\n"
     ]
    },
    {
     "name": "stderr",
     "output_type": "stream",
     "text": [
      "                                                                                                                       \r"
     ]
    },
    {
     "name": "stdout",
     "output_type": "stream",
     "text": [
      "MoviePy - Done.\n",
      "MoviePy - Writing audio in ./data_mp3/HYVXIFfi5N0__ы12.mp3\n"
     ]
    },
    {
     "name": "stderr",
     "output_type": "stream",
     "text": [
      "                                                                                                                       \r"
     ]
    },
    {
     "name": "stdout",
     "output_type": "stream",
     "text": [
      "MoviePy - Done.\n",
      "i4EYGBeR97k\n",
      "MoviePy - Writing audio in ./data_mp3/i4EYGBeR97k__ы1.mp3\n"
     ]
    },
    {
     "name": "stderr",
     "output_type": "stream",
     "text": [
      "                                                                                                                       \r"
     ]
    },
    {
     "name": "stdout",
     "output_type": "stream",
     "text": [
      "MoviePy - Done.\n",
      "MoviePy - Writing audio in ./data_mp3/i4EYGBeR97k__ы2.mp3\n"
     ]
    },
    {
     "name": "stderr",
     "output_type": "stream",
     "text": [
      "                                                                                                                       \r"
     ]
    },
    {
     "name": "stdout",
     "output_type": "stream",
     "text": [
      "MoviePy - Done.\n",
      "MoviePy - Writing audio in ./data_mp3/i4EYGBeR97k__ы3.mp3\n"
     ]
    },
    {
     "name": "stderr",
     "output_type": "stream",
     "text": [
      "                                                                                                                       \r"
     ]
    },
    {
     "name": "stdout",
     "output_type": "stream",
     "text": [
      "MoviePy - Done.\n",
      "MoviePy - Writing audio in ./data_mp3/i4EYGBeR97k__ы4.mp3\n"
     ]
    },
    {
     "name": "stderr",
     "output_type": "stream",
     "text": [
      "                                                                                                                       \r"
     ]
    },
    {
     "name": "stdout",
     "output_type": "stream",
     "text": [
      "MoviePy - Done.\n",
      "MoviePy - Writing audio in ./data_mp3/i4EYGBeR97k__ы5.mp3\n"
     ]
    },
    {
     "name": "stderr",
     "output_type": "stream",
     "text": [
      "                                                                                                                       \r"
     ]
    },
    {
     "name": "stdout",
     "output_type": "stream",
     "text": [
      "MoviePy - Done.\n",
      "MoviePy - Writing audio in ./data_mp3/i4EYGBeR97k__ы6.mp3\n"
     ]
    },
    {
     "name": "stderr",
     "output_type": "stream",
     "text": [
      "                                                                                                                       \r"
     ]
    },
    {
     "name": "stdout",
     "output_type": "stream",
     "text": [
      "MoviePy - Done.\n",
      "MoviePy - Writing audio in ./data_mp3/i4EYGBeR97k__ы7.mp3\n"
     ]
    },
    {
     "name": "stderr",
     "output_type": "stream",
     "text": [
      "                                                                                                                       \r"
     ]
    },
    {
     "name": "stdout",
     "output_type": "stream",
     "text": [
      "MoviePy - Done.\n",
      "MoviePy - Writing audio in ./data_mp3/i4EYGBeR97k__ы8.mp3\n"
     ]
    },
    {
     "name": "stderr",
     "output_type": "stream",
     "text": [
      "                                                                                                                       \r"
     ]
    },
    {
     "name": "stdout",
     "output_type": "stream",
     "text": [
      "MoviePy - Done.\n",
      "MoviePy - Writing audio in ./data_mp3/i4EYGBeR97k__ы9.mp3\n"
     ]
    },
    {
     "name": "stderr",
     "output_type": "stream",
     "text": [
      "                                                                                                                       \r"
     ]
    },
    {
     "name": "stdout",
     "output_type": "stream",
     "text": [
      "MoviePy - Done.\n",
      "MoviePy - Writing audio in ./data_mp3/i4EYGBeR97k__ы10.mp3\n"
     ]
    },
    {
     "name": "stderr",
     "output_type": "stream",
     "text": [
      "                                                                                                                       \r"
     ]
    },
    {
     "name": "stdout",
     "output_type": "stream",
     "text": [
      "MoviePy - Done.\n",
      "MoviePy - Writing audio in ./data_mp3/i4EYGBeR97k__ы11.mp3\n"
     ]
    },
    {
     "name": "stderr",
     "output_type": "stream",
     "text": [
      "                                                                                                                       \r"
     ]
    },
    {
     "name": "stdout",
     "output_type": "stream",
     "text": [
      "MoviePy - Done.\n",
      "MoviePy - Writing audio in ./data_mp3/i4EYGBeR97k__ы12.mp3\n"
     ]
    },
    {
     "name": "stderr",
     "output_type": "stream",
     "text": [
      "                                                                                                                       \r"
     ]
    },
    {
     "name": "stdout",
     "output_type": "stream",
     "text": [
      "MoviePy - Done.\n",
      "iaDvKKGKAlQ\n",
      "MoviePy - Writing audio in ./data_mp3/iaDvKKGKAlQ__ы1.mp3\n"
     ]
    },
    {
     "name": "stderr",
     "output_type": "stream",
     "text": [
      "                                                                                                                       \r"
     ]
    },
    {
     "name": "stdout",
     "output_type": "stream",
     "text": [
      "MoviePy - Done.\n",
      "MoviePy - Writing audio in ./data_mp3/iaDvKKGKAlQ__ы2.mp3\n"
     ]
    },
    {
     "name": "stderr",
     "output_type": "stream",
     "text": [
      "                                                                                                                       \r"
     ]
    },
    {
     "name": "stdout",
     "output_type": "stream",
     "text": [
      "MoviePy - Done.\n",
      "MoviePy - Writing audio in ./data_mp3/iaDvKKGKAlQ__ы3.mp3\n"
     ]
    },
    {
     "name": "stderr",
     "output_type": "stream",
     "text": [
      "                                                                                                                       \r"
     ]
    },
    {
     "name": "stdout",
     "output_type": "stream",
     "text": [
      "MoviePy - Done.\n",
      "MoviePy - Writing audio in ./data_mp3/iaDvKKGKAlQ__ы4.mp3\n"
     ]
    },
    {
     "name": "stderr",
     "output_type": "stream",
     "text": [
      "                                                                                                                       \r"
     ]
    },
    {
     "name": "stdout",
     "output_type": "stream",
     "text": [
      "MoviePy - Done.\n",
      "MoviePy - Writing audio in ./data_mp3/iaDvKKGKAlQ__ы5.mp3\n"
     ]
    },
    {
     "name": "stderr",
     "output_type": "stream",
     "text": [
      "                                                                                                                       \r"
     ]
    },
    {
     "name": "stdout",
     "output_type": "stream",
     "text": [
      "MoviePy - Done.\n",
      "MoviePy - Writing audio in ./data_mp3/iaDvKKGKAlQ__ы6.mp3\n"
     ]
    },
    {
     "name": "stderr",
     "output_type": "stream",
     "text": [
      "                                                                                                                       \r"
     ]
    },
    {
     "name": "stdout",
     "output_type": "stream",
     "text": [
      "MoviePy - Done.\n",
      "MoviePy - Writing audio in ./data_mp3/iaDvKKGKAlQ__ы7.mp3\n"
     ]
    },
    {
     "name": "stderr",
     "output_type": "stream",
     "text": [
      "                                                                                                                       \r"
     ]
    },
    {
     "name": "stdout",
     "output_type": "stream",
     "text": [
      "MoviePy - Done.\n",
      "MoviePy - Writing audio in ./data_mp3/iaDvKKGKAlQ__ы8.mp3\n"
     ]
    },
    {
     "name": "stderr",
     "output_type": "stream",
     "text": [
      "                                                                                                                       \r"
     ]
    },
    {
     "name": "stdout",
     "output_type": "stream",
     "text": [
      "MoviePy - Done.\n",
      "MoviePy - Writing audio in ./data_mp3/iaDvKKGKAlQ__ы9.mp3\n"
     ]
    },
    {
     "name": "stderr",
     "output_type": "stream",
     "text": [
      "                                                                                                                       \r"
     ]
    },
    {
     "name": "stdout",
     "output_type": "stream",
     "text": [
      "MoviePy - Done.\n",
      "MoviePy - Writing audio in ./data_mp3/iaDvKKGKAlQ__ы10.mp3\n"
     ]
    },
    {
     "name": "stderr",
     "output_type": "stream",
     "text": [
      "                                                                                                                       \r"
     ]
    },
    {
     "name": "stdout",
     "output_type": "stream",
     "text": [
      "MoviePy - Done.\n",
      "MoviePy - Writing audio in ./data_mp3/iaDvKKGKAlQ__ы11.mp3\n"
     ]
    },
    {
     "name": "stderr",
     "output_type": "stream",
     "text": [
      "                                                                                                                       \r"
     ]
    },
    {
     "name": "stdout",
     "output_type": "stream",
     "text": [
      "MoviePy - Done.\n",
      "MoviePy - Writing audio in ./data_mp3/iaDvKKGKAlQ__ы12.mp3\n"
     ]
    },
    {
     "name": "stderr",
     "output_type": "stream",
     "text": [
      "                                                                                                                       \r"
     ]
    },
    {
     "name": "stdout",
     "output_type": "stream",
     "text": [
      "MoviePy - Done.\n",
      "iC-vWZzTPms\n",
      "MoviePy - Writing audio in ./data_mp3/iC-vWZzTPms.mp3\n"
     ]
    },
    {
     "name": "stderr",
     "output_type": "stream",
     "text": [
      "                                                                                                                       \r"
     ]
    },
    {
     "name": "stdout",
     "output_type": "stream",
     "text": [
      "MoviePy - Done.\n",
      "IkncOaW6nJE\n",
      "MoviePy - Writing audio in ./data_mp3/IkncOaW6nJE.mp3\n"
     ]
    },
    {
     "name": "stderr",
     "output_type": "stream",
     "text": [
      "                                                                                                                       \r"
     ]
    },
    {
     "name": "stdout",
     "output_type": "stream",
     "text": [
      "MoviePy - Done.\n",
      "iN80A6cSBxY\n",
      "MoviePy - Writing audio in ./data_mp3/iN80A6cSBxY.mp3\n"
     ]
    },
    {
     "name": "stderr",
     "output_type": "stream",
     "text": [
      "                                                                                                                       \r"
     ]
    },
    {
     "name": "stdout",
     "output_type": "stream",
     "text": [
      "MoviePy - Done.\n",
      "i_IYl_D5yh4\n",
      "MoviePy - Writing audio in ./data_mp3/i_IYl_D5yh4.mp3\n"
     ]
    },
    {
     "name": "stderr",
     "output_type": "stream",
     "text": [
      "                                                                                                                       \r"
     ]
    },
    {
     "name": "stdout",
     "output_type": "stream",
     "text": [
      "MoviePy - Done.\n",
      "Jmz8xIK9Gts\n",
      "MoviePy - Writing audio in ./data_mp3/Jmz8xIK9Gts__ы1.mp3\n"
     ]
    },
    {
     "name": "stderr",
     "output_type": "stream",
     "text": [
      "                                                                                                                       \r"
     ]
    },
    {
     "name": "stdout",
     "output_type": "stream",
     "text": [
      "MoviePy - Done.\n",
      "MoviePy - Writing audio in ./data_mp3/Jmz8xIK9Gts__ы2.mp3\n"
     ]
    },
    {
     "name": "stderr",
     "output_type": "stream",
     "text": [
      "                                                                                                                       \r"
     ]
    },
    {
     "name": "stdout",
     "output_type": "stream",
     "text": [
      "MoviePy - Done.\n",
      "MoviePy - Writing audio in ./data_mp3/Jmz8xIK9Gts__ы3.mp3\n"
     ]
    },
    {
     "name": "stderr",
     "output_type": "stream",
     "text": [
      "                                                                                                                       \r"
     ]
    },
    {
     "name": "stdout",
     "output_type": "stream",
     "text": [
      "MoviePy - Done.\n",
      "MoviePy - Writing audio in ./data_mp3/Jmz8xIK9Gts__ы4.mp3\n"
     ]
    },
    {
     "name": "stderr",
     "output_type": "stream",
     "text": [
      "                                                                                                                       \r"
     ]
    },
    {
     "name": "stdout",
     "output_type": "stream",
     "text": [
      "MoviePy - Done.\n",
      "MoviePy - Writing audio in ./data_mp3/Jmz8xIK9Gts__ы5.mp3\n"
     ]
    },
    {
     "name": "stderr",
     "output_type": "stream",
     "text": [
      "                                                                                                                       \r"
     ]
    },
    {
     "name": "stdout",
     "output_type": "stream",
     "text": [
      "MoviePy - Done.\n",
      "MoviePy - Writing audio in ./data_mp3/Jmz8xIK9Gts__ы6.mp3\n"
     ]
    },
    {
     "name": "stderr",
     "output_type": "stream",
     "text": [
      "                                                                                                                       \r"
     ]
    },
    {
     "name": "stdout",
     "output_type": "stream",
     "text": [
      "MoviePy - Done.\n",
      "MoviePy - Writing audio in ./data_mp3/Jmz8xIK9Gts__ы7.mp3\n"
     ]
    },
    {
     "name": "stderr",
     "output_type": "stream",
     "text": [
      "                                                                                                                       \r"
     ]
    },
    {
     "name": "stdout",
     "output_type": "stream",
     "text": [
      "MoviePy - Done.\n",
      "MoviePy - Writing audio in ./data_mp3/Jmz8xIK9Gts__ы8.mp3\n"
     ]
    },
    {
     "name": "stderr",
     "output_type": "stream",
     "text": [
      "                                                                                                                       \r"
     ]
    },
    {
     "name": "stdout",
     "output_type": "stream",
     "text": [
      "MoviePy - Done.\n",
      "MoviePy - Writing audio in ./data_mp3/Jmz8xIK9Gts__ы9.mp3\n"
     ]
    },
    {
     "name": "stderr",
     "output_type": "stream",
     "text": [
      "                                                                                                                       \r"
     ]
    },
    {
     "name": "stdout",
     "output_type": "stream",
     "text": [
      "MoviePy - Done.\n",
      "MoviePy - Writing audio in ./data_mp3/Jmz8xIK9Gts__ы10.mp3\n"
     ]
    },
    {
     "name": "stderr",
     "output_type": "stream",
     "text": [
      "                                                                                                                       \r"
     ]
    },
    {
     "name": "stdout",
     "output_type": "stream",
     "text": [
      "MoviePy - Done.\n",
      "MoviePy - Writing audio in ./data_mp3/Jmz8xIK9Gts__ы11.mp3\n"
     ]
    },
    {
     "name": "stderr",
     "output_type": "stream",
     "text": [
      "                                                                                                                       \r"
     ]
    },
    {
     "name": "stdout",
     "output_type": "stream",
     "text": [
      "MoviePy - Done.\n",
      "MoviePy - Writing audio in ./data_mp3/Jmz8xIK9Gts__ы12.mp3\n"
     ]
    },
    {
     "name": "stderr",
     "output_type": "stream",
     "text": [
      "                                                                                                                       \r"
     ]
    },
    {
     "name": "stdout",
     "output_type": "stream",
     "text": [
      "MoviePy - Done.\n",
      "JwEKYSLuwUo\n",
      "MoviePy - Writing audio in ./data_mp3/JwEKYSLuwUo__ы1.mp3\n"
     ]
    },
    {
     "name": "stderr",
     "output_type": "stream",
     "text": [
      "                                                                                                                       \r"
     ]
    },
    {
     "name": "stdout",
     "output_type": "stream",
     "text": [
      "MoviePy - Done.\n",
      "MoviePy - Writing audio in ./data_mp3/JwEKYSLuwUo__ы2.mp3\n"
     ]
    },
    {
     "name": "stderr",
     "output_type": "stream",
     "text": [
      "                                                                                                                       \r"
     ]
    },
    {
     "name": "stdout",
     "output_type": "stream",
     "text": [
      "MoviePy - Done.\n",
      "MoviePy - Writing audio in ./data_mp3/JwEKYSLuwUo__ы3.mp3\n"
     ]
    },
    {
     "name": "stderr",
     "output_type": "stream",
     "text": [
      "                                                                                                                       \r"
     ]
    },
    {
     "name": "stdout",
     "output_type": "stream",
     "text": [
      "MoviePy - Done.\n",
      "MoviePy - Writing audio in ./data_mp3/JwEKYSLuwUo__ы4.mp3\n"
     ]
    },
    {
     "name": "stderr",
     "output_type": "stream",
     "text": [
      "                                                                                                                       \r"
     ]
    },
    {
     "name": "stdout",
     "output_type": "stream",
     "text": [
      "MoviePy - Done.\n",
      "MoviePy - Writing audio in ./data_mp3/JwEKYSLuwUo__ы5.mp3\n"
     ]
    },
    {
     "name": "stderr",
     "output_type": "stream",
     "text": [
      "                                                                                                                       \r"
     ]
    },
    {
     "name": "stdout",
     "output_type": "stream",
     "text": [
      "MoviePy - Done.\n",
      "MoviePy - Writing audio in ./data_mp3/JwEKYSLuwUo__ы6.mp3\n"
     ]
    },
    {
     "name": "stderr",
     "output_type": "stream",
     "text": [
      "                                                                                                                       \r"
     ]
    },
    {
     "name": "stdout",
     "output_type": "stream",
     "text": [
      "MoviePy - Done.\n",
      "MoviePy - Writing audio in ./data_mp3/JwEKYSLuwUo__ы7.mp3\n"
     ]
    },
    {
     "name": "stderr",
     "output_type": "stream",
     "text": [
      "                                                                                                                       \r"
     ]
    },
    {
     "name": "stdout",
     "output_type": "stream",
     "text": [
      "MoviePy - Done.\n",
      "MoviePy - Writing audio in ./data_mp3/JwEKYSLuwUo__ы8.mp3\n"
     ]
    },
    {
     "name": "stderr",
     "output_type": "stream",
     "text": [
      "                                                                                                                       \r"
     ]
    },
    {
     "name": "stdout",
     "output_type": "stream",
     "text": [
      "MoviePy - Done.\n",
      "MoviePy - Writing audio in ./data_mp3/JwEKYSLuwUo__ы9.mp3\n"
     ]
    },
    {
     "name": "stderr",
     "output_type": "stream",
     "text": [
      "                                                                                                                       \r"
     ]
    },
    {
     "name": "stdout",
     "output_type": "stream",
     "text": [
      "MoviePy - Done.\n",
      "MoviePy - Writing audio in ./data_mp3/JwEKYSLuwUo__ы10.mp3\n"
     ]
    },
    {
     "name": "stderr",
     "output_type": "stream",
     "text": [
      "                                                                                                                       \r"
     ]
    },
    {
     "name": "stdout",
     "output_type": "stream",
     "text": [
      "MoviePy - Done.\n",
      "MoviePy - Writing audio in ./data_mp3/JwEKYSLuwUo__ы11.mp3\n"
     ]
    },
    {
     "name": "stderr",
     "output_type": "stream",
     "text": [
      "                                                                                                                       \r"
     ]
    },
    {
     "name": "stdout",
     "output_type": "stream",
     "text": [
      "MoviePy - Done.\n",
      "MoviePy - Writing audio in ./data_mp3/JwEKYSLuwUo__ы12.mp3\n"
     ]
    },
    {
     "name": "stderr",
     "output_type": "stream",
     "text": [
      "                                                                                                                       \r"
     ]
    },
    {
     "name": "stdout",
     "output_type": "stream",
     "text": [
      "MoviePy - Done.\n",
      "k5xDyG72wHE\n",
      "MoviePy - Writing audio in ./data_mp3/k5xDyG72wHE__ы1.mp3\n"
     ]
    },
    {
     "name": "stderr",
     "output_type": "stream",
     "text": [
      "                                                                                                                       \r"
     ]
    },
    {
     "name": "stdout",
     "output_type": "stream",
     "text": [
      "MoviePy - Done.\n",
      "MoviePy - Writing audio in ./data_mp3/k5xDyG72wHE__ы2.mp3\n"
     ]
    },
    {
     "name": "stderr",
     "output_type": "stream",
     "text": [
      "                                                                                                                       \r"
     ]
    },
    {
     "name": "stdout",
     "output_type": "stream",
     "text": [
      "MoviePy - Done.\n",
      "MoviePy - Writing audio in ./data_mp3/k5xDyG72wHE__ы3.mp3\n"
     ]
    },
    {
     "name": "stderr",
     "output_type": "stream",
     "text": [
      "                                                                                                                       \r"
     ]
    },
    {
     "name": "stdout",
     "output_type": "stream",
     "text": [
      "MoviePy - Done.\n",
      "MoviePy - Writing audio in ./data_mp3/k5xDyG72wHE__ы4.mp3\n"
     ]
    },
    {
     "name": "stderr",
     "output_type": "stream",
     "text": [
      "                                                                                                                       \r"
     ]
    },
    {
     "name": "stdout",
     "output_type": "stream",
     "text": [
      "MoviePy - Done.\n",
      "MoviePy - Writing audio in ./data_mp3/k5xDyG72wHE__ы5.mp3\n"
     ]
    },
    {
     "name": "stderr",
     "output_type": "stream",
     "text": [
      "                                                                                                                       \r"
     ]
    },
    {
     "name": "stdout",
     "output_type": "stream",
     "text": [
      "MoviePy - Done.\n",
      "MoviePy - Writing audio in ./data_mp3/k5xDyG72wHE__ы6.mp3\n"
     ]
    },
    {
     "name": "stderr",
     "output_type": "stream",
     "text": [
      "                                                                                                                       \r"
     ]
    },
    {
     "name": "stdout",
     "output_type": "stream",
     "text": [
      "MoviePy - Done.\n",
      "MoviePy - Writing audio in ./data_mp3/k5xDyG72wHE__ы7.mp3\n"
     ]
    },
    {
     "name": "stderr",
     "output_type": "stream",
     "text": [
      "                                                                                                                       \r"
     ]
    },
    {
     "name": "stdout",
     "output_type": "stream",
     "text": [
      "MoviePy - Done.\n",
      "MoviePy - Writing audio in ./data_mp3/k5xDyG72wHE__ы8.mp3\n"
     ]
    },
    {
     "name": "stderr",
     "output_type": "stream",
     "text": [
      "                                                                                                                       \r"
     ]
    },
    {
     "name": "stdout",
     "output_type": "stream",
     "text": [
      "MoviePy - Done.\n",
      "MoviePy - Writing audio in ./data_mp3/k5xDyG72wHE__ы9.mp3\n"
     ]
    },
    {
     "name": "stderr",
     "output_type": "stream",
     "text": [
      "                                                                                                                       \r"
     ]
    },
    {
     "name": "stdout",
     "output_type": "stream",
     "text": [
      "MoviePy - Done.\n",
      "MoviePy - Writing audio in ./data_mp3/k5xDyG72wHE__ы10.mp3\n"
     ]
    },
    {
     "name": "stderr",
     "output_type": "stream",
     "text": [
      "                                                                                                                       \r"
     ]
    },
    {
     "name": "stdout",
     "output_type": "stream",
     "text": [
      "MoviePy - Done.\n",
      "MoviePy - Writing audio in ./data_mp3/k5xDyG72wHE__ы11.mp3\n"
     ]
    },
    {
     "name": "stderr",
     "output_type": "stream",
     "text": [
      "                                                                                                                       \r"
     ]
    },
    {
     "name": "stdout",
     "output_type": "stream",
     "text": [
      "MoviePy - Done.\n",
      "MoviePy - Writing audio in ./data_mp3/k5xDyG72wHE__ы12.mp3\n"
     ]
    },
    {
     "name": "stderr",
     "output_type": "stream",
     "text": [
      "                                                                                                                       \r"
     ]
    },
    {
     "name": "stdout",
     "output_type": "stream",
     "text": [
      "MoviePy - Done.\n",
      "MoviePy - Writing audio in ./data_mp3/k5xDyG72wHE__ы13.mp3\n"
     ]
    },
    {
     "name": "stderr",
     "output_type": "stream",
     "text": [
      "                                                                                                                       \r"
     ]
    },
    {
     "name": "stdout",
     "output_type": "stream",
     "text": [
      "MoviePy - Done.\n",
      "MoviePy - Writing audio in ./data_mp3/k5xDyG72wHE__ы14.mp3\n"
     ]
    },
    {
     "name": "stderr",
     "output_type": "stream",
     "text": [
      "                                                                                                                       \r"
     ]
    },
    {
     "name": "stdout",
     "output_type": "stream",
     "text": [
      "MoviePy - Done.\n",
      "MoviePy - Writing audio in ./data_mp3/k5xDyG72wHE__ы15.mp3\n"
     ]
    },
    {
     "name": "stderr",
     "output_type": "stream",
     "text": [
      "                                                                                                                       \r"
     ]
    },
    {
     "name": "stdout",
     "output_type": "stream",
     "text": [
      "MoviePy - Done.\n",
      "MoviePy - Writing audio in ./data_mp3/k5xDyG72wHE__ы16.mp3\n"
     ]
    },
    {
     "name": "stderr",
     "output_type": "stream",
     "text": [
      "                                                                                                                       \r"
     ]
    },
    {
     "name": "stdout",
     "output_type": "stream",
     "text": [
      "MoviePy - Done.\n",
      "MoviePy - Writing audio in ./data_mp3/k5xDyG72wHE__ы17.mp3\n"
     ]
    },
    {
     "name": "stderr",
     "output_type": "stream",
     "text": [
      "                                                                                                                       \r"
     ]
    },
    {
     "name": "stdout",
     "output_type": "stream",
     "text": [
      "MoviePy - Done.\n",
      "MoviePy - Writing audio in ./data_mp3/k5xDyG72wHE__ы18.mp3\n"
     ]
    },
    {
     "name": "stderr",
     "output_type": "stream",
     "text": [
      "                                                                                                                       \r"
     ]
    },
    {
     "name": "stdout",
     "output_type": "stream",
     "text": [
      "MoviePy - Done.\n",
      "MoviePy - Writing audio in ./data_mp3/k5xDyG72wHE__ы19.mp3\n"
     ]
    },
    {
     "name": "stderr",
     "output_type": "stream",
     "text": [
      "                                                                                                                       \r"
     ]
    },
    {
     "name": "stdout",
     "output_type": "stream",
     "text": [
      "MoviePy - Done.\n",
      "MoviePy - Writing audio in ./data_mp3/k5xDyG72wHE__ы20.mp3\n"
     ]
    },
    {
     "name": "stderr",
     "output_type": "stream",
     "text": [
      "                                                                                                                       \r"
     ]
    },
    {
     "name": "stdout",
     "output_type": "stream",
     "text": [
      "MoviePy - Done.\n",
      "MoviePy - Writing audio in ./data_mp3/k5xDyG72wHE__ы21.mp3\n"
     ]
    },
    {
     "name": "stderr",
     "output_type": "stream",
     "text": [
      "                                                                                                                       \r"
     ]
    },
    {
     "name": "stdout",
     "output_type": "stream",
     "text": [
      "MoviePy - Done.\n",
      "MoviePy - Writing audio in ./data_mp3/k5xDyG72wHE__ы22.mp3\n"
     ]
    },
    {
     "name": "stderr",
     "output_type": "stream",
     "text": [
      "                                                                                                                       \r"
     ]
    },
    {
     "name": "stdout",
     "output_type": "stream",
     "text": [
      "MoviePy - Done.\n",
      "MoviePy - Writing audio in ./data_mp3/k5xDyG72wHE__ы23.mp3\n"
     ]
    },
    {
     "name": "stderr",
     "output_type": "stream",
     "text": [
      "                                                                                                                       \r"
     ]
    },
    {
     "name": "stdout",
     "output_type": "stream",
     "text": [
      "MoviePy - Done.\n",
      "MoviePy - Writing audio in ./data_mp3/k5xDyG72wHE__ы24.mp3\n"
     ]
    },
    {
     "name": "stderr",
     "output_type": "stream",
     "text": [
      "                                                                                                                       \r"
     ]
    },
    {
     "name": "stdout",
     "output_type": "stream",
     "text": [
      "MoviePy - Done.\n",
      "MoviePy - Writing audio in ./data_mp3/k5xDyG72wHE__ы25.mp3\n"
     ]
    },
    {
     "name": "stderr",
     "output_type": "stream",
     "text": [
      "                                                                                                                       \r"
     ]
    },
    {
     "name": "stdout",
     "output_type": "stream",
     "text": [
      "MoviePy - Done.\n",
      "MoviePy - Writing audio in ./data_mp3/k5xDyG72wHE__ы26.mp3\n"
     ]
    },
    {
     "name": "stderr",
     "output_type": "stream",
     "text": [
      "                                                                                                                       \r"
     ]
    },
    {
     "name": "stdout",
     "output_type": "stream",
     "text": [
      "MoviePy - Done.\n",
      "MoviePy - Writing audio in ./data_mp3/k5xDyG72wHE__ы27.mp3\n"
     ]
    },
    {
     "name": "stderr",
     "output_type": "stream",
     "text": [
      "                                                                                                                       \r"
     ]
    },
    {
     "name": "stdout",
     "output_type": "stream",
     "text": [
      "MoviePy - Done.\n",
      "MoviePy - Writing audio in ./data_mp3/k5xDyG72wHE__ы28.mp3\n"
     ]
    },
    {
     "name": "stderr",
     "output_type": "stream",
     "text": [
      "                                                                                                                       \r"
     ]
    },
    {
     "name": "stdout",
     "output_type": "stream",
     "text": [
      "MoviePy - Done.\n",
      "MoviePy - Writing audio in ./data_mp3/k5xDyG72wHE__ы29.mp3\n"
     ]
    },
    {
     "name": "stderr",
     "output_type": "stream",
     "text": [
      "                                                                                                                       \r"
     ]
    },
    {
     "name": "stdout",
     "output_type": "stream",
     "text": [
      "MoviePy - Done.\n",
      "MoviePy - Writing audio in ./data_mp3/k5xDyG72wHE__ы30.mp3\n"
     ]
    },
    {
     "name": "stderr",
     "output_type": "stream",
     "text": [
      "                                                                                                                       \r"
     ]
    },
    {
     "name": "stdout",
     "output_type": "stream",
     "text": [
      "MoviePy - Done.\n",
      "MoviePy - Writing audio in ./data_mp3/k5xDyG72wHE__ы31.mp3\n"
     ]
    },
    {
     "name": "stderr",
     "output_type": "stream",
     "text": [
      "                                                                                                                       \r"
     ]
    },
    {
     "name": "stdout",
     "output_type": "stream",
     "text": [
      "MoviePy - Done.\n",
      "MoviePy - Writing audio in ./data_mp3/k5xDyG72wHE__ы32.mp3\n"
     ]
    },
    {
     "name": "stderr",
     "output_type": "stream",
     "text": [
      "                                                                                                                       \r"
     ]
    },
    {
     "name": "stdout",
     "output_type": "stream",
     "text": [
      "MoviePy - Done.\n",
      "MoviePy - Writing audio in ./data_mp3/k5xDyG72wHE__ы33.mp3\n"
     ]
    },
    {
     "name": "stderr",
     "output_type": "stream",
     "text": [
      "                                                                                                                       \r"
     ]
    },
    {
     "name": "stdout",
     "output_type": "stream",
     "text": [
      "MoviePy - Done.\n",
      "MoviePy - Writing audio in ./data_mp3/k5xDyG72wHE__ы34.mp3\n"
     ]
    },
    {
     "name": "stderr",
     "output_type": "stream",
     "text": [
      "                                                                                                                       \r"
     ]
    },
    {
     "name": "stdout",
     "output_type": "stream",
     "text": [
      "MoviePy - Done.\n",
      "MoviePy - Writing audio in ./data_mp3/k5xDyG72wHE__ы35.mp3\n"
     ]
    },
    {
     "name": "stderr",
     "output_type": "stream",
     "text": [
      "                                                                                                                       \r"
     ]
    },
    {
     "name": "stdout",
     "output_type": "stream",
     "text": [
      "MoviePy - Done.\n",
      "MoviePy - Writing audio in ./data_mp3/k5xDyG72wHE__ы36.mp3\n"
     ]
    },
    {
     "name": "stderr",
     "output_type": "stream",
     "text": [
      "                                                                                                                       \r"
     ]
    },
    {
     "name": "stdout",
     "output_type": "stream",
     "text": [
      "MoviePy - Done.\n",
      "kvAd76GacPg\n",
      "MoviePy - Writing audio in ./data_mp3/kvAd76GacPg.mp3\n"
     ]
    },
    {
     "name": "stderr",
     "output_type": "stream",
     "text": [
      "                                                                                                                       \r"
     ]
    },
    {
     "name": "stdout",
     "output_type": "stream",
     "text": [
      "MoviePy - Done.\n",
      "kWam-Hh2lxE\n",
      "MoviePy - Writing audio in ./data_mp3/kWam-Hh2lxE__ы1.mp3\n"
     ]
    },
    {
     "name": "stderr",
     "output_type": "stream",
     "text": [
      "                                                                                                                       \r"
     ]
    },
    {
     "name": "stdout",
     "output_type": "stream",
     "text": [
      "MoviePy - Done.\n",
      "MoviePy - Writing audio in ./data_mp3/kWam-Hh2lxE__ы2.mp3\n"
     ]
    },
    {
     "name": "stderr",
     "output_type": "stream",
     "text": [
      "                                                                                                                       \r"
     ]
    },
    {
     "name": "stdout",
     "output_type": "stream",
     "text": [
      "MoviePy - Done.\n",
      "MoviePy - Writing audio in ./data_mp3/kWam-Hh2lxE__ы3.mp3\n"
     ]
    },
    {
     "name": "stderr",
     "output_type": "stream",
     "text": [
      "                                                                                                                       \r"
     ]
    },
    {
     "name": "stdout",
     "output_type": "stream",
     "text": [
      "MoviePy - Done.\n",
      "MoviePy - Writing audio in ./data_mp3/kWam-Hh2lxE__ы4.mp3\n"
     ]
    },
    {
     "name": "stderr",
     "output_type": "stream",
     "text": [
      "                                                                                                                       \r"
     ]
    },
    {
     "name": "stdout",
     "output_type": "stream",
     "text": [
      "MoviePy - Done.\n",
      "MoviePy - Writing audio in ./data_mp3/kWam-Hh2lxE__ы5.mp3\n"
     ]
    },
    {
     "name": "stderr",
     "output_type": "stream",
     "text": [
      "                                                                                                                       \r"
     ]
    },
    {
     "name": "stdout",
     "output_type": "stream",
     "text": [
      "MoviePy - Done.\n",
      "MoviePy - Writing audio in ./data_mp3/kWam-Hh2lxE__ы6.mp3\n"
     ]
    },
    {
     "name": "stderr",
     "output_type": "stream",
     "text": [
      "                                                                                                                       \r"
     ]
    },
    {
     "name": "stdout",
     "output_type": "stream",
     "text": [
      "MoviePy - Done.\n",
      "MoviePy - Writing audio in ./data_mp3/kWam-Hh2lxE__ы7.mp3\n"
     ]
    },
    {
     "name": "stderr",
     "output_type": "stream",
     "text": [
      "                                                                                                                       \r"
     ]
    },
    {
     "name": "stdout",
     "output_type": "stream",
     "text": [
      "MoviePy - Done.\n",
      "MoviePy - Writing audio in ./data_mp3/kWam-Hh2lxE__ы8.mp3\n"
     ]
    },
    {
     "name": "stderr",
     "output_type": "stream",
     "text": [
      "                                                                                                                       \r"
     ]
    },
    {
     "name": "stdout",
     "output_type": "stream",
     "text": [
      "MoviePy - Done.\n",
      "MoviePy - Writing audio in ./data_mp3/kWam-Hh2lxE__ы9.mp3\n"
     ]
    },
    {
     "name": "stderr",
     "output_type": "stream",
     "text": [
      "                                                                                                                       \r"
     ]
    },
    {
     "name": "stdout",
     "output_type": "stream",
     "text": [
      "MoviePy - Done.\n",
      "MoviePy - Writing audio in ./data_mp3/kWam-Hh2lxE__ы10.mp3\n"
     ]
    },
    {
     "name": "stderr",
     "output_type": "stream",
     "text": [
      "                                                                                                                       \r"
     ]
    },
    {
     "name": "stdout",
     "output_type": "stream",
     "text": [
      "MoviePy - Done.\n",
      "MoviePy - Writing audio in ./data_mp3/kWam-Hh2lxE__ы11.mp3\n"
     ]
    },
    {
     "name": "stderr",
     "output_type": "stream",
     "text": [
      "                                                                                                                       \r"
     ]
    },
    {
     "name": "stdout",
     "output_type": "stream",
     "text": [
      "MoviePy - Done.\n",
      "MoviePy - Writing audio in ./data_mp3/kWam-Hh2lxE__ы12.mp3\n"
     ]
    },
    {
     "name": "stderr",
     "output_type": "stream",
     "text": [
      "                                                                                                                       \r"
     ]
    },
    {
     "name": "stdout",
     "output_type": "stream",
     "text": [
      "MoviePy - Done.\n",
      "kyquqw6GeXk\n",
      "MoviePy - Writing audio in ./data_mp3/kyquqw6GeXk.mp3\n"
     ]
    },
    {
     "name": "stderr",
     "output_type": "stream",
     "text": [
      "                                                                                                                       \r"
     ]
    },
    {
     "name": "stdout",
     "output_type": "stream",
     "text": [
      "MoviePy - Done.\n",
      "lhGE5brBvNQ\n",
      "MoviePy - Writing audio in ./data_mp3/lhGE5brBvNQ__ы1.mp3\n"
     ]
    },
    {
     "name": "stderr",
     "output_type": "stream",
     "text": [
      "                                                                                                                       \r"
     ]
    },
    {
     "name": "stdout",
     "output_type": "stream",
     "text": [
      "MoviePy - Done.\n",
      "MoviePy - Writing audio in ./data_mp3/lhGE5brBvNQ__ы2.mp3\n"
     ]
    },
    {
     "name": "stderr",
     "output_type": "stream",
     "text": [
      "                                                                                                                       \r"
     ]
    },
    {
     "name": "stdout",
     "output_type": "stream",
     "text": [
      "MoviePy - Done.\n",
      "MoviePy - Writing audio in ./data_mp3/lhGE5brBvNQ__ы3.mp3\n"
     ]
    },
    {
     "name": "stderr",
     "output_type": "stream",
     "text": [
      "                                                                                                                       \r"
     ]
    },
    {
     "name": "stdout",
     "output_type": "stream",
     "text": [
      "MoviePy - Done.\n",
      "MoviePy - Writing audio in ./data_mp3/lhGE5brBvNQ__ы4.mp3\n"
     ]
    },
    {
     "name": "stderr",
     "output_type": "stream",
     "text": [
      "                                                                                                                       \r"
     ]
    },
    {
     "name": "stdout",
     "output_type": "stream",
     "text": [
      "MoviePy - Done.\n",
      "MoviePy - Writing audio in ./data_mp3/lhGE5brBvNQ__ы5.mp3\n"
     ]
    },
    {
     "name": "stderr",
     "output_type": "stream",
     "text": [
      "                                                                                                                       \r"
     ]
    },
    {
     "name": "stdout",
     "output_type": "stream",
     "text": [
      "MoviePy - Done.\n",
      "MoviePy - Writing audio in ./data_mp3/lhGE5brBvNQ__ы6.mp3\n"
     ]
    },
    {
     "name": "stderr",
     "output_type": "stream",
     "text": [
      "                                                                                                                       \r"
     ]
    },
    {
     "name": "stdout",
     "output_type": "stream",
     "text": [
      "MoviePy - Done.\n",
      "MoviePy - Writing audio in ./data_mp3/lhGE5brBvNQ__ы7.mp3\n"
     ]
    },
    {
     "name": "stderr",
     "output_type": "stream",
     "text": [
      "                                                                                                                       \r"
     ]
    },
    {
     "name": "stdout",
     "output_type": "stream",
     "text": [
      "MoviePy - Done.\n",
      "MoviePy - Writing audio in ./data_mp3/lhGE5brBvNQ__ы8.mp3\n"
     ]
    },
    {
     "name": "stderr",
     "output_type": "stream",
     "text": [
      "                                                                                                                       \r"
     ]
    },
    {
     "name": "stdout",
     "output_type": "stream",
     "text": [
      "MoviePy - Done.\n",
      "MoviePy - Writing audio in ./data_mp3/lhGE5brBvNQ__ы9.mp3\n"
     ]
    },
    {
     "name": "stderr",
     "output_type": "stream",
     "text": [
      "                                                                                                                       \r"
     ]
    },
    {
     "name": "stdout",
     "output_type": "stream",
     "text": [
      "MoviePy - Done.\n",
      "MoviePy - Writing audio in ./data_mp3/lhGE5brBvNQ__ы10.mp3\n"
     ]
    },
    {
     "name": "stderr",
     "output_type": "stream",
     "text": [
      "                                                                                                                       \r"
     ]
    },
    {
     "name": "stdout",
     "output_type": "stream",
     "text": [
      "MoviePy - Done.\n",
      "MoviePy - Writing audio in ./data_mp3/lhGE5brBvNQ__ы11.mp3\n"
     ]
    },
    {
     "name": "stderr",
     "output_type": "stream",
     "text": [
      "                                                                                                                       \r"
     ]
    },
    {
     "name": "stdout",
     "output_type": "stream",
     "text": [
      "MoviePy - Done.\n",
      "MoviePy - Writing audio in ./data_mp3/lhGE5brBvNQ__ы12.mp3\n"
     ]
    },
    {
     "name": "stderr",
     "output_type": "stream",
     "text": [
      "                                                                                                                       \r"
     ]
    },
    {
     "name": "stdout",
     "output_type": "stream",
     "text": [
      "MoviePy - Done.\n",
      "LkoTnDuyrY4\n",
      "MoviePy - Writing audio in ./data_mp3/LkoTnDuyrY4.mp3\n"
     ]
    },
    {
     "name": "stderr",
     "output_type": "stream",
     "text": [
      "                                                                                                                       \r"
     ]
    },
    {
     "name": "stdout",
     "output_type": "stream",
     "text": [
      "MoviePy - Done.\n",
      "LPt1N_ba934\n",
      "MoviePy - Writing audio in ./data_mp3/LPt1N_ba934.mp3\n"
     ]
    },
    {
     "name": "stderr",
     "output_type": "stream",
     "text": [
      "                                                                                                                       \r"
     ]
    },
    {
     "name": "stdout",
     "output_type": "stream",
     "text": [
      "MoviePy - Done.\n",
      "LTkidXJXYTo\n",
      "MoviePy - Writing audio in ./data_mp3/LTkidXJXYTo__ы1.mp3\n"
     ]
    },
    {
     "name": "stderr",
     "output_type": "stream",
     "text": [
      "                                                                                                                       \r"
     ]
    },
    {
     "name": "stdout",
     "output_type": "stream",
     "text": [
      "MoviePy - Done.\n",
      "LzEikWuxUFU\n",
      "MoviePy - Writing audio in ./data_mp3/LzEikWuxUFU.mp3\n"
     ]
    },
    {
     "name": "stderr",
     "output_type": "stream",
     "text": [
      "                                                                                                                       \r"
     ]
    },
    {
     "name": "stdout",
     "output_type": "stream",
     "text": [
      "MoviePy - Done.\n",
      "m1wViPkNq3A\n",
      "MoviePy - Writing audio in ./data_mp3/m1wViPkNq3A.mp3\n"
     ]
    },
    {
     "name": "stderr",
     "output_type": "stream",
     "text": [
      "                                                                                                                       \r"
     ]
    },
    {
     "name": "stdout",
     "output_type": "stream",
     "text": [
      "MoviePy - Done.\n",
      "MckVEuUh_yI\n",
      "MoviePy - Writing audio in ./data_mp3/MckVEuUh_yI.mp3\n"
     ]
    },
    {
     "name": "stderr",
     "output_type": "stream",
     "text": [
      "                                                                                                                       \r"
     ]
    },
    {
     "name": "stdout",
     "output_type": "stream",
     "text": [
      "MoviePy - Done.\n",
      "mgDDgXgoG30\n",
      "MoviePy - Writing audio in ./data_mp3/mgDDgXgoG30__ы1.mp3\n"
     ]
    },
    {
     "name": "stderr",
     "output_type": "stream",
     "text": [
      "                                                                                                                       \r"
     ]
    },
    {
     "name": "stdout",
     "output_type": "stream",
     "text": [
      "MoviePy - Done.\n",
      "MoviePy - Writing audio in ./data_mp3/mgDDgXgoG30__ы2.mp3\n"
     ]
    },
    {
     "name": "stderr",
     "output_type": "stream",
     "text": [
      "                                                                                                                       \r"
     ]
    },
    {
     "name": "stdout",
     "output_type": "stream",
     "text": [
      "MoviePy - Done.\n",
      "MoviePy - Writing audio in ./data_mp3/mgDDgXgoG30__ы3.mp3\n"
     ]
    },
    {
     "name": "stderr",
     "output_type": "stream",
     "text": [
      "                                                                                                                       \r"
     ]
    },
    {
     "name": "stdout",
     "output_type": "stream",
     "text": [
      "MoviePy - Done.\n",
      "MoviePy - Writing audio in ./data_mp3/mgDDgXgoG30__ы4.mp3\n"
     ]
    },
    {
     "name": "stderr",
     "output_type": "stream",
     "text": [
      "                                                                                                                       \r"
     ]
    },
    {
     "name": "stdout",
     "output_type": "stream",
     "text": [
      "MoviePy - Done.\n",
      "MoviePy - Writing audio in ./data_mp3/mgDDgXgoG30__ы5.mp3\n"
     ]
    },
    {
     "name": "stderr",
     "output_type": "stream",
     "text": [
      "                                                                                                                       \r"
     ]
    },
    {
     "name": "stdout",
     "output_type": "stream",
     "text": [
      "MoviePy - Done.\n",
      "MoviePy - Writing audio in ./data_mp3/mgDDgXgoG30__ы6.mp3\n"
     ]
    },
    {
     "name": "stderr",
     "output_type": "stream",
     "text": [
      "                                                                                                                       \r"
     ]
    },
    {
     "name": "stdout",
     "output_type": "stream",
     "text": [
      "MoviePy - Done.\n",
      "MoviePy - Writing audio in ./data_mp3/mgDDgXgoG30__ы7.mp3\n"
     ]
    },
    {
     "name": "stderr",
     "output_type": "stream",
     "text": [
      "                                                                                                                       \r"
     ]
    },
    {
     "name": "stdout",
     "output_type": "stream",
     "text": [
      "MoviePy - Done.\n",
      "MoviePy - Writing audio in ./data_mp3/mgDDgXgoG30__ы8.mp3\n"
     ]
    },
    {
     "name": "stderr",
     "output_type": "stream",
     "text": [
      "                                                                                                                       \r"
     ]
    },
    {
     "name": "stdout",
     "output_type": "stream",
     "text": [
      "MoviePy - Done.\n",
      "MoviePy - Writing audio in ./data_mp3/mgDDgXgoG30__ы9.mp3\n"
     ]
    },
    {
     "name": "stderr",
     "output_type": "stream",
     "text": [
      "                                                                                                                       \r"
     ]
    },
    {
     "name": "stdout",
     "output_type": "stream",
     "text": [
      "MoviePy - Done.\n",
      "NhrV6H78CCc\n",
      "MoviePy - Writing audio in ./data_mp3/NhrV6H78CCc__ы1.mp3\n"
     ]
    },
    {
     "name": "stderr",
     "output_type": "stream",
     "text": [
      "                                                                                                                       \r"
     ]
    },
    {
     "name": "stdout",
     "output_type": "stream",
     "text": [
      "MoviePy - Done.\n",
      "MoviePy - Writing audio in ./data_mp3/NhrV6H78CCc__ы2.mp3\n"
     ]
    },
    {
     "name": "stderr",
     "output_type": "stream",
     "text": [
      "                                                                                                                       \r"
     ]
    },
    {
     "name": "stdout",
     "output_type": "stream",
     "text": [
      "MoviePy - Done.\n",
      "MoviePy - Writing audio in ./data_mp3/NhrV6H78CCc__ы3.mp3\n"
     ]
    },
    {
     "name": "stderr",
     "output_type": "stream",
     "text": [
      "                                                                                                                       \r"
     ]
    },
    {
     "name": "stdout",
     "output_type": "stream",
     "text": [
      "MoviePy - Done.\n",
      "MoviePy - Writing audio in ./data_mp3/NhrV6H78CCc__ы4.mp3\n"
     ]
    },
    {
     "name": "stderr",
     "output_type": "stream",
     "text": [
      "                                                                                                                       \r"
     ]
    },
    {
     "name": "stdout",
     "output_type": "stream",
     "text": [
      "MoviePy - Done.\n",
      "MoviePy - Writing audio in ./data_mp3/NhrV6H78CCc__ы5.mp3\n"
     ]
    },
    {
     "name": "stderr",
     "output_type": "stream",
     "text": [
      "                                                                                                                       \r"
     ]
    },
    {
     "name": "stdout",
     "output_type": "stream",
     "text": [
      "MoviePy - Done.\n",
      "MoviePy - Writing audio in ./data_mp3/NhrV6H78CCc__ы6.mp3\n"
     ]
    },
    {
     "name": "stderr",
     "output_type": "stream",
     "text": [
      "                                                                                                                       \r"
     ]
    },
    {
     "name": "stdout",
     "output_type": "stream",
     "text": [
      "MoviePy - Done.\n",
      "MoviePy - Writing audio in ./data_mp3/NhrV6H78CCc__ы7.mp3\n"
     ]
    },
    {
     "name": "stderr",
     "output_type": "stream",
     "text": [
      "                                                                                                                       \r"
     ]
    },
    {
     "name": "stdout",
     "output_type": "stream",
     "text": [
      "MoviePy - Done.\n",
      "MoviePy - Writing audio in ./data_mp3/NhrV6H78CCc__ы8.mp3\n"
     ]
    },
    {
     "name": "stderr",
     "output_type": "stream",
     "text": [
      "                                                                                                                       \r"
     ]
    },
    {
     "name": "stdout",
     "output_type": "stream",
     "text": [
      "MoviePy - Done.\n",
      "MoviePy - Writing audio in ./data_mp3/NhrV6H78CCc__ы9.mp3\n"
     ]
    },
    {
     "name": "stderr",
     "output_type": "stream",
     "text": [
      "                                                                                                                       \r"
     ]
    },
    {
     "name": "stdout",
     "output_type": "stream",
     "text": [
      "MoviePy - Done.\n",
      "MoviePy - Writing audio in ./data_mp3/NhrV6H78CCc__ы10.mp3\n"
     ]
    },
    {
     "name": "stderr",
     "output_type": "stream",
     "text": [
      "                                                                                                                       \r"
     ]
    },
    {
     "name": "stdout",
     "output_type": "stream",
     "text": [
      "MoviePy - Done.\n",
      "MoviePy - Writing audio in ./data_mp3/NhrV6H78CCc__ы11.mp3\n"
     ]
    },
    {
     "name": "stderr",
     "output_type": "stream",
     "text": [
      "                                                                                                                       \r"
     ]
    },
    {
     "name": "stdout",
     "output_type": "stream",
     "text": [
      "MoviePy - Done.\n",
      "MoviePy - Writing audio in ./data_mp3/NhrV6H78CCc__ы12.mp3\n"
     ]
    },
    {
     "name": "stderr",
     "output_type": "stream",
     "text": [
      "                                                                                                                       \r"
     ]
    },
    {
     "name": "stdout",
     "output_type": "stream",
     "text": [
      "MoviePy - Done.\n",
      "MoviePy - Writing audio in ./data_mp3/NhrV6H78CCc__ы13.mp3\n"
     ]
    },
    {
     "name": "stderr",
     "output_type": "stream",
     "text": [
      "                                                                                                                       \r"
     ]
    },
    {
     "name": "stdout",
     "output_type": "stream",
     "text": [
      "MoviePy - Done.\n",
      "MoviePy - Writing audio in ./data_mp3/NhrV6H78CCc__ы14.mp3\n"
     ]
    },
    {
     "name": "stderr",
     "output_type": "stream",
     "text": [
      "                                                                                                                       \r"
     ]
    },
    {
     "name": "stdout",
     "output_type": "stream",
     "text": [
      "MoviePy - Done.\n",
      "MoviePy - Writing audio in ./data_mp3/NhrV6H78CCc__ы15.mp3\n"
     ]
    },
    {
     "name": "stderr",
     "output_type": "stream",
     "text": [
      "                                                                                                                       \r"
     ]
    },
    {
     "name": "stdout",
     "output_type": "stream",
     "text": [
      "MoviePy - Done.\n",
      "MoviePy - Writing audio in ./data_mp3/NhrV6H78CCc__ы16.mp3\n"
     ]
    },
    {
     "name": "stderr",
     "output_type": "stream",
     "text": [
      "                                                                                                                       \r"
     ]
    },
    {
     "name": "stdout",
     "output_type": "stream",
     "text": [
      "MoviePy - Done.\n",
      "MoviePy - Writing audio in ./data_mp3/NhrV6H78CCc__ы17.mp3\n"
     ]
    },
    {
     "name": "stderr",
     "output_type": "stream",
     "text": [
      "                                                                                                                       \r"
     ]
    },
    {
     "name": "stdout",
     "output_type": "stream",
     "text": [
      "MoviePy - Done.\n",
      "MoviePy - Writing audio in ./data_mp3/NhrV6H78CCc__ы18.mp3\n"
     ]
    },
    {
     "name": "stderr",
     "output_type": "stream",
     "text": [
      "                                                                                                                       \r"
     ]
    },
    {
     "name": "stdout",
     "output_type": "stream",
     "text": [
      "MoviePy - Done.\n",
      "MoviePy - Writing audio in ./data_mp3/NhrV6H78CCc__ы19.mp3\n"
     ]
    },
    {
     "name": "stderr",
     "output_type": "stream",
     "text": [
      "                                                                                                                       \r"
     ]
    },
    {
     "name": "stdout",
     "output_type": "stream",
     "text": [
      "MoviePy - Done.\n",
      "MoviePy - Writing audio in ./data_mp3/NhrV6H78CCc__ы20.mp3\n"
     ]
    },
    {
     "name": "stderr",
     "output_type": "stream",
     "text": [
      "                                                                                                                       \r"
     ]
    },
    {
     "name": "stdout",
     "output_type": "stream",
     "text": [
      "MoviePy - Done.\n",
      "MoviePy - Writing audio in ./data_mp3/NhrV6H78CCc__ы21.mp3\n"
     ]
    },
    {
     "name": "stderr",
     "output_type": "stream",
     "text": [
      "                                                                                                                       \r"
     ]
    },
    {
     "name": "stdout",
     "output_type": "stream",
     "text": [
      "MoviePy - Done.\n",
      "MoviePy - Writing audio in ./data_mp3/NhrV6H78CCc__ы22.mp3\n"
     ]
    },
    {
     "name": "stderr",
     "output_type": "stream",
     "text": [
      "                                                                                                                       \r"
     ]
    },
    {
     "name": "stdout",
     "output_type": "stream",
     "text": [
      "MoviePy - Done.\n",
      "MoviePy - Writing audio in ./data_mp3/NhrV6H78CCc__ы23.mp3\n"
     ]
    },
    {
     "name": "stderr",
     "output_type": "stream",
     "text": [
      "                                                                                                                       \r"
     ]
    },
    {
     "name": "stdout",
     "output_type": "stream",
     "text": [
      "MoviePy - Done.\n",
      "MoviePy - Writing audio in ./data_mp3/NhrV6H78CCc__ы24.mp3\n"
     ]
    },
    {
     "name": "stderr",
     "output_type": "stream",
     "text": [
      "                                                                                                                       \r"
     ]
    },
    {
     "name": "stdout",
     "output_type": "stream",
     "text": [
      "MoviePy - Done.\n",
      "nvMlrVdTsao\n",
      "MoviePy - Writing audio in ./data_mp3/nvMlrVdTsao.mp3\n"
     ]
    },
    {
     "name": "stderr",
     "output_type": "stream",
     "text": [
      "                                                                                                                       \r"
     ]
    },
    {
     "name": "stdout",
     "output_type": "stream",
     "text": [
      "MoviePy - Done.\n",
      "NwfODOAY0iY\n",
      "MoviePy - Writing audio in ./data_mp3/NwfODOAY0iY.mp3\n"
     ]
    },
    {
     "name": "stderr",
     "output_type": "stream",
     "text": [
      "                                                                                                                       \r"
     ]
    },
    {
     "name": "stdout",
     "output_type": "stream",
     "text": [
      "MoviePy - Done.\n",
      "NzgB1MkxBAk\n",
      "MoviePy - Writing audio in ./data_mp3/NzgB1MkxBAk.mp3\n"
     ]
    },
    {
     "name": "stderr",
     "output_type": "stream",
     "text": [
      "                                                                                                                       \r"
     ]
    },
    {
     "name": "stdout",
     "output_type": "stream",
     "text": [
      "MoviePy - Done.\n",
      "OBFA6cr2-6A\n",
      "MoviePy - Writing audio in ./data_mp3/OBFA6cr2-6A.mp3\n"
     ]
    },
    {
     "name": "stderr",
     "output_type": "stream",
     "text": [
      "                                                                                                                       \r"
     ]
    },
    {
     "name": "stdout",
     "output_type": "stream",
     "text": [
      "MoviePy - Done.\n",
      "OcSsojXfGIs\n",
      "MoviePy - Writing audio in ./data_mp3/OcSsojXfGIs.mp3\n"
     ]
    },
    {
     "name": "stderr",
     "output_type": "stream",
     "text": [
      "                                                                                                                       \r"
     ]
    },
    {
     "name": "stdout",
     "output_type": "stream",
     "text": [
      "MoviePy - Done.\n",
      "OCWanch3NBk\n",
      "MoviePy - Writing audio in ./data_mp3/OCWanch3NBk.mp3\n"
     ]
    },
    {
     "name": "stderr",
     "output_type": "stream",
     "text": [
      "                                                                                                                       \r"
     ]
    },
    {
     "name": "stdout",
     "output_type": "stream",
     "text": [
      "MoviePy - Done.\n",
      "oDm0rpvL4A8\n",
      "MoviePy - Writing audio in ./data_mp3/oDm0rpvL4A8.mp3\n"
     ]
    },
    {
     "name": "stderr",
     "output_type": "stream",
     "text": [
      "                                                                                                                       \r"
     ]
    },
    {
     "name": "stdout",
     "output_type": "stream",
     "text": [
      "MoviePy - Done.\n",
      "OepFO4Nisms\n",
      "MoviePy - Writing audio in ./data_mp3/OepFO4Nisms.mp3\n"
     ]
    },
    {
     "name": "stderr",
     "output_type": "stream",
     "text": [
      "                                                                                                                       \r"
     ]
    },
    {
     "name": "stdout",
     "output_type": "stream",
     "text": [
      "MoviePy - Done.\n",
      "oNjq8SUArRU\n",
      "MoviePy - Writing audio in ./data_mp3/oNjq8SUArRU__ы1.mp3\n"
     ]
    },
    {
     "name": "stderr",
     "output_type": "stream",
     "text": [
      "                                                                                                                       \r"
     ]
    },
    {
     "name": "stdout",
     "output_type": "stream",
     "text": [
      "MoviePy - Done.\n",
      "MoviePy - Writing audio in ./data_mp3/oNjq8SUArRU__ы2.mp3\n"
     ]
    },
    {
     "name": "stderr",
     "output_type": "stream",
     "text": [
      "                                                                                                                       \r"
     ]
    },
    {
     "name": "stdout",
     "output_type": "stream",
     "text": [
      "MoviePy - Done.\n",
      "MoviePy - Writing audio in ./data_mp3/oNjq8SUArRU__ы3.mp3\n"
     ]
    },
    {
     "name": "stderr",
     "output_type": "stream",
     "text": [
      "                                                                                                                       \r"
     ]
    },
    {
     "name": "stdout",
     "output_type": "stream",
     "text": [
      "MoviePy - Done.\n",
      "MoviePy - Writing audio in ./data_mp3/oNjq8SUArRU__ы4.mp3\n"
     ]
    },
    {
     "name": "stderr",
     "output_type": "stream",
     "text": [
      "                                                                                                                       \r"
     ]
    },
    {
     "name": "stdout",
     "output_type": "stream",
     "text": [
      "MoviePy - Done.\n",
      "MoviePy - Writing audio in ./data_mp3/oNjq8SUArRU__ы5.mp3\n"
     ]
    },
    {
     "name": "stderr",
     "output_type": "stream",
     "text": [
      "                                                                                                                       \r"
     ]
    },
    {
     "name": "stdout",
     "output_type": "stream",
     "text": [
      "MoviePy - Done.\n",
      "MoviePy - Writing audio in ./data_mp3/oNjq8SUArRU__ы6.mp3\n"
     ]
    },
    {
     "name": "stderr",
     "output_type": "stream",
     "text": [
      "                                                                                                                       \r"
     ]
    },
    {
     "name": "stdout",
     "output_type": "stream",
     "text": [
      "MoviePy - Done.\n",
      "MoviePy - Writing audio in ./data_mp3/oNjq8SUArRU__ы7.mp3\n"
     ]
    },
    {
     "name": "stderr",
     "output_type": "stream",
     "text": [
      "                                                                                                                       \r"
     ]
    },
    {
     "name": "stdout",
     "output_type": "stream",
     "text": [
      "MoviePy - Done.\n",
      "MoviePy - Writing audio in ./data_mp3/oNjq8SUArRU__ы8.mp3\n"
     ]
    },
    {
     "name": "stderr",
     "output_type": "stream",
     "text": [
      "                                                                                                                       \r"
     ]
    },
    {
     "name": "stdout",
     "output_type": "stream",
     "text": [
      "MoviePy - Done.\n",
      "p9aUfwgkoc4\n",
      "MoviePy - Writing audio in ./data_mp3/p9aUfwgkoc4.mp3\n"
     ]
    },
    {
     "name": "stderr",
     "output_type": "stream",
     "text": [
      "                                                                                                                       \r"
     ]
    },
    {
     "name": "stdout",
     "output_type": "stream",
     "text": [
      "MoviePy - Done.\n",
      "PAmhPY5szZ8\n",
      "MoviePy - Writing audio in ./data_mp3/PAmhPY5szZ8__ы1.mp3\n"
     ]
    },
    {
     "name": "stderr",
     "output_type": "stream",
     "text": [
      "                                                                                                                       \r"
     ]
    },
    {
     "name": "stdout",
     "output_type": "stream",
     "text": [
      "MoviePy - Done.\n",
      "MoviePy - Writing audio in ./data_mp3/PAmhPY5szZ8__ы2.mp3\n"
     ]
    },
    {
     "name": "stderr",
     "output_type": "stream",
     "text": [
      "                                                                                                                       \r"
     ]
    },
    {
     "name": "stdout",
     "output_type": "stream",
     "text": [
      "MoviePy - Done.\n",
      "MoviePy - Writing audio in ./data_mp3/PAmhPY5szZ8__ы3.mp3\n"
     ]
    },
    {
     "name": "stderr",
     "output_type": "stream",
     "text": [
      "                                                                                                                       \r"
     ]
    },
    {
     "name": "stdout",
     "output_type": "stream",
     "text": [
      "MoviePy - Done.\n",
      "MoviePy - Writing audio in ./data_mp3/PAmhPY5szZ8__ы4.mp3\n"
     ]
    },
    {
     "name": "stderr",
     "output_type": "stream",
     "text": [
      "                                                                                                                       \r"
     ]
    },
    {
     "name": "stdout",
     "output_type": "stream",
     "text": [
      "MoviePy - Done.\n",
      "MoviePy - Writing audio in ./data_mp3/PAmhPY5szZ8__ы5.mp3\n"
     ]
    },
    {
     "name": "stderr",
     "output_type": "stream",
     "text": [
      "                                                                                                                       \r"
     ]
    },
    {
     "name": "stdout",
     "output_type": "stream",
     "text": [
      "MoviePy - Done.\n",
      "MoviePy - Writing audio in ./data_mp3/PAmhPY5szZ8__ы6.mp3\n"
     ]
    },
    {
     "name": "stderr",
     "output_type": "stream",
     "text": [
      "                                                                                                                       \r"
     ]
    },
    {
     "name": "stdout",
     "output_type": "stream",
     "text": [
      "MoviePy - Done.\n",
      "MoviePy - Writing audio in ./data_mp3/PAmhPY5szZ8__ы7.mp3\n"
     ]
    },
    {
     "name": "stderr",
     "output_type": "stream",
     "text": [
      "                                                                                                                       \r"
     ]
    },
    {
     "name": "stdout",
     "output_type": "stream",
     "text": [
      "MoviePy - Done.\n",
      "MoviePy - Writing audio in ./data_mp3/PAmhPY5szZ8__ы8.mp3\n"
     ]
    },
    {
     "name": "stderr",
     "output_type": "stream",
     "text": [
      "                                                                                                                       \r"
     ]
    },
    {
     "name": "stdout",
     "output_type": "stream",
     "text": [
      "MoviePy - Done.\n",
      "MoviePy - Writing audio in ./data_mp3/PAmhPY5szZ8__ы9.mp3\n"
     ]
    },
    {
     "name": "stderr",
     "output_type": "stream",
     "text": [
      "                                                                                                                       \r"
     ]
    },
    {
     "name": "stdout",
     "output_type": "stream",
     "text": [
      "MoviePy - Done.\n",
      "MoviePy - Writing audio in ./data_mp3/PAmhPY5szZ8__ы10.mp3\n"
     ]
    },
    {
     "name": "stderr",
     "output_type": "stream",
     "text": [
      "                                                                                                                       \r"
     ]
    },
    {
     "name": "stdout",
     "output_type": "stream",
     "text": [
      "MoviePy - Done.\n",
      "MoviePy - Writing audio in ./data_mp3/PAmhPY5szZ8__ы11.mp3\n"
     ]
    },
    {
     "name": "stderr",
     "output_type": "stream",
     "text": [
      "                                                                                                                       \r"
     ]
    },
    {
     "name": "stdout",
     "output_type": "stream",
     "text": [
      "MoviePy - Done.\n",
      "MoviePy - Writing audio in ./data_mp3/PAmhPY5szZ8__ы12.mp3\n"
     ]
    },
    {
     "name": "stderr",
     "output_type": "stream",
     "text": [
      "                                                                                                                       \r"
     ]
    },
    {
     "name": "stdout",
     "output_type": "stream",
     "text": [
      "MoviePy - Done.\n",
      "MoviePy - Writing audio in ./data_mp3/PAmhPY5szZ8__ы13.mp3\n"
     ]
    },
    {
     "name": "stderr",
     "output_type": "stream",
     "text": [
      "                                                                                                                       \r"
     ]
    },
    {
     "name": "stdout",
     "output_type": "stream",
     "text": [
      "MoviePy - Done.\n",
      "PGNiXGX2nLU\n",
      "MoviePy - Writing audio in ./data_mp3/PGNiXGX2nLU.mp3\n"
     ]
    },
    {
     "name": "stderr",
     "output_type": "stream",
     "text": [
      "                                                                                                                       \r"
     ]
    },
    {
     "name": "stdout",
     "output_type": "stream",
     "text": [
      "MoviePy - Done.\n",
      "PLe3pznz9oM\n",
      "MoviePy - Writing audio in ./data_mp3/PLe3pznz9oM__ы1.mp3\n"
     ]
    },
    {
     "name": "stderr",
     "output_type": "stream",
     "text": [
      "                                                                                                                       \r"
     ]
    },
    {
     "name": "stdout",
     "output_type": "stream",
     "text": [
      "MoviePy - Done.\n",
      "pOpG9xyjsDY\n",
      "MoviePy - Writing audio in ./data_mp3/pOpG9xyjsDY.mp3\n"
     ]
    },
    {
     "name": "stderr",
     "output_type": "stream",
     "text": [
      "                                                                                                                       \r"
     ]
    },
    {
     "name": "stdout",
     "output_type": "stream",
     "text": [
      "MoviePy - Done.\n",
      "pT-RkWoRcJg\n",
      "MoviePy - Writing audio in ./data_mp3/pT-RkWoRcJg__ы1.mp3\n"
     ]
    },
    {
     "name": "stderr",
     "output_type": "stream",
     "text": [
      "                                                                                                                       \r"
     ]
    },
    {
     "name": "stdout",
     "output_type": "stream",
     "text": [
      "MoviePy - Done.\n",
      "MoviePy - Writing audio in ./data_mp3/pT-RkWoRcJg__ы2.mp3\n"
     ]
    },
    {
     "name": "stderr",
     "output_type": "stream",
     "text": [
      "                                                                                                                       \r"
     ]
    },
    {
     "name": "stdout",
     "output_type": "stream",
     "text": [
      "MoviePy - Done.\n",
      "MoviePy - Writing audio in ./data_mp3/pT-RkWoRcJg__ы3.mp3\n"
     ]
    },
    {
     "name": "stderr",
     "output_type": "stream",
     "text": [
      "                                                                                                                       \r"
     ]
    },
    {
     "name": "stdout",
     "output_type": "stream",
     "text": [
      "MoviePy - Done.\n",
      "MoviePy - Writing audio in ./data_mp3/pT-RkWoRcJg__ы4.mp3\n"
     ]
    },
    {
     "name": "stderr",
     "output_type": "stream",
     "text": [
      "                                                                                                                       \r"
     ]
    },
    {
     "name": "stdout",
     "output_type": "stream",
     "text": [
      "MoviePy - Done.\n",
      "MoviePy - Writing audio in ./data_mp3/pT-RkWoRcJg__ы5.mp3\n"
     ]
    },
    {
     "name": "stderr",
     "output_type": "stream",
     "text": [
      "                                                                                                                       \r"
     ]
    },
    {
     "name": "stdout",
     "output_type": "stream",
     "text": [
      "MoviePy - Done.\n",
      "MoviePy - Writing audio in ./data_mp3/pT-RkWoRcJg__ы6.mp3\n"
     ]
    },
    {
     "name": "stderr",
     "output_type": "stream",
     "text": [
      "                                                                                                                       \r"
     ]
    },
    {
     "name": "stdout",
     "output_type": "stream",
     "text": [
      "MoviePy - Done.\n",
      "MoviePy - Writing audio in ./data_mp3/pT-RkWoRcJg__ы7.mp3\n"
     ]
    },
    {
     "name": "stderr",
     "output_type": "stream",
     "text": [
      "                                                                                                                       \r"
     ]
    },
    {
     "name": "stdout",
     "output_type": "stream",
     "text": [
      "MoviePy - Done.\n",
      "MoviePy - Writing audio in ./data_mp3/pT-RkWoRcJg__ы8.mp3\n"
     ]
    },
    {
     "name": "stderr",
     "output_type": "stream",
     "text": [
      "                                                                                                                       \r"
     ]
    },
    {
     "name": "stdout",
     "output_type": "stream",
     "text": [
      "MoviePy - Done.\n",
      "MoviePy - Writing audio in ./data_mp3/pT-RkWoRcJg__ы9.mp3\n"
     ]
    },
    {
     "name": "stderr",
     "output_type": "stream",
     "text": [
      "                                                                                                                       \r"
     ]
    },
    {
     "name": "stdout",
     "output_type": "stream",
     "text": [
      "MoviePy - Done.\n",
      "QlXrndlCFIk\n",
      "MoviePy - Writing audio in ./data_mp3/QlXrndlCFIk__ы1.mp3\n"
     ]
    },
    {
     "name": "stderr",
     "output_type": "stream",
     "text": [
      "                                                                                                                       \r"
     ]
    },
    {
     "name": "stdout",
     "output_type": "stream",
     "text": [
      "MoviePy - Done.\n",
      "MoviePy - Writing audio in ./data_mp3/QlXrndlCFIk__ы2.mp3\n"
     ]
    },
    {
     "name": "stderr",
     "output_type": "stream",
     "text": [
      "                                                                                                                       \r"
     ]
    },
    {
     "name": "stdout",
     "output_type": "stream",
     "text": [
      "MoviePy - Done.\n",
      "MoviePy - Writing audio in ./data_mp3/QlXrndlCFIk__ы3.mp3\n"
     ]
    },
    {
     "name": "stderr",
     "output_type": "stream",
     "text": [
      "                                                                                                                       \r"
     ]
    },
    {
     "name": "stdout",
     "output_type": "stream",
     "text": [
      "MoviePy - Done.\n",
      "MoviePy - Writing audio in ./data_mp3/QlXrndlCFIk__ы4.mp3\n"
     ]
    },
    {
     "name": "stderr",
     "output_type": "stream",
     "text": [
      "                                                                                                                       \r"
     ]
    },
    {
     "name": "stdout",
     "output_type": "stream",
     "text": [
      "MoviePy - Done.\n",
      "MoviePy - Writing audio in ./data_mp3/QlXrndlCFIk__ы5.mp3\n"
     ]
    },
    {
     "name": "stderr",
     "output_type": "stream",
     "text": [
      "                                                                                                                       \r"
     ]
    },
    {
     "name": "stdout",
     "output_type": "stream",
     "text": [
      "MoviePy - Done.\n",
      "MoviePy - Writing audio in ./data_mp3/QlXrndlCFIk__ы6.mp3\n"
     ]
    },
    {
     "name": "stderr",
     "output_type": "stream",
     "text": [
      "                                                                                                                       \r"
     ]
    },
    {
     "name": "stdout",
     "output_type": "stream",
     "text": [
      "MoviePy - Done.\n",
      "MoviePy - Writing audio in ./data_mp3/QlXrndlCFIk__ы7.mp3\n"
     ]
    },
    {
     "name": "stderr",
     "output_type": "stream",
     "text": [
      "                                                                                                                       \r"
     ]
    },
    {
     "name": "stdout",
     "output_type": "stream",
     "text": [
      "MoviePy - Done.\n",
      "MoviePy - Writing audio in ./data_mp3/QlXrndlCFIk__ы8.mp3\n"
     ]
    },
    {
     "name": "stderr",
     "output_type": "stream",
     "text": [
      "                                                                                                                       \r"
     ]
    },
    {
     "name": "stdout",
     "output_type": "stream",
     "text": [
      "MoviePy - Done.\n",
      "MoviePy - Writing audio in ./data_mp3/QlXrndlCFIk__ы9.mp3\n"
     ]
    },
    {
     "name": "stderr",
     "output_type": "stream",
     "text": [
      "                                                                                                                       \r"
     ]
    },
    {
     "name": "stdout",
     "output_type": "stream",
     "text": [
      "MoviePy - Done.\n",
      "MoviePy - Writing audio in ./data_mp3/QlXrndlCFIk__ы10.mp3\n"
     ]
    },
    {
     "name": "stderr",
     "output_type": "stream",
     "text": [
      "                                                                                                                       \r"
     ]
    },
    {
     "name": "stdout",
     "output_type": "stream",
     "text": [
      "MoviePy - Done.\n",
      "MoviePy - Writing audio in ./data_mp3/QlXrndlCFIk__ы11.mp3\n"
     ]
    },
    {
     "name": "stderr",
     "output_type": "stream",
     "text": [
      "                                                                                                                       \r"
     ]
    },
    {
     "name": "stdout",
     "output_type": "stream",
     "text": [
      "MoviePy - Done.\n",
      "MoviePy - Writing audio in ./data_mp3/QlXrndlCFIk__ы12.mp3\n"
     ]
    },
    {
     "name": "stderr",
     "output_type": "stream",
     "text": [
      "                                                                                                                       \r"
     ]
    },
    {
     "name": "stdout",
     "output_type": "stream",
     "text": [
      "MoviePy - Done.\n",
      "QwTiL9-9ezs\n",
      "MoviePy - Writing audio in ./data_mp3/QwTiL9-9ezs.mp3\n"
     ]
    },
    {
     "name": "stderr",
     "output_type": "stream",
     "text": [
      "                                                                                                                       \r"
     ]
    },
    {
     "name": "stdout",
     "output_type": "stream",
     "text": [
      "MoviePy - Done.\n",
      "RwJscjiB0Sc\n",
      "MoviePy - Writing audio in ./data_mp3/RwJscjiB0Sc__ы1.mp3\n"
     ]
    },
    {
     "name": "stderr",
     "output_type": "stream",
     "text": [
      "                                                                                                                       \r"
     ]
    },
    {
     "name": "stdout",
     "output_type": "stream",
     "text": [
      "MoviePy - Done.\n",
      "MoviePy - Writing audio in ./data_mp3/RwJscjiB0Sc__ы2.mp3\n"
     ]
    },
    {
     "name": "stderr",
     "output_type": "stream",
     "text": [
      "                                                                                                                       \r"
     ]
    },
    {
     "name": "stdout",
     "output_type": "stream",
     "text": [
      "MoviePy - Done.\n",
      "MoviePy - Writing audio in ./data_mp3/RwJscjiB0Sc__ы3.mp3\n"
     ]
    },
    {
     "name": "stderr",
     "output_type": "stream",
     "text": [
      "                                                                                                                       \r"
     ]
    },
    {
     "name": "stdout",
     "output_type": "stream",
     "text": [
      "MoviePy - Done.\n",
      "MoviePy - Writing audio in ./data_mp3/RwJscjiB0Sc__ы4.mp3\n"
     ]
    },
    {
     "name": "stderr",
     "output_type": "stream",
     "text": [
      "                                                                                                                       \r"
     ]
    },
    {
     "name": "stdout",
     "output_type": "stream",
     "text": [
      "MoviePy - Done.\n",
      "MoviePy - Writing audio in ./data_mp3/RwJscjiB0Sc__ы5.mp3\n"
     ]
    },
    {
     "name": "stderr",
     "output_type": "stream",
     "text": [
      "                                                                                                                       \r"
     ]
    },
    {
     "name": "stdout",
     "output_type": "stream",
     "text": [
      "MoviePy - Done.\n",
      "Rzs3beBNT9g\n",
      "MoviePy - Writing audio in ./data_mp3/Rzs3beBNT9g.mp3\n"
     ]
    },
    {
     "name": "stderr",
     "output_type": "stream",
     "text": [
      "                                                                                                                       \r"
     ]
    },
    {
     "name": "stdout",
     "output_type": "stream",
     "text": [
      "MoviePy - Done.\n",
      "SG2TUTIFwSE\n",
      "MoviePy - Writing audio in ./data_mp3/SG2TUTIFwSE.mp3\n"
     ]
    },
    {
     "name": "stderr",
     "output_type": "stream",
     "text": [
      "                                                                                                                       \r"
     ]
    },
    {
     "name": "stdout",
     "output_type": "stream",
     "text": [
      "MoviePy - Done.\n",
      "sKqfeWQOOZk\n",
      "MoviePy - Writing audio in ./data_mp3/sKqfeWQOOZk.mp3\n"
     ]
    },
    {
     "name": "stderr",
     "output_type": "stream",
     "text": [
      "                                                                                                                       \r"
     ]
    },
    {
     "name": "stdout",
     "output_type": "stream",
     "text": [
      "MoviePy - Done.\n",
      "SS-9nTMidqY\n",
      "MoviePy - Writing audio in ./data_mp3/SS-9nTMidqY.mp3\n"
     ]
    },
    {
     "name": "stderr",
     "output_type": "stream",
     "text": [
      "                                                                                                                       \r"
     ]
    },
    {
     "name": "stdout",
     "output_type": "stream",
     "text": [
      "MoviePy - Done.\n",
      "st-ZjwCy4uo\n",
      "MoviePy - Writing audio in ./data_mp3/st-ZjwCy4uo__ы1.mp3\n"
     ]
    },
    {
     "name": "stderr",
     "output_type": "stream",
     "text": [
      "                                                                                                                       \r"
     ]
    },
    {
     "name": "stdout",
     "output_type": "stream",
     "text": [
      "MoviePy - Done.\n",
      "MoviePy - Writing audio in ./data_mp3/st-ZjwCy4uo__ы2.mp3\n"
     ]
    },
    {
     "name": "stderr",
     "output_type": "stream",
     "text": [
      "                                                                                                                       \r"
     ]
    },
    {
     "name": "stdout",
     "output_type": "stream",
     "text": [
      "MoviePy - Done.\n",
      "MoviePy - Writing audio in ./data_mp3/st-ZjwCy4uo__ы3.mp3\n"
     ]
    },
    {
     "name": "stderr",
     "output_type": "stream",
     "text": [
      "                                                                                                                       \r"
     ]
    },
    {
     "name": "stdout",
     "output_type": "stream",
     "text": [
      "MoviePy - Done.\n",
      "MoviePy - Writing audio in ./data_mp3/st-ZjwCy4uo__ы4.mp3\n"
     ]
    },
    {
     "name": "stderr",
     "output_type": "stream",
     "text": [
      "                                                                                                                       \r"
     ]
    },
    {
     "name": "stdout",
     "output_type": "stream",
     "text": [
      "MoviePy - Done.\n",
      "MoviePy - Writing audio in ./data_mp3/st-ZjwCy4uo__ы5.mp3\n"
     ]
    },
    {
     "name": "stderr",
     "output_type": "stream",
     "text": [
      "                                                                                                                       \r"
     ]
    },
    {
     "name": "stdout",
     "output_type": "stream",
     "text": [
      "MoviePy - Done.\n",
      "MoviePy - Writing audio in ./data_mp3/st-ZjwCy4uo__ы6.mp3\n"
     ]
    },
    {
     "name": "stderr",
     "output_type": "stream",
     "text": [
      "                                                                                                                       \r"
     ]
    },
    {
     "name": "stdout",
     "output_type": "stream",
     "text": [
      "MoviePy - Done.\n",
      "MoviePy - Writing audio in ./data_mp3/st-ZjwCy4uo__ы7.mp3\n"
     ]
    },
    {
     "name": "stderr",
     "output_type": "stream",
     "text": [
      "                                                                                                                       \r"
     ]
    },
    {
     "name": "stdout",
     "output_type": "stream",
     "text": [
      "MoviePy - Done.\n",
      "MoviePy - Writing audio in ./data_mp3/st-ZjwCy4uo__ы8.mp3\n"
     ]
    },
    {
     "name": "stderr",
     "output_type": "stream",
     "text": [
      "                                                                                                                       \r"
     ]
    },
    {
     "name": "stdout",
     "output_type": "stream",
     "text": [
      "MoviePy - Done.\n",
      "MoviePy - Writing audio in ./data_mp3/st-ZjwCy4uo__ы9.mp3\n"
     ]
    },
    {
     "name": "stderr",
     "output_type": "stream",
     "text": [
      "                                                                                                                       \r"
     ]
    },
    {
     "name": "stdout",
     "output_type": "stream",
     "text": [
      "MoviePy - Done.\n",
      "MoviePy - Writing audio in ./data_mp3/st-ZjwCy4uo__ы10.mp3\n"
     ]
    },
    {
     "name": "stderr",
     "output_type": "stream",
     "text": [
      "                                                                                                                       \r"
     ]
    },
    {
     "name": "stdout",
     "output_type": "stream",
     "text": [
      "MoviePy - Done.\n",
      "MoviePy - Writing audio in ./data_mp3/st-ZjwCy4uo__ы11.mp3\n"
     ]
    },
    {
     "name": "stderr",
     "output_type": "stream",
     "text": [
      "                                                                                                                       \r"
     ]
    },
    {
     "name": "stdout",
     "output_type": "stream",
     "text": [
      "MoviePy - Done.\n",
      "MoviePy - Writing audio in ./data_mp3/st-ZjwCy4uo__ы12.mp3\n"
     ]
    },
    {
     "name": "stderr",
     "output_type": "stream",
     "text": [
      "                                                                                                                       \r"
     ]
    },
    {
     "name": "stdout",
     "output_type": "stream",
     "text": [
      "MoviePy - Done.\n",
      "MoviePy - Writing audio in ./data_mp3/st-ZjwCy4uo__ы13.mp3\n"
     ]
    },
    {
     "name": "stderr",
     "output_type": "stream",
     "text": [
      "                                                                                                                       \r"
     ]
    },
    {
     "name": "stdout",
     "output_type": "stream",
     "text": [
      "MoviePy - Done.\n",
      "MoviePy - Writing audio in ./data_mp3/st-ZjwCy4uo__ы14.mp3\n"
     ]
    },
    {
     "name": "stderr",
     "output_type": "stream",
     "text": [
      "                                                                                                                       \r"
     ]
    },
    {
     "name": "stdout",
     "output_type": "stream",
     "text": [
      "MoviePy - Done.\n",
      "thz_JqagxRU\n",
      "MoviePy - Writing audio in ./data_mp3/thz_JqagxRU__ы1.mp3\n"
     ]
    },
    {
     "name": "stderr",
     "output_type": "stream",
     "text": [
      "                                                                                                                       \r"
     ]
    },
    {
     "name": "stdout",
     "output_type": "stream",
     "text": [
      "MoviePy - Done.\n",
      "TqKFb72EyTM\n",
      "MoviePy - Writing audio in ./data_mp3/TqKFb72EyTM.mp3\n"
     ]
    },
    {
     "name": "stderr",
     "output_type": "stream",
     "text": [
      "                                                                                                                       \r"
     ]
    },
    {
     "name": "stdout",
     "output_type": "stream",
     "text": [
      "MoviePy - Done.\n",
      "u1_KbKR_sng\n",
      "MoviePy - Writing audio in ./data_mp3/u1_KbKR_sng.mp3\n"
     ]
    },
    {
     "name": "stderr",
     "output_type": "stream",
     "text": [
      "                                                                                                                       \r"
     ]
    },
    {
     "name": "stdout",
     "output_type": "stream",
     "text": [
      "MoviePy - Done.\n",
      "u4edBTV5_Uk\n",
      "MoviePy - Writing audio in ./data_mp3/u4edBTV5_Uk.mp3\n"
     ]
    },
    {
     "name": "stderr",
     "output_type": "stream",
     "text": [
      "                                                                                                                       \r"
     ]
    },
    {
     "name": "stdout",
     "output_type": "stream",
     "text": [
      "MoviePy - Done.\n",
      "UnRRb4BCsqE\n",
      "MoviePy - Writing audio in ./data_mp3/UnRRb4BCsqE__ы1.mp3\n"
     ]
    },
    {
     "name": "stderr",
     "output_type": "stream",
     "text": [
      "                                                                                                                       \r"
     ]
    },
    {
     "name": "stdout",
     "output_type": "stream",
     "text": [
      "MoviePy - Done.\n",
      "MoviePy - Writing audio in ./data_mp3/UnRRb4BCsqE__ы2.mp3\n"
     ]
    },
    {
     "name": "stderr",
     "output_type": "stream",
     "text": [
      "                                                                                                                       \r"
     ]
    },
    {
     "name": "stdout",
     "output_type": "stream",
     "text": [
      "MoviePy - Done.\n",
      "MoviePy - Writing audio in ./data_mp3/UnRRb4BCsqE__ы3.mp3\n"
     ]
    },
    {
     "name": "stderr",
     "output_type": "stream",
     "text": [
      "                                                                                                                       \r"
     ]
    },
    {
     "name": "stdout",
     "output_type": "stream",
     "text": [
      "MoviePy - Done.\n",
      "MoviePy - Writing audio in ./data_mp3/UnRRb4BCsqE__ы4.mp3\n"
     ]
    },
    {
     "name": "stderr",
     "output_type": "stream",
     "text": [
      "                                                                                                                       \r"
     ]
    },
    {
     "name": "stdout",
     "output_type": "stream",
     "text": [
      "MoviePy - Done.\n",
      "MoviePy - Writing audio in ./data_mp3/UnRRb4BCsqE__ы5.mp3\n"
     ]
    },
    {
     "name": "stderr",
     "output_type": "stream",
     "text": [
      "                                                                                                                       \r"
     ]
    },
    {
     "name": "stdout",
     "output_type": "stream",
     "text": [
      "MoviePy - Done.\n",
      "MoviePy - Writing audio in ./data_mp3/UnRRb4BCsqE__ы6.mp3\n"
     ]
    },
    {
     "name": "stderr",
     "output_type": "stream",
     "text": [
      "                                                                                                                       \r"
     ]
    },
    {
     "name": "stdout",
     "output_type": "stream",
     "text": [
      "MoviePy - Done.\n",
      "MoviePy - Writing audio in ./data_mp3/UnRRb4BCsqE__ы7.mp3\n"
     ]
    },
    {
     "name": "stderr",
     "output_type": "stream",
     "text": [
      "                                                                                                                       \r"
     ]
    },
    {
     "name": "stdout",
     "output_type": "stream",
     "text": [
      "MoviePy - Done.\n",
      "MoviePy - Writing audio in ./data_mp3/UnRRb4BCsqE__ы8.mp3\n"
     ]
    },
    {
     "name": "stderr",
     "output_type": "stream",
     "text": [
      "                                                                                                                       \r"
     ]
    },
    {
     "name": "stdout",
     "output_type": "stream",
     "text": [
      "MoviePy - Done.\n",
      "MoviePy - Writing audio in ./data_mp3/UnRRb4BCsqE__ы9.mp3\n"
     ]
    },
    {
     "name": "stderr",
     "output_type": "stream",
     "text": [
      "                                                                                                                       \r"
     ]
    },
    {
     "name": "stdout",
     "output_type": "stream",
     "text": [
      "MoviePy - Done.\n",
      "MoviePy - Writing audio in ./data_mp3/UnRRb4BCsqE__ы10.mp3\n"
     ]
    },
    {
     "name": "stderr",
     "output_type": "stream",
     "text": [
      "                                                                                                                       \r"
     ]
    },
    {
     "name": "stdout",
     "output_type": "stream",
     "text": [
      "MoviePy - Done.\n",
      "MoviePy - Writing audio in ./data_mp3/UnRRb4BCsqE__ы11.mp3\n"
     ]
    },
    {
     "name": "stderr",
     "output_type": "stream",
     "text": [
      "                                                                                                                       \r"
     ]
    },
    {
     "name": "stdout",
     "output_type": "stream",
     "text": [
      "MoviePy - Done.\n",
      "MoviePy - Writing audio in ./data_mp3/UnRRb4BCsqE__ы12.mp3\n"
     ]
    },
    {
     "name": "stderr",
     "output_type": "stream",
     "text": [
      "                                                                                                                       \r"
     ]
    },
    {
     "name": "stdout",
     "output_type": "stream",
     "text": [
      "MoviePy - Done.\n",
      "MoviePy - Writing audio in ./data_mp3/UnRRb4BCsqE__ы13.mp3\n"
     ]
    },
    {
     "name": "stderr",
     "output_type": "stream",
     "text": [
      "                                                                                                                       \r"
     ]
    },
    {
     "name": "stdout",
     "output_type": "stream",
     "text": [
      "MoviePy - Done.\n",
      "MoviePy - Writing audio in ./data_mp3/UnRRb4BCsqE__ы14.mp3\n"
     ]
    },
    {
     "name": "stderr",
     "output_type": "stream",
     "text": [
      "                                                                                                                       \r"
     ]
    },
    {
     "name": "stdout",
     "output_type": "stream",
     "text": [
      "MoviePy - Done.\n",
      "MoviePy - Writing audio in ./data_mp3/UnRRb4BCsqE__ы15.mp3\n"
     ]
    },
    {
     "name": "stderr",
     "output_type": "stream",
     "text": [
      "                                                                                                                       \r"
     ]
    },
    {
     "name": "stdout",
     "output_type": "stream",
     "text": [
      "MoviePy - Done.\n",
      "MoviePy - Writing audio in ./data_mp3/UnRRb4BCsqE__ы16.mp3\n"
     ]
    },
    {
     "name": "stderr",
     "output_type": "stream",
     "text": [
      "                                                                                                                       \r"
     ]
    },
    {
     "name": "stdout",
     "output_type": "stream",
     "text": [
      "MoviePy - Done.\n",
      "MoviePy - Writing audio in ./data_mp3/UnRRb4BCsqE__ы17.mp3\n"
     ]
    },
    {
     "name": "stderr",
     "output_type": "stream",
     "text": [
      "                                                                                                                       \r"
     ]
    },
    {
     "name": "stdout",
     "output_type": "stream",
     "text": [
      "MoviePy - Done.\n",
      "MoviePy - Writing audio in ./data_mp3/UnRRb4BCsqE__ы18.mp3\n"
     ]
    },
    {
     "name": "stderr",
     "output_type": "stream",
     "text": [
      "                                                                                                                       \r"
     ]
    },
    {
     "name": "stdout",
     "output_type": "stream",
     "text": [
      "MoviePy - Done.\n",
      "MoviePy - Writing audio in ./data_mp3/UnRRb4BCsqE__ы19.mp3\n"
     ]
    },
    {
     "name": "stderr",
     "output_type": "stream",
     "text": [
      "                                                                                                                       \r"
     ]
    },
    {
     "name": "stdout",
     "output_type": "stream",
     "text": [
      "MoviePy - Done.\n",
      "MoviePy - Writing audio in ./data_mp3/UnRRb4BCsqE__ы20.mp3\n"
     ]
    },
    {
     "name": "stderr",
     "output_type": "stream",
     "text": [
      "                                                                                                                       \r"
     ]
    },
    {
     "name": "stdout",
     "output_type": "stream",
     "text": [
      "MoviePy - Done.\n",
      "MoviePy - Writing audio in ./data_mp3/UnRRb4BCsqE__ы21.mp3\n"
     ]
    },
    {
     "name": "stderr",
     "output_type": "stream",
     "text": [
      "                                                                                                                       \r"
     ]
    },
    {
     "name": "stdout",
     "output_type": "stream",
     "text": [
      "MoviePy - Done.\n",
      "MoviePy - Writing audio in ./data_mp3/UnRRb4BCsqE__ы22.mp3\n"
     ]
    },
    {
     "name": "stderr",
     "output_type": "stream",
     "text": [
      "                                                                                                                       \r"
     ]
    },
    {
     "name": "stdout",
     "output_type": "stream",
     "text": [
      "MoviePy - Done.\n",
      "MoviePy - Writing audio in ./data_mp3/UnRRb4BCsqE__ы23.mp3\n"
     ]
    },
    {
     "name": "stderr",
     "output_type": "stream",
     "text": [
      "                                                                                                                       \r"
     ]
    },
    {
     "name": "stdout",
     "output_type": "stream",
     "text": [
      "MoviePy - Done.\n",
      "MoviePy - Writing audio in ./data_mp3/UnRRb4BCsqE__ы24.mp3\n"
     ]
    },
    {
     "name": "stderr",
     "output_type": "stream",
     "text": [
      "                                                                                                                       \r"
     ]
    },
    {
     "name": "stdout",
     "output_type": "stream",
     "text": [
      "MoviePy - Done.\n",
      "MoviePy - Writing audio in ./data_mp3/UnRRb4BCsqE__ы25.mp3\n"
     ]
    },
    {
     "name": "stderr",
     "output_type": "stream",
     "text": [
      "                                                                                                                       \r"
     ]
    },
    {
     "name": "stdout",
     "output_type": "stream",
     "text": [
      "MoviePy - Done.\n",
      "MoviePy - Writing audio in ./data_mp3/UnRRb4BCsqE__ы26.mp3\n"
     ]
    },
    {
     "name": "stderr",
     "output_type": "stream",
     "text": [
      "                                                                                                                       \r"
     ]
    },
    {
     "name": "stdout",
     "output_type": "stream",
     "text": [
      "MoviePy - Done.\n",
      "MoviePy - Writing audio in ./data_mp3/UnRRb4BCsqE__ы27.mp3\n"
     ]
    },
    {
     "name": "stderr",
     "output_type": "stream",
     "text": [
      "                                                                                                                       \r"
     ]
    },
    {
     "name": "stdout",
     "output_type": "stream",
     "text": [
      "MoviePy - Done.\n",
      "MoviePy - Writing audio in ./data_mp3/UnRRb4BCsqE__ы28.mp3\n"
     ]
    },
    {
     "name": "stderr",
     "output_type": "stream",
     "text": [
      "                                                                                                                       \r"
     ]
    },
    {
     "name": "stdout",
     "output_type": "stream",
     "text": [
      "MoviePy - Done.\n",
      "MoviePy - Writing audio in ./data_mp3/UnRRb4BCsqE__ы29.mp3\n"
     ]
    },
    {
     "name": "stderr",
     "output_type": "stream",
     "text": [
      "                                                                                                                       \r"
     ]
    },
    {
     "name": "stdout",
     "output_type": "stream",
     "text": [
      "MoviePy - Done.\n",
      "MoviePy - Writing audio in ./data_mp3/UnRRb4BCsqE__ы30.mp3\n"
     ]
    },
    {
     "name": "stderr",
     "output_type": "stream",
     "text": [
      "                                                                                                                       \r"
     ]
    },
    {
     "name": "stdout",
     "output_type": "stream",
     "text": [
      "MoviePy - Done.\n",
      "MoviePy - Writing audio in ./data_mp3/UnRRb4BCsqE__ы31.mp3\n"
     ]
    },
    {
     "name": "stderr",
     "output_type": "stream",
     "text": [
      "                                                                                                                       \r"
     ]
    },
    {
     "name": "stdout",
     "output_type": "stream",
     "text": [
      "MoviePy - Done.\n",
      "MoviePy - Writing audio in ./data_mp3/UnRRb4BCsqE__ы32.mp3\n"
     ]
    },
    {
     "name": "stderr",
     "output_type": "stream",
     "text": [
      "                                                                                                                       \r"
     ]
    },
    {
     "name": "stdout",
     "output_type": "stream",
     "text": [
      "MoviePy - Done.\n",
      "MoviePy - Writing audio in ./data_mp3/UnRRb4BCsqE__ы33.mp3\n"
     ]
    },
    {
     "name": "stderr",
     "output_type": "stream",
     "text": [
      "                                                                                                                       \r"
     ]
    },
    {
     "name": "stdout",
     "output_type": "stream",
     "text": [
      "MoviePy - Done.\n",
      "v0nmHymgM7Y\n",
      "MoviePy - Writing audio in ./data_mp3/v0nmHymgM7Y.mp3\n"
     ]
    },
    {
     "name": "stderr",
     "output_type": "stream",
     "text": [
      "                                                                                                                       \r"
     ]
    },
    {
     "name": "stdout",
     "output_type": "stream",
     "text": [
      "MoviePy - Done.\n",
      "VabgrlvtzLg\n",
      "MoviePy - Writing audio in ./data_mp3/VabgrlvtzLg.mp3\n"
     ]
    },
    {
     "name": "stderr",
     "output_type": "stream",
     "text": [
      "                                                                                                                       \r"
     ]
    },
    {
     "name": "stdout",
     "output_type": "stream",
     "text": [
      "MoviePy - Done.\n",
      "VNhsh1YW8Co\n",
      "MoviePy - Writing audio in ./data_mp3/VNhsh1YW8Co.mp3\n"
     ]
    },
    {
     "name": "stderr",
     "output_type": "stream",
     "text": [
      "                                                                                                                       \r"
     ]
    },
    {
     "name": "stdout",
     "output_type": "stream",
     "text": [
      "MoviePy - Done.\n",
      "vRq0eD6c4JY\n",
      "MoviePy - Writing audio in ./data_mp3/vRq0eD6c4JY.mp3\n"
     ]
    },
    {
     "name": "stderr",
     "output_type": "stream",
     "text": [
      "                                                                                                                       \r"
     ]
    },
    {
     "name": "stdout",
     "output_type": "stream",
     "text": [
      "MoviePy - Done.\n",
      "wT-3tH3yrzI\n",
      "MoviePy - Writing audio in ./data_mp3/wT-3tH3yrzI.mp3\n"
     ]
    },
    {
     "name": "stderr",
     "output_type": "stream",
     "text": [
      "                                                                                                                       \r"
     ]
    },
    {
     "name": "stdout",
     "output_type": "stream",
     "text": [
      "MoviePy - Done.\n",
      "WTS7HBGpy5c\n",
      "MoviePy - Writing audio in ./data_mp3/WTS7HBGpy5c__ы1.mp3\n"
     ]
    },
    {
     "name": "stderr",
     "output_type": "stream",
     "text": [
      "                                                                                                                       \r"
     ]
    },
    {
     "name": "stdout",
     "output_type": "stream",
     "text": [
      "MoviePy - Done.\n",
      "xdOykEJSXIg\n",
      "MoviePy - Writing audio in ./data_mp3/xdOykEJSXIg.mp3\n"
     ]
    },
    {
     "name": "stderr",
     "output_type": "stream",
     "text": [
      "                                                                                                                       \r"
     ]
    },
    {
     "name": "stdout",
     "output_type": "stream",
     "text": [
      "MoviePy - Done.\n",
      "XGhdSeKr4TM\n",
      "MoviePy - Writing audio in ./data_mp3/XGhdSeKr4TM.mp3\n"
     ]
    },
    {
     "name": "stderr",
     "output_type": "stream",
     "text": [
      "                                                                                                                       \r"
     ]
    },
    {
     "name": "stdout",
     "output_type": "stream",
     "text": [
      "MoviePy - Done.\n",
      "xglkW65SEeM\n",
      "MoviePy - Writing audio in ./data_mp3/xglkW65SEeM__ы1.mp3\n"
     ]
    },
    {
     "name": "stderr",
     "output_type": "stream",
     "text": [
      "                                                                                                                       \r"
     ]
    },
    {
     "name": "stdout",
     "output_type": "stream",
     "text": [
      "MoviePy - Done.\n",
      "XGUy0__LJKw\n",
      "MoviePy - Writing audio in ./data_mp3/XGUy0__LJKw.mp3\n"
     ]
    },
    {
     "name": "stderr",
     "output_type": "stream",
     "text": [
      "                                                                                                                       \r"
     ]
    },
    {
     "name": "stdout",
     "output_type": "stream",
     "text": [
      "MoviePy - Done.\n",
      "xhsIu3iBBQw\n",
      "MoviePy - Writing audio in ./data_mp3/xhsIu3iBBQw__ы1.mp3\n"
     ]
    },
    {
     "name": "stderr",
     "output_type": "stream",
     "text": [
      "                                                                                                                       \r"
     ]
    },
    {
     "name": "stdout",
     "output_type": "stream",
     "text": [
      "MoviePy - Done.\n",
      "MoviePy - Writing audio in ./data_mp3/xhsIu3iBBQw__ы2.mp3\n"
     ]
    },
    {
     "name": "stderr",
     "output_type": "stream",
     "text": [
      "                                                                                                                       \r"
     ]
    },
    {
     "name": "stdout",
     "output_type": "stream",
     "text": [
      "MoviePy - Done.\n",
      "MoviePy - Writing audio in ./data_mp3/xhsIu3iBBQw__ы3.mp3\n"
     ]
    },
    {
     "name": "stderr",
     "output_type": "stream",
     "text": [
      "                                                                                                                       \r"
     ]
    },
    {
     "name": "stdout",
     "output_type": "stream",
     "text": [
      "MoviePy - Done.\n",
      "MoviePy - Writing audio in ./data_mp3/xhsIu3iBBQw__ы4.mp3\n"
     ]
    },
    {
     "name": "stderr",
     "output_type": "stream",
     "text": [
      "                                                                                                                       \r"
     ]
    },
    {
     "name": "stdout",
     "output_type": "stream",
     "text": [
      "MoviePy - Done.\n",
      "MoviePy - Writing audio in ./data_mp3/xhsIu3iBBQw__ы5.mp3\n"
     ]
    },
    {
     "name": "stderr",
     "output_type": "stream",
     "text": [
      "                                                                                                                       \r"
     ]
    },
    {
     "name": "stdout",
     "output_type": "stream",
     "text": [
      "MoviePy - Done.\n",
      "MoviePy - Writing audio in ./data_mp3/xhsIu3iBBQw__ы6.mp3\n"
     ]
    },
    {
     "name": "stderr",
     "output_type": "stream",
     "text": [
      "                                                                                                                       \r"
     ]
    },
    {
     "name": "stdout",
     "output_type": "stream",
     "text": [
      "MoviePy - Done.\n",
      "MoviePy - Writing audio in ./data_mp3/xhsIu3iBBQw__ы7.mp3\n"
     ]
    },
    {
     "name": "stderr",
     "output_type": "stream",
     "text": [
      "                                                                                                                       \r"
     ]
    },
    {
     "name": "stdout",
     "output_type": "stream",
     "text": [
      "MoviePy - Done.\n",
      "MoviePy - Writing audio in ./data_mp3/xhsIu3iBBQw__ы8.mp3\n"
     ]
    },
    {
     "name": "stderr",
     "output_type": "stream",
     "text": [
      "                                                                                                                       \r"
     ]
    },
    {
     "name": "stdout",
     "output_type": "stream",
     "text": [
      "MoviePy - Done.\n",
      "MoviePy - Writing audio in ./data_mp3/xhsIu3iBBQw__ы9.mp3\n"
     ]
    },
    {
     "name": "stderr",
     "output_type": "stream",
     "text": [
      "                                                                                                                       \r"
     ]
    },
    {
     "name": "stdout",
     "output_type": "stream",
     "text": [
      "MoviePy - Done.\n",
      "MoviePy - Writing audio in ./data_mp3/xhsIu3iBBQw__ы10.mp3\n"
     ]
    },
    {
     "name": "stderr",
     "output_type": "stream",
     "text": [
      "                                                                                                                       \r"
     ]
    },
    {
     "name": "stdout",
     "output_type": "stream",
     "text": [
      "MoviePy - Done.\n",
      "MoviePy - Writing audio in ./data_mp3/xhsIu3iBBQw__ы11.mp3\n"
     ]
    },
    {
     "name": "stderr",
     "output_type": "stream",
     "text": [
      "                                                                                                                       \r"
     ]
    },
    {
     "name": "stdout",
     "output_type": "stream",
     "text": [
      "MoviePy - Done.\n",
      "MoviePy - Writing audio in ./data_mp3/xhsIu3iBBQw__ы12.mp3\n"
     ]
    },
    {
     "name": "stderr",
     "output_type": "stream",
     "text": [
      "                                                                                                                       \r"
     ]
    },
    {
     "name": "stdout",
     "output_type": "stream",
     "text": [
      "MoviePy - Done.\n",
      "MoviePy - Writing audio in ./data_mp3/xhsIu3iBBQw__ы13.mp3\n"
     ]
    },
    {
     "name": "stderr",
     "output_type": "stream",
     "text": [
      "                                                                                                                       \r"
     ]
    },
    {
     "name": "stdout",
     "output_type": "stream",
     "text": [
      "MoviePy - Done.\n",
      "MoviePy - Writing audio in ./data_mp3/xhsIu3iBBQw__ы14.mp3\n"
     ]
    },
    {
     "name": "stderr",
     "output_type": "stream",
     "text": [
      "                                                                                                                       \r"
     ]
    },
    {
     "name": "stdout",
     "output_type": "stream",
     "text": [
      "MoviePy - Done.\n",
      "MoviePy - Writing audio in ./data_mp3/xhsIu3iBBQw__ы15.mp3\n"
     ]
    },
    {
     "name": "stderr",
     "output_type": "stream",
     "text": [
      "                                                                                                                       \r"
     ]
    },
    {
     "name": "stdout",
     "output_type": "stream",
     "text": [
      "MoviePy - Done.\n",
      "MoviePy - Writing audio in ./data_mp3/xhsIu3iBBQw__ы16.mp3\n"
     ]
    },
    {
     "name": "stderr",
     "output_type": "stream",
     "text": [
      "                                                                                                                       \r"
     ]
    },
    {
     "name": "stdout",
     "output_type": "stream",
     "text": [
      "MoviePy - Done.\n",
      "MoviePy - Writing audio in ./data_mp3/xhsIu3iBBQw__ы17.mp3\n"
     ]
    },
    {
     "name": "stderr",
     "output_type": "stream",
     "text": [
      "                                                                                                                       \r"
     ]
    },
    {
     "name": "stdout",
     "output_type": "stream",
     "text": [
      "MoviePy - Done.\n",
      "MoviePy - Writing audio in ./data_mp3/xhsIu3iBBQw__ы18.mp3\n"
     ]
    },
    {
     "name": "stderr",
     "output_type": "stream",
     "text": [
      "                                                                                                                       \r"
     ]
    },
    {
     "name": "stdout",
     "output_type": "stream",
     "text": [
      "MoviePy - Done.\n",
      "MoviePy - Writing audio in ./data_mp3/xhsIu3iBBQw__ы19.mp3\n"
     ]
    },
    {
     "name": "stderr",
     "output_type": "stream",
     "text": [
      "                                                                                                                       \r"
     ]
    },
    {
     "name": "stdout",
     "output_type": "stream",
     "text": [
      "MoviePy - Done.\n",
      "MoviePy - Writing audio in ./data_mp3/xhsIu3iBBQw__ы20.mp3\n"
     ]
    },
    {
     "name": "stderr",
     "output_type": "stream",
     "text": [
      "                                                                                                                       \r"
     ]
    },
    {
     "name": "stdout",
     "output_type": "stream",
     "text": [
      "MoviePy - Done.\n",
      "MoviePy - Writing audio in ./data_mp3/xhsIu3iBBQw__ы21.mp3\n"
     ]
    },
    {
     "name": "stderr",
     "output_type": "stream",
     "text": [
      "                                                                                                                       \r"
     ]
    },
    {
     "name": "stdout",
     "output_type": "stream",
     "text": [
      "MoviePy - Done.\n",
      "MoviePy - Writing audio in ./data_mp3/xhsIu3iBBQw__ы22.mp3\n"
     ]
    },
    {
     "name": "stderr",
     "output_type": "stream",
     "text": [
      "                                                                                                                       \r"
     ]
    },
    {
     "name": "stdout",
     "output_type": "stream",
     "text": [
      "MoviePy - Done.\n",
      "MoviePy - Writing audio in ./data_mp3/xhsIu3iBBQw__ы23.mp3\n"
     ]
    },
    {
     "name": "stderr",
     "output_type": "stream",
     "text": [
      "                                                                                                                       \r"
     ]
    },
    {
     "name": "stdout",
     "output_type": "stream",
     "text": [
      "MoviePy - Done.\n",
      "MoviePy - Writing audio in ./data_mp3/xhsIu3iBBQw__ы24.mp3\n"
     ]
    },
    {
     "name": "stderr",
     "output_type": "stream",
     "text": [
      "                                                                                                                       \r"
     ]
    },
    {
     "name": "stdout",
     "output_type": "stream",
     "text": [
      "MoviePy - Done.\n",
      "MoviePy - Writing audio in ./data_mp3/xhsIu3iBBQw__ы25.mp3\n"
     ]
    },
    {
     "name": "stderr",
     "output_type": "stream",
     "text": [
      "                                                                                                                       \r"
     ]
    },
    {
     "name": "stdout",
     "output_type": "stream",
     "text": [
      "MoviePy - Done.\n",
      "MoviePy - Writing audio in ./data_mp3/xhsIu3iBBQw__ы26.mp3\n"
     ]
    },
    {
     "name": "stderr",
     "output_type": "stream",
     "text": [
      "                                                                                                                       \r"
     ]
    },
    {
     "name": "stdout",
     "output_type": "stream",
     "text": [
      "MoviePy - Done.\n",
      "MoviePy - Writing audio in ./data_mp3/xhsIu3iBBQw__ы27.mp3\n"
     ]
    },
    {
     "name": "stderr",
     "output_type": "stream",
     "text": [
      "                                                                                                                       \r"
     ]
    },
    {
     "name": "stdout",
     "output_type": "stream",
     "text": [
      "MoviePy - Done.\n",
      "MoviePy - Writing audio in ./data_mp3/xhsIu3iBBQw__ы28.mp3\n"
     ]
    },
    {
     "name": "stderr",
     "output_type": "stream",
     "text": [
      "                                                                                                                       \r"
     ]
    },
    {
     "name": "stdout",
     "output_type": "stream",
     "text": [
      "MoviePy - Done.\n",
      "MoviePy - Writing audio in ./data_mp3/xhsIu3iBBQw__ы29.mp3\n"
     ]
    },
    {
     "name": "stderr",
     "output_type": "stream",
     "text": [
      "                                                                                                                       \r"
     ]
    },
    {
     "name": "stdout",
     "output_type": "stream",
     "text": [
      "MoviePy - Done.\n",
      "MoviePy - Writing audio in ./data_mp3/xhsIu3iBBQw__ы30.mp3\n"
     ]
    },
    {
     "name": "stderr",
     "output_type": "stream",
     "text": [
      "                                                                                                                       \r"
     ]
    },
    {
     "name": "stdout",
     "output_type": "stream",
     "text": [
      "MoviePy - Done.\n",
      "MoviePy - Writing audio in ./data_mp3/xhsIu3iBBQw__ы31.mp3\n"
     ]
    },
    {
     "name": "stderr",
     "output_type": "stream",
     "text": [
      "                                                                                                                       \r"
     ]
    },
    {
     "name": "stdout",
     "output_type": "stream",
     "text": [
      "MoviePy - Done.\n",
      "MoviePy - Writing audio in ./data_mp3/xhsIu3iBBQw__ы32.mp3\n"
     ]
    },
    {
     "name": "stderr",
     "output_type": "stream",
     "text": [
      "                                                                                                                       \r"
     ]
    },
    {
     "name": "stdout",
     "output_type": "stream",
     "text": [
      "MoviePy - Done.\n",
      "MoviePy - Writing audio in ./data_mp3/xhsIu3iBBQw__ы33.mp3\n"
     ]
    },
    {
     "name": "stderr",
     "output_type": "stream",
     "text": [
      "                                                                                                                       \r"
     ]
    },
    {
     "name": "stdout",
     "output_type": "stream",
     "text": [
      "MoviePy - Done.\n",
      "MoviePy - Writing audio in ./data_mp3/xhsIu3iBBQw__ы34.mp3\n"
     ]
    },
    {
     "name": "stderr",
     "output_type": "stream",
     "text": [
      "                                                                                                                       \r"
     ]
    },
    {
     "name": "stdout",
     "output_type": "stream",
     "text": [
      "MoviePy - Done.\n",
      "MoviePy - Writing audio in ./data_mp3/xhsIu3iBBQw__ы35.mp3\n"
     ]
    },
    {
     "name": "stderr",
     "output_type": "stream",
     "text": [
      "                                                                                                                       \r"
     ]
    },
    {
     "name": "stdout",
     "output_type": "stream",
     "text": [
      "MoviePy - Done.\n",
      "MoviePy - Writing audio in ./data_mp3/xhsIu3iBBQw__ы36.mp3\n"
     ]
    },
    {
     "name": "stderr",
     "output_type": "stream",
     "text": [
      "                                                                                                                       \r"
     ]
    },
    {
     "name": "stdout",
     "output_type": "stream",
     "text": [
      "MoviePy - Done.\n",
      "MoviePy - Writing audio in ./data_mp3/xhsIu3iBBQw__ы37.mp3\n"
     ]
    },
    {
     "name": "stderr",
     "output_type": "stream",
     "text": [
      "                                                                                                                       \r"
     ]
    },
    {
     "name": "stdout",
     "output_type": "stream",
     "text": [
      "MoviePy - Done.\n",
      "MoviePy - Writing audio in ./data_mp3/xhsIu3iBBQw__ы38.mp3\n"
     ]
    },
    {
     "name": "stderr",
     "output_type": "stream",
     "text": [
      "                                                                                                                       \r"
     ]
    },
    {
     "name": "stdout",
     "output_type": "stream",
     "text": [
      "MoviePy - Done.\n",
      "MoviePy - Writing audio in ./data_mp3/xhsIu3iBBQw__ы39.mp3\n"
     ]
    },
    {
     "name": "stderr",
     "output_type": "stream",
     "text": [
      "                                                                                                                       \r"
     ]
    },
    {
     "name": "stdout",
     "output_type": "stream",
     "text": [
      "MoviePy - Done.\n",
      "MoviePy - Writing audio in ./data_mp3/xhsIu3iBBQw__ы40.mp3\n"
     ]
    },
    {
     "name": "stderr",
     "output_type": "stream",
     "text": [
      "                                                                                                                       \r"
     ]
    },
    {
     "name": "stdout",
     "output_type": "stream",
     "text": [
      "MoviePy - Done.\n",
      "MoviePy - Writing audio in ./data_mp3/xhsIu3iBBQw__ы41.mp3\n"
     ]
    },
    {
     "name": "stderr",
     "output_type": "stream",
     "text": [
      "                                                                                                                       \r"
     ]
    },
    {
     "name": "stdout",
     "output_type": "stream",
     "text": [
      "MoviePy - Done.\n",
      "MoviePy - Writing audio in ./data_mp3/xhsIu3iBBQw__ы42.mp3\n"
     ]
    },
    {
     "name": "stderr",
     "output_type": "stream",
     "text": [
      "                                                                                                                       \r"
     ]
    },
    {
     "name": "stdout",
     "output_type": "stream",
     "text": [
      "MoviePy - Done.\n",
      "MoviePy - Writing audio in ./data_mp3/xhsIu3iBBQw__ы43.mp3\n"
     ]
    },
    {
     "name": "stderr",
     "output_type": "stream",
     "text": [
      "                                                                                                                       \r"
     ]
    },
    {
     "name": "stdout",
     "output_type": "stream",
     "text": [
      "MoviePy - Done.\n",
      "XJqe3EUGbQM\n",
      "MoviePy - Writing audio in ./data_mp3/XJqe3EUGbQM.mp3\n"
     ]
    },
    {
     "name": "stderr",
     "output_type": "stream",
     "text": [
      "                                                                                                                       \r"
     ]
    },
    {
     "name": "stdout",
     "output_type": "stream",
     "text": [
      "MoviePy - Done.\n",
      "xLeGykSUFdY\n",
      "MoviePy - Writing audio in ./data_mp3/xLeGykSUFdY.mp3\n"
     ]
    },
    {
     "name": "stderr",
     "output_type": "stream",
     "text": [
      "                                                                                                                       \r"
     ]
    },
    {
     "name": "stdout",
     "output_type": "stream",
     "text": [
      "MoviePy - Done.\n",
      "Xv_SV_ki_Q0\n",
      "MoviePy - Writing audio in ./data_mp3/Xv_SV_ki_Q0.mp3\n"
     ]
    },
    {
     "name": "stderr",
     "output_type": "stream",
     "text": [
      "                                                                                                                       \r"
     ]
    },
    {
     "name": "stdout",
     "output_type": "stream",
     "text": [
      "MoviePy - Done.\n",
      "XWNsWZ5VtWc\n",
      "MoviePy - Writing audio in ./data_mp3/XWNsWZ5VtWc__ы1.mp3\n"
     ]
    },
    {
     "name": "stderr",
     "output_type": "stream",
     "text": [
      "                                                                                                                       \r"
     ]
    },
    {
     "name": "stdout",
     "output_type": "stream",
     "text": [
      "MoviePy - Done.\n",
      "MoviePy - Writing audio in ./data_mp3/XWNsWZ5VtWc__ы2.mp3\n"
     ]
    },
    {
     "name": "stderr",
     "output_type": "stream",
     "text": [
      "                                                                                                                       \r"
     ]
    },
    {
     "name": "stdout",
     "output_type": "stream",
     "text": [
      "MoviePy - Done.\n",
      "MoviePy - Writing audio in ./data_mp3/XWNsWZ5VtWc__ы3.mp3\n"
     ]
    },
    {
     "name": "stderr",
     "output_type": "stream",
     "text": [
      "                                                                                                                       \r"
     ]
    },
    {
     "name": "stdout",
     "output_type": "stream",
     "text": [
      "MoviePy - Done.\n",
      "MoviePy - Writing audio in ./data_mp3/XWNsWZ5VtWc__ы4.mp3\n"
     ]
    },
    {
     "name": "stderr",
     "output_type": "stream",
     "text": [
      "                                                                                                                       \r"
     ]
    },
    {
     "name": "stdout",
     "output_type": "stream",
     "text": [
      "MoviePy - Done.\n",
      "MoviePy - Writing audio in ./data_mp3/XWNsWZ5VtWc__ы5.mp3\n"
     ]
    },
    {
     "name": "stderr",
     "output_type": "stream",
     "text": [
      "                                                                                                                       \r"
     ]
    },
    {
     "name": "stdout",
     "output_type": "stream",
     "text": [
      "MoviePy - Done.\n",
      "MoviePy - Writing audio in ./data_mp3/XWNsWZ5VtWc__ы6.mp3\n"
     ]
    },
    {
     "name": "stderr",
     "output_type": "stream",
     "text": [
      "                                                                                                                       \r"
     ]
    },
    {
     "name": "stdout",
     "output_type": "stream",
     "text": [
      "MoviePy - Done.\n",
      "MoviePy - Writing audio in ./data_mp3/XWNsWZ5VtWc__ы7.mp3\n"
     ]
    },
    {
     "name": "stderr",
     "output_type": "stream",
     "text": [
      "                                                                                                                       \r"
     ]
    },
    {
     "name": "stdout",
     "output_type": "stream",
     "text": [
      "MoviePy - Done.\n",
      "MoviePy - Writing audio in ./data_mp3/XWNsWZ5VtWc__ы8.mp3\n"
     ]
    },
    {
     "name": "stderr",
     "output_type": "stream",
     "text": [
      "                                                                                                                       \r"
     ]
    },
    {
     "name": "stdout",
     "output_type": "stream",
     "text": [
      "MoviePy - Done.\n",
      "MoviePy - Writing audio in ./data_mp3/XWNsWZ5VtWc__ы9.mp3\n"
     ]
    },
    {
     "name": "stderr",
     "output_type": "stream",
     "text": [
      "                                                                                                                       \r"
     ]
    },
    {
     "name": "stdout",
     "output_type": "stream",
     "text": [
      "MoviePy - Done.\n",
      "MoviePy - Writing audio in ./data_mp3/XWNsWZ5VtWc__ы10.mp3\n"
     ]
    },
    {
     "name": "stderr",
     "output_type": "stream",
     "text": [
      "                                                                                                                       \r"
     ]
    },
    {
     "name": "stdout",
     "output_type": "stream",
     "text": [
      "MoviePy - Done.\n",
      "MoviePy - Writing audio in ./data_mp3/XWNsWZ5VtWc__ы11.mp3\n"
     ]
    },
    {
     "name": "stderr",
     "output_type": "stream",
     "text": [
      "                                                                                                                       \r"
     ]
    },
    {
     "name": "stdout",
     "output_type": "stream",
     "text": [
      "MoviePy - Done.\n",
      "MoviePy - Writing audio in ./data_mp3/XWNsWZ5VtWc__ы12.mp3\n"
     ]
    },
    {
     "name": "stderr",
     "output_type": "stream",
     "text": [
      "                                                                                                                       \r"
     ]
    },
    {
     "name": "stdout",
     "output_type": "stream",
     "text": [
      "MoviePy - Done.\n",
      "MoviePy - Writing audio in ./data_mp3/XWNsWZ5VtWc__ы13.mp3\n"
     ]
    },
    {
     "name": "stderr",
     "output_type": "stream",
     "text": [
      "                                                                                                                       \r"
     ]
    },
    {
     "name": "stdout",
     "output_type": "stream",
     "text": [
      "MoviePy - Done.\n",
      "MoviePy - Writing audio in ./data_mp3/XWNsWZ5VtWc__ы14.mp3\n"
     ]
    },
    {
     "name": "stderr",
     "output_type": "stream",
     "text": [
      "                                                                                                                       \r"
     ]
    },
    {
     "name": "stdout",
     "output_type": "stream",
     "text": [
      "MoviePy - Done.\n",
      "MoviePy - Writing audio in ./data_mp3/XWNsWZ5VtWc__ы15.mp3\n"
     ]
    },
    {
     "name": "stderr",
     "output_type": "stream",
     "text": [
      "                                                                                                                       \r"
     ]
    },
    {
     "name": "stdout",
     "output_type": "stream",
     "text": [
      "MoviePy - Done.\n",
      "MoviePy - Writing audio in ./data_mp3/XWNsWZ5VtWc__ы16.mp3\n"
     ]
    },
    {
     "name": "stderr",
     "output_type": "stream",
     "text": [
      "                                                                                                                       \r"
     ]
    },
    {
     "name": "stdout",
     "output_type": "stream",
     "text": [
      "MoviePy - Done.\n",
      "MoviePy - Writing audio in ./data_mp3/XWNsWZ5VtWc__ы17.mp3\n"
     ]
    },
    {
     "name": "stderr",
     "output_type": "stream",
     "text": [
      "                                                                                                                       \r"
     ]
    },
    {
     "name": "stdout",
     "output_type": "stream",
     "text": [
      "MoviePy - Done.\n",
      "MoviePy - Writing audio in ./data_mp3/XWNsWZ5VtWc__ы18.mp3\n"
     ]
    },
    {
     "name": "stderr",
     "output_type": "stream",
     "text": [
      "                                                                                                                       \r"
     ]
    },
    {
     "name": "stdout",
     "output_type": "stream",
     "text": [
      "MoviePy - Done.\n",
      "MoviePy - Writing audio in ./data_mp3/XWNsWZ5VtWc__ы19.mp3\n"
     ]
    },
    {
     "name": "stderr",
     "output_type": "stream",
     "text": [
      "                                                                                                                       \r"
     ]
    },
    {
     "name": "stdout",
     "output_type": "stream",
     "text": [
      "MoviePy - Done.\n",
      "MoviePy - Writing audio in ./data_mp3/XWNsWZ5VtWc__ы20.mp3\n"
     ]
    },
    {
     "name": "stderr",
     "output_type": "stream",
     "text": [
      "                                                                                                                       \r"
     ]
    },
    {
     "name": "stdout",
     "output_type": "stream",
     "text": [
      "MoviePy - Done.\n",
      "MoviePy - Writing audio in ./data_mp3/XWNsWZ5VtWc__ы21.mp3\n"
     ]
    },
    {
     "name": "stderr",
     "output_type": "stream",
     "text": [
      "                                                                                                                       \r"
     ]
    },
    {
     "name": "stdout",
     "output_type": "stream",
     "text": [
      "MoviePy - Done.\n",
      "MoviePy - Writing audio in ./data_mp3/XWNsWZ5VtWc__ы22.mp3\n"
     ]
    },
    {
     "name": "stderr",
     "output_type": "stream",
     "text": [
      "                                                                                                                       \r"
     ]
    },
    {
     "name": "stdout",
     "output_type": "stream",
     "text": [
      "MoviePy - Done.\n",
      "MoviePy - Writing audio in ./data_mp3/XWNsWZ5VtWc__ы23.mp3\n"
     ]
    },
    {
     "name": "stderr",
     "output_type": "stream",
     "text": [
      "                                                                                                                       \r"
     ]
    },
    {
     "name": "stdout",
     "output_type": "stream",
     "text": [
      "MoviePy - Done.\n",
      "MoviePy - Writing audio in ./data_mp3/XWNsWZ5VtWc__ы24.mp3\n"
     ]
    },
    {
     "name": "stderr",
     "output_type": "stream",
     "text": [
      "                                                                                                                       \r"
     ]
    },
    {
     "name": "stdout",
     "output_type": "stream",
     "text": [
      "MoviePy - Done.\n",
      "MoviePy - Writing audio in ./data_mp3/XWNsWZ5VtWc__ы25.mp3\n"
     ]
    },
    {
     "name": "stderr",
     "output_type": "stream",
     "text": [
      "                                                                                                                       \r"
     ]
    },
    {
     "name": "stdout",
     "output_type": "stream",
     "text": [
      "MoviePy - Done.\n",
      "MoviePy - Writing audio in ./data_mp3/XWNsWZ5VtWc__ы26.mp3\n"
     ]
    },
    {
     "name": "stderr",
     "output_type": "stream",
     "text": [
      "                                                                                                                       \r"
     ]
    },
    {
     "name": "stdout",
     "output_type": "stream",
     "text": [
      "MoviePy - Done.\n",
      "MoviePy - Writing audio in ./data_mp3/XWNsWZ5VtWc__ы27.mp3\n"
     ]
    },
    {
     "name": "stderr",
     "output_type": "stream",
     "text": [
      "                                                                                                                       \r"
     ]
    },
    {
     "name": "stdout",
     "output_type": "stream",
     "text": [
      "MoviePy - Done.\n",
      "MoviePy - Writing audio in ./data_mp3/XWNsWZ5VtWc__ы28.mp3\n"
     ]
    },
    {
     "name": "stderr",
     "output_type": "stream",
     "text": [
      "                                                                                                                       \r"
     ]
    },
    {
     "name": "stdout",
     "output_type": "stream",
     "text": [
      "MoviePy - Done.\n",
      "MoviePy - Writing audio in ./data_mp3/XWNsWZ5VtWc__ы29.mp3\n"
     ]
    },
    {
     "name": "stderr",
     "output_type": "stream",
     "text": [
      "                                                                                                                       \r"
     ]
    },
    {
     "name": "stdout",
     "output_type": "stream",
     "text": [
      "MoviePy - Done.\n",
      "MoviePy - Writing audio in ./data_mp3/XWNsWZ5VtWc__ы30.mp3\n"
     ]
    },
    {
     "name": "stderr",
     "output_type": "stream",
     "text": [
      "                                                                                                                       \r"
     ]
    },
    {
     "name": "stdout",
     "output_type": "stream",
     "text": [
      "MoviePy - Done.\n",
      "MoviePy - Writing audio in ./data_mp3/XWNsWZ5VtWc__ы31.mp3\n"
     ]
    },
    {
     "name": "stderr",
     "output_type": "stream",
     "text": [
      "                                                                                                                       \r"
     ]
    },
    {
     "name": "stdout",
     "output_type": "stream",
     "text": [
      "MoviePy - Done.\n",
      "MoviePy - Writing audio in ./data_mp3/XWNsWZ5VtWc__ы32.mp3\n"
     ]
    },
    {
     "name": "stderr",
     "output_type": "stream",
     "text": [
      "                                                                                                                       \r"
     ]
    },
    {
     "name": "stdout",
     "output_type": "stream",
     "text": [
      "MoviePy - Done.\n",
      "MoviePy - Writing audio in ./data_mp3/XWNsWZ5VtWc__ы33.mp3\n"
     ]
    },
    {
     "name": "stderr",
     "output_type": "stream",
     "text": [
      "                                                                                                                       \r"
     ]
    },
    {
     "name": "stdout",
     "output_type": "stream",
     "text": [
      "MoviePy - Done.\n",
      "MoviePy - Writing audio in ./data_mp3/XWNsWZ5VtWc__ы34.mp3\n"
     ]
    },
    {
     "name": "stderr",
     "output_type": "stream",
     "text": [
      "                                                                                                                       \r"
     ]
    },
    {
     "name": "stdout",
     "output_type": "stream",
     "text": [
      "MoviePy - Done.\n",
      "MoviePy - Writing audio in ./data_mp3/XWNsWZ5VtWc__ы35.mp3\n"
     ]
    },
    {
     "name": "stderr",
     "output_type": "stream",
     "text": [
      "                                                                                                                       \r"
     ]
    },
    {
     "name": "stdout",
     "output_type": "stream",
     "text": [
      "MoviePy - Done.\n",
      "MoviePy - Writing audio in ./data_mp3/XWNsWZ5VtWc__ы36.mp3\n"
     ]
    },
    {
     "name": "stderr",
     "output_type": "stream",
     "text": [
      "                                                                                                                       \r"
     ]
    },
    {
     "name": "stdout",
     "output_type": "stream",
     "text": [
      "MoviePy - Done.\n",
      "MoviePy - Writing audio in ./data_mp3/XWNsWZ5VtWc__ы37.mp3\n"
     ]
    },
    {
     "name": "stderr",
     "output_type": "stream",
     "text": [
      "                                                                                                                       \r"
     ]
    },
    {
     "name": "stdout",
     "output_type": "stream",
     "text": [
      "MoviePy - Done.\n",
      "MoviePy - Writing audio in ./data_mp3/XWNsWZ5VtWc__ы38.mp3\n"
     ]
    },
    {
     "name": "stderr",
     "output_type": "stream",
     "text": [
      "                                                                                                                       \r"
     ]
    },
    {
     "name": "stdout",
     "output_type": "stream",
     "text": [
      "MoviePy - Done.\n",
      "MoviePy - Writing audio in ./data_mp3/XWNsWZ5VtWc__ы39.mp3\n"
     ]
    },
    {
     "name": "stderr",
     "output_type": "stream",
     "text": [
      "                                                                                                                       \r"
     ]
    },
    {
     "name": "stdout",
     "output_type": "stream",
     "text": [
      "MoviePy - Done.\n",
      "MoviePy - Writing audio in ./data_mp3/XWNsWZ5VtWc__ы40.mp3\n"
     ]
    },
    {
     "name": "stderr",
     "output_type": "stream",
     "text": [
      "                                                                                                                       \r"
     ]
    },
    {
     "name": "stdout",
     "output_type": "stream",
     "text": [
      "MoviePy - Done.\n",
      "MoviePy - Writing audio in ./data_mp3/XWNsWZ5VtWc__ы41.mp3\n"
     ]
    },
    {
     "name": "stderr",
     "output_type": "stream",
     "text": [
      "                                                                                                                       \r"
     ]
    },
    {
     "name": "stdout",
     "output_type": "stream",
     "text": [
      "MoviePy - Done.\n",
      "MoviePy - Writing audio in ./data_mp3/XWNsWZ5VtWc__ы42.mp3\n"
     ]
    },
    {
     "name": "stderr",
     "output_type": "stream",
     "text": [
      "                                                                                                                       \r"
     ]
    },
    {
     "name": "stdout",
     "output_type": "stream",
     "text": [
      "MoviePy - Done.\n",
      "MoviePy - Writing audio in ./data_mp3/XWNsWZ5VtWc__ы43.mp3\n"
     ]
    },
    {
     "name": "stderr",
     "output_type": "stream",
     "text": [
      "                                                                                                                       \r"
     ]
    },
    {
     "name": "stdout",
     "output_type": "stream",
     "text": [
      "MoviePy - Done.\n",
      "MoviePy - Writing audio in ./data_mp3/XWNsWZ5VtWc__ы44.mp3\n"
     ]
    },
    {
     "name": "stderr",
     "output_type": "stream",
     "text": [
      "                                                                                                                       \r"
     ]
    },
    {
     "name": "stdout",
     "output_type": "stream",
     "text": [
      "MoviePy - Done.\n",
      "MoviePy - Writing audio in ./data_mp3/XWNsWZ5VtWc__ы45.mp3\n"
     ]
    },
    {
     "name": "stderr",
     "output_type": "stream",
     "text": [
      "                                                                                                                       \r"
     ]
    },
    {
     "name": "stdout",
     "output_type": "stream",
     "text": [
      "MoviePy - Done.\n",
      "MoviePy - Writing audio in ./data_mp3/XWNsWZ5VtWc__ы46.mp3\n"
     ]
    },
    {
     "name": "stderr",
     "output_type": "stream",
     "text": [
      "                                                                                                                       \r"
     ]
    },
    {
     "name": "stdout",
     "output_type": "stream",
     "text": [
      "MoviePy - Done.\n",
      "MoviePy - Writing audio in ./data_mp3/XWNsWZ5VtWc__ы47.mp3\n"
     ]
    },
    {
     "name": "stderr",
     "output_type": "stream",
     "text": [
      "                                                                                                                       \r"
     ]
    },
    {
     "name": "stdout",
     "output_type": "stream",
     "text": [
      "MoviePy - Done.\n",
      "YJxSATlIgAg\n",
      "MoviePy - Writing audio in ./data_mp3/YJxSATlIgAg.mp3\n"
     ]
    },
    {
     "name": "stderr",
     "output_type": "stream",
     "text": [
      "                                                                                                                       \r"
     ]
    },
    {
     "name": "stdout",
     "output_type": "stream",
     "text": [
      "MoviePy - Done.\n",
      "yw6ZjMyreDY\n",
      "MoviePy - Writing audio in ./data_mp3/yw6ZjMyreDY.mp3\n"
     ]
    },
    {
     "name": "stderr",
     "output_type": "stream",
     "text": [
      "                                                                                                                       \r"
     ]
    },
    {
     "name": "stdout",
     "output_type": "stream",
     "text": [
      "MoviePy - Done.\n",
      "z0jOyz222qc\n",
      "MoviePy - Writing audio in ./data_mp3/z0jOyz222qc__ы1.mp3\n"
     ]
    },
    {
     "name": "stderr",
     "output_type": "stream",
     "text": [
      "                                                                                                                       \r"
     ]
    },
    {
     "name": "stdout",
     "output_type": "stream",
     "text": [
      "MoviePy - Done.\n",
      "MoviePy - Writing audio in ./data_mp3/z0jOyz222qc__ы2.mp3\n"
     ]
    },
    {
     "name": "stderr",
     "output_type": "stream",
     "text": [
      "                                                                                                                       \r"
     ]
    },
    {
     "name": "stdout",
     "output_type": "stream",
     "text": [
      "MoviePy - Done.\n",
      "MoviePy - Writing audio in ./data_mp3/z0jOyz222qc__ы3.mp3\n"
     ]
    },
    {
     "name": "stderr",
     "output_type": "stream",
     "text": [
      "                                                                                                                       \r"
     ]
    },
    {
     "name": "stdout",
     "output_type": "stream",
     "text": [
      "MoviePy - Done.\n",
      "MoviePy - Writing audio in ./data_mp3/z0jOyz222qc__ы4.mp3\n"
     ]
    },
    {
     "name": "stderr",
     "output_type": "stream",
     "text": [
      "                                                                                                                       \r"
     ]
    },
    {
     "name": "stdout",
     "output_type": "stream",
     "text": [
      "MoviePy - Done.\n",
      "MoviePy - Writing audio in ./data_mp3/z0jOyz222qc__ы5.mp3\n"
     ]
    },
    {
     "name": "stderr",
     "output_type": "stream",
     "text": [
      "                                                                                                                       \r"
     ]
    },
    {
     "name": "stdout",
     "output_type": "stream",
     "text": [
      "MoviePy - Done.\n",
      "MoviePy - Writing audio in ./data_mp3/z0jOyz222qc__ы6.mp3\n"
     ]
    },
    {
     "name": "stderr",
     "output_type": "stream",
     "text": [
      "                                                                                                                       \r"
     ]
    },
    {
     "name": "stdout",
     "output_type": "stream",
     "text": [
      "MoviePy - Done.\n",
      "MoviePy - Writing audio in ./data_mp3/z0jOyz222qc__ы7.mp3\n"
     ]
    },
    {
     "name": "stderr",
     "output_type": "stream",
     "text": [
      "                                                                                                                       \r"
     ]
    },
    {
     "name": "stdout",
     "output_type": "stream",
     "text": [
      "MoviePy - Done.\n",
      "MoviePy - Writing audio in ./data_mp3/z0jOyz222qc__ы8.mp3\n"
     ]
    },
    {
     "name": "stderr",
     "output_type": "stream",
     "text": [
      "                                                                                                                       \r"
     ]
    },
    {
     "name": "stdout",
     "output_type": "stream",
     "text": [
      "MoviePy - Done.\n",
      "MoviePy - Writing audio in ./data_mp3/z0jOyz222qc__ы9.mp3\n"
     ]
    },
    {
     "name": "stderr",
     "output_type": "stream",
     "text": [
      "                                                                                                                       \r"
     ]
    },
    {
     "name": "stdout",
     "output_type": "stream",
     "text": [
      "MoviePy - Done.\n",
      "MoviePy - Writing audio in ./data_mp3/z0jOyz222qc__ы10.mp3\n"
     ]
    },
    {
     "name": "stderr",
     "output_type": "stream",
     "text": [
      "                                                                                                                       \r"
     ]
    },
    {
     "name": "stdout",
     "output_type": "stream",
     "text": [
      "MoviePy - Done.\n",
      "MoviePy - Writing audio in ./data_mp3/z0jOyz222qc__ы11.mp3\n"
     ]
    },
    {
     "name": "stderr",
     "output_type": "stream",
     "text": [
      "                                                                                                                       \r"
     ]
    },
    {
     "name": "stdout",
     "output_type": "stream",
     "text": [
      "MoviePy - Done.\n",
      "zeYu80utaf8\n",
      "MoviePy - Writing audio in ./data_mp3/zeYu80utaf8.mp3\n"
     ]
    },
    {
     "name": "stderr",
     "output_type": "stream",
     "text": [
      "                                                                                                                       \r"
     ]
    },
    {
     "name": "stdout",
     "output_type": "stream",
     "text": [
      "MoviePy - Done.\n",
      "ZSmJVeujJCE\n",
      "MoviePy - Writing audio in ./data_mp3/ZSmJVeujJCE.mp3\n"
     ]
    },
    {
     "name": "stderr",
     "output_type": "stream",
     "text": [
      "                                                                                                                       \r"
     ]
    },
    {
     "name": "stdout",
     "output_type": "stream",
     "text": [
      "MoviePy - Done.\n",
      "zTpycqGYRRM\n",
      "MoviePy - Writing audio in ./data_mp3/zTpycqGYRRM__ы1.mp3\n"
     ]
    },
    {
     "name": "stderr",
     "output_type": "stream",
     "text": [
      "                                                                                                                       \r"
     ]
    },
    {
     "name": "stdout",
     "output_type": "stream",
     "text": [
      "MoviePy - Done.\n"
     ]
    }
   ],
   "source": [
    "# https://dev.to/jimajs/how-to-convert-mp4-to-mp3-using-python-1dcf\n",
    "\n",
    "d = './data/'\n",
    "g = './data_mp3/'\n",
    "for x in os.listdir(d):\n",
    "    name = x[:x.index('.mp4')]\n",
    "    print(name)\n",
    "    video = VideoFileClip('{0}{1}.mp4'.format(d, name))\n",
    "    if video.duration >= cut_length:\n",
    "        start, end = 0, cut_length\n",
    "        total_covered = cut_length\n",
    "        n = 0\n",
    "        finished = False\n",
    "        while not finished:\n",
    "            subvideo = video.subclip(start, end)\n",
    "            subvideo.audio.write_audiofile('{0}{1}__ы{2}.mp3'.format(g, name, n + 1))\n",
    "            if video.duration - end >= cut_length:\n",
    "                start = start + cut_length\n",
    "                end = min(video.duration, end + cut_length)\n",
    "                n = n + 1\n",
    "            else:\n",
    "                finished = True\n",
    "    else:\n",
    "        video.audio.write_audiofile('{0}{1}.mp3'.format(g, name))"
   ]
  },
  {
   "cell_type": "code",
   "execution_count": 7,
   "id": "2193a000-7408-477c-af42-f5b0e47224d2",
   "metadata": {},
   "outputs": [
    {
     "data": {
      "text/plain": [
       "['C:\\\\Users\\\\Edward\\\\Desktop\\\\music\\\\data_mp3\\\\-PVZWsClTPY.mp3',\n",
       " 'C:\\\\Users\\\\Edward\\\\Desktop\\\\music\\\\data_mp3\\\\0j7_Tb4LgPA.mp3',\n",
       " 'C:\\\\Users\\\\Edward\\\\Desktop\\\\music\\\\data_mp3\\\\0poLsDf1TvM.mp3',\n",
       " 'C:\\\\Users\\\\Edward\\\\Desktop\\\\music\\\\data_mp3\\\\1AfkQES9PPw__ы1.mp3',\n",
       " 'C:\\\\Users\\\\Edward\\\\Desktop\\\\music\\\\data_mp3\\\\1AfkQES9PPw__ы10.mp3',\n",
       " 'C:\\\\Users\\\\Edward\\\\Desktop\\\\music\\\\data_mp3\\\\1AfkQES9PPw__ы11.mp3',\n",
       " 'C:\\\\Users\\\\Edward\\\\Desktop\\\\music\\\\data_mp3\\\\1AfkQES9PPw__ы12.mp3',\n",
       " 'C:\\\\Users\\\\Edward\\\\Desktop\\\\music\\\\data_mp3\\\\1AfkQES9PPw__ы13.mp3',\n",
       " 'C:\\\\Users\\\\Edward\\\\Desktop\\\\music\\\\data_mp3\\\\1AfkQES9PPw__ы14.mp3',\n",
       " 'C:\\\\Users\\\\Edward\\\\Desktop\\\\music\\\\data_mp3\\\\1AfkQES9PPw__ы15.mp3',\n",
       " 'C:\\\\Users\\\\Edward\\\\Desktop\\\\music\\\\data_mp3\\\\1AfkQES9PPw__ы16.mp3',\n",
       " 'C:\\\\Users\\\\Edward\\\\Desktop\\\\music\\\\data_mp3\\\\1AfkQES9PPw__ы17.mp3',\n",
       " 'C:\\\\Users\\\\Edward\\\\Desktop\\\\music\\\\data_mp3\\\\1AfkQES9PPw__ы18.mp3',\n",
       " 'C:\\\\Users\\\\Edward\\\\Desktop\\\\music\\\\data_mp3\\\\1AfkQES9PPw__ы19.mp3',\n",
       " 'C:\\\\Users\\\\Edward\\\\Desktop\\\\music\\\\data_mp3\\\\1AfkQES9PPw__ы2.mp3',\n",
       " 'C:\\\\Users\\\\Edward\\\\Desktop\\\\music\\\\data_mp3\\\\1AfkQES9PPw__ы20.mp3',\n",
       " 'C:\\\\Users\\\\Edward\\\\Desktop\\\\music\\\\data_mp3\\\\1AfkQES9PPw__ы21.mp3',\n",
       " 'C:\\\\Users\\\\Edward\\\\Desktop\\\\music\\\\data_mp3\\\\1AfkQES9PPw__ы22.mp3',\n",
       " 'C:\\\\Users\\\\Edward\\\\Desktop\\\\music\\\\data_mp3\\\\1AfkQES9PPw__ы23.mp3',\n",
       " 'C:\\\\Users\\\\Edward\\\\Desktop\\\\music\\\\data_mp3\\\\1AfkQES9PPw__ы24.mp3',\n",
       " 'C:\\\\Users\\\\Edward\\\\Desktop\\\\music\\\\data_mp3\\\\1AfkQES9PPw__ы25.mp3',\n",
       " 'C:\\\\Users\\\\Edward\\\\Desktop\\\\music\\\\data_mp3\\\\1AfkQES9PPw__ы26.mp3',\n",
       " 'C:\\\\Users\\\\Edward\\\\Desktop\\\\music\\\\data_mp3\\\\1AfkQES9PPw__ы27.mp3',\n",
       " 'C:\\\\Users\\\\Edward\\\\Desktop\\\\music\\\\data_mp3\\\\1AfkQES9PPw__ы28.mp3',\n",
       " 'C:\\\\Users\\\\Edward\\\\Desktop\\\\music\\\\data_mp3\\\\1AfkQES9PPw__ы29.mp3',\n",
       " 'C:\\\\Users\\\\Edward\\\\Desktop\\\\music\\\\data_mp3\\\\1AfkQES9PPw__ы3.mp3',\n",
       " 'C:\\\\Users\\\\Edward\\\\Desktop\\\\music\\\\data_mp3\\\\1AfkQES9PPw__ы30.mp3',\n",
       " 'C:\\\\Users\\\\Edward\\\\Desktop\\\\music\\\\data_mp3\\\\1AfkQES9PPw__ы31.mp3',\n",
       " 'C:\\\\Users\\\\Edward\\\\Desktop\\\\music\\\\data_mp3\\\\1AfkQES9PPw__ы32.mp3',\n",
       " 'C:\\\\Users\\\\Edward\\\\Desktop\\\\music\\\\data_mp3\\\\1AfkQES9PPw__ы33.mp3',\n",
       " 'C:\\\\Users\\\\Edward\\\\Desktop\\\\music\\\\data_mp3\\\\1AfkQES9PPw__ы34.mp3',\n",
       " 'C:\\\\Users\\\\Edward\\\\Desktop\\\\music\\\\data_mp3\\\\1AfkQES9PPw__ы35.mp3',\n",
       " 'C:\\\\Users\\\\Edward\\\\Desktop\\\\music\\\\data_mp3\\\\1AfkQES9PPw__ы36.mp3',\n",
       " 'C:\\\\Users\\\\Edward\\\\Desktop\\\\music\\\\data_mp3\\\\1AfkQES9PPw__ы37.mp3',\n",
       " 'C:\\\\Users\\\\Edward\\\\Desktop\\\\music\\\\data_mp3\\\\1AfkQES9PPw__ы38.mp3',\n",
       " 'C:\\\\Users\\\\Edward\\\\Desktop\\\\music\\\\data_mp3\\\\1AfkQES9PPw__ы39.mp3',\n",
       " 'C:\\\\Users\\\\Edward\\\\Desktop\\\\music\\\\data_mp3\\\\1AfkQES9PPw__ы4.mp3',\n",
       " 'C:\\\\Users\\\\Edward\\\\Desktop\\\\music\\\\data_mp3\\\\1AfkQES9PPw__ы5.mp3',\n",
       " 'C:\\\\Users\\\\Edward\\\\Desktop\\\\music\\\\data_mp3\\\\1AfkQES9PPw__ы6.mp3',\n",
       " 'C:\\\\Users\\\\Edward\\\\Desktop\\\\music\\\\data_mp3\\\\1AfkQES9PPw__ы7.mp3',\n",
       " 'C:\\\\Users\\\\Edward\\\\Desktop\\\\music\\\\data_mp3\\\\1AfkQES9PPw__ы8.mp3',\n",
       " 'C:\\\\Users\\\\Edward\\\\Desktop\\\\music\\\\data_mp3\\\\1AfkQES9PPw__ы9.mp3',\n",
       " 'C:\\\\Users\\\\Edward\\\\Desktop\\\\music\\\\data_mp3\\\\1VgqTZptlt4.mp3',\n",
       " 'C:\\\\Users\\\\Edward\\\\Desktop\\\\music\\\\data_mp3\\\\2PN548CszJ4__ы1.mp3',\n",
       " 'C:\\\\Users\\\\Edward\\\\Desktop\\\\music\\\\data_mp3\\\\2PN548CszJ4__ы10.mp3',\n",
       " 'C:\\\\Users\\\\Edward\\\\Desktop\\\\music\\\\data_mp3\\\\2PN548CszJ4__ы11.mp3',\n",
       " 'C:\\\\Users\\\\Edward\\\\Desktop\\\\music\\\\data_mp3\\\\2PN548CszJ4__ы12.mp3',\n",
       " 'C:\\\\Users\\\\Edward\\\\Desktop\\\\music\\\\data_mp3\\\\2PN548CszJ4__ы13.mp3',\n",
       " 'C:\\\\Users\\\\Edward\\\\Desktop\\\\music\\\\data_mp3\\\\2PN548CszJ4__ы14.mp3',\n",
       " 'C:\\\\Users\\\\Edward\\\\Desktop\\\\music\\\\data_mp3\\\\2PN548CszJ4__ы15.mp3',\n",
       " 'C:\\\\Users\\\\Edward\\\\Desktop\\\\music\\\\data_mp3\\\\2PN548CszJ4__ы16.mp3',\n",
       " 'C:\\\\Users\\\\Edward\\\\Desktop\\\\music\\\\data_mp3\\\\2PN548CszJ4__ы17.mp3',\n",
       " 'C:\\\\Users\\\\Edward\\\\Desktop\\\\music\\\\data_mp3\\\\2PN548CszJ4__ы18.mp3',\n",
       " 'C:\\\\Users\\\\Edward\\\\Desktop\\\\music\\\\data_mp3\\\\2PN548CszJ4__ы19.mp3',\n",
       " 'C:\\\\Users\\\\Edward\\\\Desktop\\\\music\\\\data_mp3\\\\2PN548CszJ4__ы2.mp3',\n",
       " 'C:\\\\Users\\\\Edward\\\\Desktop\\\\music\\\\data_mp3\\\\2PN548CszJ4__ы20.mp3',\n",
       " 'C:\\\\Users\\\\Edward\\\\Desktop\\\\music\\\\data_mp3\\\\2PN548CszJ4__ы21.mp3',\n",
       " 'C:\\\\Users\\\\Edward\\\\Desktop\\\\music\\\\data_mp3\\\\2PN548CszJ4__ы22.mp3',\n",
       " 'C:\\\\Users\\\\Edward\\\\Desktop\\\\music\\\\data_mp3\\\\2PN548CszJ4__ы23.mp3',\n",
       " 'C:\\\\Users\\\\Edward\\\\Desktop\\\\music\\\\data_mp3\\\\2PN548CszJ4__ы24.mp3',\n",
       " 'C:\\\\Users\\\\Edward\\\\Desktop\\\\music\\\\data_mp3\\\\2PN548CszJ4__ы3.mp3',\n",
       " 'C:\\\\Users\\\\Edward\\\\Desktop\\\\music\\\\data_mp3\\\\2PN548CszJ4__ы4.mp3',\n",
       " 'C:\\\\Users\\\\Edward\\\\Desktop\\\\music\\\\data_mp3\\\\2PN548CszJ4__ы5.mp3',\n",
       " 'C:\\\\Users\\\\Edward\\\\Desktop\\\\music\\\\data_mp3\\\\2PN548CszJ4__ы6.mp3',\n",
       " 'C:\\\\Users\\\\Edward\\\\Desktop\\\\music\\\\data_mp3\\\\2PN548CszJ4__ы7.mp3',\n",
       " 'C:\\\\Users\\\\Edward\\\\Desktop\\\\music\\\\data_mp3\\\\2PN548CszJ4__ы8.mp3',\n",
       " 'C:\\\\Users\\\\Edward\\\\Desktop\\\\music\\\\data_mp3\\\\2PN548CszJ4__ы9.mp3',\n",
       " 'C:\\\\Users\\\\Edward\\\\Desktop\\\\music\\\\data_mp3\\\\36qnhrJGgfc.mp3',\n",
       " 'C:\\\\Users\\\\Edward\\\\Desktop\\\\music\\\\data_mp3\\\\36v6XBpa7CA.mp3',\n",
       " 'C:\\\\Users\\\\Edward\\\\Desktop\\\\music\\\\data_mp3\\\\40PLk5VKVKQ__ы1.mp3',\n",
       " 'C:\\\\Users\\\\Edward\\\\Desktop\\\\music\\\\data_mp3\\\\40PLk5VKVKQ__ы2.mp3',\n",
       " 'C:\\\\Users\\\\Edward\\\\Desktop\\\\music\\\\data_mp3\\\\40PLk5VKVKQ__ы3.mp3',\n",
       " 'C:\\\\Users\\\\Edward\\\\Desktop\\\\music\\\\data_mp3\\\\40PLk5VKVKQ__ы4.mp3',\n",
       " 'C:\\\\Users\\\\Edward\\\\Desktop\\\\music\\\\data_mp3\\\\40PLk5VKVKQ__ы5.mp3',\n",
       " 'C:\\\\Users\\\\Edward\\\\Desktop\\\\music\\\\data_mp3\\\\40PLk5VKVKQ__ы6.mp3',\n",
       " 'C:\\\\Users\\\\Edward\\\\Desktop\\\\music\\\\data_mp3\\\\40PLk5VKVKQ__ы7.mp3',\n",
       " 'C:\\\\Users\\\\Edward\\\\Desktop\\\\music\\\\data_mp3\\\\40PLk5VKVKQ__ы8.mp3',\n",
       " 'C:\\\\Users\\\\Edward\\\\Desktop\\\\music\\\\data_mp3\\\\40PLk5VKVKQ__ы9.mp3',\n",
       " 'C:\\\\Users\\\\Edward\\\\Desktop\\\\music\\\\data_mp3\\\\5mHYwdeBDAE__ы1.mp3',\n",
       " 'C:\\\\Users\\\\Edward\\\\Desktop\\\\music\\\\data_mp3\\\\5mHYwdeBDAE__ы10.mp3',\n",
       " 'C:\\\\Users\\\\Edward\\\\Desktop\\\\music\\\\data_mp3\\\\5mHYwdeBDAE__ы11.mp3',\n",
       " 'C:\\\\Users\\\\Edward\\\\Desktop\\\\music\\\\data_mp3\\\\5mHYwdeBDAE__ы12.mp3',\n",
       " 'C:\\\\Users\\\\Edward\\\\Desktop\\\\music\\\\data_mp3\\\\5mHYwdeBDAE__ы2.mp3',\n",
       " 'C:\\\\Users\\\\Edward\\\\Desktop\\\\music\\\\data_mp3\\\\5mHYwdeBDAE__ы3.mp3',\n",
       " 'C:\\\\Users\\\\Edward\\\\Desktop\\\\music\\\\data_mp3\\\\5mHYwdeBDAE__ы4.mp3',\n",
       " 'C:\\\\Users\\\\Edward\\\\Desktop\\\\music\\\\data_mp3\\\\5mHYwdeBDAE__ы5.mp3',\n",
       " 'C:\\\\Users\\\\Edward\\\\Desktop\\\\music\\\\data_mp3\\\\5mHYwdeBDAE__ы6.mp3',\n",
       " 'C:\\\\Users\\\\Edward\\\\Desktop\\\\music\\\\data_mp3\\\\5mHYwdeBDAE__ы7.mp3',\n",
       " 'C:\\\\Users\\\\Edward\\\\Desktop\\\\music\\\\data_mp3\\\\5mHYwdeBDAE__ы8.mp3',\n",
       " 'C:\\\\Users\\\\Edward\\\\Desktop\\\\music\\\\data_mp3\\\\5mHYwdeBDAE__ы9.mp3',\n",
       " 'C:\\\\Users\\\\Edward\\\\Desktop\\\\music\\\\data_mp3\\\\6A4A9Xkx6Xo__ы1.mp3',\n",
       " 'C:\\\\Users\\\\Edward\\\\Desktop\\\\music\\\\data_mp3\\\\6A4A9Xkx6Xo__ы10.mp3',\n",
       " 'C:\\\\Users\\\\Edward\\\\Desktop\\\\music\\\\data_mp3\\\\6A4A9Xkx6Xo__ы11.mp3',\n",
       " 'C:\\\\Users\\\\Edward\\\\Desktop\\\\music\\\\data_mp3\\\\6A4A9Xkx6Xo__ы12.mp3',\n",
       " 'C:\\\\Users\\\\Edward\\\\Desktop\\\\music\\\\data_mp3\\\\6A4A9Xkx6Xo__ы13.mp3',\n",
       " 'C:\\\\Users\\\\Edward\\\\Desktop\\\\music\\\\data_mp3\\\\6A4A9Xkx6Xo__ы14.mp3',\n",
       " 'C:\\\\Users\\\\Edward\\\\Desktop\\\\music\\\\data_mp3\\\\6A4A9Xkx6Xo__ы15.mp3',\n",
       " 'C:\\\\Users\\\\Edward\\\\Desktop\\\\music\\\\data_mp3\\\\6A4A9Xkx6Xo__ы16.mp3',\n",
       " 'C:\\\\Users\\\\Edward\\\\Desktop\\\\music\\\\data_mp3\\\\6A4A9Xkx6Xo__ы17.mp3',\n",
       " 'C:\\\\Users\\\\Edward\\\\Desktop\\\\music\\\\data_mp3\\\\6A4A9Xkx6Xo__ы18.mp3',\n",
       " 'C:\\\\Users\\\\Edward\\\\Desktop\\\\music\\\\data_mp3\\\\6A4A9Xkx6Xo__ы19.mp3',\n",
       " 'C:\\\\Users\\\\Edward\\\\Desktop\\\\music\\\\data_mp3\\\\6A4A9Xkx6Xo__ы2.mp3',\n",
       " 'C:\\\\Users\\\\Edward\\\\Desktop\\\\music\\\\data_mp3\\\\6A4A9Xkx6Xo__ы20.mp3',\n",
       " 'C:\\\\Users\\\\Edward\\\\Desktop\\\\music\\\\data_mp3\\\\6A4A9Xkx6Xo__ы21.mp3',\n",
       " 'C:\\\\Users\\\\Edward\\\\Desktop\\\\music\\\\data_mp3\\\\6A4A9Xkx6Xo__ы22.mp3',\n",
       " 'C:\\\\Users\\\\Edward\\\\Desktop\\\\music\\\\data_mp3\\\\6A4A9Xkx6Xo__ы23.mp3',\n",
       " 'C:\\\\Users\\\\Edward\\\\Desktop\\\\music\\\\data_mp3\\\\6A4A9Xkx6Xo__ы24.mp3',\n",
       " 'C:\\\\Users\\\\Edward\\\\Desktop\\\\music\\\\data_mp3\\\\6A4A9Xkx6Xo__ы3.mp3',\n",
       " 'C:\\\\Users\\\\Edward\\\\Desktop\\\\music\\\\data_mp3\\\\6A4A9Xkx6Xo__ы4.mp3',\n",
       " 'C:\\\\Users\\\\Edward\\\\Desktop\\\\music\\\\data_mp3\\\\6A4A9Xkx6Xo__ы5.mp3',\n",
       " 'C:\\\\Users\\\\Edward\\\\Desktop\\\\music\\\\data_mp3\\\\6A4A9Xkx6Xo__ы6.mp3',\n",
       " 'C:\\\\Users\\\\Edward\\\\Desktop\\\\music\\\\data_mp3\\\\6A4A9Xkx6Xo__ы7.mp3',\n",
       " 'C:\\\\Users\\\\Edward\\\\Desktop\\\\music\\\\data_mp3\\\\6A4A9Xkx6Xo__ы8.mp3',\n",
       " 'C:\\\\Users\\\\Edward\\\\Desktop\\\\music\\\\data_mp3\\\\6A4A9Xkx6Xo__ы9.mp3',\n",
       " 'C:\\\\Users\\\\Edward\\\\Desktop\\\\music\\\\data_mp3\\\\6KDvQz-YfKY__ы1.mp3',\n",
       " 'C:\\\\Users\\\\Edward\\\\Desktop\\\\music\\\\data_mp3\\\\6KDvQz-YfKY__ы10.mp3',\n",
       " 'C:\\\\Users\\\\Edward\\\\Desktop\\\\music\\\\data_mp3\\\\6KDvQz-YfKY__ы11.mp3',\n",
       " 'C:\\\\Users\\\\Edward\\\\Desktop\\\\music\\\\data_mp3\\\\6KDvQz-YfKY__ы12.mp3',\n",
       " 'C:\\\\Users\\\\Edward\\\\Desktop\\\\music\\\\data_mp3\\\\6KDvQz-YfKY__ы13.mp3',\n",
       " 'C:\\\\Users\\\\Edward\\\\Desktop\\\\music\\\\data_mp3\\\\6KDvQz-YfKY__ы14.mp3',\n",
       " 'C:\\\\Users\\\\Edward\\\\Desktop\\\\music\\\\data_mp3\\\\6KDvQz-YfKY__ы15.mp3',\n",
       " 'C:\\\\Users\\\\Edward\\\\Desktop\\\\music\\\\data_mp3\\\\6KDvQz-YfKY__ы16.mp3',\n",
       " 'C:\\\\Users\\\\Edward\\\\Desktop\\\\music\\\\data_mp3\\\\6KDvQz-YfKY__ы17.mp3',\n",
       " 'C:\\\\Users\\\\Edward\\\\Desktop\\\\music\\\\data_mp3\\\\6KDvQz-YfKY__ы18.mp3',\n",
       " 'C:\\\\Users\\\\Edward\\\\Desktop\\\\music\\\\data_mp3\\\\6KDvQz-YfKY__ы19.mp3',\n",
       " 'C:\\\\Users\\\\Edward\\\\Desktop\\\\music\\\\data_mp3\\\\6KDvQz-YfKY__ы2.mp3',\n",
       " 'C:\\\\Users\\\\Edward\\\\Desktop\\\\music\\\\data_mp3\\\\6KDvQz-YfKY__ы20.mp3',\n",
       " 'C:\\\\Users\\\\Edward\\\\Desktop\\\\music\\\\data_mp3\\\\6KDvQz-YfKY__ы21.mp3',\n",
       " 'C:\\\\Users\\\\Edward\\\\Desktop\\\\music\\\\data_mp3\\\\6KDvQz-YfKY__ы22.mp3',\n",
       " 'C:\\\\Users\\\\Edward\\\\Desktop\\\\music\\\\data_mp3\\\\6KDvQz-YfKY__ы23.mp3',\n",
       " 'C:\\\\Users\\\\Edward\\\\Desktop\\\\music\\\\data_mp3\\\\6KDvQz-YfKY__ы24.mp3',\n",
       " 'C:\\\\Users\\\\Edward\\\\Desktop\\\\music\\\\data_mp3\\\\6KDvQz-YfKY__ы3.mp3',\n",
       " 'C:\\\\Users\\\\Edward\\\\Desktop\\\\music\\\\data_mp3\\\\6KDvQz-YfKY__ы4.mp3',\n",
       " 'C:\\\\Users\\\\Edward\\\\Desktop\\\\music\\\\data_mp3\\\\6KDvQz-YfKY__ы5.mp3',\n",
       " 'C:\\\\Users\\\\Edward\\\\Desktop\\\\music\\\\data_mp3\\\\6KDvQz-YfKY__ы6.mp3',\n",
       " 'C:\\\\Users\\\\Edward\\\\Desktop\\\\music\\\\data_mp3\\\\6KDvQz-YfKY__ы7.mp3',\n",
       " 'C:\\\\Users\\\\Edward\\\\Desktop\\\\music\\\\data_mp3\\\\6KDvQz-YfKY__ы8.mp3',\n",
       " 'C:\\\\Users\\\\Edward\\\\Desktop\\\\music\\\\data_mp3\\\\6KDvQz-YfKY__ы9.mp3',\n",
       " 'C:\\\\Users\\\\Edward\\\\Desktop\\\\music\\\\data_mp3\\\\6oFwfkx-3lg__ы1.mp3',\n",
       " 'C:\\\\Users\\\\Edward\\\\Desktop\\\\music\\\\data_mp3\\\\6QdLsPBa30o__ы1.mp3',\n",
       " 'C:\\\\Users\\\\Edward\\\\Desktop\\\\music\\\\data_mp3\\\\6QdLsPBa30o__ы10.mp3',\n",
       " 'C:\\\\Users\\\\Edward\\\\Desktop\\\\music\\\\data_mp3\\\\6QdLsPBa30o__ы11.mp3',\n",
       " 'C:\\\\Users\\\\Edward\\\\Desktop\\\\music\\\\data_mp3\\\\6QdLsPBa30o__ы12.mp3',\n",
       " 'C:\\\\Users\\\\Edward\\\\Desktop\\\\music\\\\data_mp3\\\\6QdLsPBa30o__ы13.mp3',\n",
       " 'C:\\\\Users\\\\Edward\\\\Desktop\\\\music\\\\data_mp3\\\\6QdLsPBa30o__ы14.mp3',\n",
       " 'C:\\\\Users\\\\Edward\\\\Desktop\\\\music\\\\data_mp3\\\\6QdLsPBa30o__ы15.mp3',\n",
       " 'C:\\\\Users\\\\Edward\\\\Desktop\\\\music\\\\data_mp3\\\\6QdLsPBa30o__ы16.mp3',\n",
       " 'C:\\\\Users\\\\Edward\\\\Desktop\\\\music\\\\data_mp3\\\\6QdLsPBa30o__ы17.mp3',\n",
       " 'C:\\\\Users\\\\Edward\\\\Desktop\\\\music\\\\data_mp3\\\\6QdLsPBa30o__ы18.mp3',\n",
       " 'C:\\\\Users\\\\Edward\\\\Desktop\\\\music\\\\data_mp3\\\\6QdLsPBa30o__ы19.mp3',\n",
       " 'C:\\\\Users\\\\Edward\\\\Desktop\\\\music\\\\data_mp3\\\\6QdLsPBa30o__ы2.mp3',\n",
       " 'C:\\\\Users\\\\Edward\\\\Desktop\\\\music\\\\data_mp3\\\\6QdLsPBa30o__ы20.mp3',\n",
       " 'C:\\\\Users\\\\Edward\\\\Desktop\\\\music\\\\data_mp3\\\\6QdLsPBa30o__ы21.mp3',\n",
       " 'C:\\\\Users\\\\Edward\\\\Desktop\\\\music\\\\data_mp3\\\\6QdLsPBa30o__ы22.mp3',\n",
       " 'C:\\\\Users\\\\Edward\\\\Desktop\\\\music\\\\data_mp3\\\\6QdLsPBa30o__ы23.mp3',\n",
       " 'C:\\\\Users\\\\Edward\\\\Desktop\\\\music\\\\data_mp3\\\\6QdLsPBa30o__ы24.mp3',\n",
       " 'C:\\\\Users\\\\Edward\\\\Desktop\\\\music\\\\data_mp3\\\\6QdLsPBa30o__ы3.mp3',\n",
       " 'C:\\\\Users\\\\Edward\\\\Desktop\\\\music\\\\data_mp3\\\\6QdLsPBa30o__ы4.mp3',\n",
       " 'C:\\\\Users\\\\Edward\\\\Desktop\\\\music\\\\data_mp3\\\\6QdLsPBa30o__ы5.mp3',\n",
       " 'C:\\\\Users\\\\Edward\\\\Desktop\\\\music\\\\data_mp3\\\\6QdLsPBa30o__ы6.mp3',\n",
       " 'C:\\\\Users\\\\Edward\\\\Desktop\\\\music\\\\data_mp3\\\\6QdLsPBa30o__ы7.mp3',\n",
       " 'C:\\\\Users\\\\Edward\\\\Desktop\\\\music\\\\data_mp3\\\\6QdLsPBa30o__ы8.mp3',\n",
       " 'C:\\\\Users\\\\Edward\\\\Desktop\\\\music\\\\data_mp3\\\\6QdLsPBa30o__ы9.mp3',\n",
       " 'C:\\\\Users\\\\Edward\\\\Desktop\\\\music\\\\data_mp3\\\\6spnsA8dQwA.mp3',\n",
       " 'C:\\\\Users\\\\Edward\\\\Desktop\\\\music\\\\data_mp3\\\\7HiOuTpi5dg__ы1.mp3',\n",
       " 'C:\\\\Users\\\\Edward\\\\Desktop\\\\music\\\\data_mp3\\\\7HiOuTpi5dg__ы10.mp3',\n",
       " 'C:\\\\Users\\\\Edward\\\\Desktop\\\\music\\\\data_mp3\\\\7HiOuTpi5dg__ы11.mp3',\n",
       " 'C:\\\\Users\\\\Edward\\\\Desktop\\\\music\\\\data_mp3\\\\7HiOuTpi5dg__ы12.mp3',\n",
       " 'C:\\\\Users\\\\Edward\\\\Desktop\\\\music\\\\data_mp3\\\\7HiOuTpi5dg__ы13.mp3',\n",
       " 'C:\\\\Users\\\\Edward\\\\Desktop\\\\music\\\\data_mp3\\\\7HiOuTpi5dg__ы2.mp3',\n",
       " 'C:\\\\Users\\\\Edward\\\\Desktop\\\\music\\\\data_mp3\\\\7HiOuTpi5dg__ы3.mp3',\n",
       " 'C:\\\\Users\\\\Edward\\\\Desktop\\\\music\\\\data_mp3\\\\7HiOuTpi5dg__ы4.mp3',\n",
       " 'C:\\\\Users\\\\Edward\\\\Desktop\\\\music\\\\data_mp3\\\\7HiOuTpi5dg__ы5.mp3',\n",
       " 'C:\\\\Users\\\\Edward\\\\Desktop\\\\music\\\\data_mp3\\\\7HiOuTpi5dg__ы6.mp3',\n",
       " 'C:\\\\Users\\\\Edward\\\\Desktop\\\\music\\\\data_mp3\\\\7HiOuTpi5dg__ы7.mp3',\n",
       " 'C:\\\\Users\\\\Edward\\\\Desktop\\\\music\\\\data_mp3\\\\7HiOuTpi5dg__ы8.mp3',\n",
       " 'C:\\\\Users\\\\Edward\\\\Desktop\\\\music\\\\data_mp3\\\\7HiOuTpi5dg__ы9.mp3',\n",
       " 'C:\\\\Users\\\\Edward\\\\Desktop\\\\music\\\\data_mp3\\\\7MmhdFwERjE__ы1.mp3',\n",
       " 'C:\\\\Users\\\\Edward\\\\Desktop\\\\music\\\\data_mp3\\\\7MmhdFwERjE__ы10.mp3',\n",
       " 'C:\\\\Users\\\\Edward\\\\Desktop\\\\music\\\\data_mp3\\\\7MmhdFwERjE__ы11.mp3',\n",
       " 'C:\\\\Users\\\\Edward\\\\Desktop\\\\music\\\\data_mp3\\\\7MmhdFwERjE__ы12.mp3',\n",
       " 'C:\\\\Users\\\\Edward\\\\Desktop\\\\music\\\\data_mp3\\\\7MmhdFwERjE__ы13.mp3',\n",
       " 'C:\\\\Users\\\\Edward\\\\Desktop\\\\music\\\\data_mp3\\\\7MmhdFwERjE__ы14.mp3',\n",
       " 'C:\\\\Users\\\\Edward\\\\Desktop\\\\music\\\\data_mp3\\\\7MmhdFwERjE__ы15.mp3',\n",
       " 'C:\\\\Users\\\\Edward\\\\Desktop\\\\music\\\\data_mp3\\\\7MmhdFwERjE__ы16.mp3',\n",
       " 'C:\\\\Users\\\\Edward\\\\Desktop\\\\music\\\\data_mp3\\\\7MmhdFwERjE__ы17.mp3',\n",
       " 'C:\\\\Users\\\\Edward\\\\Desktop\\\\music\\\\data_mp3\\\\7MmhdFwERjE__ы18.mp3',\n",
       " 'C:\\\\Users\\\\Edward\\\\Desktop\\\\music\\\\data_mp3\\\\7MmhdFwERjE__ы19.mp3',\n",
       " 'C:\\\\Users\\\\Edward\\\\Desktop\\\\music\\\\data_mp3\\\\7MmhdFwERjE__ы2.mp3',\n",
       " 'C:\\\\Users\\\\Edward\\\\Desktop\\\\music\\\\data_mp3\\\\7MmhdFwERjE__ы20.mp3',\n",
       " 'C:\\\\Users\\\\Edward\\\\Desktop\\\\music\\\\data_mp3\\\\7MmhdFwERjE__ы21.mp3',\n",
       " 'C:\\\\Users\\\\Edward\\\\Desktop\\\\music\\\\data_mp3\\\\7MmhdFwERjE__ы22.mp3',\n",
       " 'C:\\\\Users\\\\Edward\\\\Desktop\\\\music\\\\data_mp3\\\\7MmhdFwERjE__ы23.mp3',\n",
       " 'C:\\\\Users\\\\Edward\\\\Desktop\\\\music\\\\data_mp3\\\\7MmhdFwERjE__ы24.mp3',\n",
       " 'C:\\\\Users\\\\Edward\\\\Desktop\\\\music\\\\data_mp3\\\\7MmhdFwERjE__ы25.mp3',\n",
       " 'C:\\\\Users\\\\Edward\\\\Desktop\\\\music\\\\data_mp3\\\\7MmhdFwERjE__ы3.mp3',\n",
       " 'C:\\\\Users\\\\Edward\\\\Desktop\\\\music\\\\data_mp3\\\\7MmhdFwERjE__ы4.mp3',\n",
       " 'C:\\\\Users\\\\Edward\\\\Desktop\\\\music\\\\data_mp3\\\\7MmhdFwERjE__ы5.mp3',\n",
       " 'C:\\\\Users\\\\Edward\\\\Desktop\\\\music\\\\data_mp3\\\\7MmhdFwERjE__ы6.mp3',\n",
       " 'C:\\\\Users\\\\Edward\\\\Desktop\\\\music\\\\data_mp3\\\\7MmhdFwERjE__ы7.mp3',\n",
       " 'C:\\\\Users\\\\Edward\\\\Desktop\\\\music\\\\data_mp3\\\\7MmhdFwERjE__ы8.mp3',\n",
       " 'C:\\\\Users\\\\Edward\\\\Desktop\\\\music\\\\data_mp3\\\\7MmhdFwERjE__ы9.mp3',\n",
       " 'C:\\\\Users\\\\Edward\\\\Desktop\\\\music\\\\data_mp3\\\\7SpIvGqi5Wk.mp3',\n",
       " 'C:\\\\Users\\\\Edward\\\\Desktop\\\\music\\\\data_mp3\\\\82FDvDi05w0.mp3',\n",
       " 'C:\\\\Users\\\\Edward\\\\Desktop\\\\music\\\\data_mp3\\\\8ZspunA4HlM__ы1.mp3',\n",
       " 'C:\\\\Users\\\\Edward\\\\Desktop\\\\music\\\\data_mp3\\\\8ZspunA4HlM__ы10.mp3',\n",
       " 'C:\\\\Users\\\\Edward\\\\Desktop\\\\music\\\\data_mp3\\\\8ZspunA4HlM__ы11.mp3',\n",
       " 'C:\\\\Users\\\\Edward\\\\Desktop\\\\music\\\\data_mp3\\\\8ZspunA4HlM__ы12.mp3',\n",
       " 'C:\\\\Users\\\\Edward\\\\Desktop\\\\music\\\\data_mp3\\\\8ZspunA4HlM__ы13.mp3',\n",
       " 'C:\\\\Users\\\\Edward\\\\Desktop\\\\music\\\\data_mp3\\\\8ZspunA4HlM__ы2.mp3',\n",
       " 'C:\\\\Users\\\\Edward\\\\Desktop\\\\music\\\\data_mp3\\\\8ZspunA4HlM__ы3.mp3',\n",
       " 'C:\\\\Users\\\\Edward\\\\Desktop\\\\music\\\\data_mp3\\\\8ZspunA4HlM__ы4.mp3',\n",
       " 'C:\\\\Users\\\\Edward\\\\Desktop\\\\music\\\\data_mp3\\\\8ZspunA4HlM__ы5.mp3',\n",
       " 'C:\\\\Users\\\\Edward\\\\Desktop\\\\music\\\\data_mp3\\\\8ZspunA4HlM__ы6.mp3',\n",
       " 'C:\\\\Users\\\\Edward\\\\Desktop\\\\music\\\\data_mp3\\\\8ZspunA4HlM__ы7.mp3',\n",
       " 'C:\\\\Users\\\\Edward\\\\Desktop\\\\music\\\\data_mp3\\\\8ZspunA4HlM__ы8.mp3',\n",
       " 'C:\\\\Users\\\\Edward\\\\Desktop\\\\music\\\\data_mp3\\\\8ZspunA4HlM__ы9.mp3',\n",
       " 'C:\\\\Users\\\\Edward\\\\Desktop\\\\music\\\\data_mp3\\\\9gM7FUXeIb0.mp3',\n",
       " 'C:\\\\Users\\\\Edward\\\\Desktop\\\\music\\\\data_mp3\\\\9mKCj4Nigpg.mp3',\n",
       " 'C:\\\\Users\\\\Edward\\\\Desktop\\\\music\\\\data_mp3\\\\9o2QPoPlhVI.mp3',\n",
       " 'C:\\\\Users\\\\Edward\\\\Desktop\\\\music\\\\data_mp3\\\\A5oXyThssps.mp3',\n",
       " 'C:\\\\Users\\\\Edward\\\\Desktop\\\\music\\\\data_mp3\\\\A7Pv8Tg4C2Q.mp3',\n",
       " 'C:\\\\Users\\\\Edward\\\\Desktop\\\\music\\\\data_mp3\\\\aChhwFF_SNQ__ы1.mp3',\n",
       " 'C:\\\\Users\\\\Edward\\\\Desktop\\\\music\\\\data_mp3\\\\AFNZosSiNRI.mp3',\n",
       " 'C:\\\\Users\\\\Edward\\\\Desktop\\\\music\\\\data_mp3\\\\aJIDqYZ7qM0__ы1.mp3',\n",
       " 'C:\\\\Users\\\\Edward\\\\Desktop\\\\music\\\\data_mp3\\\\aJIDqYZ7qM0__ы10.mp3',\n",
       " 'C:\\\\Users\\\\Edward\\\\Desktop\\\\music\\\\data_mp3\\\\aJIDqYZ7qM0__ы11.mp3',\n",
       " 'C:\\\\Users\\\\Edward\\\\Desktop\\\\music\\\\data_mp3\\\\aJIDqYZ7qM0__ы2.mp3',\n",
       " 'C:\\\\Users\\\\Edward\\\\Desktop\\\\music\\\\data_mp3\\\\aJIDqYZ7qM0__ы3.mp3',\n",
       " 'C:\\\\Users\\\\Edward\\\\Desktop\\\\music\\\\data_mp3\\\\aJIDqYZ7qM0__ы4.mp3',\n",
       " 'C:\\\\Users\\\\Edward\\\\Desktop\\\\music\\\\data_mp3\\\\aJIDqYZ7qM0__ы5.mp3',\n",
       " 'C:\\\\Users\\\\Edward\\\\Desktop\\\\music\\\\data_mp3\\\\aJIDqYZ7qM0__ы6.mp3',\n",
       " 'C:\\\\Users\\\\Edward\\\\Desktop\\\\music\\\\data_mp3\\\\aJIDqYZ7qM0__ы7.mp3',\n",
       " 'C:\\\\Users\\\\Edward\\\\Desktop\\\\music\\\\data_mp3\\\\aJIDqYZ7qM0__ы8.mp3',\n",
       " 'C:\\\\Users\\\\Edward\\\\Desktop\\\\music\\\\data_mp3\\\\aJIDqYZ7qM0__ы9.mp3',\n",
       " 'C:\\\\Users\\\\Edward\\\\Desktop\\\\music\\\\data_mp3\\\\AMpvHWfXNFs.mp3',\n",
       " 'C:\\\\Users\\\\Edward\\\\Desktop\\\\music\\\\data_mp3\\\\B6XZRAtrPJU.mp3',\n",
       " 'C:\\\\Users\\\\Edward\\\\Desktop\\\\music\\\\data_mp3\\\\BBEAZkmbyeY.mp3',\n",
       " 'C:\\\\Users\\\\Edward\\\\Desktop\\\\music\\\\data_mp3\\\\bdxTDbrxXSI.mp3',\n",
       " 'C:\\\\Users\\\\Edward\\\\Desktop\\\\music\\\\data_mp3\\\\bpOSxM0rNPM.mp3',\n",
       " 'C:\\\\Users\\\\Edward\\\\Desktop\\\\music\\\\data_mp3\\\\BtXec1z00pM__ы1.mp3',\n",
       " 'C:\\\\Users\\\\Edward\\\\Desktop\\\\music\\\\data_mp3\\\\ch-HHGuzwRU__ы1.mp3',\n",
       " 'C:\\\\Users\\\\Edward\\\\Desktop\\\\music\\\\data_mp3\\\\ch-HHGuzwRU__ы10.mp3',\n",
       " 'C:\\\\Users\\\\Edward\\\\Desktop\\\\music\\\\data_mp3\\\\ch-HHGuzwRU__ы11.mp3',\n",
       " 'C:\\\\Users\\\\Edward\\\\Desktop\\\\music\\\\data_mp3\\\\ch-HHGuzwRU__ы2.mp3',\n",
       " 'C:\\\\Users\\\\Edward\\\\Desktop\\\\music\\\\data_mp3\\\\ch-HHGuzwRU__ы3.mp3',\n",
       " 'C:\\\\Users\\\\Edward\\\\Desktop\\\\music\\\\data_mp3\\\\ch-HHGuzwRU__ы4.mp3',\n",
       " 'C:\\\\Users\\\\Edward\\\\Desktop\\\\music\\\\data_mp3\\\\ch-HHGuzwRU__ы5.mp3',\n",
       " 'C:\\\\Users\\\\Edward\\\\Desktop\\\\music\\\\data_mp3\\\\ch-HHGuzwRU__ы6.mp3',\n",
       " 'C:\\\\Users\\\\Edward\\\\Desktop\\\\music\\\\data_mp3\\\\ch-HHGuzwRU__ы7.mp3',\n",
       " 'C:\\\\Users\\\\Edward\\\\Desktop\\\\music\\\\data_mp3\\\\ch-HHGuzwRU__ы8.mp3',\n",
       " 'C:\\\\Users\\\\Edward\\\\Desktop\\\\music\\\\data_mp3\\\\ch-HHGuzwRU__ы9.mp3',\n",
       " 'C:\\\\Users\\\\Edward\\\\Desktop\\\\music\\\\data_mp3\\\\CqMFclGDA20.mp3',\n",
       " 'C:\\\\Users\\\\Edward\\\\Desktop\\\\music\\\\data_mp3\\\\cSPfeTwl8Kw__ы1.mp3',\n",
       " 'C:\\\\Users\\\\Edward\\\\Desktop\\\\music\\\\data_mp3\\\\CvRGpXtNc1o.mp3',\n",
       " 'C:\\\\Users\\\\Edward\\\\Desktop\\\\music\\\\data_mp3\\\\D6_b4Iueeo8.mp3',\n",
       " 'C:\\\\Users\\\\Edward\\\\Desktop\\\\music\\\\data_mp3\\\\d8081_cQZyY.mp3',\n",
       " 'C:\\\\Users\\\\Edward\\\\Desktop\\\\music\\\\data_mp3\\\\DDyoU8Rs-lE.mp3',\n",
       " 'C:\\\\Users\\\\Edward\\\\Desktop\\\\music\\\\data_mp3\\\\desktop.ini',\n",
       " 'C:\\\\Users\\\\Edward\\\\Desktop\\\\music\\\\data_mp3\\\\DGKayhZqZRU.mp3',\n",
       " 'C:\\\\Users\\\\Edward\\\\Desktop\\\\music\\\\data_mp3\\\\DIQRZkXB9Qk__ы1.mp3',\n",
       " 'C:\\\\Users\\\\Edward\\\\Desktop\\\\music\\\\data_mp3\\\\DIQRZkXB9Qk__ы10.mp3',\n",
       " 'C:\\\\Users\\\\Edward\\\\Desktop\\\\music\\\\data_mp3\\\\DIQRZkXB9Qk__ы11.mp3',\n",
       " 'C:\\\\Users\\\\Edward\\\\Desktop\\\\music\\\\data_mp3\\\\DIQRZkXB9Qk__ы12.mp3',\n",
       " 'C:\\\\Users\\\\Edward\\\\Desktop\\\\music\\\\data_mp3\\\\DIQRZkXB9Qk__ы2.mp3',\n",
       " 'C:\\\\Users\\\\Edward\\\\Desktop\\\\music\\\\data_mp3\\\\DIQRZkXB9Qk__ы3.mp3',\n",
       " 'C:\\\\Users\\\\Edward\\\\Desktop\\\\music\\\\data_mp3\\\\DIQRZkXB9Qk__ы4.mp3',\n",
       " 'C:\\\\Users\\\\Edward\\\\Desktop\\\\music\\\\data_mp3\\\\DIQRZkXB9Qk__ы5.mp3',\n",
       " 'C:\\\\Users\\\\Edward\\\\Desktop\\\\music\\\\data_mp3\\\\DIQRZkXB9Qk__ы6.mp3',\n",
       " 'C:\\\\Users\\\\Edward\\\\Desktop\\\\music\\\\data_mp3\\\\DIQRZkXB9Qk__ы7.mp3',\n",
       " 'C:\\\\Users\\\\Edward\\\\Desktop\\\\music\\\\data_mp3\\\\DIQRZkXB9Qk__ы8.mp3',\n",
       " 'C:\\\\Users\\\\Edward\\\\Desktop\\\\music\\\\data_mp3\\\\DIQRZkXB9Qk__ы9.mp3',\n",
       " 'C:\\\\Users\\\\Edward\\\\Desktop\\\\music\\\\data_mp3\\\\Eiijm2GhKAA__ы1.mp3',\n",
       " 'C:\\\\Users\\\\Edward\\\\Desktop\\\\music\\\\data_mp3\\\\Eiijm2GhKAA__ы10.mp3',\n",
       " 'C:\\\\Users\\\\Edward\\\\Desktop\\\\music\\\\data_mp3\\\\Eiijm2GhKAA__ы11.mp3',\n",
       " 'C:\\\\Users\\\\Edward\\\\Desktop\\\\music\\\\data_mp3\\\\Eiijm2GhKAA__ы12.mp3',\n",
       " 'C:\\\\Users\\\\Edward\\\\Desktop\\\\music\\\\data_mp3\\\\Eiijm2GhKAA__ы13.mp3',\n",
       " 'C:\\\\Users\\\\Edward\\\\Desktop\\\\music\\\\data_mp3\\\\Eiijm2GhKAA__ы14.mp3',\n",
       " 'C:\\\\Users\\\\Edward\\\\Desktop\\\\music\\\\data_mp3\\\\Eiijm2GhKAA__ы15.mp3',\n",
       " 'C:\\\\Users\\\\Edward\\\\Desktop\\\\music\\\\data_mp3\\\\Eiijm2GhKAA__ы16.mp3',\n",
       " 'C:\\\\Users\\\\Edward\\\\Desktop\\\\music\\\\data_mp3\\\\Eiijm2GhKAA__ы17.mp3',\n",
       " 'C:\\\\Users\\\\Edward\\\\Desktop\\\\music\\\\data_mp3\\\\Eiijm2GhKAA__ы18.mp3',\n",
       " 'C:\\\\Users\\\\Edward\\\\Desktop\\\\music\\\\data_mp3\\\\Eiijm2GhKAA__ы19.mp3',\n",
       " 'C:\\\\Users\\\\Edward\\\\Desktop\\\\music\\\\data_mp3\\\\Eiijm2GhKAA__ы2.mp3',\n",
       " 'C:\\\\Users\\\\Edward\\\\Desktop\\\\music\\\\data_mp3\\\\Eiijm2GhKAA__ы20.mp3',\n",
       " 'C:\\\\Users\\\\Edward\\\\Desktop\\\\music\\\\data_mp3\\\\Eiijm2GhKAA__ы21.mp3',\n",
       " 'C:\\\\Users\\\\Edward\\\\Desktop\\\\music\\\\data_mp3\\\\Eiijm2GhKAA__ы22.mp3',\n",
       " 'C:\\\\Users\\\\Edward\\\\Desktop\\\\music\\\\data_mp3\\\\Eiijm2GhKAA__ы23.mp3',\n",
       " 'C:\\\\Users\\\\Edward\\\\Desktop\\\\music\\\\data_mp3\\\\Eiijm2GhKAA__ы24.mp3',\n",
       " 'C:\\\\Users\\\\Edward\\\\Desktop\\\\music\\\\data_mp3\\\\Eiijm2GhKAA__ы25.mp3',\n",
       " 'C:\\\\Users\\\\Edward\\\\Desktop\\\\music\\\\data_mp3\\\\Eiijm2GhKAA__ы26.mp3',\n",
       " 'C:\\\\Users\\\\Edward\\\\Desktop\\\\music\\\\data_mp3\\\\Eiijm2GhKAA__ы27.mp3',\n",
       " 'C:\\\\Users\\\\Edward\\\\Desktop\\\\music\\\\data_mp3\\\\Eiijm2GhKAA__ы28.mp3',\n",
       " 'C:\\\\Users\\\\Edward\\\\Desktop\\\\music\\\\data_mp3\\\\Eiijm2GhKAA__ы29.mp3',\n",
       " 'C:\\\\Users\\\\Edward\\\\Desktop\\\\music\\\\data_mp3\\\\Eiijm2GhKAA__ы3.mp3',\n",
       " 'C:\\\\Users\\\\Edward\\\\Desktop\\\\music\\\\data_mp3\\\\Eiijm2GhKAA__ы4.mp3',\n",
       " 'C:\\\\Users\\\\Edward\\\\Desktop\\\\music\\\\data_mp3\\\\Eiijm2GhKAA__ы5.mp3',\n",
       " 'C:\\\\Users\\\\Edward\\\\Desktop\\\\music\\\\data_mp3\\\\Eiijm2GhKAA__ы6.mp3',\n",
       " 'C:\\\\Users\\\\Edward\\\\Desktop\\\\music\\\\data_mp3\\\\Eiijm2GhKAA__ы7.mp3',\n",
       " 'C:\\\\Users\\\\Edward\\\\Desktop\\\\music\\\\data_mp3\\\\Eiijm2GhKAA__ы8.mp3',\n",
       " 'C:\\\\Users\\\\Edward\\\\Desktop\\\\music\\\\data_mp3\\\\Eiijm2GhKAA__ы9.mp3',\n",
       " 'C:\\\\Users\\\\Edward\\\\Desktop\\\\music\\\\data_mp3\\\\FdJ_SGof2GI.mp3',\n",
       " 'C:\\\\Users\\\\Edward\\\\Desktop\\\\music\\\\data_mp3\\\\fe8yiBw1ydc__ы1.mp3',\n",
       " 'C:\\\\Users\\\\Edward\\\\Desktop\\\\music\\\\data_mp3\\\\FIgQGRY0EmU__ы1.mp3',\n",
       " 'C:\\\\Users\\\\Edward\\\\Desktop\\\\music\\\\data_mp3\\\\FIgQGRY0EmU__ы10.mp3',\n",
       " 'C:\\\\Users\\\\Edward\\\\Desktop\\\\music\\\\data_mp3\\\\FIgQGRY0EmU__ы11.mp3',\n",
       " 'C:\\\\Users\\\\Edward\\\\Desktop\\\\music\\\\data_mp3\\\\FIgQGRY0EmU__ы12.mp3',\n",
       " 'C:\\\\Users\\\\Edward\\\\Desktop\\\\music\\\\data_mp3\\\\FIgQGRY0EmU__ы2.mp3',\n",
       " 'C:\\\\Users\\\\Edward\\\\Desktop\\\\music\\\\data_mp3\\\\FIgQGRY0EmU__ы3.mp3',\n",
       " 'C:\\\\Users\\\\Edward\\\\Desktop\\\\music\\\\data_mp3\\\\FIgQGRY0EmU__ы4.mp3',\n",
       " 'C:\\\\Users\\\\Edward\\\\Desktop\\\\music\\\\data_mp3\\\\FIgQGRY0EmU__ы5.mp3',\n",
       " 'C:\\\\Users\\\\Edward\\\\Desktop\\\\music\\\\data_mp3\\\\FIgQGRY0EmU__ы6.mp3',\n",
       " 'C:\\\\Users\\\\Edward\\\\Desktop\\\\music\\\\data_mp3\\\\FIgQGRY0EmU__ы7.mp3',\n",
       " 'C:\\\\Users\\\\Edward\\\\Desktop\\\\music\\\\data_mp3\\\\FIgQGRY0EmU__ы8.mp3',\n",
       " 'C:\\\\Users\\\\Edward\\\\Desktop\\\\music\\\\data_mp3\\\\FIgQGRY0EmU__ы9.mp3',\n",
       " 'C:\\\\Users\\\\Edward\\\\Desktop\\\\music\\\\data_mp3\\\\fJtBo36ke3g__ы1.mp3',\n",
       " 'C:\\\\Users\\\\Edward\\\\Desktop\\\\music\\\\data_mp3\\\\fJtBo36ke3g__ы10.mp3',\n",
       " 'C:\\\\Users\\\\Edward\\\\Desktop\\\\music\\\\data_mp3\\\\fJtBo36ke3g__ы11.mp3',\n",
       " 'C:\\\\Users\\\\Edward\\\\Desktop\\\\music\\\\data_mp3\\\\fJtBo36ke3g__ы12.mp3',\n",
       " 'C:\\\\Users\\\\Edward\\\\Desktop\\\\music\\\\data_mp3\\\\fJtBo36ke3g__ы2.mp3',\n",
       " 'C:\\\\Users\\\\Edward\\\\Desktop\\\\music\\\\data_mp3\\\\fJtBo36ke3g__ы3.mp3',\n",
       " 'C:\\\\Users\\\\Edward\\\\Desktop\\\\music\\\\data_mp3\\\\fJtBo36ke3g__ы4.mp3',\n",
       " 'C:\\\\Users\\\\Edward\\\\Desktop\\\\music\\\\data_mp3\\\\fJtBo36ke3g__ы5.mp3',\n",
       " 'C:\\\\Users\\\\Edward\\\\Desktop\\\\music\\\\data_mp3\\\\fJtBo36ke3g__ы6.mp3',\n",
       " 'C:\\\\Users\\\\Edward\\\\Desktop\\\\music\\\\data_mp3\\\\fJtBo36ke3g__ы7.mp3',\n",
       " 'C:\\\\Users\\\\Edward\\\\Desktop\\\\music\\\\data_mp3\\\\fJtBo36ke3g__ы8.mp3',\n",
       " 'C:\\\\Users\\\\Edward\\\\Desktop\\\\music\\\\data_mp3\\\\fJtBo36ke3g__ы9.mp3',\n",
       " 'C:\\\\Users\\\\Edward\\\\Desktop\\\\music\\\\data_mp3\\\\Fo-dHb8GTI8.mp3',\n",
       " 'C:\\\\Users\\\\Edward\\\\Desktop\\\\music\\\\data_mp3\\\\FRSTaBZfxK4.mp3',\n",
       " 'C:\\\\Users\\\\Edward\\\\Desktop\\\\music\\\\data_mp3\\\\FXk7qopHCMY.mp3',\n",
       " 'C:\\\\Users\\\\Edward\\\\Desktop\\\\music\\\\data_mp3\\\\G3lkluCt5-Y.mp3',\n",
       " 'C:\\\\Users\\\\Edward\\\\Desktop\\\\music\\\\data_mp3\\\\gBZi2w11XxU__ы1.mp3',\n",
       " 'C:\\\\Users\\\\Edward\\\\Desktop\\\\music\\\\data_mp3\\\\gBZi2w11XxU__ы10.mp3',\n",
       " 'C:\\\\Users\\\\Edward\\\\Desktop\\\\music\\\\data_mp3\\\\gBZi2w11XxU__ы11.mp3',\n",
       " 'C:\\\\Users\\\\Edward\\\\Desktop\\\\music\\\\data_mp3\\\\gBZi2w11XxU__ы12.mp3',\n",
       " 'C:\\\\Users\\\\Edward\\\\Desktop\\\\music\\\\data_mp3\\\\gBZi2w11XxU__ы13.mp3',\n",
       " 'C:\\\\Users\\\\Edward\\\\Desktop\\\\music\\\\data_mp3\\\\gBZi2w11XxU__ы14.mp3',\n",
       " 'C:\\\\Users\\\\Edward\\\\Desktop\\\\music\\\\data_mp3\\\\gBZi2w11XxU__ы15.mp3',\n",
       " 'C:\\\\Users\\\\Edward\\\\Desktop\\\\music\\\\data_mp3\\\\gBZi2w11XxU__ы16.mp3',\n",
       " 'C:\\\\Users\\\\Edward\\\\Desktop\\\\music\\\\data_mp3\\\\gBZi2w11XxU__ы17.mp3',\n",
       " 'C:\\\\Users\\\\Edward\\\\Desktop\\\\music\\\\data_mp3\\\\gBZi2w11XxU__ы18.mp3',\n",
       " 'C:\\\\Users\\\\Edward\\\\Desktop\\\\music\\\\data_mp3\\\\gBZi2w11XxU__ы19.mp3',\n",
       " 'C:\\\\Users\\\\Edward\\\\Desktop\\\\music\\\\data_mp3\\\\gBZi2w11XxU__ы2.mp3',\n",
       " 'C:\\\\Users\\\\Edward\\\\Desktop\\\\music\\\\data_mp3\\\\gBZi2w11XxU__ы20.mp3',\n",
       " 'C:\\\\Users\\\\Edward\\\\Desktop\\\\music\\\\data_mp3\\\\gBZi2w11XxU__ы21.mp3',\n",
       " 'C:\\\\Users\\\\Edward\\\\Desktop\\\\music\\\\data_mp3\\\\gBZi2w11XxU__ы22.mp3',\n",
       " 'C:\\\\Users\\\\Edward\\\\Desktop\\\\music\\\\data_mp3\\\\gBZi2w11XxU__ы23.mp3',\n",
       " 'C:\\\\Users\\\\Edward\\\\Desktop\\\\music\\\\data_mp3\\\\gBZi2w11XxU__ы24.mp3',\n",
       " 'C:\\\\Users\\\\Edward\\\\Desktop\\\\music\\\\data_mp3\\\\gBZi2w11XxU__ы3.mp3',\n",
       " 'C:\\\\Users\\\\Edward\\\\Desktop\\\\music\\\\data_mp3\\\\gBZi2w11XxU__ы4.mp3',\n",
       " 'C:\\\\Users\\\\Edward\\\\Desktop\\\\music\\\\data_mp3\\\\gBZi2w11XxU__ы5.mp3',\n",
       " 'C:\\\\Users\\\\Edward\\\\Desktop\\\\music\\\\data_mp3\\\\gBZi2w11XxU__ы6.mp3',\n",
       " 'C:\\\\Users\\\\Edward\\\\Desktop\\\\music\\\\data_mp3\\\\gBZi2w11XxU__ы7.mp3',\n",
       " 'C:\\\\Users\\\\Edward\\\\Desktop\\\\music\\\\data_mp3\\\\gBZi2w11XxU__ы8.mp3',\n",
       " 'C:\\\\Users\\\\Edward\\\\Desktop\\\\music\\\\data_mp3\\\\gBZi2w11XxU__ы9.mp3',\n",
       " 'C:\\\\Users\\\\Edward\\\\Desktop\\\\music\\\\data_mp3\\\\GzeBHIto4Ps__ы1.mp3',\n",
       " 'C:\\\\Users\\\\Edward\\\\Desktop\\\\music\\\\data_mp3\\\\GzeBHIto4Ps__ы2.mp3',\n",
       " 'C:\\\\Users\\\\Edward\\\\Desktop\\\\music\\\\data_mp3\\\\GzeBHIto4Ps__ы3.mp3',\n",
       " 'C:\\\\Users\\\\Edward\\\\Desktop\\\\music\\\\data_mp3\\\\GzeBHIto4Ps__ы4.mp3',\n",
       " 'C:\\\\Users\\\\Edward\\\\Desktop\\\\music\\\\data_mp3\\\\h8rGckNsF-M__ы1.mp3',\n",
       " 'C:\\\\Users\\\\Edward\\\\Desktop\\\\music\\\\data_mp3\\\\h8rGckNsF-M__ы2.mp3',\n",
       " 'C:\\\\Users\\\\Edward\\\\Desktop\\\\music\\\\data_mp3\\\\h8rGckNsF-M__ы3.mp3',\n",
       " 'C:\\\\Users\\\\Edward\\\\Desktop\\\\music\\\\data_mp3\\\\HfWlHvzu20Y.mp3',\n",
       " 'C:\\\\Users\\\\Edward\\\\Desktop\\\\music\\\\data_mp3\\\\HlP8B0KrJxk__ы1.mp3',\n",
       " 'C:\\\\Users\\\\Edward\\\\Desktop\\\\music\\\\data_mp3\\\\HlP8B0KrJxk__ы10.mp3',\n",
       " 'C:\\\\Users\\\\Edward\\\\Desktop\\\\music\\\\data_mp3\\\\HlP8B0KrJxk__ы11.mp3',\n",
       " 'C:\\\\Users\\\\Edward\\\\Desktop\\\\music\\\\data_mp3\\\\HlP8B0KrJxk__ы12.mp3',\n",
       " 'C:\\\\Users\\\\Edward\\\\Desktop\\\\music\\\\data_mp3\\\\HlP8B0KrJxk__ы2.mp3',\n",
       " 'C:\\\\Users\\\\Edward\\\\Desktop\\\\music\\\\data_mp3\\\\HlP8B0KrJxk__ы3.mp3',\n",
       " 'C:\\\\Users\\\\Edward\\\\Desktop\\\\music\\\\data_mp3\\\\HlP8B0KrJxk__ы4.mp3',\n",
       " 'C:\\\\Users\\\\Edward\\\\Desktop\\\\music\\\\data_mp3\\\\HlP8B0KrJxk__ы5.mp3',\n",
       " 'C:\\\\Users\\\\Edward\\\\Desktop\\\\music\\\\data_mp3\\\\HlP8B0KrJxk__ы6.mp3',\n",
       " 'C:\\\\Users\\\\Edward\\\\Desktop\\\\music\\\\data_mp3\\\\HlP8B0KrJxk__ы7.mp3',\n",
       " 'C:\\\\Users\\\\Edward\\\\Desktop\\\\music\\\\data_mp3\\\\HlP8B0KrJxk__ы8.mp3',\n",
       " 'C:\\\\Users\\\\Edward\\\\Desktop\\\\music\\\\data_mp3\\\\HlP8B0KrJxk__ы9.mp3',\n",
       " 'C:\\\\Users\\\\Edward\\\\Desktop\\\\music\\\\data_mp3\\\\huY252lNzx4__ы1.mp3',\n",
       " 'C:\\\\Users\\\\Edward\\\\Desktop\\\\music\\\\data_mp3\\\\huY252lNzx4__ы10.mp3',\n",
       " 'C:\\\\Users\\\\Edward\\\\Desktop\\\\music\\\\data_mp3\\\\huY252lNzx4__ы11.mp3',\n",
       " 'C:\\\\Users\\\\Edward\\\\Desktop\\\\music\\\\data_mp3\\\\huY252lNzx4__ы12.mp3',\n",
       " 'C:\\\\Users\\\\Edward\\\\Desktop\\\\music\\\\data_mp3\\\\huY252lNzx4__ы13.mp3',\n",
       " 'C:\\\\Users\\\\Edward\\\\Desktop\\\\music\\\\data_mp3\\\\huY252lNzx4__ы14.mp3',\n",
       " 'C:\\\\Users\\\\Edward\\\\Desktop\\\\music\\\\data_mp3\\\\huY252lNzx4__ы15.mp3',\n",
       " 'C:\\\\Users\\\\Edward\\\\Desktop\\\\music\\\\data_mp3\\\\huY252lNzx4__ы16.mp3',\n",
       " 'C:\\\\Users\\\\Edward\\\\Desktop\\\\music\\\\data_mp3\\\\huY252lNzx4__ы17.mp3',\n",
       " 'C:\\\\Users\\\\Edward\\\\Desktop\\\\music\\\\data_mp3\\\\huY252lNzx4__ы18.mp3',\n",
       " 'C:\\\\Users\\\\Edward\\\\Desktop\\\\music\\\\data_mp3\\\\huY252lNzx4__ы19.mp3',\n",
       " 'C:\\\\Users\\\\Edward\\\\Desktop\\\\music\\\\data_mp3\\\\huY252lNzx4__ы2.mp3',\n",
       " 'C:\\\\Users\\\\Edward\\\\Desktop\\\\music\\\\data_mp3\\\\huY252lNzx4__ы20.mp3',\n",
       " 'C:\\\\Users\\\\Edward\\\\Desktop\\\\music\\\\data_mp3\\\\huY252lNzx4__ы21.mp3',\n",
       " 'C:\\\\Users\\\\Edward\\\\Desktop\\\\music\\\\data_mp3\\\\huY252lNzx4__ы3.mp3',\n",
       " 'C:\\\\Users\\\\Edward\\\\Desktop\\\\music\\\\data_mp3\\\\huY252lNzx4__ы4.mp3',\n",
       " 'C:\\\\Users\\\\Edward\\\\Desktop\\\\music\\\\data_mp3\\\\huY252lNzx4__ы5.mp3',\n",
       " 'C:\\\\Users\\\\Edward\\\\Desktop\\\\music\\\\data_mp3\\\\huY252lNzx4__ы6.mp3',\n",
       " 'C:\\\\Users\\\\Edward\\\\Desktop\\\\music\\\\data_mp3\\\\huY252lNzx4__ы7.mp3',\n",
       " 'C:\\\\Users\\\\Edward\\\\Desktop\\\\music\\\\data_mp3\\\\huY252lNzx4__ы8.mp3',\n",
       " 'C:\\\\Users\\\\Edward\\\\Desktop\\\\music\\\\data_mp3\\\\huY252lNzx4__ы9.mp3',\n",
       " 'C:\\\\Users\\\\Edward\\\\Desktop\\\\music\\\\data_mp3\\\\hXkB92fjCgo__ы1.mp3',\n",
       " 'C:\\\\Users\\\\Edward\\\\Desktop\\\\music\\\\data_mp3\\\\hXkB92fjCgo__ы10.mp3',\n",
       " 'C:\\\\Users\\\\Edward\\\\Desktop\\\\music\\\\data_mp3\\\\hXkB92fjCgo__ы11.mp3',\n",
       " 'C:\\\\Users\\\\Edward\\\\Desktop\\\\music\\\\data_mp3\\\\hXkB92fjCgo__ы2.mp3',\n",
       " 'C:\\\\Users\\\\Edward\\\\Desktop\\\\music\\\\data_mp3\\\\hXkB92fjCgo__ы3.mp3',\n",
       " 'C:\\\\Users\\\\Edward\\\\Desktop\\\\music\\\\data_mp3\\\\hXkB92fjCgo__ы4.mp3',\n",
       " 'C:\\\\Users\\\\Edward\\\\Desktop\\\\music\\\\data_mp3\\\\hXkB92fjCgo__ы5.mp3',\n",
       " 'C:\\\\Users\\\\Edward\\\\Desktop\\\\music\\\\data_mp3\\\\hXkB92fjCgo__ы6.mp3',\n",
       " 'C:\\\\Users\\\\Edward\\\\Desktop\\\\music\\\\data_mp3\\\\hXkB92fjCgo__ы7.mp3',\n",
       " 'C:\\\\Users\\\\Edward\\\\Desktop\\\\music\\\\data_mp3\\\\hXkB92fjCgo__ы8.mp3',\n",
       " 'C:\\\\Users\\\\Edward\\\\Desktop\\\\music\\\\data_mp3\\\\hXkB92fjCgo__ы9.mp3',\n",
       " 'C:\\\\Users\\\\Edward\\\\Desktop\\\\music\\\\data_mp3\\\\hYA2d88vYOs.mp3',\n",
       " 'C:\\\\Users\\\\Edward\\\\Desktop\\\\music\\\\data_mp3\\\\HYVXIFfi5N0__ы1.mp3',\n",
       " 'C:\\\\Users\\\\Edward\\\\Desktop\\\\music\\\\data_mp3\\\\HYVXIFfi5N0__ы10.mp3',\n",
       " 'C:\\\\Users\\\\Edward\\\\Desktop\\\\music\\\\data_mp3\\\\HYVXIFfi5N0__ы11.mp3',\n",
       " 'C:\\\\Users\\\\Edward\\\\Desktop\\\\music\\\\data_mp3\\\\HYVXIFfi5N0__ы12.mp3',\n",
       " 'C:\\\\Users\\\\Edward\\\\Desktop\\\\music\\\\data_mp3\\\\HYVXIFfi5N0__ы2.mp3',\n",
       " 'C:\\\\Users\\\\Edward\\\\Desktop\\\\music\\\\data_mp3\\\\HYVXIFfi5N0__ы3.mp3',\n",
       " 'C:\\\\Users\\\\Edward\\\\Desktop\\\\music\\\\data_mp3\\\\HYVXIFfi5N0__ы4.mp3',\n",
       " 'C:\\\\Users\\\\Edward\\\\Desktop\\\\music\\\\data_mp3\\\\HYVXIFfi5N0__ы5.mp3',\n",
       " 'C:\\\\Users\\\\Edward\\\\Desktop\\\\music\\\\data_mp3\\\\HYVXIFfi5N0__ы6.mp3',\n",
       " 'C:\\\\Users\\\\Edward\\\\Desktop\\\\music\\\\data_mp3\\\\HYVXIFfi5N0__ы7.mp3',\n",
       " 'C:\\\\Users\\\\Edward\\\\Desktop\\\\music\\\\data_mp3\\\\HYVXIFfi5N0__ы8.mp3',\n",
       " 'C:\\\\Users\\\\Edward\\\\Desktop\\\\music\\\\data_mp3\\\\HYVXIFfi5N0__ы9.mp3',\n",
       " 'C:\\\\Users\\\\Edward\\\\Desktop\\\\music\\\\data_mp3\\\\i4EYGBeR97k__ы1.mp3',\n",
       " 'C:\\\\Users\\\\Edward\\\\Desktop\\\\music\\\\data_mp3\\\\i4EYGBeR97k__ы10.mp3',\n",
       " 'C:\\\\Users\\\\Edward\\\\Desktop\\\\music\\\\data_mp3\\\\i4EYGBeR97k__ы11.mp3',\n",
       " 'C:\\\\Users\\\\Edward\\\\Desktop\\\\music\\\\data_mp3\\\\i4EYGBeR97k__ы12.mp3',\n",
       " 'C:\\\\Users\\\\Edward\\\\Desktop\\\\music\\\\data_mp3\\\\i4EYGBeR97k__ы2.mp3',\n",
       " 'C:\\\\Users\\\\Edward\\\\Desktop\\\\music\\\\data_mp3\\\\i4EYGBeR97k__ы3.mp3',\n",
       " 'C:\\\\Users\\\\Edward\\\\Desktop\\\\music\\\\data_mp3\\\\i4EYGBeR97k__ы4.mp3',\n",
       " 'C:\\\\Users\\\\Edward\\\\Desktop\\\\music\\\\data_mp3\\\\i4EYGBeR97k__ы5.mp3',\n",
       " 'C:\\\\Users\\\\Edward\\\\Desktop\\\\music\\\\data_mp3\\\\i4EYGBeR97k__ы6.mp3',\n",
       " 'C:\\\\Users\\\\Edward\\\\Desktop\\\\music\\\\data_mp3\\\\i4EYGBeR97k__ы7.mp3',\n",
       " 'C:\\\\Users\\\\Edward\\\\Desktop\\\\music\\\\data_mp3\\\\i4EYGBeR97k__ы8.mp3',\n",
       " 'C:\\\\Users\\\\Edward\\\\Desktop\\\\music\\\\data_mp3\\\\i4EYGBeR97k__ы9.mp3',\n",
       " 'C:\\\\Users\\\\Edward\\\\Desktop\\\\music\\\\data_mp3\\\\iaDvKKGKAlQ__ы1.mp3',\n",
       " 'C:\\\\Users\\\\Edward\\\\Desktop\\\\music\\\\data_mp3\\\\iaDvKKGKAlQ__ы10.mp3',\n",
       " 'C:\\\\Users\\\\Edward\\\\Desktop\\\\music\\\\data_mp3\\\\iaDvKKGKAlQ__ы11.mp3',\n",
       " 'C:\\\\Users\\\\Edward\\\\Desktop\\\\music\\\\data_mp3\\\\iaDvKKGKAlQ__ы12.mp3',\n",
       " 'C:\\\\Users\\\\Edward\\\\Desktop\\\\music\\\\data_mp3\\\\iaDvKKGKAlQ__ы2.mp3',\n",
       " 'C:\\\\Users\\\\Edward\\\\Desktop\\\\music\\\\data_mp3\\\\iaDvKKGKAlQ__ы3.mp3',\n",
       " 'C:\\\\Users\\\\Edward\\\\Desktop\\\\music\\\\data_mp3\\\\iaDvKKGKAlQ__ы4.mp3',\n",
       " 'C:\\\\Users\\\\Edward\\\\Desktop\\\\music\\\\data_mp3\\\\iaDvKKGKAlQ__ы5.mp3',\n",
       " 'C:\\\\Users\\\\Edward\\\\Desktop\\\\music\\\\data_mp3\\\\iaDvKKGKAlQ__ы6.mp3',\n",
       " 'C:\\\\Users\\\\Edward\\\\Desktop\\\\music\\\\data_mp3\\\\iaDvKKGKAlQ__ы7.mp3',\n",
       " 'C:\\\\Users\\\\Edward\\\\Desktop\\\\music\\\\data_mp3\\\\iaDvKKGKAlQ__ы8.mp3',\n",
       " 'C:\\\\Users\\\\Edward\\\\Desktop\\\\music\\\\data_mp3\\\\iaDvKKGKAlQ__ы9.mp3',\n",
       " 'C:\\\\Users\\\\Edward\\\\Desktop\\\\music\\\\data_mp3\\\\iC-vWZzTPms.mp3',\n",
       " 'C:\\\\Users\\\\Edward\\\\Desktop\\\\music\\\\data_mp3\\\\IkncOaW6nJE.mp3',\n",
       " 'C:\\\\Users\\\\Edward\\\\Desktop\\\\music\\\\data_mp3\\\\iN80A6cSBxY.mp3',\n",
       " 'C:\\\\Users\\\\Edward\\\\Desktop\\\\music\\\\data_mp3\\\\i_IYl_D5yh4.mp3',\n",
       " 'C:\\\\Users\\\\Edward\\\\Desktop\\\\music\\\\data_mp3\\\\Jmz8xIK9Gts__ы1.mp3',\n",
       " 'C:\\\\Users\\\\Edward\\\\Desktop\\\\music\\\\data_mp3\\\\Jmz8xIK9Gts__ы10.mp3',\n",
       " 'C:\\\\Users\\\\Edward\\\\Desktop\\\\music\\\\data_mp3\\\\Jmz8xIK9Gts__ы11.mp3',\n",
       " 'C:\\\\Users\\\\Edward\\\\Desktop\\\\music\\\\data_mp3\\\\Jmz8xIK9Gts__ы12.mp3',\n",
       " 'C:\\\\Users\\\\Edward\\\\Desktop\\\\music\\\\data_mp3\\\\Jmz8xIK9Gts__ы2.mp3',\n",
       " 'C:\\\\Users\\\\Edward\\\\Desktop\\\\music\\\\data_mp3\\\\Jmz8xIK9Gts__ы3.mp3',\n",
       " 'C:\\\\Users\\\\Edward\\\\Desktop\\\\music\\\\data_mp3\\\\Jmz8xIK9Gts__ы4.mp3',\n",
       " 'C:\\\\Users\\\\Edward\\\\Desktop\\\\music\\\\data_mp3\\\\Jmz8xIK9Gts__ы5.mp3',\n",
       " 'C:\\\\Users\\\\Edward\\\\Desktop\\\\music\\\\data_mp3\\\\Jmz8xIK9Gts__ы6.mp3',\n",
       " 'C:\\\\Users\\\\Edward\\\\Desktop\\\\music\\\\data_mp3\\\\Jmz8xIK9Gts__ы7.mp3',\n",
       " 'C:\\\\Users\\\\Edward\\\\Desktop\\\\music\\\\data_mp3\\\\Jmz8xIK9Gts__ы8.mp3',\n",
       " 'C:\\\\Users\\\\Edward\\\\Desktop\\\\music\\\\data_mp3\\\\Jmz8xIK9Gts__ы9.mp3',\n",
       " 'C:\\\\Users\\\\Edward\\\\Desktop\\\\music\\\\data_mp3\\\\JwEKYSLuwUo__ы1.mp3',\n",
       " 'C:\\\\Users\\\\Edward\\\\Desktop\\\\music\\\\data_mp3\\\\JwEKYSLuwUo__ы10.mp3',\n",
       " 'C:\\\\Users\\\\Edward\\\\Desktop\\\\music\\\\data_mp3\\\\JwEKYSLuwUo__ы11.mp3',\n",
       " 'C:\\\\Users\\\\Edward\\\\Desktop\\\\music\\\\data_mp3\\\\JwEKYSLuwUo__ы12.mp3',\n",
       " 'C:\\\\Users\\\\Edward\\\\Desktop\\\\music\\\\data_mp3\\\\JwEKYSLuwUo__ы2.mp3',\n",
       " 'C:\\\\Users\\\\Edward\\\\Desktop\\\\music\\\\data_mp3\\\\JwEKYSLuwUo__ы3.mp3',\n",
       " 'C:\\\\Users\\\\Edward\\\\Desktop\\\\music\\\\data_mp3\\\\JwEKYSLuwUo__ы4.mp3',\n",
       " 'C:\\\\Users\\\\Edward\\\\Desktop\\\\music\\\\data_mp3\\\\JwEKYSLuwUo__ы5.mp3',\n",
       " 'C:\\\\Users\\\\Edward\\\\Desktop\\\\music\\\\data_mp3\\\\JwEKYSLuwUo__ы6.mp3',\n",
       " 'C:\\\\Users\\\\Edward\\\\Desktop\\\\music\\\\data_mp3\\\\JwEKYSLuwUo__ы7.mp3',\n",
       " 'C:\\\\Users\\\\Edward\\\\Desktop\\\\music\\\\data_mp3\\\\JwEKYSLuwUo__ы8.mp3',\n",
       " 'C:\\\\Users\\\\Edward\\\\Desktop\\\\music\\\\data_mp3\\\\JwEKYSLuwUo__ы9.mp3',\n",
       " 'C:\\\\Users\\\\Edward\\\\Desktop\\\\music\\\\data_mp3\\\\k5xDyG72wHE__ы1.mp3',\n",
       " 'C:\\\\Users\\\\Edward\\\\Desktop\\\\music\\\\data_mp3\\\\k5xDyG72wHE__ы10.mp3',\n",
       " 'C:\\\\Users\\\\Edward\\\\Desktop\\\\music\\\\data_mp3\\\\k5xDyG72wHE__ы11.mp3',\n",
       " 'C:\\\\Users\\\\Edward\\\\Desktop\\\\music\\\\data_mp3\\\\k5xDyG72wHE__ы12.mp3',\n",
       " 'C:\\\\Users\\\\Edward\\\\Desktop\\\\music\\\\data_mp3\\\\k5xDyG72wHE__ы13.mp3',\n",
       " 'C:\\\\Users\\\\Edward\\\\Desktop\\\\music\\\\data_mp3\\\\k5xDyG72wHE__ы14.mp3',\n",
       " 'C:\\\\Users\\\\Edward\\\\Desktop\\\\music\\\\data_mp3\\\\k5xDyG72wHE__ы15.mp3',\n",
       " 'C:\\\\Users\\\\Edward\\\\Desktop\\\\music\\\\data_mp3\\\\k5xDyG72wHE__ы16.mp3',\n",
       " 'C:\\\\Users\\\\Edward\\\\Desktop\\\\music\\\\data_mp3\\\\k5xDyG72wHE__ы17.mp3',\n",
       " 'C:\\\\Users\\\\Edward\\\\Desktop\\\\music\\\\data_mp3\\\\k5xDyG72wHE__ы18.mp3',\n",
       " 'C:\\\\Users\\\\Edward\\\\Desktop\\\\music\\\\data_mp3\\\\k5xDyG72wHE__ы19.mp3',\n",
       " 'C:\\\\Users\\\\Edward\\\\Desktop\\\\music\\\\data_mp3\\\\k5xDyG72wHE__ы2.mp3',\n",
       " 'C:\\\\Users\\\\Edward\\\\Desktop\\\\music\\\\data_mp3\\\\k5xDyG72wHE__ы20.mp3',\n",
       " 'C:\\\\Users\\\\Edward\\\\Desktop\\\\music\\\\data_mp3\\\\k5xDyG72wHE__ы21.mp3',\n",
       " 'C:\\\\Users\\\\Edward\\\\Desktop\\\\music\\\\data_mp3\\\\k5xDyG72wHE__ы22.mp3',\n",
       " 'C:\\\\Users\\\\Edward\\\\Desktop\\\\music\\\\data_mp3\\\\k5xDyG72wHE__ы23.mp3',\n",
       " 'C:\\\\Users\\\\Edward\\\\Desktop\\\\music\\\\data_mp3\\\\k5xDyG72wHE__ы24.mp3',\n",
       " 'C:\\\\Users\\\\Edward\\\\Desktop\\\\music\\\\data_mp3\\\\k5xDyG72wHE__ы25.mp3',\n",
       " 'C:\\\\Users\\\\Edward\\\\Desktop\\\\music\\\\data_mp3\\\\k5xDyG72wHE__ы26.mp3',\n",
       " 'C:\\\\Users\\\\Edward\\\\Desktop\\\\music\\\\data_mp3\\\\k5xDyG72wHE__ы27.mp3',\n",
       " 'C:\\\\Users\\\\Edward\\\\Desktop\\\\music\\\\data_mp3\\\\k5xDyG72wHE__ы28.mp3',\n",
       " 'C:\\\\Users\\\\Edward\\\\Desktop\\\\music\\\\data_mp3\\\\k5xDyG72wHE__ы29.mp3',\n",
       " 'C:\\\\Users\\\\Edward\\\\Desktop\\\\music\\\\data_mp3\\\\k5xDyG72wHE__ы3.mp3',\n",
       " 'C:\\\\Users\\\\Edward\\\\Desktop\\\\music\\\\data_mp3\\\\k5xDyG72wHE__ы30.mp3',\n",
       " 'C:\\\\Users\\\\Edward\\\\Desktop\\\\music\\\\data_mp3\\\\k5xDyG72wHE__ы31.mp3',\n",
       " 'C:\\\\Users\\\\Edward\\\\Desktop\\\\music\\\\data_mp3\\\\k5xDyG72wHE__ы32.mp3',\n",
       " 'C:\\\\Users\\\\Edward\\\\Desktop\\\\music\\\\data_mp3\\\\k5xDyG72wHE__ы33.mp3',\n",
       " 'C:\\\\Users\\\\Edward\\\\Desktop\\\\music\\\\data_mp3\\\\k5xDyG72wHE__ы34.mp3',\n",
       " 'C:\\\\Users\\\\Edward\\\\Desktop\\\\music\\\\data_mp3\\\\k5xDyG72wHE__ы35.mp3',\n",
       " 'C:\\\\Users\\\\Edward\\\\Desktop\\\\music\\\\data_mp3\\\\k5xDyG72wHE__ы36.mp3',\n",
       " 'C:\\\\Users\\\\Edward\\\\Desktop\\\\music\\\\data_mp3\\\\k5xDyG72wHE__ы4.mp3',\n",
       " 'C:\\\\Users\\\\Edward\\\\Desktop\\\\music\\\\data_mp3\\\\k5xDyG72wHE__ы5.mp3',\n",
       " 'C:\\\\Users\\\\Edward\\\\Desktop\\\\music\\\\data_mp3\\\\k5xDyG72wHE__ы6.mp3',\n",
       " 'C:\\\\Users\\\\Edward\\\\Desktop\\\\music\\\\data_mp3\\\\k5xDyG72wHE__ы7.mp3',\n",
       " 'C:\\\\Users\\\\Edward\\\\Desktop\\\\music\\\\data_mp3\\\\k5xDyG72wHE__ы8.mp3',\n",
       " 'C:\\\\Users\\\\Edward\\\\Desktop\\\\music\\\\data_mp3\\\\k5xDyG72wHE__ы9.mp3',\n",
       " 'C:\\\\Users\\\\Edward\\\\Desktop\\\\music\\\\data_mp3\\\\kvAd76GacPg.mp3',\n",
       " 'C:\\\\Users\\\\Edward\\\\Desktop\\\\music\\\\data_mp3\\\\kWam-Hh2lxE__ы1.mp3',\n",
       " 'C:\\\\Users\\\\Edward\\\\Desktop\\\\music\\\\data_mp3\\\\kWam-Hh2lxE__ы10.mp3',\n",
       " 'C:\\\\Users\\\\Edward\\\\Desktop\\\\music\\\\data_mp3\\\\kWam-Hh2lxE__ы11.mp3',\n",
       " 'C:\\\\Users\\\\Edward\\\\Desktop\\\\music\\\\data_mp3\\\\kWam-Hh2lxE__ы12.mp3',\n",
       " 'C:\\\\Users\\\\Edward\\\\Desktop\\\\music\\\\data_mp3\\\\kWam-Hh2lxE__ы2.mp3',\n",
       " 'C:\\\\Users\\\\Edward\\\\Desktop\\\\music\\\\data_mp3\\\\kWam-Hh2lxE__ы3.mp3',\n",
       " 'C:\\\\Users\\\\Edward\\\\Desktop\\\\music\\\\data_mp3\\\\kWam-Hh2lxE__ы4.mp3',\n",
       " 'C:\\\\Users\\\\Edward\\\\Desktop\\\\music\\\\data_mp3\\\\kWam-Hh2lxE__ы5.mp3',\n",
       " 'C:\\\\Users\\\\Edward\\\\Desktop\\\\music\\\\data_mp3\\\\kWam-Hh2lxE__ы6.mp3',\n",
       " 'C:\\\\Users\\\\Edward\\\\Desktop\\\\music\\\\data_mp3\\\\kWam-Hh2lxE__ы7.mp3',\n",
       " 'C:\\\\Users\\\\Edward\\\\Desktop\\\\music\\\\data_mp3\\\\kWam-Hh2lxE__ы8.mp3',\n",
       " 'C:\\\\Users\\\\Edward\\\\Desktop\\\\music\\\\data_mp3\\\\kWam-Hh2lxE__ы9.mp3',\n",
       " 'C:\\\\Users\\\\Edward\\\\Desktop\\\\music\\\\data_mp3\\\\kyquqw6GeXk.mp3',\n",
       " 'C:\\\\Users\\\\Edward\\\\Desktop\\\\music\\\\data_mp3\\\\lhGE5brBvNQ__ы1.mp3',\n",
       " 'C:\\\\Users\\\\Edward\\\\Desktop\\\\music\\\\data_mp3\\\\lhGE5brBvNQ__ы10.mp3',\n",
       " 'C:\\\\Users\\\\Edward\\\\Desktop\\\\music\\\\data_mp3\\\\lhGE5brBvNQ__ы11.mp3',\n",
       " 'C:\\\\Users\\\\Edward\\\\Desktop\\\\music\\\\data_mp3\\\\lhGE5brBvNQ__ы12.mp3',\n",
       " 'C:\\\\Users\\\\Edward\\\\Desktop\\\\music\\\\data_mp3\\\\lhGE5brBvNQ__ы2.mp3',\n",
       " 'C:\\\\Users\\\\Edward\\\\Desktop\\\\music\\\\data_mp3\\\\lhGE5brBvNQ__ы3.mp3',\n",
       " 'C:\\\\Users\\\\Edward\\\\Desktop\\\\music\\\\data_mp3\\\\lhGE5brBvNQ__ы4.mp3',\n",
       " 'C:\\\\Users\\\\Edward\\\\Desktop\\\\music\\\\data_mp3\\\\lhGE5brBvNQ__ы5.mp3',\n",
       " 'C:\\\\Users\\\\Edward\\\\Desktop\\\\music\\\\data_mp3\\\\lhGE5brBvNQ__ы6.mp3',\n",
       " 'C:\\\\Users\\\\Edward\\\\Desktop\\\\music\\\\data_mp3\\\\lhGE5brBvNQ__ы7.mp3',\n",
       " 'C:\\\\Users\\\\Edward\\\\Desktop\\\\music\\\\data_mp3\\\\lhGE5brBvNQ__ы8.mp3',\n",
       " 'C:\\\\Users\\\\Edward\\\\Desktop\\\\music\\\\data_mp3\\\\lhGE5brBvNQ__ы9.mp3',\n",
       " 'C:\\\\Users\\\\Edward\\\\Desktop\\\\music\\\\data_mp3\\\\LkoTnDuyrY4.mp3',\n",
       " 'C:\\\\Users\\\\Edward\\\\Desktop\\\\music\\\\data_mp3\\\\LPt1N_ba934.mp3',\n",
       " 'C:\\\\Users\\\\Edward\\\\Desktop\\\\music\\\\data_mp3\\\\LTkidXJXYTo__ы1.mp3',\n",
       " 'C:\\\\Users\\\\Edward\\\\Desktop\\\\music\\\\data_mp3\\\\LzEikWuxUFU.mp3',\n",
       " 'C:\\\\Users\\\\Edward\\\\Desktop\\\\music\\\\data_mp3\\\\m1wViPkNq3A.mp3',\n",
       " 'C:\\\\Users\\\\Edward\\\\Desktop\\\\music\\\\data_mp3\\\\MckVEuUh_yI.mp3',\n",
       " 'C:\\\\Users\\\\Edward\\\\Desktop\\\\music\\\\data_mp3\\\\mgDDgXgoG30__ы1.mp3',\n",
       " 'C:\\\\Users\\\\Edward\\\\Desktop\\\\music\\\\data_mp3\\\\mgDDgXgoG30__ы2.mp3',\n",
       " 'C:\\\\Users\\\\Edward\\\\Desktop\\\\music\\\\data_mp3\\\\mgDDgXgoG30__ы3.mp3',\n",
       " 'C:\\\\Users\\\\Edward\\\\Desktop\\\\music\\\\data_mp3\\\\mgDDgXgoG30__ы4.mp3',\n",
       " 'C:\\\\Users\\\\Edward\\\\Desktop\\\\music\\\\data_mp3\\\\mgDDgXgoG30__ы5.mp3',\n",
       " 'C:\\\\Users\\\\Edward\\\\Desktop\\\\music\\\\data_mp3\\\\mgDDgXgoG30__ы6.mp3',\n",
       " 'C:\\\\Users\\\\Edward\\\\Desktop\\\\music\\\\data_mp3\\\\mgDDgXgoG30__ы7.mp3',\n",
       " 'C:\\\\Users\\\\Edward\\\\Desktop\\\\music\\\\data_mp3\\\\mgDDgXgoG30__ы8.mp3',\n",
       " 'C:\\\\Users\\\\Edward\\\\Desktop\\\\music\\\\data_mp3\\\\mgDDgXgoG30__ы9.mp3',\n",
       " 'C:\\\\Users\\\\Edward\\\\Desktop\\\\music\\\\data_mp3\\\\NhrV6H78CCc__ы1.mp3',\n",
       " 'C:\\\\Users\\\\Edward\\\\Desktop\\\\music\\\\data_mp3\\\\NhrV6H78CCc__ы10.mp3',\n",
       " 'C:\\\\Users\\\\Edward\\\\Desktop\\\\music\\\\data_mp3\\\\NhrV6H78CCc__ы11.mp3',\n",
       " 'C:\\\\Users\\\\Edward\\\\Desktop\\\\music\\\\data_mp3\\\\NhrV6H78CCc__ы12.mp3',\n",
       " 'C:\\\\Users\\\\Edward\\\\Desktop\\\\music\\\\data_mp3\\\\NhrV6H78CCc__ы13.mp3',\n",
       " 'C:\\\\Users\\\\Edward\\\\Desktop\\\\music\\\\data_mp3\\\\NhrV6H78CCc__ы14.mp3',\n",
       " 'C:\\\\Users\\\\Edward\\\\Desktop\\\\music\\\\data_mp3\\\\NhrV6H78CCc__ы15.mp3',\n",
       " 'C:\\\\Users\\\\Edward\\\\Desktop\\\\music\\\\data_mp3\\\\NhrV6H78CCc__ы16.mp3',\n",
       " 'C:\\\\Users\\\\Edward\\\\Desktop\\\\music\\\\data_mp3\\\\NhrV6H78CCc__ы17.mp3',\n",
       " 'C:\\\\Users\\\\Edward\\\\Desktop\\\\music\\\\data_mp3\\\\NhrV6H78CCc__ы18.mp3',\n",
       " 'C:\\\\Users\\\\Edward\\\\Desktop\\\\music\\\\data_mp3\\\\NhrV6H78CCc__ы19.mp3',\n",
       " 'C:\\\\Users\\\\Edward\\\\Desktop\\\\music\\\\data_mp3\\\\NhrV6H78CCc__ы2.mp3',\n",
       " 'C:\\\\Users\\\\Edward\\\\Desktop\\\\music\\\\data_mp3\\\\NhrV6H78CCc__ы20.mp3',\n",
       " 'C:\\\\Users\\\\Edward\\\\Desktop\\\\music\\\\data_mp3\\\\NhrV6H78CCc__ы21.mp3',\n",
       " 'C:\\\\Users\\\\Edward\\\\Desktop\\\\music\\\\data_mp3\\\\NhrV6H78CCc__ы22.mp3',\n",
       " 'C:\\\\Users\\\\Edward\\\\Desktop\\\\music\\\\data_mp3\\\\NhrV6H78CCc__ы23.mp3',\n",
       " 'C:\\\\Users\\\\Edward\\\\Desktop\\\\music\\\\data_mp3\\\\NhrV6H78CCc__ы24.mp3',\n",
       " 'C:\\\\Users\\\\Edward\\\\Desktop\\\\music\\\\data_mp3\\\\NhrV6H78CCc__ы3.mp3',\n",
       " 'C:\\\\Users\\\\Edward\\\\Desktop\\\\music\\\\data_mp3\\\\NhrV6H78CCc__ы4.mp3',\n",
       " 'C:\\\\Users\\\\Edward\\\\Desktop\\\\music\\\\data_mp3\\\\NhrV6H78CCc__ы5.mp3',\n",
       " 'C:\\\\Users\\\\Edward\\\\Desktop\\\\music\\\\data_mp3\\\\NhrV6H78CCc__ы6.mp3',\n",
       " 'C:\\\\Users\\\\Edward\\\\Desktop\\\\music\\\\data_mp3\\\\NhrV6H78CCc__ы7.mp3',\n",
       " 'C:\\\\Users\\\\Edward\\\\Desktop\\\\music\\\\data_mp3\\\\NhrV6H78CCc__ы8.mp3',\n",
       " 'C:\\\\Users\\\\Edward\\\\Desktop\\\\music\\\\data_mp3\\\\NhrV6H78CCc__ы9.mp3',\n",
       " 'C:\\\\Users\\\\Edward\\\\Desktop\\\\music\\\\data_mp3\\\\nvMlrVdTsao.mp3',\n",
       " 'C:\\\\Users\\\\Edward\\\\Desktop\\\\music\\\\data_mp3\\\\NwfODOAY0iY.mp3',\n",
       " 'C:\\\\Users\\\\Edward\\\\Desktop\\\\music\\\\data_mp3\\\\NzgB1MkxBAk.mp3',\n",
       " 'C:\\\\Users\\\\Edward\\\\Desktop\\\\music\\\\data_mp3\\\\OBFA6cr2-6A.mp3',\n",
       " 'C:\\\\Users\\\\Edward\\\\Desktop\\\\music\\\\data_mp3\\\\OcSsojXfGIs.mp3',\n",
       " 'C:\\\\Users\\\\Edward\\\\Desktop\\\\music\\\\data_mp3\\\\OCWanch3NBk.mp3',\n",
       " 'C:\\\\Users\\\\Edward\\\\Desktop\\\\music\\\\data_mp3\\\\oDm0rpvL4A8.mp3',\n",
       " 'C:\\\\Users\\\\Edward\\\\Desktop\\\\music\\\\data_mp3\\\\OepFO4Nisms.mp3',\n",
       " 'C:\\\\Users\\\\Edward\\\\Desktop\\\\music\\\\data_mp3\\\\oNjq8SUArRU__ы1.mp3',\n",
       " 'C:\\\\Users\\\\Edward\\\\Desktop\\\\music\\\\data_mp3\\\\oNjq8SUArRU__ы2.mp3',\n",
       " 'C:\\\\Users\\\\Edward\\\\Desktop\\\\music\\\\data_mp3\\\\oNjq8SUArRU__ы3.mp3',\n",
       " 'C:\\\\Users\\\\Edward\\\\Desktop\\\\music\\\\data_mp3\\\\oNjq8SUArRU__ы4.mp3',\n",
       " 'C:\\\\Users\\\\Edward\\\\Desktop\\\\music\\\\data_mp3\\\\oNjq8SUArRU__ы5.mp3',\n",
       " 'C:\\\\Users\\\\Edward\\\\Desktop\\\\music\\\\data_mp3\\\\oNjq8SUArRU__ы6.mp3',\n",
       " 'C:\\\\Users\\\\Edward\\\\Desktop\\\\music\\\\data_mp3\\\\oNjq8SUArRU__ы7.mp3',\n",
       " 'C:\\\\Users\\\\Edward\\\\Desktop\\\\music\\\\data_mp3\\\\oNjq8SUArRU__ы8.mp3',\n",
       " 'C:\\\\Users\\\\Edward\\\\Desktop\\\\music\\\\data_mp3\\\\p9aUfwgkoc4.mp3',\n",
       " 'C:\\\\Users\\\\Edward\\\\Desktop\\\\music\\\\data_mp3\\\\PAmhPY5szZ8__ы1.mp3',\n",
       " 'C:\\\\Users\\\\Edward\\\\Desktop\\\\music\\\\data_mp3\\\\PAmhPY5szZ8__ы10.mp3',\n",
       " 'C:\\\\Users\\\\Edward\\\\Desktop\\\\music\\\\data_mp3\\\\PAmhPY5szZ8__ы11.mp3',\n",
       " 'C:\\\\Users\\\\Edward\\\\Desktop\\\\music\\\\data_mp3\\\\PAmhPY5szZ8__ы12.mp3',\n",
       " 'C:\\\\Users\\\\Edward\\\\Desktop\\\\music\\\\data_mp3\\\\PAmhPY5szZ8__ы13.mp3',\n",
       " 'C:\\\\Users\\\\Edward\\\\Desktop\\\\music\\\\data_mp3\\\\PAmhPY5szZ8__ы2.mp3',\n",
       " 'C:\\\\Users\\\\Edward\\\\Desktop\\\\music\\\\data_mp3\\\\PAmhPY5szZ8__ы3.mp3',\n",
       " 'C:\\\\Users\\\\Edward\\\\Desktop\\\\music\\\\data_mp3\\\\PAmhPY5szZ8__ы4.mp3',\n",
       " 'C:\\\\Users\\\\Edward\\\\Desktop\\\\music\\\\data_mp3\\\\PAmhPY5szZ8__ы5.mp3',\n",
       " 'C:\\\\Users\\\\Edward\\\\Desktop\\\\music\\\\data_mp3\\\\PAmhPY5szZ8__ы6.mp3',\n",
       " 'C:\\\\Users\\\\Edward\\\\Desktop\\\\music\\\\data_mp3\\\\PAmhPY5szZ8__ы7.mp3',\n",
       " 'C:\\\\Users\\\\Edward\\\\Desktop\\\\music\\\\data_mp3\\\\PAmhPY5szZ8__ы8.mp3',\n",
       " 'C:\\\\Users\\\\Edward\\\\Desktop\\\\music\\\\data_mp3\\\\PAmhPY5szZ8__ы9.mp3',\n",
       " 'C:\\\\Users\\\\Edward\\\\Desktop\\\\music\\\\data_mp3\\\\PGNiXGX2nLU.mp3',\n",
       " 'C:\\\\Users\\\\Edward\\\\Desktop\\\\music\\\\data_mp3\\\\PLe3pznz9oM__ы1.mp3',\n",
       " 'C:\\\\Users\\\\Edward\\\\Desktop\\\\music\\\\data_mp3\\\\pOpG9xyjsDY.mp3',\n",
       " 'C:\\\\Users\\\\Edward\\\\Desktop\\\\music\\\\data_mp3\\\\pT-RkWoRcJg__ы1.mp3',\n",
       " 'C:\\\\Users\\\\Edward\\\\Desktop\\\\music\\\\data_mp3\\\\pT-RkWoRcJg__ы2.mp3',\n",
       " 'C:\\\\Users\\\\Edward\\\\Desktop\\\\music\\\\data_mp3\\\\pT-RkWoRcJg__ы3.mp3',\n",
       " 'C:\\\\Users\\\\Edward\\\\Desktop\\\\music\\\\data_mp3\\\\pT-RkWoRcJg__ы4.mp3',\n",
       " 'C:\\\\Users\\\\Edward\\\\Desktop\\\\music\\\\data_mp3\\\\pT-RkWoRcJg__ы5.mp3',\n",
       " 'C:\\\\Users\\\\Edward\\\\Desktop\\\\music\\\\data_mp3\\\\pT-RkWoRcJg__ы6.mp3',\n",
       " 'C:\\\\Users\\\\Edward\\\\Desktop\\\\music\\\\data_mp3\\\\pT-RkWoRcJg__ы7.mp3',\n",
       " 'C:\\\\Users\\\\Edward\\\\Desktop\\\\music\\\\data_mp3\\\\pT-RkWoRcJg__ы8.mp3',\n",
       " 'C:\\\\Users\\\\Edward\\\\Desktop\\\\music\\\\data_mp3\\\\pT-RkWoRcJg__ы9.mp3',\n",
       " 'C:\\\\Users\\\\Edward\\\\Desktop\\\\music\\\\data_mp3\\\\QlXrndlCFIk__ы1.mp3',\n",
       " 'C:\\\\Users\\\\Edward\\\\Desktop\\\\music\\\\data_mp3\\\\QlXrndlCFIk__ы10.mp3',\n",
       " 'C:\\\\Users\\\\Edward\\\\Desktop\\\\music\\\\data_mp3\\\\QlXrndlCFIk__ы11.mp3',\n",
       " 'C:\\\\Users\\\\Edward\\\\Desktop\\\\music\\\\data_mp3\\\\QlXrndlCFIk__ы12.mp3',\n",
       " 'C:\\\\Users\\\\Edward\\\\Desktop\\\\music\\\\data_mp3\\\\QlXrndlCFIk__ы2.mp3',\n",
       " 'C:\\\\Users\\\\Edward\\\\Desktop\\\\music\\\\data_mp3\\\\QlXrndlCFIk__ы3.mp3',\n",
       " 'C:\\\\Users\\\\Edward\\\\Desktop\\\\music\\\\data_mp3\\\\QlXrndlCFIk__ы4.mp3',\n",
       " 'C:\\\\Users\\\\Edward\\\\Desktop\\\\music\\\\data_mp3\\\\QlXrndlCFIk__ы5.mp3',\n",
       " 'C:\\\\Users\\\\Edward\\\\Desktop\\\\music\\\\data_mp3\\\\QlXrndlCFIk__ы6.mp3',\n",
       " 'C:\\\\Users\\\\Edward\\\\Desktop\\\\music\\\\data_mp3\\\\QlXrndlCFIk__ы7.mp3',\n",
       " 'C:\\\\Users\\\\Edward\\\\Desktop\\\\music\\\\data_mp3\\\\QlXrndlCFIk__ы8.mp3',\n",
       " 'C:\\\\Users\\\\Edward\\\\Desktop\\\\music\\\\data_mp3\\\\QlXrndlCFIk__ы9.mp3',\n",
       " 'C:\\\\Users\\\\Edward\\\\Desktop\\\\music\\\\data_mp3\\\\QwTiL9-9ezs.mp3',\n",
       " 'C:\\\\Users\\\\Edward\\\\Desktop\\\\music\\\\data_mp3\\\\RwJscjiB0Sc__ы1.mp3',\n",
       " 'C:\\\\Users\\\\Edward\\\\Desktop\\\\music\\\\data_mp3\\\\RwJscjiB0Sc__ы2.mp3',\n",
       " 'C:\\\\Users\\\\Edward\\\\Desktop\\\\music\\\\data_mp3\\\\RwJscjiB0Sc__ы3.mp3',\n",
       " 'C:\\\\Users\\\\Edward\\\\Desktop\\\\music\\\\data_mp3\\\\RwJscjiB0Sc__ы4.mp3',\n",
       " 'C:\\\\Users\\\\Edward\\\\Desktop\\\\music\\\\data_mp3\\\\RwJscjiB0Sc__ы5.mp3',\n",
       " 'C:\\\\Users\\\\Edward\\\\Desktop\\\\music\\\\data_mp3\\\\Rzs3beBNT9g.mp3',\n",
       " 'C:\\\\Users\\\\Edward\\\\Desktop\\\\music\\\\data_mp3\\\\SG2TUTIFwSE.mp3',\n",
       " 'C:\\\\Users\\\\Edward\\\\Desktop\\\\music\\\\data_mp3\\\\sKqfeWQOOZk.mp3',\n",
       " 'C:\\\\Users\\\\Edward\\\\Desktop\\\\music\\\\data_mp3\\\\SS-9nTMidqY.mp3',\n",
       " 'C:\\\\Users\\\\Edward\\\\Desktop\\\\music\\\\data_mp3\\\\st-ZjwCy4uo__ы1.mp3',\n",
       " 'C:\\\\Users\\\\Edward\\\\Desktop\\\\music\\\\data_mp3\\\\st-ZjwCy4uo__ы10.mp3',\n",
       " 'C:\\\\Users\\\\Edward\\\\Desktop\\\\music\\\\data_mp3\\\\st-ZjwCy4uo__ы11.mp3',\n",
       " 'C:\\\\Users\\\\Edward\\\\Desktop\\\\music\\\\data_mp3\\\\st-ZjwCy4uo__ы12.mp3',\n",
       " 'C:\\\\Users\\\\Edward\\\\Desktop\\\\music\\\\data_mp3\\\\st-ZjwCy4uo__ы13.mp3',\n",
       " 'C:\\\\Users\\\\Edward\\\\Desktop\\\\music\\\\data_mp3\\\\st-ZjwCy4uo__ы14.mp3',\n",
       " 'C:\\\\Users\\\\Edward\\\\Desktop\\\\music\\\\data_mp3\\\\st-ZjwCy4uo__ы2.mp3',\n",
       " 'C:\\\\Users\\\\Edward\\\\Desktop\\\\music\\\\data_mp3\\\\st-ZjwCy4uo__ы3.mp3',\n",
       " 'C:\\\\Users\\\\Edward\\\\Desktop\\\\music\\\\data_mp3\\\\st-ZjwCy4uo__ы4.mp3',\n",
       " 'C:\\\\Users\\\\Edward\\\\Desktop\\\\music\\\\data_mp3\\\\st-ZjwCy4uo__ы5.mp3',\n",
       " 'C:\\\\Users\\\\Edward\\\\Desktop\\\\music\\\\data_mp3\\\\st-ZjwCy4uo__ы6.mp3',\n",
       " 'C:\\\\Users\\\\Edward\\\\Desktop\\\\music\\\\data_mp3\\\\st-ZjwCy4uo__ы7.mp3',\n",
       " 'C:\\\\Users\\\\Edward\\\\Desktop\\\\music\\\\data_mp3\\\\st-ZjwCy4uo__ы8.mp3',\n",
       " 'C:\\\\Users\\\\Edward\\\\Desktop\\\\music\\\\data_mp3\\\\st-ZjwCy4uo__ы9.mp3',\n",
       " 'C:\\\\Users\\\\Edward\\\\Desktop\\\\music\\\\data_mp3\\\\thz_JqagxRU__ы1.mp3',\n",
       " 'C:\\\\Users\\\\Edward\\\\Desktop\\\\music\\\\data_mp3\\\\TqKFb72EyTM.mp3',\n",
       " 'C:\\\\Users\\\\Edward\\\\Desktop\\\\music\\\\data_mp3\\\\u1_KbKR_sng.mp3',\n",
       " 'C:\\\\Users\\\\Edward\\\\Desktop\\\\music\\\\data_mp3\\\\u4edBTV5_Uk.mp3',\n",
       " 'C:\\\\Users\\\\Edward\\\\Desktop\\\\music\\\\data_mp3\\\\UnRRb4BCsqE__ы1.mp3',\n",
       " 'C:\\\\Users\\\\Edward\\\\Desktop\\\\music\\\\data_mp3\\\\UnRRb4BCsqE__ы10.mp3',\n",
       " 'C:\\\\Users\\\\Edward\\\\Desktop\\\\music\\\\data_mp3\\\\UnRRb4BCsqE__ы11.mp3',\n",
       " 'C:\\\\Users\\\\Edward\\\\Desktop\\\\music\\\\data_mp3\\\\UnRRb4BCsqE__ы12.mp3',\n",
       " 'C:\\\\Users\\\\Edward\\\\Desktop\\\\music\\\\data_mp3\\\\UnRRb4BCsqE__ы13.mp3',\n",
       " 'C:\\\\Users\\\\Edward\\\\Desktop\\\\music\\\\data_mp3\\\\UnRRb4BCsqE__ы14.mp3',\n",
       " 'C:\\\\Users\\\\Edward\\\\Desktop\\\\music\\\\data_mp3\\\\UnRRb4BCsqE__ы15.mp3',\n",
       " 'C:\\\\Users\\\\Edward\\\\Desktop\\\\music\\\\data_mp3\\\\UnRRb4BCsqE__ы16.mp3',\n",
       " 'C:\\\\Users\\\\Edward\\\\Desktop\\\\music\\\\data_mp3\\\\UnRRb4BCsqE__ы17.mp3',\n",
       " 'C:\\\\Users\\\\Edward\\\\Desktop\\\\music\\\\data_mp3\\\\UnRRb4BCsqE__ы18.mp3',\n",
       " 'C:\\\\Users\\\\Edward\\\\Desktop\\\\music\\\\data_mp3\\\\UnRRb4BCsqE__ы19.mp3',\n",
       " 'C:\\\\Users\\\\Edward\\\\Desktop\\\\music\\\\data_mp3\\\\UnRRb4BCsqE__ы2.mp3',\n",
       " 'C:\\\\Users\\\\Edward\\\\Desktop\\\\music\\\\data_mp3\\\\UnRRb4BCsqE__ы20.mp3',\n",
       " 'C:\\\\Users\\\\Edward\\\\Desktop\\\\music\\\\data_mp3\\\\UnRRb4BCsqE__ы21.mp3',\n",
       " 'C:\\\\Users\\\\Edward\\\\Desktop\\\\music\\\\data_mp3\\\\UnRRb4BCsqE__ы22.mp3',\n",
       " 'C:\\\\Users\\\\Edward\\\\Desktop\\\\music\\\\data_mp3\\\\UnRRb4BCsqE__ы23.mp3',\n",
       " 'C:\\\\Users\\\\Edward\\\\Desktop\\\\music\\\\data_mp3\\\\UnRRb4BCsqE__ы24.mp3',\n",
       " 'C:\\\\Users\\\\Edward\\\\Desktop\\\\music\\\\data_mp3\\\\UnRRb4BCsqE__ы25.mp3',\n",
       " 'C:\\\\Users\\\\Edward\\\\Desktop\\\\music\\\\data_mp3\\\\UnRRb4BCsqE__ы26.mp3',\n",
       " 'C:\\\\Users\\\\Edward\\\\Desktop\\\\music\\\\data_mp3\\\\UnRRb4BCsqE__ы27.mp3',\n",
       " 'C:\\\\Users\\\\Edward\\\\Desktop\\\\music\\\\data_mp3\\\\UnRRb4BCsqE__ы28.mp3',\n",
       " 'C:\\\\Users\\\\Edward\\\\Desktop\\\\music\\\\data_mp3\\\\UnRRb4BCsqE__ы29.mp3',\n",
       " 'C:\\\\Users\\\\Edward\\\\Desktop\\\\music\\\\data_mp3\\\\UnRRb4BCsqE__ы3.mp3',\n",
       " 'C:\\\\Users\\\\Edward\\\\Desktop\\\\music\\\\data_mp3\\\\UnRRb4BCsqE__ы30.mp3',\n",
       " 'C:\\\\Users\\\\Edward\\\\Desktop\\\\music\\\\data_mp3\\\\UnRRb4BCsqE__ы31.mp3',\n",
       " 'C:\\\\Users\\\\Edward\\\\Desktop\\\\music\\\\data_mp3\\\\UnRRb4BCsqE__ы32.mp3',\n",
       " 'C:\\\\Users\\\\Edward\\\\Desktop\\\\music\\\\data_mp3\\\\UnRRb4BCsqE__ы33.mp3',\n",
       " 'C:\\\\Users\\\\Edward\\\\Desktop\\\\music\\\\data_mp3\\\\UnRRb4BCsqE__ы4.mp3',\n",
       " 'C:\\\\Users\\\\Edward\\\\Desktop\\\\music\\\\data_mp3\\\\UnRRb4BCsqE__ы5.mp3',\n",
       " 'C:\\\\Users\\\\Edward\\\\Desktop\\\\music\\\\data_mp3\\\\UnRRb4BCsqE__ы6.mp3',\n",
       " 'C:\\\\Users\\\\Edward\\\\Desktop\\\\music\\\\data_mp3\\\\UnRRb4BCsqE__ы7.mp3',\n",
       " 'C:\\\\Users\\\\Edward\\\\Desktop\\\\music\\\\data_mp3\\\\UnRRb4BCsqE__ы8.mp3',\n",
       " 'C:\\\\Users\\\\Edward\\\\Desktop\\\\music\\\\data_mp3\\\\UnRRb4BCsqE__ы9.mp3',\n",
       " 'C:\\\\Users\\\\Edward\\\\Desktop\\\\music\\\\data_mp3\\\\v0nmHymgM7Y.mp3',\n",
       " 'C:\\\\Users\\\\Edward\\\\Desktop\\\\music\\\\data_mp3\\\\VabgrlvtzLg.mp3',\n",
       " 'C:\\\\Users\\\\Edward\\\\Desktop\\\\music\\\\data_mp3\\\\VNhsh1YW8Co.mp3',\n",
       " 'C:\\\\Users\\\\Edward\\\\Desktop\\\\music\\\\data_mp3\\\\vRq0eD6c4JY.mp3',\n",
       " 'C:\\\\Users\\\\Edward\\\\Desktop\\\\music\\\\data_mp3\\\\wT-3tH3yrzI.mp3',\n",
       " 'C:\\\\Users\\\\Edward\\\\Desktop\\\\music\\\\data_mp3\\\\WTS7HBGpy5c__ы1.mp3',\n",
       " 'C:\\\\Users\\\\Edward\\\\Desktop\\\\music\\\\data_mp3\\\\xdOykEJSXIg.mp3',\n",
       " 'C:\\\\Users\\\\Edward\\\\Desktop\\\\music\\\\data_mp3\\\\XGhdSeKr4TM.mp3',\n",
       " 'C:\\\\Users\\\\Edward\\\\Desktop\\\\music\\\\data_mp3\\\\xglkW65SEeM__ы1.mp3',\n",
       " 'C:\\\\Users\\\\Edward\\\\Desktop\\\\music\\\\data_mp3\\\\XGUy0__LJKw.mp3',\n",
       " 'C:\\\\Users\\\\Edward\\\\Desktop\\\\music\\\\data_mp3\\\\xhsIu3iBBQw__ы1.mp3',\n",
       " 'C:\\\\Users\\\\Edward\\\\Desktop\\\\music\\\\data_mp3\\\\xhsIu3iBBQw__ы10.mp3',\n",
       " 'C:\\\\Users\\\\Edward\\\\Desktop\\\\music\\\\data_mp3\\\\xhsIu3iBBQw__ы11.mp3',\n",
       " 'C:\\\\Users\\\\Edward\\\\Desktop\\\\music\\\\data_mp3\\\\xhsIu3iBBQw__ы12.mp3',\n",
       " 'C:\\\\Users\\\\Edward\\\\Desktop\\\\music\\\\data_mp3\\\\xhsIu3iBBQw__ы13.mp3',\n",
       " 'C:\\\\Users\\\\Edward\\\\Desktop\\\\music\\\\data_mp3\\\\xhsIu3iBBQw__ы14.mp3',\n",
       " 'C:\\\\Users\\\\Edward\\\\Desktop\\\\music\\\\data_mp3\\\\xhsIu3iBBQw__ы15.mp3',\n",
       " 'C:\\\\Users\\\\Edward\\\\Desktop\\\\music\\\\data_mp3\\\\xhsIu3iBBQw__ы16.mp3',\n",
       " 'C:\\\\Users\\\\Edward\\\\Desktop\\\\music\\\\data_mp3\\\\xhsIu3iBBQw__ы17.mp3',\n",
       " 'C:\\\\Users\\\\Edward\\\\Desktop\\\\music\\\\data_mp3\\\\xhsIu3iBBQw__ы18.mp3',\n",
       " 'C:\\\\Users\\\\Edward\\\\Desktop\\\\music\\\\data_mp3\\\\xhsIu3iBBQw__ы19.mp3',\n",
       " 'C:\\\\Users\\\\Edward\\\\Desktop\\\\music\\\\data_mp3\\\\xhsIu3iBBQw__ы2.mp3',\n",
       " 'C:\\\\Users\\\\Edward\\\\Desktop\\\\music\\\\data_mp3\\\\xhsIu3iBBQw__ы20.mp3',\n",
       " 'C:\\\\Users\\\\Edward\\\\Desktop\\\\music\\\\data_mp3\\\\xhsIu3iBBQw__ы21.mp3',\n",
       " 'C:\\\\Users\\\\Edward\\\\Desktop\\\\music\\\\data_mp3\\\\xhsIu3iBBQw__ы22.mp3',\n",
       " 'C:\\\\Users\\\\Edward\\\\Desktop\\\\music\\\\data_mp3\\\\xhsIu3iBBQw__ы23.mp3',\n",
       " 'C:\\\\Users\\\\Edward\\\\Desktop\\\\music\\\\data_mp3\\\\xhsIu3iBBQw__ы24.mp3',\n",
       " 'C:\\\\Users\\\\Edward\\\\Desktop\\\\music\\\\data_mp3\\\\xhsIu3iBBQw__ы25.mp3',\n",
       " 'C:\\\\Users\\\\Edward\\\\Desktop\\\\music\\\\data_mp3\\\\xhsIu3iBBQw__ы26.mp3',\n",
       " 'C:\\\\Users\\\\Edward\\\\Desktop\\\\music\\\\data_mp3\\\\xhsIu3iBBQw__ы27.mp3',\n",
       " 'C:\\\\Users\\\\Edward\\\\Desktop\\\\music\\\\data_mp3\\\\xhsIu3iBBQw__ы28.mp3',\n",
       " 'C:\\\\Users\\\\Edward\\\\Desktop\\\\music\\\\data_mp3\\\\xhsIu3iBBQw__ы29.mp3',\n",
       " 'C:\\\\Users\\\\Edward\\\\Desktop\\\\music\\\\data_mp3\\\\xhsIu3iBBQw__ы3.mp3',\n",
       " 'C:\\\\Users\\\\Edward\\\\Desktop\\\\music\\\\data_mp3\\\\xhsIu3iBBQw__ы30.mp3',\n",
       " 'C:\\\\Users\\\\Edward\\\\Desktop\\\\music\\\\data_mp3\\\\xhsIu3iBBQw__ы31.mp3',\n",
       " 'C:\\\\Users\\\\Edward\\\\Desktop\\\\music\\\\data_mp3\\\\xhsIu3iBBQw__ы32.mp3',\n",
       " 'C:\\\\Users\\\\Edward\\\\Desktop\\\\music\\\\data_mp3\\\\xhsIu3iBBQw__ы33.mp3',\n",
       " 'C:\\\\Users\\\\Edward\\\\Desktop\\\\music\\\\data_mp3\\\\xhsIu3iBBQw__ы34.mp3',\n",
       " 'C:\\\\Users\\\\Edward\\\\Desktop\\\\music\\\\data_mp3\\\\xhsIu3iBBQw__ы35.mp3',\n",
       " 'C:\\\\Users\\\\Edward\\\\Desktop\\\\music\\\\data_mp3\\\\xhsIu3iBBQw__ы36.mp3',\n",
       " 'C:\\\\Users\\\\Edward\\\\Desktop\\\\music\\\\data_mp3\\\\xhsIu3iBBQw__ы37.mp3',\n",
       " 'C:\\\\Users\\\\Edward\\\\Desktop\\\\music\\\\data_mp3\\\\xhsIu3iBBQw__ы38.mp3',\n",
       " 'C:\\\\Users\\\\Edward\\\\Desktop\\\\music\\\\data_mp3\\\\xhsIu3iBBQw__ы39.mp3',\n",
       " 'C:\\\\Users\\\\Edward\\\\Desktop\\\\music\\\\data_mp3\\\\xhsIu3iBBQw__ы4.mp3',\n",
       " 'C:\\\\Users\\\\Edward\\\\Desktop\\\\music\\\\data_mp3\\\\xhsIu3iBBQw__ы40.mp3',\n",
       " 'C:\\\\Users\\\\Edward\\\\Desktop\\\\music\\\\data_mp3\\\\xhsIu3iBBQw__ы41.mp3',\n",
       " 'C:\\\\Users\\\\Edward\\\\Desktop\\\\music\\\\data_mp3\\\\xhsIu3iBBQw__ы42.mp3',\n",
       " 'C:\\\\Users\\\\Edward\\\\Desktop\\\\music\\\\data_mp3\\\\xhsIu3iBBQw__ы43.mp3',\n",
       " 'C:\\\\Users\\\\Edward\\\\Desktop\\\\music\\\\data_mp3\\\\xhsIu3iBBQw__ы5.mp3',\n",
       " 'C:\\\\Users\\\\Edward\\\\Desktop\\\\music\\\\data_mp3\\\\xhsIu3iBBQw__ы6.mp3',\n",
       " 'C:\\\\Users\\\\Edward\\\\Desktop\\\\music\\\\data_mp3\\\\xhsIu3iBBQw__ы7.mp3',\n",
       " 'C:\\\\Users\\\\Edward\\\\Desktop\\\\music\\\\data_mp3\\\\xhsIu3iBBQw__ы8.mp3',\n",
       " 'C:\\\\Users\\\\Edward\\\\Desktop\\\\music\\\\data_mp3\\\\xhsIu3iBBQw__ы9.mp3',\n",
       " 'C:\\\\Users\\\\Edward\\\\Desktop\\\\music\\\\data_mp3\\\\XJqe3EUGbQM.mp3',\n",
       " 'C:\\\\Users\\\\Edward\\\\Desktop\\\\music\\\\data_mp3\\\\xLeGykSUFdY.mp3',\n",
       " 'C:\\\\Users\\\\Edward\\\\Desktop\\\\music\\\\data_mp3\\\\Xv_SV_ki_Q0.mp3',\n",
       " 'C:\\\\Users\\\\Edward\\\\Desktop\\\\music\\\\data_mp3\\\\XWNsWZ5VtWc__ы1.mp3',\n",
       " 'C:\\\\Users\\\\Edward\\\\Desktop\\\\music\\\\data_mp3\\\\XWNsWZ5VtWc__ы10.mp3',\n",
       " 'C:\\\\Users\\\\Edward\\\\Desktop\\\\music\\\\data_mp3\\\\XWNsWZ5VtWc__ы11.mp3',\n",
       " 'C:\\\\Users\\\\Edward\\\\Desktop\\\\music\\\\data_mp3\\\\XWNsWZ5VtWc__ы12.mp3',\n",
       " 'C:\\\\Users\\\\Edward\\\\Desktop\\\\music\\\\data_mp3\\\\XWNsWZ5VtWc__ы13.mp3',\n",
       " 'C:\\\\Users\\\\Edward\\\\Desktop\\\\music\\\\data_mp3\\\\XWNsWZ5VtWc__ы14.mp3',\n",
       " 'C:\\\\Users\\\\Edward\\\\Desktop\\\\music\\\\data_mp3\\\\XWNsWZ5VtWc__ы15.mp3',\n",
       " 'C:\\\\Users\\\\Edward\\\\Desktop\\\\music\\\\data_mp3\\\\XWNsWZ5VtWc__ы16.mp3',\n",
       " 'C:\\\\Users\\\\Edward\\\\Desktop\\\\music\\\\data_mp3\\\\XWNsWZ5VtWc__ы17.mp3',\n",
       " 'C:\\\\Users\\\\Edward\\\\Desktop\\\\music\\\\data_mp3\\\\XWNsWZ5VtWc__ы18.mp3',\n",
       " 'C:\\\\Users\\\\Edward\\\\Desktop\\\\music\\\\data_mp3\\\\XWNsWZ5VtWc__ы19.mp3',\n",
       " 'C:\\\\Users\\\\Edward\\\\Desktop\\\\music\\\\data_mp3\\\\XWNsWZ5VtWc__ы2.mp3',\n",
       " 'C:\\\\Users\\\\Edward\\\\Desktop\\\\music\\\\data_mp3\\\\XWNsWZ5VtWc__ы20.mp3',\n",
       " 'C:\\\\Users\\\\Edward\\\\Desktop\\\\music\\\\data_mp3\\\\XWNsWZ5VtWc__ы21.mp3',\n",
       " 'C:\\\\Users\\\\Edward\\\\Desktop\\\\music\\\\data_mp3\\\\XWNsWZ5VtWc__ы22.mp3',\n",
       " 'C:\\\\Users\\\\Edward\\\\Desktop\\\\music\\\\data_mp3\\\\XWNsWZ5VtWc__ы23.mp3',\n",
       " 'C:\\\\Users\\\\Edward\\\\Desktop\\\\music\\\\data_mp3\\\\XWNsWZ5VtWc__ы24.mp3',\n",
       " 'C:\\\\Users\\\\Edward\\\\Desktop\\\\music\\\\data_mp3\\\\XWNsWZ5VtWc__ы25.mp3',\n",
       " 'C:\\\\Users\\\\Edward\\\\Desktop\\\\music\\\\data_mp3\\\\XWNsWZ5VtWc__ы26.mp3',\n",
       " 'C:\\\\Users\\\\Edward\\\\Desktop\\\\music\\\\data_mp3\\\\XWNsWZ5VtWc__ы27.mp3',\n",
       " 'C:\\\\Users\\\\Edward\\\\Desktop\\\\music\\\\data_mp3\\\\XWNsWZ5VtWc__ы28.mp3',\n",
       " 'C:\\\\Users\\\\Edward\\\\Desktop\\\\music\\\\data_mp3\\\\XWNsWZ5VtWc__ы29.mp3',\n",
       " 'C:\\\\Users\\\\Edward\\\\Desktop\\\\music\\\\data_mp3\\\\XWNsWZ5VtWc__ы3.mp3',\n",
       " 'C:\\\\Users\\\\Edward\\\\Desktop\\\\music\\\\data_mp3\\\\XWNsWZ5VtWc__ы30.mp3',\n",
       " 'C:\\\\Users\\\\Edward\\\\Desktop\\\\music\\\\data_mp3\\\\XWNsWZ5VtWc__ы31.mp3',\n",
       " 'C:\\\\Users\\\\Edward\\\\Desktop\\\\music\\\\data_mp3\\\\XWNsWZ5VtWc__ы32.mp3',\n",
       " 'C:\\\\Users\\\\Edward\\\\Desktop\\\\music\\\\data_mp3\\\\XWNsWZ5VtWc__ы33.mp3',\n",
       " 'C:\\\\Users\\\\Edward\\\\Desktop\\\\music\\\\data_mp3\\\\XWNsWZ5VtWc__ы34.mp3',\n",
       " 'C:\\\\Users\\\\Edward\\\\Desktop\\\\music\\\\data_mp3\\\\XWNsWZ5VtWc__ы35.mp3',\n",
       " 'C:\\\\Users\\\\Edward\\\\Desktop\\\\music\\\\data_mp3\\\\XWNsWZ5VtWc__ы36.mp3',\n",
       " 'C:\\\\Users\\\\Edward\\\\Desktop\\\\music\\\\data_mp3\\\\XWNsWZ5VtWc__ы37.mp3',\n",
       " 'C:\\\\Users\\\\Edward\\\\Desktop\\\\music\\\\data_mp3\\\\XWNsWZ5VtWc__ы38.mp3',\n",
       " 'C:\\\\Users\\\\Edward\\\\Desktop\\\\music\\\\data_mp3\\\\XWNsWZ5VtWc__ы39.mp3',\n",
       " 'C:\\\\Users\\\\Edward\\\\Desktop\\\\music\\\\data_mp3\\\\XWNsWZ5VtWc__ы4.mp3',\n",
       " 'C:\\\\Users\\\\Edward\\\\Desktop\\\\music\\\\data_mp3\\\\XWNsWZ5VtWc__ы40.mp3',\n",
       " 'C:\\\\Users\\\\Edward\\\\Desktop\\\\music\\\\data_mp3\\\\XWNsWZ5VtWc__ы41.mp3',\n",
       " 'C:\\\\Users\\\\Edward\\\\Desktop\\\\music\\\\data_mp3\\\\XWNsWZ5VtWc__ы42.mp3',\n",
       " 'C:\\\\Users\\\\Edward\\\\Desktop\\\\music\\\\data_mp3\\\\XWNsWZ5VtWc__ы43.mp3',\n",
       " 'C:\\\\Users\\\\Edward\\\\Desktop\\\\music\\\\data_mp3\\\\XWNsWZ5VtWc__ы44.mp3',\n",
       " 'C:\\\\Users\\\\Edward\\\\Desktop\\\\music\\\\data_mp3\\\\XWNsWZ5VtWc__ы45.mp3',\n",
       " 'C:\\\\Users\\\\Edward\\\\Desktop\\\\music\\\\data_mp3\\\\XWNsWZ5VtWc__ы46.mp3',\n",
       " 'C:\\\\Users\\\\Edward\\\\Desktop\\\\music\\\\data_mp3\\\\XWNsWZ5VtWc__ы47.mp3',\n",
       " 'C:\\\\Users\\\\Edward\\\\Desktop\\\\music\\\\data_mp3\\\\XWNsWZ5VtWc__ы5.mp3',\n",
       " 'C:\\\\Users\\\\Edward\\\\Desktop\\\\music\\\\data_mp3\\\\XWNsWZ5VtWc__ы6.mp3',\n",
       " 'C:\\\\Users\\\\Edward\\\\Desktop\\\\music\\\\data_mp3\\\\XWNsWZ5VtWc__ы7.mp3',\n",
       " 'C:\\\\Users\\\\Edward\\\\Desktop\\\\music\\\\data_mp3\\\\XWNsWZ5VtWc__ы8.mp3',\n",
       " 'C:\\\\Users\\\\Edward\\\\Desktop\\\\music\\\\data_mp3\\\\XWNsWZ5VtWc__ы9.mp3',\n",
       " 'C:\\\\Users\\\\Edward\\\\Desktop\\\\music\\\\data_mp3\\\\YJxSATlIgAg.mp3',\n",
       " 'C:\\\\Users\\\\Edward\\\\Desktop\\\\music\\\\data_mp3\\\\yw6ZjMyreDY.mp3',\n",
       " 'C:\\\\Users\\\\Edward\\\\Desktop\\\\music\\\\data_mp3\\\\z0jOyz222qc__ы1.mp3',\n",
       " 'C:\\\\Users\\\\Edward\\\\Desktop\\\\music\\\\data_mp3\\\\z0jOyz222qc__ы10.mp3',\n",
       " 'C:\\\\Users\\\\Edward\\\\Desktop\\\\music\\\\data_mp3\\\\z0jOyz222qc__ы11.mp3',\n",
       " 'C:\\\\Users\\\\Edward\\\\Desktop\\\\music\\\\data_mp3\\\\z0jOyz222qc__ы2.mp3',\n",
       " 'C:\\\\Users\\\\Edward\\\\Desktop\\\\music\\\\data_mp3\\\\z0jOyz222qc__ы3.mp3',\n",
       " 'C:\\\\Users\\\\Edward\\\\Desktop\\\\music\\\\data_mp3\\\\z0jOyz222qc__ы4.mp3',\n",
       " 'C:\\\\Users\\\\Edward\\\\Desktop\\\\music\\\\data_mp3\\\\z0jOyz222qc__ы5.mp3',\n",
       " 'C:\\\\Users\\\\Edward\\\\Desktop\\\\music\\\\data_mp3\\\\z0jOyz222qc__ы6.mp3',\n",
       " 'C:\\\\Users\\\\Edward\\\\Desktop\\\\music\\\\data_mp3\\\\z0jOyz222qc__ы7.mp3',\n",
       " 'C:\\\\Users\\\\Edward\\\\Desktop\\\\music\\\\data_mp3\\\\z0jOyz222qc__ы8.mp3',\n",
       " 'C:\\\\Users\\\\Edward\\\\Desktop\\\\music\\\\data_mp3\\\\z0jOyz222qc__ы9.mp3',\n",
       " 'C:\\\\Users\\\\Edward\\\\Desktop\\\\music\\\\data_mp3\\\\zeYu80utaf8.mp3',\n",
       " 'C:\\\\Users\\\\Edward\\\\Desktop\\\\music\\\\data_mp3\\\\ZSmJVeujJCE.mp3',\n",
       " 'C:\\\\Users\\\\Edward\\\\Desktop\\\\music\\\\data_mp3\\\\zTpycqGYRRM__ы1.mp3']"
      ]
     },
     "execution_count": 7,
     "metadata": {},
     "output_type": "execute_result"
    }
   ],
   "source": [
    "d = './data_mp3/'\n",
    "listed = [os.path.abspath('{0}{1}'.format(d, x)) for x in os.listdir(d)]\n",
    "listed"
   ]
  },
  {
   "cell_type": "code",
   "execution_count": null,
   "id": "91debb42-2873-4aac-81d7-7cf00d31e64e",
   "metadata": {},
   "outputs": [],
   "source": []
  }
 ],
 "metadata": {
  "kernelspec": {
   "display_name": "Python 3 (ipykernel)",
   "language": "python",
   "name": "python3"
  },
  "language_info": {
   "codemirror_mode": {
    "name": "ipython",
    "version": 3
   },
   "file_extension": ".py",
   "mimetype": "text/x-python",
   "name": "python",
   "nbconvert_exporter": "python",
   "pygments_lexer": "ipython3",
   "version": "3.12.4"
  }
 },
 "nbformat": 4,
 "nbformat_minor": 5
}
