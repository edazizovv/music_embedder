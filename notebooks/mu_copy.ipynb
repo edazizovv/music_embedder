{
 "cells": [
  {
   "cell_type": "code",
   "execution_count": 1,
   "id": "d7300d77-dcb0-42dc-91d9-7cce8ddf5198",
   "metadata": {},
   "outputs": [],
   "source": [
    "import os"
   ]
  },
  {
   "cell_type": "code",
   "execution_count": 2,
   "id": "2005c7ef-946e-4a2b-8066-6ac40dc1ca0a",
   "metadata": {},
   "outputs": [],
   "source": [
    "from transformers import Wav2Vec2Processor, Data2VecAudioModel\n",
    "import torch\n",
    "from torch import nn\n",
    "from datasets import load_dataset\n",
    "import numpy\n",
    "import pandas\n",
    "import seaborn\n",
    "from sklearn import cluster"
   ]
  },
  {
   "cell_type": "code",
   "execution_count": null,
   "id": "ad26fabd-1211-4be3-a590-8c3f07730a3b",
   "metadata": {},
   "outputs": [],
   "source": []
  },
  {
   "cell_type": "code",
   "execution_count": 3,
   "id": "ee6bac00-f001-47af-a7ba-36b7e7736894",
   "metadata": {},
   "outputs": [],
   "source": [
    "dataset = load_dataset(\"hf-internal-testing/librispeech_asr_demo\", \"clean\", split=\"validation\", trust_remote_code=True)\n",
    "dataset = dataset.sort(\"id\")\n",
    "sampling_rate = dataset.features[\"audio\"].sampling_rate"
   ]
  },
  {
   "cell_type": "code",
   "execution_count": null,
   "id": "5a05e240-451c-47fb-8575-e22a6f26a646",
   "metadata": {},
   "outputs": [],
   "source": []
  },
  {
   "cell_type": "code",
   "execution_count": 3,
   "id": "212a1192-49d1-47f1-9ad9-d17d8fceaf2f",
   "metadata": {},
   "outputs": [],
   "source": [
    "from moviepy.editor import VideoFileClip"
   ]
  },
  {
   "cell_type": "code",
   "execution_count": null,
   "id": "11f97aed-7dbb-4bb3-a87c-645d4c782ca4",
   "metadata": {
    "scrolled": true
   },
   "outputs": [
    {
     "name": "stdout",
     "output_type": "stream",
     "text": [
      "-PVZWsClTPY\n",
      "MoviePy - Writing audio in ./data_mp3/-PVZWsClTPY.mp3\n"
     ]
    },
    {
     "name": "stderr",
     "output_type": "stream",
     "text": [
      "                                                                                                                       \r"
     ]
    },
    {
     "name": "stdout",
     "output_type": "stream",
     "text": [
      "MoviePy - Done.\n",
      "0j7_Tb4LgPA\n",
      "MoviePy - Writing audio in ./data_mp3/0j7_Tb4LgPA.mp3\n"
     ]
    },
    {
     "name": "stderr",
     "output_type": "stream",
     "text": [
      "                                                                                                                       \r"
     ]
    },
    {
     "name": "stdout",
     "output_type": "stream",
     "text": [
      "MoviePy - Done.\n",
      "0poLsDf1TvM\n",
      "MoviePy - Writing audio in ./data_mp3/0poLsDf1TvM.mp3\n"
     ]
    },
    {
     "name": "stderr",
     "output_type": "stream",
     "text": [
      "                                                                                                                       \r"
     ]
    },
    {
     "name": "stdout",
     "output_type": "stream",
     "text": [
      "MoviePy - Done.\n",
      "1AfkQES9PPw\n",
      "MoviePy - Writing audio in ./data_mp3/1AfkQES9PPw__ы1.mp3\n"
     ]
    },
    {
     "name": "stderr",
     "output_type": "stream",
     "text": [
      "                                                                                                                       \r"
     ]
    },
    {
     "name": "stdout",
     "output_type": "stream",
     "text": [
      "MoviePy - Done.\n",
      "MoviePy - Writing audio in ./data_mp3/1AfkQES9PPw__ы2.mp3\n"
     ]
    },
    {
     "name": "stderr",
     "output_type": "stream",
     "text": [
      "                                                                                                                       \r"
     ]
    },
    {
     "name": "stdout",
     "output_type": "stream",
     "text": [
      "MoviePy - Done.\n",
      "MoviePy - Writing audio in ./data_mp3/1AfkQES9PPw__ы3.mp3\n"
     ]
    },
    {
     "name": "stderr",
     "output_type": "stream",
     "text": [
      "                                                                                                                       \r"
     ]
    },
    {
     "name": "stdout",
     "output_type": "stream",
     "text": [
      "MoviePy - Done.\n",
      "MoviePy - Writing audio in ./data_mp3/1AfkQES9PPw__ы4.mp3\n"
     ]
    },
    {
     "name": "stderr",
     "output_type": "stream",
     "text": [
      "                                                                                                                       \r"
     ]
    },
    {
     "name": "stdout",
     "output_type": "stream",
     "text": [
      "MoviePy - Done.\n",
      "MoviePy - Writing audio in ./data_mp3/1AfkQES9PPw__ы5.mp3\n"
     ]
    },
    {
     "name": "stderr",
     "output_type": "stream",
     "text": [
      "                                                                                                                       \r"
     ]
    },
    {
     "name": "stdout",
     "output_type": "stream",
     "text": [
      "MoviePy - Done.\n",
      "MoviePy - Writing audio in ./data_mp3/1AfkQES9PPw__ы6.mp3\n"
     ]
    },
    {
     "name": "stderr",
     "output_type": "stream",
     "text": [
      "                                                                                                                       \r"
     ]
    },
    {
     "name": "stdout",
     "output_type": "stream",
     "text": [
      "MoviePy - Done.\n",
      "MoviePy - Writing audio in ./data_mp3/1AfkQES9PPw__ы7.mp3\n"
     ]
    },
    {
     "name": "stderr",
     "output_type": "stream",
     "text": [
      "                                                                                                                       \r"
     ]
    },
    {
     "name": "stdout",
     "output_type": "stream",
     "text": [
      "MoviePy - Done.\n",
      "MoviePy - Writing audio in ./data_mp3/1AfkQES9PPw__ы8.mp3\n"
     ]
    },
    {
     "name": "stderr",
     "output_type": "stream",
     "text": [
      "                                                                                                                       \r"
     ]
    },
    {
     "name": "stdout",
     "output_type": "stream",
     "text": [
      "MoviePy - Done.\n",
      "MoviePy - Writing audio in ./data_mp3/1AfkQES9PPw__ы9.mp3\n"
     ]
    },
    {
     "name": "stderr",
     "output_type": "stream",
     "text": [
      "                                                                                                                       \r"
     ]
    },
    {
     "name": "stdout",
     "output_type": "stream",
     "text": [
      "MoviePy - Done.\n",
      "MoviePy - Writing audio in ./data_mp3/1AfkQES9PPw__ы10.mp3\n"
     ]
    },
    {
     "name": "stderr",
     "output_type": "stream",
     "text": [
      "                                                                                                                       \r"
     ]
    },
    {
     "name": "stdout",
     "output_type": "stream",
     "text": [
      "MoviePy - Done.\n",
      "MoviePy - Writing audio in ./data_mp3/1AfkQES9PPw__ы11.mp3\n"
     ]
    },
    {
     "name": "stderr",
     "output_type": "stream",
     "text": [
      "                                                                                                                       \r"
     ]
    },
    {
     "name": "stdout",
     "output_type": "stream",
     "text": [
      "MoviePy - Done.\n",
      "MoviePy - Writing audio in ./data_mp3/1AfkQES9PPw__ы12.mp3\n"
     ]
    },
    {
     "name": "stderr",
     "output_type": "stream",
     "text": [
      "                                                                                                                       \r"
     ]
    },
    {
     "name": "stdout",
     "output_type": "stream",
     "text": [
      "MoviePy - Done.\n",
      "MoviePy - Writing audio in ./data_mp3/1AfkQES9PPw__ы13.mp3\n"
     ]
    },
    {
     "name": "stderr",
     "output_type": "stream",
     "text": [
      "                                                                                                                       \r"
     ]
    },
    {
     "name": "stdout",
     "output_type": "stream",
     "text": [
      "MoviePy - Done.\n",
      "MoviePy - Writing audio in ./data_mp3/1AfkQES9PPw__ы14.mp3\n"
     ]
    },
    {
     "name": "stderr",
     "output_type": "stream",
     "text": [
      "                                                                                                                       \r"
     ]
    },
    {
     "name": "stdout",
     "output_type": "stream",
     "text": [
      "MoviePy - Done.\n",
      "MoviePy - Writing audio in ./data_mp3/1AfkQES9PPw__ы15.mp3\n"
     ]
    },
    {
     "name": "stderr",
     "output_type": "stream",
     "text": [
      "                                                                                                                       \r"
     ]
    },
    {
     "name": "stdout",
     "output_type": "stream",
     "text": [
      "MoviePy - Done.\n",
      "MoviePy - Writing audio in ./data_mp3/1AfkQES9PPw__ы16.mp3\n"
     ]
    },
    {
     "name": "stderr",
     "output_type": "stream",
     "text": [
      "                                                                                                                       \r"
     ]
    },
    {
     "name": "stdout",
     "output_type": "stream",
     "text": [
      "MoviePy - Done.\n",
      "MoviePy - Writing audio in ./data_mp3/1AfkQES9PPw__ы17.mp3\n"
     ]
    },
    {
     "name": "stderr",
     "output_type": "stream",
     "text": [
      "                                                                                                                       \r"
     ]
    },
    {
     "name": "stdout",
     "output_type": "stream",
     "text": [
      "MoviePy - Done.\n",
      "MoviePy - Writing audio in ./data_mp3/1AfkQES9PPw__ы18.mp3\n"
     ]
    },
    {
     "name": "stderr",
     "output_type": "stream",
     "text": [
      "                                                                                                                       \r"
     ]
    },
    {
     "name": "stdout",
     "output_type": "stream",
     "text": [
      "MoviePy - Done.\n",
      "MoviePy - Writing audio in ./data_mp3/1AfkQES9PPw__ы19.mp3\n"
     ]
    },
    {
     "name": "stderr",
     "output_type": "stream",
     "text": [
      "                                                                                                                       \r"
     ]
    },
    {
     "name": "stdout",
     "output_type": "stream",
     "text": [
      "MoviePy - Done.\n",
      "1VgqTZptlt4\n",
      "MoviePy - Writing audio in ./data_mp3/1VgqTZptlt4.mp3\n"
     ]
    },
    {
     "name": "stderr",
     "output_type": "stream",
     "text": [
      "                                                                                                                       \r"
     ]
    },
    {
     "name": "stdout",
     "output_type": "stream",
     "text": [
      "MoviePy - Done.\n",
      "2PN548CszJ4\n",
      "MoviePy - Writing audio in ./data_mp3/2PN548CszJ4__ы1.mp3\n"
     ]
    },
    {
     "name": "stderr",
     "output_type": "stream",
     "text": [
      "                                                                                                                       \r"
     ]
    },
    {
     "name": "stdout",
     "output_type": "stream",
     "text": [
      "MoviePy - Done.\n",
      "MoviePy - Writing audio in ./data_mp3/2PN548CszJ4__ы2.mp3\n"
     ]
    },
    {
     "name": "stderr",
     "output_type": "stream",
     "text": [
      "                                                                                                                       \r"
     ]
    },
    {
     "name": "stdout",
     "output_type": "stream",
     "text": [
      "MoviePy - Done.\n",
      "MoviePy - Writing audio in ./data_mp3/2PN548CszJ4__ы3.mp3\n"
     ]
    },
    {
     "name": "stderr",
     "output_type": "stream",
     "text": [
      "                                                                                                                       \r"
     ]
    },
    {
     "name": "stdout",
     "output_type": "stream",
     "text": [
      "MoviePy - Done.\n",
      "MoviePy - Writing audio in ./data_mp3/2PN548CszJ4__ы4.mp3\n"
     ]
    },
    {
     "name": "stderr",
     "output_type": "stream",
     "text": [
      "                                                                                                                       \r"
     ]
    },
    {
     "name": "stdout",
     "output_type": "stream",
     "text": [
      "MoviePy - Done.\n",
      "MoviePy - Writing audio in ./data_mp3/2PN548CszJ4__ы5.mp3\n"
     ]
    },
    {
     "name": "stderr",
     "output_type": "stream",
     "text": [
      "                                                                                                                       \r"
     ]
    },
    {
     "name": "stdout",
     "output_type": "stream",
     "text": [
      "MoviePy - Done.\n",
      "MoviePy - Writing audio in ./data_mp3/2PN548CszJ4__ы6.mp3\n"
     ]
    },
    {
     "name": "stderr",
     "output_type": "stream",
     "text": [
      "                                                                                                                       \r"
     ]
    },
    {
     "name": "stdout",
     "output_type": "stream",
     "text": [
      "MoviePy - Done.\n",
      "MoviePy - Writing audio in ./data_mp3/2PN548CszJ4__ы7.mp3\n"
     ]
    },
    {
     "name": "stderr",
     "output_type": "stream",
     "text": [
      "                                                                                                                       \r"
     ]
    },
    {
     "name": "stdout",
     "output_type": "stream",
     "text": [
      "MoviePy - Done.\n",
      "MoviePy - Writing audio in ./data_mp3/2PN548CszJ4__ы8.mp3\n"
     ]
    },
    {
     "name": "stderr",
     "output_type": "stream",
     "text": [
      "                                                                                                                       \r"
     ]
    },
    {
     "name": "stdout",
     "output_type": "stream",
     "text": [
      "MoviePy - Done.\n",
      "MoviePy - Writing audio in ./data_mp3/2PN548CszJ4__ы9.mp3\n"
     ]
    },
    {
     "name": "stderr",
     "output_type": "stream",
     "text": [
      "                                                                                                                       \r"
     ]
    },
    {
     "name": "stdout",
     "output_type": "stream",
     "text": [
      "MoviePy - Done.\n",
      "MoviePy - Writing audio in ./data_mp3/2PN548CszJ4__ы10.mp3\n"
     ]
    },
    {
     "name": "stderr",
     "output_type": "stream",
     "text": [
      "                                                                                                                       \r"
     ]
    },
    {
     "name": "stdout",
     "output_type": "stream",
     "text": [
      "MoviePy - Done.\n",
      "MoviePy - Writing audio in ./data_mp3/2PN548CszJ4__ы11.mp3\n"
     ]
    },
    {
     "name": "stderr",
     "output_type": "stream",
     "text": [
      "                                                                                                                       \r"
     ]
    },
    {
     "name": "stdout",
     "output_type": "stream",
     "text": [
      "MoviePy - Done.\n",
      "MoviePy - Writing audio in ./data_mp3/2PN548CszJ4__ы12.mp3\n"
     ]
    },
    {
     "name": "stderr",
     "output_type": "stream",
     "text": [
      "                                                                                                                       \r"
     ]
    },
    {
     "name": "stdout",
     "output_type": "stream",
     "text": [
      "MoviePy - Done.\n",
      "36qnhrJGgfc\n",
      "MoviePy - Writing audio in ./data_mp3/36qnhrJGgfc.mp3\n"
     ]
    },
    {
     "name": "stderr",
     "output_type": "stream",
     "text": [
      "                                                                                                                       \r"
     ]
    },
    {
     "name": "stdout",
     "output_type": "stream",
     "text": [
      "MoviePy - Done.\n",
      "36v6XBpa7CA\n",
      "MoviePy - Writing audio in ./data_mp3/36v6XBpa7CA.mp3\n"
     ]
    },
    {
     "name": "stderr",
     "output_type": "stream",
     "text": [
      "                                                                                                                       \r"
     ]
    },
    {
     "name": "stdout",
     "output_type": "stream",
     "text": [
      "MoviePy - Done.\n",
      "40PLk5VKVKQ\n",
      "MoviePy - Writing audio in ./data_mp3/40PLk5VKVKQ__ы1.mp3\n"
     ]
    },
    {
     "name": "stderr",
     "output_type": "stream",
     "text": [
      "                                                                                                                       \r"
     ]
    },
    {
     "name": "stdout",
     "output_type": "stream",
     "text": [
      "MoviePy - Done.\n",
      "MoviePy - Writing audio in ./data_mp3/40PLk5VKVKQ__ы2.mp3\n"
     ]
    },
    {
     "name": "stderr",
     "output_type": "stream",
     "text": [
      "                                                                                                                       \r"
     ]
    },
    {
     "name": "stdout",
     "output_type": "stream",
     "text": [
      "MoviePy - Done.\n",
      "MoviePy - Writing audio in ./data_mp3/40PLk5VKVKQ__ы3.mp3\n"
     ]
    },
    {
     "name": "stderr",
     "output_type": "stream",
     "text": [
      "                                                                                                                       \r"
     ]
    },
    {
     "name": "stdout",
     "output_type": "stream",
     "text": [
      "MoviePy - Done.\n",
      "MoviePy - Writing audio in ./data_mp3/40PLk5VKVKQ__ы4.mp3\n"
     ]
    },
    {
     "name": "stderr",
     "output_type": "stream",
     "text": [
      "                                                                                                                       \r"
     ]
    },
    {
     "name": "stdout",
     "output_type": "stream",
     "text": [
      "MoviePy - Done.\n",
      "5mHYwdeBDAE\n",
      "MoviePy - Writing audio in ./data_mp3/5mHYwdeBDAE__ы1.mp3\n"
     ]
    },
    {
     "name": "stderr",
     "output_type": "stream",
     "text": [
      "                                                                                                                       \r"
     ]
    },
    {
     "name": "stdout",
     "output_type": "stream",
     "text": [
      "MoviePy - Done.\n",
      "MoviePy - Writing audio in ./data_mp3/5mHYwdeBDAE__ы2.mp3\n"
     ]
    },
    {
     "name": "stderr",
     "output_type": "stream",
     "text": [
      "                                                                                                                       \r"
     ]
    },
    {
     "name": "stdout",
     "output_type": "stream",
     "text": [
      "MoviePy - Done.\n",
      "MoviePy - Writing audio in ./data_mp3/5mHYwdeBDAE__ы3.mp3\n"
     ]
    },
    {
     "name": "stderr",
     "output_type": "stream",
     "text": [
      "                                                                                                                       \r"
     ]
    },
    {
     "name": "stdout",
     "output_type": "stream",
     "text": [
      "MoviePy - Done.\n",
      "MoviePy - Writing audio in ./data_mp3/5mHYwdeBDAE__ы4.mp3\n"
     ]
    },
    {
     "name": "stderr",
     "output_type": "stream",
     "text": [
      "                                                                                                                       \r"
     ]
    },
    {
     "name": "stdout",
     "output_type": "stream",
     "text": [
      "MoviePy - Done.\n",
      "MoviePy - Writing audio in ./data_mp3/5mHYwdeBDAE__ы5.mp3\n"
     ]
    },
    {
     "name": "stderr",
     "output_type": "stream",
     "text": [
      "                                                                                                                       \r"
     ]
    },
    {
     "name": "stdout",
     "output_type": "stream",
     "text": [
      "MoviePy - Done.\n",
      "MoviePy - Writing audio in ./data_mp3/5mHYwdeBDAE__ы6.mp3\n"
     ]
    },
    {
     "name": "stderr",
     "output_type": "stream",
     "text": [
      "                                                                                                                       \r"
     ]
    },
    {
     "name": "stdout",
     "output_type": "stream",
     "text": [
      "MoviePy - Done.\n",
      "6A4A9Xkx6Xo\n",
      "MoviePy - Writing audio in ./data_mp3/6A4A9Xkx6Xo__ы1.mp3\n"
     ]
    },
    {
     "name": "stderr",
     "output_type": "stream",
     "text": [
      "                                                                                                                       \r"
     ]
    },
    {
     "name": "stdout",
     "output_type": "stream",
     "text": [
      "MoviePy - Done.\n",
      "MoviePy - Writing audio in ./data_mp3/6A4A9Xkx6Xo__ы2.mp3\n"
     ]
    },
    {
     "name": "stderr",
     "output_type": "stream",
     "text": [
      "                                                                                                                       \r"
     ]
    },
    {
     "name": "stdout",
     "output_type": "stream",
     "text": [
      "MoviePy - Done.\n",
      "MoviePy - Writing audio in ./data_mp3/6A4A9Xkx6Xo__ы3.mp3\n"
     ]
    },
    {
     "name": "stderr",
     "output_type": "stream",
     "text": [
      "                                                                                                                       \r"
     ]
    },
    {
     "name": "stdout",
     "output_type": "stream",
     "text": [
      "MoviePy - Done.\n",
      "MoviePy - Writing audio in ./data_mp3/6A4A9Xkx6Xo__ы4.mp3\n"
     ]
    },
    {
     "name": "stderr",
     "output_type": "stream",
     "text": [
      "                                                                                                                       \r"
     ]
    },
    {
     "name": "stdout",
     "output_type": "stream",
     "text": [
      "MoviePy - Done.\n",
      "MoviePy - Writing audio in ./data_mp3/6A4A9Xkx6Xo__ы5.mp3\n"
     ]
    },
    {
     "name": "stderr",
     "output_type": "stream",
     "text": [
      "                                                                                                                       \r"
     ]
    },
    {
     "name": "stdout",
     "output_type": "stream",
     "text": [
      "MoviePy - Done.\n",
      "MoviePy - Writing audio in ./data_mp3/6A4A9Xkx6Xo__ы6.mp3\n"
     ]
    },
    {
     "name": "stderr",
     "output_type": "stream",
     "text": [
      "                                                                                                                       \r"
     ]
    },
    {
     "name": "stdout",
     "output_type": "stream",
     "text": [
      "MoviePy - Done.\n",
      "MoviePy - Writing audio in ./data_mp3/6A4A9Xkx6Xo__ы7.mp3\n"
     ]
    },
    {
     "name": "stderr",
     "output_type": "stream",
     "text": [
      "                                                                                                                       \r"
     ]
    },
    {
     "name": "stdout",
     "output_type": "stream",
     "text": [
      "MoviePy - Done.\n",
      "MoviePy - Writing audio in ./data_mp3/6A4A9Xkx6Xo__ы8.mp3\n"
     ]
    },
    {
     "name": "stderr",
     "output_type": "stream",
     "text": [
      "                                                                                                                       \r"
     ]
    },
    {
     "name": "stdout",
     "output_type": "stream",
     "text": [
      "MoviePy - Done.\n",
      "MoviePy - Writing audio in ./data_mp3/6A4A9Xkx6Xo__ы9.mp3\n"
     ]
    },
    {
     "name": "stderr",
     "output_type": "stream",
     "text": [
      "                                                                                                                       \r"
     ]
    },
    {
     "name": "stdout",
     "output_type": "stream",
     "text": [
      "MoviePy - Done.\n",
      "MoviePy - Writing audio in ./data_mp3/6A4A9Xkx6Xo__ы10.mp3\n"
     ]
    },
    {
     "name": "stderr",
     "output_type": "stream",
     "text": [
      "                                                                                                                       \r"
     ]
    },
    {
     "name": "stdout",
     "output_type": "stream",
     "text": [
      "MoviePy - Done.\n",
      "MoviePy - Writing audio in ./data_mp3/6A4A9Xkx6Xo__ы11.mp3\n"
     ]
    },
    {
     "name": "stderr",
     "output_type": "stream",
     "text": [
      "                                                                                                                       \r"
     ]
    },
    {
     "name": "stdout",
     "output_type": "stream",
     "text": [
      "MoviePy - Done.\n",
      "MoviePy - Writing audio in ./data_mp3/6A4A9Xkx6Xo__ы12.mp3\n"
     ]
    },
    {
     "name": "stderr",
     "output_type": "stream",
     "text": [
      "                                                                                                                       \r"
     ]
    },
    {
     "name": "stdout",
     "output_type": "stream",
     "text": [
      "MoviePy - Done.\n",
      "6KDvQz-YfKY\n",
      "MoviePy - Writing audio in ./data_mp3/6KDvQz-YfKY__ы1.mp3\n"
     ]
    },
    {
     "name": "stderr",
     "output_type": "stream",
     "text": [
      "                                                                                                                       \r"
     ]
    },
    {
     "name": "stdout",
     "output_type": "stream",
     "text": [
      "MoviePy - Done.\n",
      "MoviePy - Writing audio in ./data_mp3/6KDvQz-YfKY__ы2.mp3\n"
     ]
    },
    {
     "name": "stderr",
     "output_type": "stream",
     "text": [
      "                                                                                                                       \r"
     ]
    },
    {
     "name": "stdout",
     "output_type": "stream",
     "text": [
      "MoviePy - Done.\n",
      "MoviePy - Writing audio in ./data_mp3/6KDvQz-YfKY__ы3.mp3\n"
     ]
    },
    {
     "name": "stderr",
     "output_type": "stream",
     "text": [
      "                                                                                                                       \r"
     ]
    },
    {
     "name": "stdout",
     "output_type": "stream",
     "text": [
      "MoviePy - Done.\n",
      "MoviePy - Writing audio in ./data_mp3/6KDvQz-YfKY__ы4.mp3\n"
     ]
    },
    {
     "name": "stderr",
     "output_type": "stream",
     "text": [
      "                                                                                                                       \r"
     ]
    },
    {
     "name": "stdout",
     "output_type": "stream",
     "text": [
      "MoviePy - Done.\n",
      "MoviePy - Writing audio in ./data_mp3/6KDvQz-YfKY__ы5.mp3\n"
     ]
    },
    {
     "name": "stderr",
     "output_type": "stream",
     "text": [
      "                                                                                                                       \r"
     ]
    },
    {
     "name": "stdout",
     "output_type": "stream",
     "text": [
      "MoviePy - Done.\n",
      "MoviePy - Writing audio in ./data_mp3/6KDvQz-YfKY__ы6.mp3\n"
     ]
    },
    {
     "name": "stderr",
     "output_type": "stream",
     "text": [
      "                                                                                                                       \r"
     ]
    },
    {
     "name": "stdout",
     "output_type": "stream",
     "text": [
      "MoviePy - Done.\n",
      "MoviePy - Writing audio in ./data_mp3/6KDvQz-YfKY__ы7.mp3\n"
     ]
    },
    {
     "name": "stderr",
     "output_type": "stream",
     "text": [
      "                                                                                                                       \r"
     ]
    },
    {
     "name": "stdout",
     "output_type": "stream",
     "text": [
      "MoviePy - Done.\n",
      "MoviePy - Writing audio in ./data_mp3/6KDvQz-YfKY__ы8.mp3\n"
     ]
    },
    {
     "name": "stderr",
     "output_type": "stream",
     "text": [
      "                                                                                                                       \r"
     ]
    },
    {
     "name": "stdout",
     "output_type": "stream",
     "text": [
      "MoviePy - Done.\n",
      "MoviePy - Writing audio in ./data_mp3/6KDvQz-YfKY__ы9.mp3\n"
     ]
    },
    {
     "name": "stderr",
     "output_type": "stream",
     "text": [
      "                                                                                                                       \r"
     ]
    },
    {
     "name": "stdout",
     "output_type": "stream",
     "text": [
      "MoviePy - Done.\n",
      "MoviePy - Writing audio in ./data_mp3/6KDvQz-YfKY__ы10.mp3\n"
     ]
    },
    {
     "name": "stderr",
     "output_type": "stream",
     "text": [
      "                                                                                                                       \r"
     ]
    },
    {
     "name": "stdout",
     "output_type": "stream",
     "text": [
      "MoviePy - Done.\n",
      "MoviePy - Writing audio in ./data_mp3/6KDvQz-YfKY__ы11.mp3\n"
     ]
    },
    {
     "name": "stderr",
     "output_type": "stream",
     "text": [
      "                                                                                                                       \r"
     ]
    },
    {
     "name": "stdout",
     "output_type": "stream",
     "text": [
      "MoviePy - Done.\n",
      "MoviePy - Writing audio in ./data_mp3/6KDvQz-YfKY__ы12.mp3\n"
     ]
    },
    {
     "name": "stderr",
     "output_type": "stream",
     "text": [
      "                                                                                                                       \r"
     ]
    },
    {
     "name": "stdout",
     "output_type": "stream",
     "text": [
      "MoviePy - Done.\n",
      "6oFwfkx-3lg\n",
      "MoviePy - Writing audio in ./data_mp3/6oFwfkx-3lg.mp3\n"
     ]
    },
    {
     "name": "stderr",
     "output_type": "stream",
     "text": [
      "                                                                                                                       \r"
     ]
    },
    {
     "name": "stdout",
     "output_type": "stream",
     "text": [
      "MoviePy - Done.\n",
      "6QdLsPBa30o\n",
      "MoviePy - Writing audio in ./data_mp3/6QdLsPBa30o__ы1.mp3\n"
     ]
    },
    {
     "name": "stderr",
     "output_type": "stream",
     "text": [
      "                                                                                                                       \r"
     ]
    },
    {
     "name": "stdout",
     "output_type": "stream",
     "text": [
      "MoviePy - Done.\n",
      "MoviePy - Writing audio in ./data_mp3/6QdLsPBa30o__ы2.mp3\n"
     ]
    },
    {
     "name": "stderr",
     "output_type": "stream",
     "text": [
      "                                                                                                                       \r"
     ]
    },
    {
     "name": "stdout",
     "output_type": "stream",
     "text": [
      "MoviePy - Done.\n",
      "MoviePy - Writing audio in ./data_mp3/6QdLsPBa30o__ы3.mp3\n"
     ]
    },
    {
     "name": "stderr",
     "output_type": "stream",
     "text": [
      "                                                                                                                       \r"
     ]
    },
    {
     "name": "stdout",
     "output_type": "stream",
     "text": [
      "MoviePy - Done.\n",
      "MoviePy - Writing audio in ./data_mp3/6QdLsPBa30o__ы4.mp3\n"
     ]
    },
    {
     "name": "stderr",
     "output_type": "stream",
     "text": [
      "                                                                                                                       \r"
     ]
    },
    {
     "name": "stdout",
     "output_type": "stream",
     "text": [
      "MoviePy - Done.\n",
      "MoviePy - Writing audio in ./data_mp3/6QdLsPBa30o__ы5.mp3\n"
     ]
    },
    {
     "name": "stderr",
     "output_type": "stream",
     "text": [
      "                                                                                                                       \r"
     ]
    },
    {
     "name": "stdout",
     "output_type": "stream",
     "text": [
      "MoviePy - Done.\n",
      "MoviePy - Writing audio in ./data_mp3/6QdLsPBa30o__ы6.mp3\n"
     ]
    },
    {
     "name": "stderr",
     "output_type": "stream",
     "text": [
      "                                                                                                                       \r"
     ]
    },
    {
     "name": "stdout",
     "output_type": "stream",
     "text": [
      "MoviePy - Done.\n",
      "MoviePy - Writing audio in ./data_mp3/6QdLsPBa30o__ы7.mp3\n"
     ]
    },
    {
     "name": "stderr",
     "output_type": "stream",
     "text": [
      "                                                                                                                       \r"
     ]
    },
    {
     "name": "stdout",
     "output_type": "stream",
     "text": [
      "MoviePy - Done.\n",
      "MoviePy - Writing audio in ./data_mp3/6QdLsPBa30o__ы8.mp3\n"
     ]
    },
    {
     "name": "stderr",
     "output_type": "stream",
     "text": [
      "                                                                                                                       \r"
     ]
    },
    {
     "name": "stdout",
     "output_type": "stream",
     "text": [
      "MoviePy - Done.\n",
      "MoviePy - Writing audio in ./data_mp3/6QdLsPBa30o__ы9.mp3\n"
     ]
    },
    {
     "name": "stderr",
     "output_type": "stream",
     "text": [
      "                                                                                                                       \r"
     ]
    },
    {
     "name": "stdout",
     "output_type": "stream",
     "text": [
      "MoviePy - Done.\n",
      "MoviePy - Writing audio in ./data_mp3/6QdLsPBa30o__ы10.mp3\n"
     ]
    },
    {
     "name": "stderr",
     "output_type": "stream",
     "text": [
      "                                                                                                                       \r"
     ]
    },
    {
     "name": "stdout",
     "output_type": "stream",
     "text": [
      "MoviePy - Done.\n",
      "MoviePy - Writing audio in ./data_mp3/6QdLsPBa30o__ы11.mp3\n"
     ]
    },
    {
     "name": "stderr",
     "output_type": "stream",
     "text": [
      "                                                                                                                       \r"
     ]
    },
    {
     "name": "stdout",
     "output_type": "stream",
     "text": [
      "MoviePy - Done.\n",
      "MoviePy - Writing audio in ./data_mp3/6QdLsPBa30o__ы12.mp3\n"
     ]
    },
    {
     "name": "stderr",
     "output_type": "stream",
     "text": [
      "                                                                                                                       \r"
     ]
    },
    {
     "name": "stdout",
     "output_type": "stream",
     "text": [
      "MoviePy - Done.\n",
      "6spnsA8dQwA\n",
      "MoviePy - Writing audio in ./data_mp3/6spnsA8dQwA.mp3\n"
     ]
    },
    {
     "name": "stderr",
     "output_type": "stream",
     "text": [
      "                                                                                                                       \r"
     ]
    },
    {
     "name": "stdout",
     "output_type": "stream",
     "text": [
      "MoviePy - Done.\n",
      "7HiOuTpi5dg\n",
      "MoviePy - Writing audio in ./data_mp3/7HiOuTpi5dg__ы1.mp3\n"
     ]
    },
    {
     "name": "stderr",
     "output_type": "stream",
     "text": [
      "                                                                                                                       \r"
     ]
    },
    {
     "name": "stdout",
     "output_type": "stream",
     "text": [
      "MoviePy - Done.\n",
      "MoviePy - Writing audio in ./data_mp3/7HiOuTpi5dg__ы2.mp3\n"
     ]
    },
    {
     "name": "stderr",
     "output_type": "stream",
     "text": [
      "                                                                                                                       \r"
     ]
    },
    {
     "name": "stdout",
     "output_type": "stream",
     "text": [
      "MoviePy - Done.\n",
      "MoviePy - Writing audio in ./data_mp3/7HiOuTpi5dg__ы3.mp3\n"
     ]
    },
    {
     "name": "stderr",
     "output_type": "stream",
     "text": [
      "                                                                                                                       \r"
     ]
    },
    {
     "name": "stdout",
     "output_type": "stream",
     "text": [
      "MoviePy - Done.\n",
      "MoviePy - Writing audio in ./data_mp3/7HiOuTpi5dg__ы4.mp3\n"
     ]
    },
    {
     "name": "stderr",
     "output_type": "stream",
     "text": [
      "                                                                                                                       \r"
     ]
    },
    {
     "name": "stdout",
     "output_type": "stream",
     "text": [
      "MoviePy - Done.\n",
      "MoviePy - Writing audio in ./data_mp3/7HiOuTpi5dg__ы5.mp3\n"
     ]
    },
    {
     "name": "stderr",
     "output_type": "stream",
     "text": [
      "                                                                                                                       \r"
     ]
    },
    {
     "name": "stdout",
     "output_type": "stream",
     "text": [
      "MoviePy - Done.\n",
      "MoviePy - Writing audio in ./data_mp3/7HiOuTpi5dg__ы6.mp3\n"
     ]
    },
    {
     "name": "stderr",
     "output_type": "stream",
     "text": [
      "                                                                                                                       \r"
     ]
    },
    {
     "name": "stdout",
     "output_type": "stream",
     "text": [
      "MoviePy - Done.\n",
      "7MmhdFwERjE\n",
      "MoviePy - Writing audio in ./data_mp3/7MmhdFwERjE__ы1.mp3\n"
     ]
    },
    {
     "name": "stderr",
     "output_type": "stream",
     "text": [
      "                                                                                                                       \r"
     ]
    },
    {
     "name": "stdout",
     "output_type": "stream",
     "text": [
      "MoviePy - Done.\n",
      "MoviePy - Writing audio in ./data_mp3/7MmhdFwERjE__ы2.mp3\n"
     ]
    },
    {
     "name": "stderr",
     "output_type": "stream",
     "text": [
      "                                                                                                                       \r"
     ]
    },
    {
     "name": "stdout",
     "output_type": "stream",
     "text": [
      "MoviePy - Done.\n",
      "MoviePy - Writing audio in ./data_mp3/7MmhdFwERjE__ы3.mp3\n"
     ]
    },
    {
     "name": "stderr",
     "output_type": "stream",
     "text": [
      "                                                                                                                       \r"
     ]
    },
    {
     "name": "stdout",
     "output_type": "stream",
     "text": [
      "MoviePy - Done.\n",
      "MoviePy - Writing audio in ./data_mp3/7MmhdFwERjE__ы4.mp3\n"
     ]
    },
    {
     "name": "stderr",
     "output_type": "stream",
     "text": [
      "                                                                                                                       \r"
     ]
    },
    {
     "name": "stdout",
     "output_type": "stream",
     "text": [
      "MoviePy - Done.\n",
      "MoviePy - Writing audio in ./data_mp3/7MmhdFwERjE__ы5.mp3\n"
     ]
    },
    {
     "name": "stderr",
     "output_type": "stream",
     "text": [
      "                                                                                                                       \r"
     ]
    },
    {
     "name": "stdout",
     "output_type": "stream",
     "text": [
      "MoviePy - Done.\n",
      "MoviePy - Writing audio in ./data_mp3/7MmhdFwERjE__ы6.mp3\n"
     ]
    },
    {
     "name": "stderr",
     "output_type": "stream",
     "text": [
      "                                                                                                                       \r"
     ]
    },
    {
     "name": "stdout",
     "output_type": "stream",
     "text": [
      "MoviePy - Done.\n",
      "MoviePy - Writing audio in ./data_mp3/7MmhdFwERjE__ы7.mp3\n"
     ]
    },
    {
     "name": "stderr",
     "output_type": "stream",
     "text": [
      "                                                                                                                       \r"
     ]
    },
    {
     "name": "stdout",
     "output_type": "stream",
     "text": [
      "MoviePy - Done.\n",
      "MoviePy - Writing audio in ./data_mp3/7MmhdFwERjE__ы8.mp3\n"
     ]
    },
    {
     "name": "stderr",
     "output_type": "stream",
     "text": [
      "                                                                                                                       \r"
     ]
    },
    {
     "name": "stdout",
     "output_type": "stream",
     "text": [
      "MoviePy - Done.\n",
      "MoviePy - Writing audio in ./data_mp3/7MmhdFwERjE__ы9.mp3\n"
     ]
    },
    {
     "name": "stderr",
     "output_type": "stream",
     "text": [
      "                                                                                                                       \r"
     ]
    },
    {
     "name": "stdout",
     "output_type": "stream",
     "text": [
      "MoviePy - Done.\n",
      "MoviePy - Writing audio in ./data_mp3/7MmhdFwERjE__ы10.mp3\n"
     ]
    },
    {
     "name": "stderr",
     "output_type": "stream",
     "text": [
      "                                                                                                                       \r"
     ]
    },
    {
     "name": "stdout",
     "output_type": "stream",
     "text": [
      "MoviePy - Done.\n",
      "MoviePy - Writing audio in ./data_mp3/7MmhdFwERjE__ы11.mp3\n"
     ]
    },
    {
     "name": "stderr",
     "output_type": "stream",
     "text": [
      "                                                                                                                       \r"
     ]
    },
    {
     "name": "stdout",
     "output_type": "stream",
     "text": [
      "MoviePy - Done.\n",
      "MoviePy - Writing audio in ./data_mp3/7MmhdFwERjE__ы12.mp3\n"
     ]
    },
    {
     "name": "stderr",
     "output_type": "stream",
     "text": [
      "                                                                                                                       \r"
     ]
    },
    {
     "name": "stdout",
     "output_type": "stream",
     "text": [
      "MoviePy - Done.\n",
      "7SpIvGqi5Wk\n",
      "MoviePy - Writing audio in ./data_mp3/7SpIvGqi5Wk.mp3\n"
     ]
    },
    {
     "name": "stderr",
     "output_type": "stream",
     "text": [
      "                                                                                                                       \r"
     ]
    },
    {
     "name": "stdout",
     "output_type": "stream",
     "text": [
      "MoviePy - Done.\n",
      "82FDvDi05w0\n",
      "MoviePy - Writing audio in ./data_mp3/82FDvDi05w0.mp3\n"
     ]
    },
    {
     "name": "stderr",
     "output_type": "stream",
     "text": [
      "                                                                                                                       \r"
     ]
    },
    {
     "name": "stdout",
     "output_type": "stream",
     "text": [
      "MoviePy - Done.\n",
      "8ZspunA4HlM\n",
      "MoviePy - Writing audio in ./data_mp3/8ZspunA4HlM__ы1.mp3\n"
     ]
    },
    {
     "name": "stderr",
     "output_type": "stream",
     "text": [
      "                                                                                                                       \r"
     ]
    },
    {
     "name": "stdout",
     "output_type": "stream",
     "text": [
      "MoviePy - Done.\n",
      "MoviePy - Writing audio in ./data_mp3/8ZspunA4HlM__ы2.mp3\n"
     ]
    },
    {
     "name": "stderr",
     "output_type": "stream",
     "text": [
      "                                                                                                                       \r"
     ]
    },
    {
     "name": "stdout",
     "output_type": "stream",
     "text": [
      "MoviePy - Done.\n",
      "MoviePy - Writing audio in ./data_mp3/8ZspunA4HlM__ы3.mp3\n"
     ]
    },
    {
     "name": "stderr",
     "output_type": "stream",
     "text": [
      "                                                                                                                       \r"
     ]
    },
    {
     "name": "stdout",
     "output_type": "stream",
     "text": [
      "MoviePy - Done.\n",
      "MoviePy - Writing audio in ./data_mp3/8ZspunA4HlM__ы4.mp3\n"
     ]
    },
    {
     "name": "stderr",
     "output_type": "stream",
     "text": [
      "                                                                                                                       \r"
     ]
    },
    {
     "name": "stdout",
     "output_type": "stream",
     "text": [
      "MoviePy - Done.\n",
      "MoviePy - Writing audio in ./data_mp3/8ZspunA4HlM__ы5.mp3\n"
     ]
    },
    {
     "name": "stderr",
     "output_type": "stream",
     "text": [
      "                                                                                                                       \r"
     ]
    },
    {
     "name": "stdout",
     "output_type": "stream",
     "text": [
      "MoviePy - Done.\n",
      "MoviePy - Writing audio in ./data_mp3/8ZspunA4HlM__ы6.mp3\n"
     ]
    },
    {
     "name": "stderr",
     "output_type": "stream",
     "text": [
      "                                                                                                                       \r"
     ]
    },
    {
     "name": "stdout",
     "output_type": "stream",
     "text": [
      "MoviePy - Done.\n",
      "9gM7FUXeIb0\n",
      "MoviePy - Writing audio in ./data_mp3/9gM7FUXeIb0.mp3\n"
     ]
    },
    {
     "name": "stderr",
     "output_type": "stream",
     "text": [
      "                                                                                                                       \r"
     ]
    },
    {
     "name": "stdout",
     "output_type": "stream",
     "text": [
      "MoviePy - Done.\n",
      "9mKCj4Nigpg\n",
      "MoviePy - Writing audio in ./data_mp3/9mKCj4Nigpg.mp3\n"
     ]
    },
    {
     "name": "stderr",
     "output_type": "stream",
     "text": [
      "                                                                                                                       \r"
     ]
    },
    {
     "name": "stdout",
     "output_type": "stream",
     "text": [
      "MoviePy - Done.\n",
      "9o2QPoPlhVI\n",
      "MoviePy - Writing audio in ./data_mp3/9o2QPoPlhVI.mp3\n"
     ]
    },
    {
     "name": "stderr",
     "output_type": "stream",
     "text": [
      "                                                                                                                       \r"
     ]
    },
    {
     "name": "stdout",
     "output_type": "stream",
     "text": [
      "MoviePy - Done.\n",
      "A5oXyThssps\n",
      "MoviePy - Writing audio in ./data_mp3/A5oXyThssps.mp3\n"
     ]
    },
    {
     "name": "stderr",
     "output_type": "stream",
     "text": [
      "                                                                                                                       \r"
     ]
    },
    {
     "name": "stdout",
     "output_type": "stream",
     "text": [
      "MoviePy - Done.\n",
      "A7Pv8Tg4C2Q\n",
      "MoviePy - Writing audio in ./data_mp3/A7Pv8Tg4C2Q.mp3\n"
     ]
    },
    {
     "name": "stderr",
     "output_type": "stream",
     "text": [
      "                                                                                                                       \r"
     ]
    },
    {
     "name": "stdout",
     "output_type": "stream",
     "text": [
      "MoviePy - Done.\n",
      "aChhwFF_SNQ\n",
      "MoviePy - Writing audio in ./data_mp3/aChhwFF_SNQ.mp3\n"
     ]
    },
    {
     "name": "stderr",
     "output_type": "stream",
     "text": [
      "                                                                                                                       \r"
     ]
    },
    {
     "name": "stdout",
     "output_type": "stream",
     "text": [
      "MoviePy - Done.\n",
      "AFNZosSiNRI\n",
      "MoviePy - Writing audio in ./data_mp3/AFNZosSiNRI.mp3\n"
     ]
    },
    {
     "name": "stderr",
     "output_type": "stream",
     "text": [
      "                                                                                                                       \r"
     ]
    },
    {
     "name": "stdout",
     "output_type": "stream",
     "text": [
      "MoviePy - Done.\n",
      "aJIDqYZ7qM0\n",
      "MoviePy - Writing audio in ./data_mp3/aJIDqYZ7qM0__ы1.mp3\n"
     ]
    },
    {
     "name": "stderr",
     "output_type": "stream",
     "text": [
      "                                                                                                                       \r"
     ]
    },
    {
     "name": "stdout",
     "output_type": "stream",
     "text": [
      "MoviePy - Done.\n",
      "MoviePy - Writing audio in ./data_mp3/aJIDqYZ7qM0__ы2.mp3\n"
     ]
    },
    {
     "name": "stderr",
     "output_type": "stream",
     "text": [
      "                                                                                                                       \r"
     ]
    },
    {
     "name": "stdout",
     "output_type": "stream",
     "text": [
      "MoviePy - Done.\n",
      "MoviePy - Writing audio in ./data_mp3/aJIDqYZ7qM0__ы3.mp3\n"
     ]
    },
    {
     "name": "stderr",
     "output_type": "stream",
     "text": [
      "                                                                                                                       \r"
     ]
    },
    {
     "name": "stdout",
     "output_type": "stream",
     "text": [
      "MoviePy - Done.\n",
      "MoviePy - Writing audio in ./data_mp3/aJIDqYZ7qM0__ы4.mp3\n"
     ]
    },
    {
     "name": "stderr",
     "output_type": "stream",
     "text": [
      "                                                                                                                       \r"
     ]
    },
    {
     "name": "stdout",
     "output_type": "stream",
     "text": [
      "MoviePy - Done.\n",
      "MoviePy - Writing audio in ./data_mp3/aJIDqYZ7qM0__ы5.mp3\n"
     ]
    },
    {
     "name": "stderr",
     "output_type": "stream",
     "text": [
      "                                                                                                                       \r"
     ]
    },
    {
     "name": "stdout",
     "output_type": "stream",
     "text": [
      "MoviePy - Done.\n",
      "AMpvHWfXNFs\n",
      "MoviePy - Writing audio in ./data_mp3/AMpvHWfXNFs.mp3\n"
     ]
    },
    {
     "name": "stderr",
     "output_type": "stream",
     "text": [
      "                                                                                                                       \r"
     ]
    },
    {
     "name": "stdout",
     "output_type": "stream",
     "text": [
      "MoviePy - Done.\n",
      "B6XZRAtrPJU\n",
      "MoviePy - Writing audio in ./data_mp3/B6XZRAtrPJU.mp3\n"
     ]
    },
    {
     "name": "stderr",
     "output_type": "stream",
     "text": [
      "                                                                                                                       \r"
     ]
    },
    {
     "name": "stdout",
     "output_type": "stream",
     "text": [
      "MoviePy - Done.\n",
      "BBEAZkmbyeY\n",
      "MoviePy - Writing audio in ./data_mp3/BBEAZkmbyeY.mp3\n"
     ]
    },
    {
     "name": "stderr",
     "output_type": "stream",
     "text": [
      "                                                                                                                       \r"
     ]
    },
    {
     "name": "stdout",
     "output_type": "stream",
     "text": [
      "MoviePy - Done.\n",
      "bdxTDbrxXSI\n",
      "MoviePy - Writing audio in ./data_mp3/bdxTDbrxXSI.mp3\n"
     ]
    },
    {
     "name": "stderr",
     "output_type": "stream",
     "text": [
      "                                                                                                                       \r"
     ]
    },
    {
     "name": "stdout",
     "output_type": "stream",
     "text": [
      "MoviePy - Done.\n",
      "bpOSxM0rNPM\n",
      "MoviePy - Writing audio in ./data_mp3/bpOSxM0rNPM.mp3\n"
     ]
    },
    {
     "name": "stderr",
     "output_type": "stream",
     "text": [
      "                                                                                                                       \r"
     ]
    },
    {
     "name": "stdout",
     "output_type": "stream",
     "text": [
      "MoviePy - Done.\n",
      "BtXec1z00pM\n",
      "MoviePy - Writing audio in ./data_mp3/BtXec1z00pM.mp3\n"
     ]
    },
    {
     "name": "stderr",
     "output_type": "stream",
     "text": [
      "                                                                                                                       \r"
     ]
    },
    {
     "name": "stdout",
     "output_type": "stream",
     "text": [
      "MoviePy - Done.\n",
      "ch-HHGuzwRU\n",
      "MoviePy - Writing audio in ./data_mp3/ch-HHGuzwRU__ы1.mp3\n"
     ]
    },
    {
     "name": "stderr",
     "output_type": "stream",
     "text": [
      "                                                                                                                       \r"
     ]
    },
    {
     "name": "stdout",
     "output_type": "stream",
     "text": [
      "MoviePy - Done.\n",
      "MoviePy - Writing audio in ./data_mp3/ch-HHGuzwRU__ы2.mp3\n"
     ]
    },
    {
     "name": "stderr",
     "output_type": "stream",
     "text": [
      "                                                                                                                       \r"
     ]
    },
    {
     "name": "stdout",
     "output_type": "stream",
     "text": [
      "MoviePy - Done.\n",
      "MoviePy - Writing audio in ./data_mp3/ch-HHGuzwRU__ы3.mp3\n"
     ]
    },
    {
     "name": "stderr",
     "output_type": "stream",
     "text": [
      "                                                                                                                       \r"
     ]
    },
    {
     "name": "stdout",
     "output_type": "stream",
     "text": [
      "MoviePy - Done.\n",
      "MoviePy - Writing audio in ./data_mp3/ch-HHGuzwRU__ы4.mp3\n"
     ]
    },
    {
     "name": "stderr",
     "output_type": "stream",
     "text": [
      "                                                                                                                       \r"
     ]
    },
    {
     "name": "stdout",
     "output_type": "stream",
     "text": [
      "MoviePy - Done.\n",
      "MoviePy - Writing audio in ./data_mp3/ch-HHGuzwRU__ы5.mp3\n"
     ]
    },
    {
     "name": "stderr",
     "output_type": "stream",
     "text": [
      "                                                                                                                       \r"
     ]
    },
    {
     "name": "stdout",
     "output_type": "stream",
     "text": [
      "MoviePy - Done.\n",
      "CqMFclGDA20\n",
      "MoviePy - Writing audio in ./data_mp3/CqMFclGDA20.mp3\n"
     ]
    },
    {
     "name": "stderr",
     "output_type": "stream",
     "text": [
      "                                                                                                                       \r"
     ]
    },
    {
     "name": "stdout",
     "output_type": "stream",
     "text": [
      "MoviePy - Done.\n",
      "cSPfeTwl8Kw\n",
      "MoviePy - Writing audio in ./data_mp3/cSPfeTwl8Kw.mp3\n"
     ]
    },
    {
     "name": "stderr",
     "output_type": "stream",
     "text": [
      "                                                                                                                       \r"
     ]
    },
    {
     "name": "stdout",
     "output_type": "stream",
     "text": [
      "MoviePy - Done.\n",
      "CvRGpXtNc1o\n",
      "MoviePy - Writing audio in ./data_mp3/CvRGpXtNc1o.mp3\n"
     ]
    },
    {
     "name": "stderr",
     "output_type": "stream",
     "text": [
      "                                                                                                                       \r"
     ]
    },
    {
     "name": "stdout",
     "output_type": "stream",
     "text": [
      "MoviePy - Done.\n",
      "D6_b4Iueeo8\n",
      "MoviePy - Writing audio in ./data_mp3/D6_b4Iueeo8.mp3\n"
     ]
    },
    {
     "name": "stderr",
     "output_type": "stream",
     "text": [
      "                                                                                                                       \r"
     ]
    },
    {
     "name": "stdout",
     "output_type": "stream",
     "text": [
      "MoviePy - Done.\n",
      "d8081_cQZyY\n",
      "MoviePy - Writing audio in ./data_mp3/d8081_cQZyY.mp3\n"
     ]
    },
    {
     "name": "stderr",
     "output_type": "stream",
     "text": [
      "                                                                                                                       \r"
     ]
    },
    {
     "name": "stdout",
     "output_type": "stream",
     "text": [
      "MoviePy - Done.\n",
      "DDyoU8Rs-lE\n",
      "MoviePy - Writing audio in ./data_mp3/DDyoU8Rs-lE.mp3\n"
     ]
    },
    {
     "name": "stderr",
     "output_type": "stream",
     "text": [
      "                                                                                                                       \r"
     ]
    },
    {
     "name": "stdout",
     "output_type": "stream",
     "text": [
      "MoviePy - Done.\n",
      "DGKayhZqZRU\n",
      "MoviePy - Writing audio in ./data_mp3/DGKayhZqZRU.mp3\n"
     ]
    },
    {
     "name": "stderr",
     "output_type": "stream",
     "text": [
      "                                                                                                                       \r"
     ]
    },
    {
     "name": "stdout",
     "output_type": "stream",
     "text": [
      "MoviePy - Done.\n",
      "DIQRZkXB9Qk\n",
      "MoviePy - Writing audio in ./data_mp3/DIQRZkXB9Qk__ы1.mp3\n"
     ]
    },
    {
     "name": "stderr",
     "output_type": "stream",
     "text": [
      "                                                                                                                       \r"
     ]
    },
    {
     "name": "stdout",
     "output_type": "stream",
     "text": [
      "MoviePy - Done.\n",
      "MoviePy - Writing audio in ./data_mp3/DIQRZkXB9Qk__ы2.mp3\n"
     ]
    },
    {
     "name": "stderr",
     "output_type": "stream",
     "text": [
      "                                                                                                                       \r"
     ]
    },
    {
     "name": "stdout",
     "output_type": "stream",
     "text": [
      "MoviePy - Done.\n",
      "MoviePy - Writing audio in ./data_mp3/DIQRZkXB9Qk__ы3.mp3\n"
     ]
    },
    {
     "name": "stderr",
     "output_type": "stream",
     "text": [
      "                                                                                                                       \r"
     ]
    },
    {
     "name": "stdout",
     "output_type": "stream",
     "text": [
      "MoviePy - Done.\n",
      "MoviePy - Writing audio in ./data_mp3/DIQRZkXB9Qk__ы4.mp3\n"
     ]
    },
    {
     "name": "stderr",
     "output_type": "stream",
     "text": [
      "                                                                                                                       \r"
     ]
    },
    {
     "name": "stdout",
     "output_type": "stream",
     "text": [
      "MoviePy - Done.\n",
      "MoviePy - Writing audio in ./data_mp3/DIQRZkXB9Qk__ы5.mp3\n"
     ]
    },
    {
     "name": "stderr",
     "output_type": "stream",
     "text": [
      "                                                                                                                       \r"
     ]
    },
    {
     "name": "stdout",
     "output_type": "stream",
     "text": [
      "MoviePy - Done.\n",
      "MoviePy - Writing audio in ./data_mp3/DIQRZkXB9Qk__ы6.mp3\n"
     ]
    },
    {
     "name": "stderr",
     "output_type": "stream",
     "text": [
      "                                                                                                                       \r"
     ]
    },
    {
     "name": "stdout",
     "output_type": "stream",
     "text": [
      "MoviePy - Done.\n",
      "Eiijm2GhKAA\n",
      "MoviePy - Writing audio in ./data_mp3/Eiijm2GhKAA__ы1.mp3\n"
     ]
    },
    {
     "name": "stderr",
     "output_type": "stream",
     "text": [
      "                                                                                                                       \r"
     ]
    },
    {
     "name": "stdout",
     "output_type": "stream",
     "text": [
      "MoviePy - Done.\n",
      "MoviePy - Writing audio in ./data_mp3/Eiijm2GhKAA__ы2.mp3\n"
     ]
    },
    {
     "name": "stderr",
     "output_type": "stream",
     "text": [
      "                                                                                                                       \r"
     ]
    },
    {
     "name": "stdout",
     "output_type": "stream",
     "text": [
      "MoviePy - Done.\n",
      "MoviePy - Writing audio in ./data_mp3/Eiijm2GhKAA__ы3.mp3\n"
     ]
    },
    {
     "name": "stderr",
     "output_type": "stream",
     "text": [
      "                                                                                                                       \r"
     ]
    },
    {
     "name": "stdout",
     "output_type": "stream",
     "text": [
      "MoviePy - Done.\n",
      "MoviePy - Writing audio in ./data_mp3/Eiijm2GhKAA__ы4.mp3\n"
     ]
    },
    {
     "name": "stderr",
     "output_type": "stream",
     "text": [
      "                                                                                                                       \r"
     ]
    },
    {
     "name": "stdout",
     "output_type": "stream",
     "text": [
      "MoviePy - Done.\n",
      "MoviePy - Writing audio in ./data_mp3/Eiijm2GhKAA__ы5.mp3\n"
     ]
    },
    {
     "name": "stderr",
     "output_type": "stream",
     "text": [
      "                                                                                                                       \r"
     ]
    },
    {
     "name": "stdout",
     "output_type": "stream",
     "text": [
      "MoviePy - Done.\n",
      "MoviePy - Writing audio in ./data_mp3/Eiijm2GhKAA__ы6.mp3\n"
     ]
    },
    {
     "name": "stderr",
     "output_type": "stream",
     "text": [
      "                                                                                                                       \r"
     ]
    },
    {
     "name": "stdout",
     "output_type": "stream",
     "text": [
      "MoviePy - Done.\n",
      "MoviePy - Writing audio in ./data_mp3/Eiijm2GhKAA__ы7.mp3\n"
     ]
    },
    {
     "name": "stderr",
     "output_type": "stream",
     "text": [
      "                                                                                                                       \r"
     ]
    },
    {
     "name": "stdout",
     "output_type": "stream",
     "text": [
      "MoviePy - Done.\n",
      "MoviePy - Writing audio in ./data_mp3/Eiijm2GhKAA__ы8.mp3\n"
     ]
    },
    {
     "name": "stderr",
     "output_type": "stream",
     "text": [
      "                                                                                                                       \r"
     ]
    },
    {
     "name": "stdout",
     "output_type": "stream",
     "text": [
      "MoviePy - Done.\n",
      "MoviePy - Writing audio in ./data_mp3/Eiijm2GhKAA__ы9.mp3\n"
     ]
    },
    {
     "name": "stderr",
     "output_type": "stream",
     "text": [
      "                                                                                                                       \r"
     ]
    },
    {
     "name": "stdout",
     "output_type": "stream",
     "text": [
      "MoviePy - Done.\n",
      "MoviePy - Writing audio in ./data_mp3/Eiijm2GhKAA__ы10.mp3\n"
     ]
    },
    {
     "name": "stderr",
     "output_type": "stream",
     "text": [
      "                                                                                                                       \r"
     ]
    },
    {
     "name": "stdout",
     "output_type": "stream",
     "text": [
      "MoviePy - Done.\n",
      "MoviePy - Writing audio in ./data_mp3/Eiijm2GhKAA__ы11.mp3\n"
     ]
    },
    {
     "name": "stderr",
     "output_type": "stream",
     "text": [
      "                                                                                                                       \r"
     ]
    },
    {
     "name": "stdout",
     "output_type": "stream",
     "text": [
      "MoviePy - Done.\n",
      "MoviePy - Writing audio in ./data_mp3/Eiijm2GhKAA__ы12.mp3\n"
     ]
    },
    {
     "name": "stderr",
     "output_type": "stream",
     "text": [
      "                                                                                                                       \r"
     ]
    },
    {
     "name": "stdout",
     "output_type": "stream",
     "text": [
      "MoviePy - Done.\n",
      "MoviePy - Writing audio in ./data_mp3/Eiijm2GhKAA__ы13.mp3\n"
     ]
    },
    {
     "name": "stderr",
     "output_type": "stream",
     "text": [
      "                                                                                                                       \r"
     ]
    },
    {
     "name": "stdout",
     "output_type": "stream",
     "text": [
      "MoviePy - Done.\n",
      "MoviePy - Writing audio in ./data_mp3/Eiijm2GhKAA__ы14.mp3\n"
     ]
    },
    {
     "name": "stderr",
     "output_type": "stream",
     "text": [
      "                                                                                                                       \r"
     ]
    },
    {
     "name": "stdout",
     "output_type": "stream",
     "text": [
      "MoviePy - Done.\n",
      "FdJ_SGof2GI\n",
      "MoviePy - Writing audio in ./data_mp3/FdJ_SGof2GI.mp3\n"
     ]
    },
    {
     "name": "stderr",
     "output_type": "stream",
     "text": [
      "                                                                                                                       \r"
     ]
    },
    {
     "name": "stdout",
     "output_type": "stream",
     "text": [
      "MoviePy - Done.\n",
      "fe8yiBw1ydc\n",
      "MoviePy - Writing audio in ./data_mp3/fe8yiBw1ydc.mp3\n"
     ]
    },
    {
     "name": "stderr",
     "output_type": "stream",
     "text": [
      "                                                                                                                       \r"
     ]
    },
    {
     "name": "stdout",
     "output_type": "stream",
     "text": [
      "MoviePy - Done.\n",
      "FIgQGRY0EmU\n",
      "MoviePy - Writing audio in ./data_mp3/FIgQGRY0EmU__ы1.mp3\n"
     ]
    },
    {
     "name": "stderr",
     "output_type": "stream",
     "text": [
      "                                                                                                                       \r"
     ]
    },
    {
     "name": "stdout",
     "output_type": "stream",
     "text": [
      "MoviePy - Done.\n",
      "MoviePy - Writing audio in ./data_mp3/FIgQGRY0EmU__ы2.mp3\n"
     ]
    },
    {
     "name": "stderr",
     "output_type": "stream",
     "text": [
      "                                                                                                                       \r"
     ]
    },
    {
     "name": "stdout",
     "output_type": "stream",
     "text": [
      "MoviePy - Done.\n",
      "MoviePy - Writing audio in ./data_mp3/FIgQGRY0EmU__ы3.mp3\n"
     ]
    },
    {
     "name": "stderr",
     "output_type": "stream",
     "text": [
      "                                                                                                                       \r"
     ]
    },
    {
     "name": "stdout",
     "output_type": "stream",
     "text": [
      "MoviePy - Done.\n",
      "MoviePy - Writing audio in ./data_mp3/FIgQGRY0EmU__ы4.mp3\n"
     ]
    },
    {
     "name": "stderr",
     "output_type": "stream",
     "text": [
      "                                                                                                                       \r"
     ]
    },
    {
     "name": "stdout",
     "output_type": "stream",
     "text": [
      "MoviePy - Done.\n",
      "MoviePy - Writing audio in ./data_mp3/FIgQGRY0EmU__ы5.mp3\n"
     ]
    },
    {
     "name": "stderr",
     "output_type": "stream",
     "text": [
      "                                                                                                                       \r"
     ]
    },
    {
     "name": "stdout",
     "output_type": "stream",
     "text": [
      "MoviePy - Done.\n",
      "MoviePy - Writing audio in ./data_mp3/FIgQGRY0EmU__ы6.mp3\n"
     ]
    },
    {
     "name": "stderr",
     "output_type": "stream",
     "text": [
      "                                                                                                                       \r"
     ]
    },
    {
     "name": "stdout",
     "output_type": "stream",
     "text": [
      "MoviePy - Done.\n",
      "fJtBo36ke3g\n",
      "MoviePy - Writing audio in ./data_mp3/fJtBo36ke3g__ы1.mp3\n"
     ]
    },
    {
     "name": "stderr",
     "output_type": "stream",
     "text": [
      "                                                                                                                       \r"
     ]
    },
    {
     "name": "stdout",
     "output_type": "stream",
     "text": [
      "MoviePy - Done.\n",
      "MoviePy - Writing audio in ./data_mp3/fJtBo36ke3g__ы2.mp3\n"
     ]
    },
    {
     "name": "stderr",
     "output_type": "stream",
     "text": [
      "                                                                                                                       \r"
     ]
    },
    {
     "name": "stdout",
     "output_type": "stream",
     "text": [
      "MoviePy - Done.\n",
      "MoviePy - Writing audio in ./data_mp3/fJtBo36ke3g__ы3.mp3\n"
     ]
    },
    {
     "name": "stderr",
     "output_type": "stream",
     "text": [
      "                                                                                                                       \r"
     ]
    },
    {
     "name": "stdout",
     "output_type": "stream",
     "text": [
      "MoviePy - Done.\n",
      "MoviePy - Writing audio in ./data_mp3/fJtBo36ke3g__ы4.mp3\n"
     ]
    },
    {
     "name": "stderr",
     "output_type": "stream",
     "text": [
      "                                                                                                                       \r"
     ]
    },
    {
     "name": "stdout",
     "output_type": "stream",
     "text": [
      "MoviePy - Done.\n",
      "MoviePy - Writing audio in ./data_mp3/fJtBo36ke3g__ы5.mp3\n"
     ]
    },
    {
     "name": "stderr",
     "output_type": "stream",
     "text": [
      "                                                                                                                       \r"
     ]
    },
    {
     "name": "stdout",
     "output_type": "stream",
     "text": [
      "MoviePy - Done.\n",
      "MoviePy - Writing audio in ./data_mp3/fJtBo36ke3g__ы6.mp3\n"
     ]
    },
    {
     "name": "stderr",
     "output_type": "stream",
     "text": [
      "                                                                                                                       \r"
     ]
    },
    {
     "name": "stdout",
     "output_type": "stream",
     "text": [
      "MoviePy - Done.\n",
      "Fo-dHb8GTI8\n",
      "MoviePy - Writing audio in ./data_mp3/Fo-dHb8GTI8.mp3\n"
     ]
    },
    {
     "name": "stderr",
     "output_type": "stream",
     "text": [
      "                                                                                                                       \r"
     ]
    },
    {
     "name": "stdout",
     "output_type": "stream",
     "text": [
      "MoviePy - Done.\n",
      "FRSTaBZfxK4\n",
      "MoviePy - Writing audio in ./data_mp3/FRSTaBZfxK4.mp3\n"
     ]
    },
    {
     "name": "stderr",
     "output_type": "stream",
     "text": [
      "                                                                                                                       \r"
     ]
    },
    {
     "name": "stdout",
     "output_type": "stream",
     "text": [
      "MoviePy - Done.\n",
      "FXk7qopHCMY\n",
      "MoviePy - Writing audio in ./data_mp3/FXk7qopHCMY.mp3\n"
     ]
    },
    {
     "name": "stderr",
     "output_type": "stream",
     "text": [
      "                                                                                                                       \r"
     ]
    },
    {
     "name": "stdout",
     "output_type": "stream",
     "text": [
      "MoviePy - Done.\n",
      "G3lkluCt5-Y\n",
      "MoviePy - Writing audio in ./data_mp3/G3lkluCt5-Y.mp3\n"
     ]
    },
    {
     "name": "stderr",
     "output_type": "stream",
     "text": [
      "                                                                                                                       \r"
     ]
    },
    {
     "name": "stdout",
     "output_type": "stream",
     "text": [
      "MoviePy - Done.\n",
      "gBZi2w11XxU\n",
      "MoviePy - Writing audio in ./data_mp3/gBZi2w11XxU__ы1.mp3\n"
     ]
    },
    {
     "name": "stderr",
     "output_type": "stream",
     "text": [
      "                                                                                                                       \r"
     ]
    },
    {
     "name": "stdout",
     "output_type": "stream",
     "text": [
      "MoviePy - Done.\n",
      "MoviePy - Writing audio in ./data_mp3/gBZi2w11XxU__ы2.mp3\n"
     ]
    },
    {
     "name": "stderr",
     "output_type": "stream",
     "text": [
      "                                                                                                                       \r"
     ]
    },
    {
     "name": "stdout",
     "output_type": "stream",
     "text": [
      "MoviePy - Done.\n",
      "MoviePy - Writing audio in ./data_mp3/gBZi2w11XxU__ы3.mp3\n"
     ]
    },
    {
     "name": "stderr",
     "output_type": "stream",
     "text": [
      "                                                                                                                       \r"
     ]
    },
    {
     "name": "stdout",
     "output_type": "stream",
     "text": [
      "MoviePy - Done.\n",
      "MoviePy - Writing audio in ./data_mp3/gBZi2w11XxU__ы4.mp3\n"
     ]
    },
    {
     "name": "stderr",
     "output_type": "stream",
     "text": [
      "                                                                                                                       \r"
     ]
    },
    {
     "name": "stdout",
     "output_type": "stream",
     "text": [
      "MoviePy - Done.\n",
      "MoviePy - Writing audio in ./data_mp3/gBZi2w11XxU__ы5.mp3\n"
     ]
    },
    {
     "name": "stderr",
     "output_type": "stream",
     "text": [
      "                                                                                                                       \r"
     ]
    },
    {
     "name": "stdout",
     "output_type": "stream",
     "text": [
      "MoviePy - Done.\n",
      "MoviePy - Writing audio in ./data_mp3/gBZi2w11XxU__ы6.mp3\n"
     ]
    },
    {
     "name": "stderr",
     "output_type": "stream",
     "text": [
      "                                                                                                                       \r"
     ]
    },
    {
     "name": "stdout",
     "output_type": "stream",
     "text": [
      "MoviePy - Done.\n",
      "MoviePy - Writing audio in ./data_mp3/gBZi2w11XxU__ы7.mp3\n"
     ]
    },
    {
     "name": "stderr",
     "output_type": "stream",
     "text": [
      "                                                                                                                       \r"
     ]
    },
    {
     "name": "stdout",
     "output_type": "stream",
     "text": [
      "MoviePy - Done.\n",
      "MoviePy - Writing audio in ./data_mp3/gBZi2w11XxU__ы8.mp3\n"
     ]
    },
    {
     "name": "stderr",
     "output_type": "stream",
     "text": [
      "                                                                                                                       \r"
     ]
    },
    {
     "name": "stdout",
     "output_type": "stream",
     "text": [
      "MoviePy - Done.\n",
      "MoviePy - Writing audio in ./data_mp3/gBZi2w11XxU__ы9.mp3\n"
     ]
    },
    {
     "name": "stderr",
     "output_type": "stream",
     "text": [
      "                                                                                                                       \r"
     ]
    },
    {
     "name": "stdout",
     "output_type": "stream",
     "text": [
      "MoviePy - Done.\n",
      "MoviePy - Writing audio in ./data_mp3/gBZi2w11XxU__ы10.mp3\n"
     ]
    },
    {
     "name": "stderr",
     "output_type": "stream",
     "text": [
      "                                                                                                                       \r"
     ]
    },
    {
     "name": "stdout",
     "output_type": "stream",
     "text": [
      "MoviePy - Done.\n",
      "MoviePy - Writing audio in ./data_mp3/gBZi2w11XxU__ы11.mp3\n"
     ]
    },
    {
     "name": "stderr",
     "output_type": "stream",
     "text": [
      "                                                                                                                       \r"
     ]
    },
    {
     "name": "stdout",
     "output_type": "stream",
     "text": [
      "MoviePy - Done.\n",
      "MoviePy - Writing audio in ./data_mp3/gBZi2w11XxU__ы12.mp3\n"
     ]
    },
    {
     "name": "stderr",
     "output_type": "stream",
     "text": [
      "                                                                                                                       \r"
     ]
    },
    {
     "name": "stdout",
     "output_type": "stream",
     "text": [
      "MoviePy - Done.\n",
      "GzeBHIto4Ps\n",
      "MoviePy - Writing audio in ./data_mp3/GzeBHIto4Ps__ы1.mp3\n"
     ]
    },
    {
     "name": "stderr",
     "output_type": "stream",
     "text": [
      "                                                                                                                       \r"
     ]
    },
    {
     "name": "stdout",
     "output_type": "stream",
     "text": [
      "MoviePy - Done.\n",
      "MoviePy - Writing audio in ./data_mp3/GzeBHIto4Ps__ы2.mp3\n"
     ]
    },
    {
     "name": "stderr",
     "output_type": "stream",
     "text": [
      "                                                                                                                       \r"
     ]
    },
    {
     "name": "stdout",
     "output_type": "stream",
     "text": [
      "MoviePy - Done.\n",
      "h8rGckNsF-M\n",
      "MoviePy - Writing audio in ./data_mp3/h8rGckNsF-M__ы1.mp3\n"
     ]
    },
    {
     "name": "stderr",
     "output_type": "stream",
     "text": [
      "                                                                                                                       \r"
     ]
    },
    {
     "name": "stdout",
     "output_type": "stream",
     "text": [
      "MoviePy - Done.\n",
      "HfWlHvzu20Y\n",
      "MoviePy - Writing audio in ./data_mp3/HfWlHvzu20Y.mp3\n"
     ]
    },
    {
     "name": "stderr",
     "output_type": "stream",
     "text": [
      "                                                                                                                       \r"
     ]
    },
    {
     "name": "stdout",
     "output_type": "stream",
     "text": [
      "MoviePy - Done.\n",
      "HlP8B0KrJxk\n",
      "MoviePy - Writing audio in ./data_mp3/HlP8B0KrJxk__ы1.mp3\n"
     ]
    },
    {
     "name": "stderr",
     "output_type": "stream",
     "text": [
      "                                                                                                                       \r"
     ]
    },
    {
     "name": "stdout",
     "output_type": "stream",
     "text": [
      "MoviePy - Done.\n",
      "MoviePy - Writing audio in ./data_mp3/HlP8B0KrJxk__ы2.mp3\n"
     ]
    },
    {
     "name": "stderr",
     "output_type": "stream",
     "text": [
      "                                                                                                                       \r"
     ]
    },
    {
     "name": "stdout",
     "output_type": "stream",
     "text": [
      "MoviePy - Done.\n",
      "MoviePy - Writing audio in ./data_mp3/HlP8B0KrJxk__ы3.mp3\n"
     ]
    },
    {
     "name": "stderr",
     "output_type": "stream",
     "text": [
      "                                                                                                                       \r"
     ]
    },
    {
     "name": "stdout",
     "output_type": "stream",
     "text": [
      "MoviePy - Done.\n",
      "MoviePy - Writing audio in ./data_mp3/HlP8B0KrJxk__ы4.mp3\n"
     ]
    },
    {
     "name": "stderr",
     "output_type": "stream",
     "text": [
      "                                                                                                                       \r"
     ]
    },
    {
     "name": "stdout",
     "output_type": "stream",
     "text": [
      "MoviePy - Done.\n",
      "MoviePy - Writing audio in ./data_mp3/HlP8B0KrJxk__ы5.mp3\n"
     ]
    },
    {
     "name": "stderr",
     "output_type": "stream",
     "text": [
      "                                                                                                                       \r"
     ]
    },
    {
     "name": "stdout",
     "output_type": "stream",
     "text": [
      "MoviePy - Done.\n",
      "MoviePy - Writing audio in ./data_mp3/HlP8B0KrJxk__ы6.mp3\n"
     ]
    },
    {
     "name": "stderr",
     "output_type": "stream",
     "text": [
      "                                                                                                                       \r"
     ]
    },
    {
     "name": "stdout",
     "output_type": "stream",
     "text": [
      "MoviePy - Done.\n",
      "huY252lNzx4\n",
      "MoviePy - Writing audio in ./data_mp3/huY252lNzx4__ы1.mp3\n"
     ]
    },
    {
     "name": "stderr",
     "output_type": "stream",
     "text": [
      "                                                                                                                       \r"
     ]
    },
    {
     "name": "stdout",
     "output_type": "stream",
     "text": [
      "MoviePy - Done.\n",
      "MoviePy - Writing audio in ./data_mp3/huY252lNzx4__ы2.mp3\n"
     ]
    },
    {
     "name": "stderr",
     "output_type": "stream",
     "text": [
      "                                                                                                                       \r"
     ]
    },
    {
     "name": "stdout",
     "output_type": "stream",
     "text": [
      "MoviePy - Done.\n",
      "MoviePy - Writing audio in ./data_mp3/huY252lNzx4__ы3.mp3\n"
     ]
    },
    {
     "name": "stderr",
     "output_type": "stream",
     "text": [
      "                                                                                                                       \r"
     ]
    },
    {
     "name": "stdout",
     "output_type": "stream",
     "text": [
      "MoviePy - Done.\n",
      "MoviePy - Writing audio in ./data_mp3/huY252lNzx4__ы4.mp3\n"
     ]
    },
    {
     "name": "stderr",
     "output_type": "stream",
     "text": [
      "                                                                                                                       \r"
     ]
    },
    {
     "name": "stdout",
     "output_type": "stream",
     "text": [
      "MoviePy - Done.\n",
      "MoviePy - Writing audio in ./data_mp3/huY252lNzx4__ы5.mp3\n"
     ]
    },
    {
     "name": "stderr",
     "output_type": "stream",
     "text": [
      "                                                                                                                       \r"
     ]
    },
    {
     "name": "stdout",
     "output_type": "stream",
     "text": [
      "MoviePy - Done.\n",
      "MoviePy - Writing audio in ./data_mp3/huY252lNzx4__ы6.mp3\n"
     ]
    },
    {
     "name": "stderr",
     "output_type": "stream",
     "text": [
      "                                                                                                                       \r"
     ]
    },
    {
     "name": "stdout",
     "output_type": "stream",
     "text": [
      "MoviePy - Done.\n",
      "MoviePy - Writing audio in ./data_mp3/huY252lNzx4__ы7.mp3\n"
     ]
    },
    {
     "name": "stderr",
     "output_type": "stream",
     "text": [
      "                                                                                                                       \r"
     ]
    },
    {
     "name": "stdout",
     "output_type": "stream",
     "text": [
      "MoviePy - Done.\n",
      "MoviePy - Writing audio in ./data_mp3/huY252lNzx4__ы8.mp3\n"
     ]
    },
    {
     "name": "stderr",
     "output_type": "stream",
     "text": [
      "                                                                                                                       \r"
     ]
    },
    {
     "name": "stdout",
     "output_type": "stream",
     "text": [
      "MoviePy - Done.\n",
      "MoviePy - Writing audio in ./data_mp3/huY252lNzx4__ы9.mp3\n"
     ]
    },
    {
     "name": "stderr",
     "output_type": "stream",
     "text": [
      "                                                                                                                       \r"
     ]
    },
    {
     "name": "stdout",
     "output_type": "stream",
     "text": [
      "MoviePy - Done.\n",
      "MoviePy - Writing audio in ./data_mp3/huY252lNzx4__ы10.mp3\n"
     ]
    },
    {
     "name": "stderr",
     "output_type": "stream",
     "text": [
      "                                                                                                                       \r"
     ]
    },
    {
     "name": "stdout",
     "output_type": "stream",
     "text": [
      "MoviePy - Done.\n",
      "hXkB92fjCgo\n",
      "MoviePy - Writing audio in ./data_mp3/hXkB92fjCgo__ы1.mp3\n"
     ]
    },
    {
     "name": "stderr",
     "output_type": "stream",
     "text": [
      "                                                                                                                       \r"
     ]
    },
    {
     "name": "stdout",
     "output_type": "stream",
     "text": [
      "MoviePy - Done.\n",
      "MoviePy - Writing audio in ./data_mp3/hXkB92fjCgo__ы2.mp3\n"
     ]
    },
    {
     "name": "stderr",
     "output_type": "stream",
     "text": [
      "                                                                                                                       \r"
     ]
    },
    {
     "name": "stdout",
     "output_type": "stream",
     "text": [
      "MoviePy - Done.\n",
      "MoviePy - Writing audio in ./data_mp3/hXkB92fjCgo__ы3.mp3\n"
     ]
    },
    {
     "name": "stderr",
     "output_type": "stream",
     "text": [
      "                                                                                                                       \r"
     ]
    },
    {
     "name": "stdout",
     "output_type": "stream",
     "text": [
      "MoviePy - Done.\n",
      "MoviePy - Writing audio in ./data_mp3/hXkB92fjCgo__ы4.mp3\n"
     ]
    },
    {
     "name": "stderr",
     "output_type": "stream",
     "text": [
      "                                                                                                                       \r"
     ]
    },
    {
     "name": "stdout",
     "output_type": "stream",
     "text": [
      "MoviePy - Done.\n",
      "MoviePy - Writing audio in ./data_mp3/hXkB92fjCgo__ы5.mp3\n"
     ]
    },
    {
     "name": "stderr",
     "output_type": "stream",
     "text": [
      "                                                                                                                       \r"
     ]
    },
    {
     "name": "stdout",
     "output_type": "stream",
     "text": [
      "MoviePy - Done.\n",
      "hYA2d88vYOs\n",
      "MoviePy - Writing audio in ./data_mp3/hYA2d88vYOs.mp3\n"
     ]
    },
    {
     "name": "stderr",
     "output_type": "stream",
     "text": [
      "                                                                                                                       \r"
     ]
    },
    {
     "name": "stdout",
     "output_type": "stream",
     "text": [
      "MoviePy - Done.\n",
      "HYVXIFfi5N0\n",
      "MoviePy - Writing audio in ./data_mp3/HYVXIFfi5N0__ы1.mp3\n"
     ]
    },
    {
     "name": "stderr",
     "output_type": "stream",
     "text": [
      "                                                                                                                       \r"
     ]
    },
    {
     "name": "stdout",
     "output_type": "stream",
     "text": [
      "MoviePy - Done.\n",
      "MoviePy - Writing audio in ./data_mp3/HYVXIFfi5N0__ы2.mp3\n"
     ]
    },
    {
     "name": "stderr",
     "output_type": "stream",
     "text": [
      "                                                                                                                       \r"
     ]
    },
    {
     "name": "stdout",
     "output_type": "stream",
     "text": [
      "MoviePy - Done.\n",
      "MoviePy - Writing audio in ./data_mp3/HYVXIFfi5N0__ы3.mp3\n"
     ]
    },
    {
     "name": "stderr",
     "output_type": "stream",
     "text": [
      "                                                                                                                       \r"
     ]
    },
    {
     "name": "stdout",
     "output_type": "stream",
     "text": [
      "MoviePy - Done.\n",
      "MoviePy - Writing audio in ./data_mp3/HYVXIFfi5N0__ы4.mp3\n"
     ]
    },
    {
     "name": "stderr",
     "output_type": "stream",
     "text": [
      "                                                                                                                       \r"
     ]
    },
    {
     "name": "stdout",
     "output_type": "stream",
     "text": [
      "MoviePy - Done.\n",
      "MoviePy - Writing audio in ./data_mp3/HYVXIFfi5N0__ы5.mp3\n"
     ]
    },
    {
     "name": "stderr",
     "output_type": "stream",
     "text": [
      "                                                                                                                       \r"
     ]
    },
    {
     "name": "stdout",
     "output_type": "stream",
     "text": [
      "MoviePy - Done.\n",
      "MoviePy - Writing audio in ./data_mp3/HYVXIFfi5N0__ы6.mp3\n"
     ]
    },
    {
     "name": "stderr",
     "output_type": "stream",
     "text": [
      "                                                                                                                       \r"
     ]
    },
    {
     "name": "stdout",
     "output_type": "stream",
     "text": [
      "MoviePy - Done.\n",
      "i4EYGBeR97k\n",
      "MoviePy - Writing audio in ./data_mp3/i4EYGBeR97k__ы1.mp3\n"
     ]
    },
    {
     "name": "stderr",
     "output_type": "stream",
     "text": [
      "                                                                                                                       \r"
     ]
    },
    {
     "name": "stdout",
     "output_type": "stream",
     "text": [
      "MoviePy - Done.\n",
      "MoviePy - Writing audio in ./data_mp3/i4EYGBeR97k__ы2.mp3\n"
     ]
    },
    {
     "name": "stderr",
     "output_type": "stream",
     "text": [
      "                                                                                                                       \r"
     ]
    },
    {
     "name": "stdout",
     "output_type": "stream",
     "text": [
      "MoviePy - Done.\n",
      "MoviePy - Writing audio in ./data_mp3/i4EYGBeR97k__ы3.mp3\n"
     ]
    },
    {
     "name": "stderr",
     "output_type": "stream",
     "text": [
      "                                                                                                                       \r"
     ]
    },
    {
     "name": "stdout",
     "output_type": "stream",
     "text": [
      "MoviePy - Done.\n",
      "MoviePy - Writing audio in ./data_mp3/i4EYGBeR97k__ы4.mp3\n"
     ]
    },
    {
     "name": "stderr",
     "output_type": "stream",
     "text": [
      "                                                                                                                       \r"
     ]
    },
    {
     "name": "stdout",
     "output_type": "stream",
     "text": [
      "MoviePy - Done.\n",
      "MoviePy - Writing audio in ./data_mp3/i4EYGBeR97k__ы5.mp3\n"
     ]
    },
    {
     "name": "stderr",
     "output_type": "stream",
     "text": [
      "                                                                                                                       \r"
     ]
    },
    {
     "name": "stdout",
     "output_type": "stream",
     "text": [
      "MoviePy - Done.\n",
      "MoviePy - Writing audio in ./data_mp3/i4EYGBeR97k__ы6.mp3\n"
     ]
    },
    {
     "name": "stderr",
     "output_type": "stream",
     "text": [
      "                                                                                                                       \r"
     ]
    },
    {
     "name": "stdout",
     "output_type": "stream",
     "text": [
      "MoviePy - Done.\n",
      "iaDvKKGKAlQ\n",
      "MoviePy - Writing audio in ./data_mp3/iaDvKKGKAlQ__ы1.mp3\n"
     ]
    },
    {
     "name": "stderr",
     "output_type": "stream",
     "text": [
      "                                                                                                                       \r"
     ]
    },
    {
     "name": "stdout",
     "output_type": "stream",
     "text": [
      "MoviePy - Done.\n",
      "MoviePy - Writing audio in ./data_mp3/iaDvKKGKAlQ__ы2.mp3\n"
     ]
    },
    {
     "name": "stderr",
     "output_type": "stream",
     "text": [
      "                                                                                                                       \r"
     ]
    },
    {
     "name": "stdout",
     "output_type": "stream",
     "text": [
      "MoviePy - Done.\n",
      "MoviePy - Writing audio in ./data_mp3/iaDvKKGKAlQ__ы3.mp3\n"
     ]
    },
    {
     "name": "stderr",
     "output_type": "stream",
     "text": [
      "                                                                                                                       \r"
     ]
    },
    {
     "name": "stdout",
     "output_type": "stream",
     "text": [
      "MoviePy - Done.\n",
      "MoviePy - Writing audio in ./data_mp3/iaDvKKGKAlQ__ы4.mp3\n"
     ]
    },
    {
     "name": "stderr",
     "output_type": "stream",
     "text": [
      "                                                                                                                       \r"
     ]
    },
    {
     "name": "stdout",
     "output_type": "stream",
     "text": [
      "MoviePy - Done.\n",
      "MoviePy - Writing audio in ./data_mp3/iaDvKKGKAlQ__ы5.mp3\n"
     ]
    },
    {
     "name": "stderr",
     "output_type": "stream",
     "text": [
      "                                                                                                                       \r"
     ]
    },
    {
     "name": "stdout",
     "output_type": "stream",
     "text": [
      "MoviePy - Done.\n",
      "MoviePy - Writing audio in ./data_mp3/iaDvKKGKAlQ__ы6.mp3\n"
     ]
    },
    {
     "name": "stderr",
     "output_type": "stream",
     "text": [
      "                                                                                                                       \r"
     ]
    },
    {
     "name": "stdout",
     "output_type": "stream",
     "text": [
      "MoviePy - Done.\n",
      "iC-vWZzTPms\n",
      "MoviePy - Writing audio in ./data_mp3/iC-vWZzTPms.mp3\n"
     ]
    },
    {
     "name": "stderr",
     "output_type": "stream",
     "text": [
      "                                                                                                                       \r"
     ]
    },
    {
     "name": "stdout",
     "output_type": "stream",
     "text": [
      "MoviePy - Done.\n",
      "IkncOaW6nJE\n",
      "MoviePy - Writing audio in ./data_mp3/IkncOaW6nJE.mp3\n"
     ]
    },
    {
     "name": "stderr",
     "output_type": "stream",
     "text": [
      "                                                                                                                       \r"
     ]
    },
    {
     "name": "stdout",
     "output_type": "stream",
     "text": [
      "MoviePy - Done.\n",
      "iN80A6cSBxY\n",
      "MoviePy - Writing audio in ./data_mp3/iN80A6cSBxY.mp3\n"
     ]
    },
    {
     "name": "stderr",
     "output_type": "stream",
     "text": [
      "                                                                                                                       \r"
     ]
    },
    {
     "name": "stdout",
     "output_type": "stream",
     "text": [
      "MoviePy - Done.\n",
      "i_IYl_D5yh4\n",
      "MoviePy - Writing audio in ./data_mp3/i_IYl_D5yh4.mp3\n"
     ]
    },
    {
     "name": "stderr",
     "output_type": "stream",
     "text": [
      "                                                                                                                       \r"
     ]
    },
    {
     "name": "stdout",
     "output_type": "stream",
     "text": [
      "MoviePy - Done.\n",
      "Jmz8xIK9Gts\n",
      "MoviePy - Writing audio in ./data_mp3/Jmz8xIK9Gts__ы1.mp3\n"
     ]
    },
    {
     "name": "stderr",
     "output_type": "stream",
     "text": [
      "                                                                                                                       \r"
     ]
    },
    {
     "name": "stdout",
     "output_type": "stream",
     "text": [
      "MoviePy - Done.\n",
      "MoviePy - Writing audio in ./data_mp3/Jmz8xIK9Gts__ы2.mp3\n"
     ]
    },
    {
     "name": "stderr",
     "output_type": "stream",
     "text": [
      "                                                                                                                       \r"
     ]
    },
    {
     "name": "stdout",
     "output_type": "stream",
     "text": [
      "MoviePy - Done.\n",
      "MoviePy - Writing audio in ./data_mp3/Jmz8xIK9Gts__ы3.mp3\n"
     ]
    },
    {
     "name": "stderr",
     "output_type": "stream",
     "text": [
      "                                                                                                                       \r"
     ]
    },
    {
     "name": "stdout",
     "output_type": "stream",
     "text": [
      "MoviePy - Done.\n",
      "MoviePy - Writing audio in ./data_mp3/Jmz8xIK9Gts__ы4.mp3\n"
     ]
    },
    {
     "name": "stderr",
     "output_type": "stream",
     "text": [
      "                                                                                                                       \r"
     ]
    },
    {
     "name": "stdout",
     "output_type": "stream",
     "text": [
      "MoviePy - Done.\n",
      "MoviePy - Writing audio in ./data_mp3/Jmz8xIK9Gts__ы5.mp3\n"
     ]
    },
    {
     "name": "stderr",
     "output_type": "stream",
     "text": [
      "                                                                                                                       \r"
     ]
    },
    {
     "name": "stdout",
     "output_type": "stream",
     "text": [
      "MoviePy - Done.\n",
      "MoviePy - Writing audio in ./data_mp3/Jmz8xIK9Gts__ы6.mp3\n"
     ]
    },
    {
     "name": "stderr",
     "output_type": "stream",
     "text": [
      "                                                                                                                       \r"
     ]
    },
    {
     "name": "stdout",
     "output_type": "stream",
     "text": [
      "MoviePy - Done.\n",
      "JwEKYSLuwUo\n",
      "MoviePy - Writing audio in ./data_mp3/JwEKYSLuwUo__ы1.mp3\n"
     ]
    },
    {
     "name": "stderr",
     "output_type": "stream",
     "text": [
      "                                                                                                                       \r"
     ]
    },
    {
     "name": "stdout",
     "output_type": "stream",
     "text": [
      "MoviePy - Done.\n",
      "MoviePy - Writing audio in ./data_mp3/JwEKYSLuwUo__ы2.mp3\n"
     ]
    },
    {
     "name": "stderr",
     "output_type": "stream",
     "text": [
      "                                                                                                                       \r"
     ]
    },
    {
     "name": "stdout",
     "output_type": "stream",
     "text": [
      "MoviePy - Done.\n",
      "MoviePy - Writing audio in ./data_mp3/JwEKYSLuwUo__ы3.mp3\n"
     ]
    },
    {
     "name": "stderr",
     "output_type": "stream",
     "text": [
      "                                                                                                                       \r"
     ]
    },
    {
     "name": "stdout",
     "output_type": "stream",
     "text": [
      "MoviePy - Done.\n",
      "MoviePy - Writing audio in ./data_mp3/JwEKYSLuwUo__ы4.mp3\n"
     ]
    },
    {
     "name": "stderr",
     "output_type": "stream",
     "text": [
      "                                                                                                                       \r"
     ]
    },
    {
     "name": "stdout",
     "output_type": "stream",
     "text": [
      "MoviePy - Done.\n",
      "MoviePy - Writing audio in ./data_mp3/JwEKYSLuwUo__ы5.mp3\n"
     ]
    },
    {
     "name": "stderr",
     "output_type": "stream",
     "text": [
      "                                                                                                                       \r"
     ]
    },
    {
     "name": "stdout",
     "output_type": "stream",
     "text": [
      "MoviePy - Done.\n",
      "MoviePy - Writing audio in ./data_mp3/JwEKYSLuwUo__ы6.mp3\n"
     ]
    },
    {
     "name": "stderr",
     "output_type": "stream",
     "text": [
      "                                                                                                                       \r"
     ]
    },
    {
     "name": "stdout",
     "output_type": "stream",
     "text": [
      "MoviePy - Done.\n",
      "k5xDyG72wHE\n",
      "MoviePy - Writing audio in ./data_mp3/k5xDyG72wHE__ы1.mp3\n"
     ]
    },
    {
     "name": "stderr",
     "output_type": "stream",
     "text": [
      "                                                                                                                       \r"
     ]
    },
    {
     "name": "stdout",
     "output_type": "stream",
     "text": [
      "MoviePy - Done.\n",
      "MoviePy - Writing audio in ./data_mp3/k5xDyG72wHE__ы2.mp3\n"
     ]
    },
    {
     "name": "stderr",
     "output_type": "stream",
     "text": [
      "                                                                                                                       \r"
     ]
    },
    {
     "name": "stdout",
     "output_type": "stream",
     "text": [
      "MoviePy - Done.\n",
      "MoviePy - Writing audio in ./data_mp3/k5xDyG72wHE__ы3.mp3\n"
     ]
    },
    {
     "name": "stderr",
     "output_type": "stream",
     "text": [
      "                                                                                                                       \r"
     ]
    },
    {
     "name": "stdout",
     "output_type": "stream",
     "text": [
      "MoviePy - Done.\n",
      "MoviePy - Writing audio in ./data_mp3/k5xDyG72wHE__ы4.mp3\n"
     ]
    },
    {
     "name": "stderr",
     "output_type": "stream",
     "text": [
      "                                                                                                                       \r"
     ]
    },
    {
     "name": "stdout",
     "output_type": "stream",
     "text": [
      "MoviePy - Done.\n",
      "MoviePy - Writing audio in ./data_mp3/k5xDyG72wHE__ы5.mp3\n"
     ]
    },
    {
     "name": "stderr",
     "output_type": "stream",
     "text": [
      "                                                                                                                       \r"
     ]
    },
    {
     "name": "stdout",
     "output_type": "stream",
     "text": [
      "MoviePy - Done.\n",
      "MoviePy - Writing audio in ./data_mp3/k5xDyG72wHE__ы6.mp3\n"
     ]
    },
    {
     "name": "stderr",
     "output_type": "stream",
     "text": [
      "                                                                                                                       \r"
     ]
    },
    {
     "name": "stdout",
     "output_type": "stream",
     "text": [
      "MoviePy - Done.\n",
      "MoviePy - Writing audio in ./data_mp3/k5xDyG72wHE__ы7.mp3\n"
     ]
    },
    {
     "name": "stderr",
     "output_type": "stream",
     "text": [
      "                                                                                                                       \r"
     ]
    },
    {
     "name": "stdout",
     "output_type": "stream",
     "text": [
      "MoviePy - Done.\n",
      "MoviePy - Writing audio in ./data_mp3/k5xDyG72wHE__ы8.mp3\n"
     ]
    },
    {
     "name": "stderr",
     "output_type": "stream",
     "text": [
      "                                                                                                                       \r"
     ]
    },
    {
     "name": "stdout",
     "output_type": "stream",
     "text": [
      "MoviePy - Done.\n",
      "MoviePy - Writing audio in ./data_mp3/k5xDyG72wHE__ы9.mp3\n"
     ]
    },
    {
     "name": "stderr",
     "output_type": "stream",
     "text": [
      "                                                                                                                       \r"
     ]
    },
    {
     "name": "stdout",
     "output_type": "stream",
     "text": [
      "MoviePy - Done.\n",
      "MoviePy - Writing audio in ./data_mp3/k5xDyG72wHE__ы10.mp3\n"
     ]
    },
    {
     "name": "stderr",
     "output_type": "stream",
     "text": [
      "                                                                                                                       \r"
     ]
    },
    {
     "name": "stdout",
     "output_type": "stream",
     "text": [
      "MoviePy - Done.\n",
      "MoviePy - Writing audio in ./data_mp3/k5xDyG72wHE__ы11.mp3\n"
     ]
    },
    {
     "name": "stderr",
     "output_type": "stream",
     "text": [
      "                                                                                                                       \r"
     ]
    },
    {
     "name": "stdout",
     "output_type": "stream",
     "text": [
      "MoviePy - Done.\n",
      "MoviePy - Writing audio in ./data_mp3/k5xDyG72wHE__ы12.mp3\n"
     ]
    },
    {
     "name": "stderr",
     "output_type": "stream",
     "text": [
      "                                                                                                                       \r"
     ]
    },
    {
     "name": "stdout",
     "output_type": "stream",
     "text": [
      "MoviePy - Done.\n",
      "MoviePy - Writing audio in ./data_mp3/k5xDyG72wHE__ы13.mp3\n"
     ]
    },
    {
     "name": "stderr",
     "output_type": "stream",
     "text": [
      "                                                                                                                       \r"
     ]
    },
    {
     "name": "stdout",
     "output_type": "stream",
     "text": [
      "MoviePy - Done.\n",
      "MoviePy - Writing audio in ./data_mp3/k5xDyG72wHE__ы14.mp3\n"
     ]
    },
    {
     "name": "stderr",
     "output_type": "stream",
     "text": [
      "                                                                                                                       \r"
     ]
    },
    {
     "name": "stdout",
     "output_type": "stream",
     "text": [
      "MoviePy - Done.\n",
      "MoviePy - Writing audio in ./data_mp3/k5xDyG72wHE__ы15.mp3\n"
     ]
    },
    {
     "name": "stderr",
     "output_type": "stream",
     "text": [
      "                                                                                                                       \r"
     ]
    },
    {
     "name": "stdout",
     "output_type": "stream",
     "text": [
      "MoviePy - Done.\n",
      "MoviePy - Writing audio in ./data_mp3/k5xDyG72wHE__ы16.mp3\n"
     ]
    },
    {
     "name": "stderr",
     "output_type": "stream",
     "text": [
      "                                                                                                                       \r"
     ]
    },
    {
     "name": "stdout",
     "output_type": "stream",
     "text": [
      "MoviePy - Done.\n",
      "MoviePy - Writing audio in ./data_mp3/k5xDyG72wHE__ы17.mp3\n"
     ]
    },
    {
     "name": "stderr",
     "output_type": "stream",
     "text": [
      "                                                                                                                       \r"
     ]
    },
    {
     "name": "stdout",
     "output_type": "stream",
     "text": [
      "MoviePy - Done.\n",
      "MoviePy - Writing audio in ./data_mp3/k5xDyG72wHE__ы18.mp3\n"
     ]
    },
    {
     "name": "stderr",
     "output_type": "stream",
     "text": [
      "                                                                                                                       \r"
     ]
    },
    {
     "name": "stdout",
     "output_type": "stream",
     "text": [
      "MoviePy - Done.\n",
      "kvAd76GacPg\n",
      "MoviePy - Writing audio in ./data_mp3/kvAd76GacPg.mp3\n"
     ]
    },
    {
     "name": "stderr",
     "output_type": "stream",
     "text": [
      "                                                                                                                       \r"
     ]
    },
    {
     "name": "stdout",
     "output_type": "stream",
     "text": [
      "MoviePy - Done.\n",
      "kWam-Hh2lxE\n",
      "MoviePy - Writing audio in ./data_mp3/kWam-Hh2lxE__ы1.mp3\n"
     ]
    },
    {
     "name": "stderr",
     "output_type": "stream",
     "text": [
      "                                                                                                                       \r"
     ]
    },
    {
     "name": "stdout",
     "output_type": "stream",
     "text": [
      "MoviePy - Done.\n",
      "MoviePy - Writing audio in ./data_mp3/kWam-Hh2lxE__ы2.mp3\n"
     ]
    },
    {
     "name": "stderr",
     "output_type": "stream",
     "text": [
      "                                                                                                                       \r"
     ]
    },
    {
     "name": "stdout",
     "output_type": "stream",
     "text": [
      "MoviePy - Done.\n",
      "MoviePy - Writing audio in ./data_mp3/kWam-Hh2lxE__ы3.mp3\n"
     ]
    },
    {
     "name": "stderr",
     "output_type": "stream",
     "text": [
      "                                                                                                                       \r"
     ]
    },
    {
     "name": "stdout",
     "output_type": "stream",
     "text": [
      "MoviePy - Done.\n",
      "MoviePy - Writing audio in ./data_mp3/kWam-Hh2lxE__ы4.mp3\n"
     ]
    },
    {
     "name": "stderr",
     "output_type": "stream",
     "text": [
      "                                                                                                                       \r"
     ]
    },
    {
     "name": "stdout",
     "output_type": "stream",
     "text": [
      "MoviePy - Done.\n",
      "MoviePy - Writing audio in ./data_mp3/kWam-Hh2lxE__ы5.mp3\n"
     ]
    },
    {
     "name": "stderr",
     "output_type": "stream",
     "text": [
      "                                                                                                                       \r"
     ]
    },
    {
     "name": "stdout",
     "output_type": "stream",
     "text": [
      "MoviePy - Done.\n",
      "MoviePy - Writing audio in ./data_mp3/kWam-Hh2lxE__ы6.mp3\n"
     ]
    },
    {
     "name": "stderr",
     "output_type": "stream",
     "text": [
      "                                                                                                                       \r"
     ]
    },
    {
     "name": "stdout",
     "output_type": "stream",
     "text": [
      "MoviePy - Done.\n",
      "kyquqw6GeXk\n",
      "MoviePy - Writing audio in ./data_mp3/kyquqw6GeXk.mp3\n"
     ]
    },
    {
     "name": "stderr",
     "output_type": "stream",
     "text": [
      "                                                                                                                       \r"
     ]
    },
    {
     "name": "stdout",
     "output_type": "stream",
     "text": [
      "MoviePy - Done.\n",
      "lhGE5brBvNQ\n",
      "MoviePy - Writing audio in ./data_mp3/lhGE5brBvNQ__ы1.mp3\n"
     ]
    },
    {
     "name": "stderr",
     "output_type": "stream",
     "text": [
      "                                                                                                                       \r"
     ]
    },
    {
     "name": "stdout",
     "output_type": "stream",
     "text": [
      "MoviePy - Done.\n",
      "MoviePy - Writing audio in ./data_mp3/lhGE5brBvNQ__ы2.mp3\n"
     ]
    },
    {
     "name": "stderr",
     "output_type": "stream",
     "text": [
      "                                                                                                                       \r"
     ]
    },
    {
     "name": "stdout",
     "output_type": "stream",
     "text": [
      "MoviePy - Done.\n",
      "MoviePy - Writing audio in ./data_mp3/lhGE5brBvNQ__ы3.mp3\n"
     ]
    },
    {
     "name": "stderr",
     "output_type": "stream",
     "text": [
      "                                                                                                                       \r"
     ]
    },
    {
     "name": "stdout",
     "output_type": "stream",
     "text": [
      "MoviePy - Done.\n",
      "MoviePy - Writing audio in ./data_mp3/lhGE5brBvNQ__ы4.mp3\n"
     ]
    },
    {
     "name": "stderr",
     "output_type": "stream",
     "text": [
      "                                                                                                                       \r"
     ]
    },
    {
     "name": "stdout",
     "output_type": "stream",
     "text": [
      "MoviePy - Done.\n",
      "MoviePy - Writing audio in ./data_mp3/lhGE5brBvNQ__ы5.mp3\n"
     ]
    },
    {
     "name": "stderr",
     "output_type": "stream",
     "text": [
      "                                                                                                                       \r"
     ]
    },
    {
     "name": "stdout",
     "output_type": "stream",
     "text": [
      "MoviePy - Done.\n",
      "MoviePy - Writing audio in ./data_mp3/lhGE5brBvNQ__ы6.mp3\n"
     ]
    },
    {
     "name": "stderr",
     "output_type": "stream",
     "text": [
      "                                                                                                                       \r"
     ]
    },
    {
     "name": "stdout",
     "output_type": "stream",
     "text": [
      "MoviePy - Done.\n",
      "LkoTnDuyrY4\n",
      "MoviePy - Writing audio in ./data_mp3/LkoTnDuyrY4.mp3\n"
     ]
    },
    {
     "name": "stderr",
     "output_type": "stream",
     "text": [
      "                                                                                                                       \r"
     ]
    },
    {
     "name": "stdout",
     "output_type": "stream",
     "text": [
      "MoviePy - Done.\n",
      "LPt1N_ba934\n",
      "MoviePy - Writing audio in ./data_mp3/LPt1N_ba934.mp3\n"
     ]
    },
    {
     "name": "stderr",
     "output_type": "stream",
     "text": [
      "                                                                                                                       \r"
     ]
    },
    {
     "name": "stdout",
     "output_type": "stream",
     "text": [
      "MoviePy - Done.\n",
      "LTkidXJXYTo\n",
      "MoviePy - Writing audio in ./data_mp3/LTkidXJXYTo.mp3\n"
     ]
    },
    {
     "name": "stderr",
     "output_type": "stream",
     "text": [
      "                                                                                                                       \r"
     ]
    },
    {
     "name": "stdout",
     "output_type": "stream",
     "text": [
      "MoviePy - Done.\n",
      "LzEikWuxUFU\n",
      "MoviePy - Writing audio in ./data_mp3/LzEikWuxUFU.mp3\n"
     ]
    },
    {
     "name": "stderr",
     "output_type": "stream",
     "text": [
      "                                                                                                                       \r"
     ]
    },
    {
     "name": "stdout",
     "output_type": "stream",
     "text": [
      "MoviePy - Done.\n",
      "m1wViPkNq3A\n",
      "MoviePy - Writing audio in ./data_mp3/m1wViPkNq3A.mp3\n"
     ]
    },
    {
     "name": "stderr",
     "output_type": "stream",
     "text": [
      "                                                                                                                       \r"
     ]
    },
    {
     "name": "stdout",
     "output_type": "stream",
     "text": [
      "MoviePy - Done.\n",
      "MckVEuUh_yI\n",
      "MoviePy - Writing audio in ./data_mp3/MckVEuUh_yI.mp3\n"
     ]
    },
    {
     "name": "stderr",
     "output_type": "stream",
     "text": [
      "                                                                                                                       \r"
     ]
    },
    {
     "name": "stdout",
     "output_type": "stream",
     "text": [
      "MoviePy - Done.\n",
      "mgDDgXgoG30\n",
      "MoviePy - Writing audio in ./data_mp3/mgDDgXgoG30__ы1.mp3\n"
     ]
    },
    {
     "name": "stderr",
     "output_type": "stream",
     "text": [
      "                                                                                                                       \r"
     ]
    },
    {
     "name": "stdout",
     "output_type": "stream",
     "text": [
      "MoviePy - Done.\n",
      "MoviePy - Writing audio in ./data_mp3/mgDDgXgoG30__ы2.mp3\n"
     ]
    },
    {
     "name": "stderr",
     "output_type": "stream",
     "text": [
      "                                                                                                                       \r"
     ]
    },
    {
     "name": "stdout",
     "output_type": "stream",
     "text": [
      "MoviePy - Done.\n",
      "MoviePy - Writing audio in ./data_mp3/mgDDgXgoG30__ы3.mp3\n"
     ]
    },
    {
     "name": "stderr",
     "output_type": "stream",
     "text": [
      "                                                                                                                       \r"
     ]
    },
    {
     "name": "stdout",
     "output_type": "stream",
     "text": [
      "MoviePy - Done.\n",
      "MoviePy - Writing audio in ./data_mp3/mgDDgXgoG30__ы4.mp3\n"
     ]
    },
    {
     "name": "stderr",
     "output_type": "stream",
     "text": [
      "                                                                                                                       \r"
     ]
    },
    {
     "name": "stdout",
     "output_type": "stream",
     "text": [
      "MoviePy - Done.\n",
      "NhrV6H78CCc\n",
      "MoviePy - Writing audio in ./data_mp3/NhrV6H78CCc__ы1.mp3\n"
     ]
    },
    {
     "name": "stderr",
     "output_type": "stream",
     "text": [
      "                                                                                                                       \r"
     ]
    },
    {
     "name": "stdout",
     "output_type": "stream",
     "text": [
      "MoviePy - Done.\n",
      "MoviePy - Writing audio in ./data_mp3/NhrV6H78CCc__ы2.mp3\n"
     ]
    },
    {
     "name": "stderr",
     "output_type": "stream",
     "text": [
      "                                                                                                                       \r"
     ]
    },
    {
     "name": "stdout",
     "output_type": "stream",
     "text": [
      "MoviePy - Done.\n",
      "MoviePy - Writing audio in ./data_mp3/NhrV6H78CCc__ы3.mp3\n"
     ]
    },
    {
     "name": "stderr",
     "output_type": "stream",
     "text": [
      "                                                                                                                       \r"
     ]
    },
    {
     "name": "stdout",
     "output_type": "stream",
     "text": [
      "MoviePy - Done.\n",
      "MoviePy - Writing audio in ./data_mp3/NhrV6H78CCc__ы4.mp3\n"
     ]
    },
    {
     "name": "stderr",
     "output_type": "stream",
     "text": [
      "                                                                                                                       \r"
     ]
    },
    {
     "name": "stdout",
     "output_type": "stream",
     "text": [
      "MoviePy - Done.\n",
      "MoviePy - Writing audio in ./data_mp3/NhrV6H78CCc__ы5.mp3\n"
     ]
    },
    {
     "name": "stderr",
     "output_type": "stream",
     "text": [
      "                                                                                                                       \r"
     ]
    },
    {
     "name": "stdout",
     "output_type": "stream",
     "text": [
      "MoviePy - Done.\n",
      "MoviePy - Writing audio in ./data_mp3/NhrV6H78CCc__ы6.mp3\n"
     ]
    },
    {
     "name": "stderr",
     "output_type": "stream",
     "text": [
      "                                                                                                                       \r"
     ]
    },
    {
     "name": "stdout",
     "output_type": "stream",
     "text": [
      "MoviePy - Done.\n",
      "MoviePy - Writing audio in ./data_mp3/NhrV6H78CCc__ы7.mp3\n"
     ]
    },
    {
     "name": "stderr",
     "output_type": "stream",
     "text": [
      "                                                                                                                       \r"
     ]
    },
    {
     "name": "stdout",
     "output_type": "stream",
     "text": [
      "MoviePy - Done.\n",
      "MoviePy - Writing audio in ./data_mp3/NhrV6H78CCc__ы8.mp3\n"
     ]
    },
    {
     "name": "stderr",
     "output_type": "stream",
     "text": [
      "                                                                                                                       \r"
     ]
    },
    {
     "name": "stdout",
     "output_type": "stream",
     "text": [
      "MoviePy - Done.\n",
      "MoviePy - Writing audio in ./data_mp3/NhrV6H78CCc__ы9.mp3\n"
     ]
    },
    {
     "name": "stderr",
     "output_type": "stream",
     "text": [
      "                                                                                                                       \r"
     ]
    },
    {
     "name": "stdout",
     "output_type": "stream",
     "text": [
      "MoviePy - Done.\n",
      "MoviePy - Writing audio in ./data_mp3/NhrV6H78CCc__ы10.mp3\n"
     ]
    },
    {
     "name": "stderr",
     "output_type": "stream",
     "text": [
      "                                                                                                                       \r"
     ]
    },
    {
     "name": "stdout",
     "output_type": "stream",
     "text": [
      "MoviePy - Done.\n",
      "MoviePy - Writing audio in ./data_mp3/NhrV6H78CCc__ы11.mp3\n"
     ]
    },
    {
     "name": "stderr",
     "output_type": "stream",
     "text": [
      "                                                                                                                       \r"
     ]
    },
    {
     "name": "stdout",
     "output_type": "stream",
     "text": [
      "MoviePy - Done.\n",
      "MoviePy - Writing audio in ./data_mp3/NhrV6H78CCc__ы12.mp3\n"
     ]
    },
    {
     "name": "stderr",
     "output_type": "stream",
     "text": [
      "                                                                                                                       \r"
     ]
    },
    {
     "name": "stdout",
     "output_type": "stream",
     "text": [
      "MoviePy - Done.\n",
      "nvMlrVdTsao\n",
      "MoviePy - Writing audio in ./data_mp3/nvMlrVdTsao.mp3\n"
     ]
    },
    {
     "name": "stderr",
     "output_type": "stream",
     "text": [
      "                                                                                                                       \r"
     ]
    },
    {
     "name": "stdout",
     "output_type": "stream",
     "text": [
      "MoviePy - Done.\n",
      "NwfODOAY0iY\n",
      "MoviePy - Writing audio in ./data_mp3/NwfODOAY0iY.mp3\n"
     ]
    },
    {
     "name": "stderr",
     "output_type": "stream",
     "text": [
      "                                                                                                                       \r"
     ]
    },
    {
     "name": "stdout",
     "output_type": "stream",
     "text": [
      "MoviePy - Done.\n",
      "NzgB1MkxBAk\n",
      "MoviePy - Writing audio in ./data_mp3/NzgB1MkxBAk.mp3\n"
     ]
    },
    {
     "name": "stderr",
     "output_type": "stream",
     "text": [
      "                                                                                                                       \r"
     ]
    },
    {
     "name": "stdout",
     "output_type": "stream",
     "text": [
      "MoviePy - Done.\n",
      "OBFA6cr2-6A\n",
      "MoviePy - Writing audio in ./data_mp3/OBFA6cr2-6A.mp3\n"
     ]
    },
    {
     "name": "stderr",
     "output_type": "stream",
     "text": [
      "                                                                                                                       \r"
     ]
    },
    {
     "name": "stdout",
     "output_type": "stream",
     "text": [
      "MoviePy - Done.\n",
      "OcSsojXfGIs\n",
      "MoviePy - Writing audio in ./data_mp3/OcSsojXfGIs.mp3\n"
     ]
    },
    {
     "name": "stderr",
     "output_type": "stream",
     "text": [
      "                                                                                                                       \r"
     ]
    },
    {
     "name": "stdout",
     "output_type": "stream",
     "text": [
      "MoviePy - Done.\n",
      "OCWanch3NBk\n",
      "MoviePy - Writing audio in ./data_mp3/OCWanch3NBk.mp3\n"
     ]
    },
    {
     "name": "stderr",
     "output_type": "stream",
     "text": [
      "                                                                                                                       \r"
     ]
    },
    {
     "name": "stdout",
     "output_type": "stream",
     "text": [
      "MoviePy - Done.\n",
      "oDm0rpvL4A8\n",
      "MoviePy - Writing audio in ./data_mp3/oDm0rpvL4A8.mp3\n"
     ]
    },
    {
     "name": "stderr",
     "output_type": "stream",
     "text": [
      "                                                                                                                       \r"
     ]
    },
    {
     "name": "stdout",
     "output_type": "stream",
     "text": [
      "MoviePy - Done.\n",
      "OepFO4Nisms\n",
      "MoviePy - Writing audio in ./data_mp3/OepFO4Nisms.mp3\n"
     ]
    },
    {
     "name": "stderr",
     "output_type": "stream",
     "text": [
      "                                                                                                                       \r"
     ]
    },
    {
     "name": "stdout",
     "output_type": "stream",
     "text": [
      "MoviePy - Done.\n",
      "oNjq8SUArRU\n",
      "MoviePy - Writing audio in ./data_mp3/oNjq8SUArRU__ы1.mp3\n"
     ]
    },
    {
     "name": "stderr",
     "output_type": "stream",
     "text": [
      "                                                                                                                       \r"
     ]
    },
    {
     "name": "stdout",
     "output_type": "stream",
     "text": [
      "MoviePy - Done.\n",
      "MoviePy - Writing audio in ./data_mp3/oNjq8SUArRU__ы2.mp3\n"
     ]
    },
    {
     "name": "stderr",
     "output_type": "stream",
     "text": [
      "                                                                                                                       \r"
     ]
    },
    {
     "name": "stdout",
     "output_type": "stream",
     "text": [
      "MoviePy - Done.\n",
      "MoviePy - Writing audio in ./data_mp3/oNjq8SUArRU__ы3.mp3\n"
     ]
    },
    {
     "name": "stderr",
     "output_type": "stream",
     "text": [
      "                                                                                                                       \r"
     ]
    },
    {
     "name": "stdout",
     "output_type": "stream",
     "text": [
      "MoviePy - Done.\n",
      "MoviePy - Writing audio in ./data_mp3/oNjq8SUArRU__ы4.mp3\n"
     ]
    },
    {
     "name": "stderr",
     "output_type": "stream",
     "text": [
      "                                                                                                                       \r"
     ]
    },
    {
     "name": "stdout",
     "output_type": "stream",
     "text": [
      "MoviePy - Done.\n",
      "p9aUfwgkoc4\n",
      "MoviePy - Writing audio in ./data_mp3/p9aUfwgkoc4.mp3\n"
     ]
    },
    {
     "name": "stderr",
     "output_type": "stream",
     "text": [
      "                                                                                                                       \r"
     ]
    },
    {
     "name": "stdout",
     "output_type": "stream",
     "text": [
      "MoviePy - Done.\n",
      "PAmhPY5szZ8\n",
      "MoviePy - Writing audio in ./data_mp3/PAmhPY5szZ8__ы1.mp3\n"
     ]
    },
    {
     "name": "stderr",
     "output_type": "stream",
     "text": [
      "                                                                                                                       \r"
     ]
    },
    {
     "name": "stdout",
     "output_type": "stream",
     "text": [
      "MoviePy - Done.\n",
      "MoviePy - Writing audio in ./data_mp3/PAmhPY5szZ8__ы2.mp3\n"
     ]
    },
    {
     "name": "stderr",
     "output_type": "stream",
     "text": [
      "                                                                                                                       \r"
     ]
    },
    {
     "name": "stdout",
     "output_type": "stream",
     "text": [
      "MoviePy - Done.\n",
      "MoviePy - Writing audio in ./data_mp3/PAmhPY5szZ8__ы3.mp3\n"
     ]
    },
    {
     "name": "stderr",
     "output_type": "stream",
     "text": [
      "                                                                                                                       \r"
     ]
    },
    {
     "name": "stdout",
     "output_type": "stream",
     "text": [
      "MoviePy - Done.\n",
      "MoviePy - Writing audio in ./data_mp3/PAmhPY5szZ8__ы4.mp3\n"
     ]
    },
    {
     "name": "stderr",
     "output_type": "stream",
     "text": [
      "                                                                                                                       \r"
     ]
    },
    {
     "name": "stdout",
     "output_type": "stream",
     "text": [
      "MoviePy - Done.\n",
      "MoviePy - Writing audio in ./data_mp3/PAmhPY5szZ8__ы5.mp3\n"
     ]
    },
    {
     "name": "stderr",
     "output_type": "stream",
     "text": [
      "                                                                                                                       \r"
     ]
    },
    {
     "name": "stdout",
     "output_type": "stream",
     "text": [
      "MoviePy - Done.\n",
      "MoviePy - Writing audio in ./data_mp3/PAmhPY5szZ8__ы6.mp3\n"
     ]
    },
    {
     "name": "stderr",
     "output_type": "stream",
     "text": [
      "                                                                                                                       \r"
     ]
    },
    {
     "name": "stdout",
     "output_type": "stream",
     "text": [
      "MoviePy - Done.\n",
      "PGNiXGX2nLU\n",
      "MoviePy - Writing audio in ./data_mp3/PGNiXGX2nLU.mp3\n"
     ]
    },
    {
     "name": "stderr",
     "output_type": "stream",
     "text": [
      "                                                                                                                       \r"
     ]
    },
    {
     "name": "stdout",
     "output_type": "stream",
     "text": [
      "MoviePy - Done.\n",
      "PLe3pznz9oM\n",
      "MoviePy - Writing audio in ./data_mp3/PLe3pznz9oM.mp3\n"
     ]
    },
    {
     "name": "stderr",
     "output_type": "stream",
     "text": [
      "                                                                                                                       \r"
     ]
    },
    {
     "name": "stdout",
     "output_type": "stream",
     "text": [
      "MoviePy - Done.\n",
      "pOpG9xyjsDY\n",
      "MoviePy - Writing audio in ./data_mp3/pOpG9xyjsDY.mp3\n"
     ]
    },
    {
     "name": "stderr",
     "output_type": "stream",
     "text": [
      "                                                                                                                       \r"
     ]
    },
    {
     "name": "stdout",
     "output_type": "stream",
     "text": [
      "MoviePy - Done.\n",
      "pT-RkWoRcJg\n",
      "MoviePy - Writing audio in ./data_mp3/pT-RkWoRcJg__ы1.mp3\n"
     ]
    },
    {
     "name": "stderr",
     "output_type": "stream",
     "text": [
      "                                                                                                                       \r"
     ]
    },
    {
     "name": "stdout",
     "output_type": "stream",
     "text": [
      "MoviePy - Done.\n",
      "MoviePy - Writing audio in ./data_mp3/pT-RkWoRcJg__ы2.mp3\n"
     ]
    },
    {
     "name": "stderr",
     "output_type": "stream",
     "text": [
      "                                                                                                                       \r"
     ]
    },
    {
     "name": "stdout",
     "output_type": "stream",
     "text": [
      "MoviePy - Done.\n",
      "MoviePy - Writing audio in ./data_mp3/pT-RkWoRcJg__ы3.mp3\n"
     ]
    },
    {
     "name": "stderr",
     "output_type": "stream",
     "text": [
      "                                                                                                                       \r"
     ]
    },
    {
     "name": "stdout",
     "output_type": "stream",
     "text": [
      "MoviePy - Done.\n",
      "MoviePy - Writing audio in ./data_mp3/pT-RkWoRcJg__ы4.mp3\n"
     ]
    },
    {
     "name": "stderr",
     "output_type": "stream",
     "text": [
      "                                                                                                                       \r"
     ]
    },
    {
     "name": "stdout",
     "output_type": "stream",
     "text": [
      "MoviePy - Done.\n",
      "QlXrndlCFIk\n",
      "MoviePy - Writing audio in ./data_mp3/QlXrndlCFIk__ы1.mp3\n"
     ]
    },
    {
     "name": "stderr",
     "output_type": "stream",
     "text": [
      "                                                                                                                       \r"
     ]
    },
    {
     "name": "stdout",
     "output_type": "stream",
     "text": [
      "MoviePy - Done.\n",
      "MoviePy - Writing audio in ./data_mp3/QlXrndlCFIk__ы2.mp3\n"
     ]
    },
    {
     "name": "stderr",
     "output_type": "stream",
     "text": [
      "                                                                                                                       \r"
     ]
    },
    {
     "name": "stdout",
     "output_type": "stream",
     "text": [
      "MoviePy - Done.\n",
      "MoviePy - Writing audio in ./data_mp3/QlXrndlCFIk__ы3.mp3\n"
     ]
    },
    {
     "name": "stderr",
     "output_type": "stream",
     "text": [
      "                                                                                                                       \r"
     ]
    },
    {
     "name": "stdout",
     "output_type": "stream",
     "text": [
      "MoviePy - Done.\n",
      "MoviePy - Writing audio in ./data_mp3/QlXrndlCFIk__ы4.mp3\n"
     ]
    },
    {
     "name": "stderr",
     "output_type": "stream",
     "text": [
      "                                                                                                                       \r"
     ]
    },
    {
     "name": "stdout",
     "output_type": "stream",
     "text": [
      "MoviePy - Done.\n",
      "MoviePy - Writing audio in ./data_mp3/QlXrndlCFIk__ы5.mp3\n"
     ]
    },
    {
     "name": "stderr",
     "output_type": "stream",
     "text": [
      "                                                                                                                       \r"
     ]
    },
    {
     "name": "stdout",
     "output_type": "stream",
     "text": [
      "MoviePy - Done.\n",
      "MoviePy - Writing audio in ./data_mp3/QlXrndlCFIk__ы6.mp3\n"
     ]
    },
    {
     "name": "stderr",
     "output_type": "stream",
     "text": [
      "                                                                                                                       \r"
     ]
    },
    {
     "name": "stdout",
     "output_type": "stream",
     "text": [
      "MoviePy - Done.\n",
      "QwTiL9-9ezs\n",
      "MoviePy - Writing audio in ./data_mp3/QwTiL9-9ezs.mp3\n"
     ]
    },
    {
     "name": "stderr",
     "output_type": "stream",
     "text": [
      "                                                                                                                       \r"
     ]
    },
    {
     "name": "stdout",
     "output_type": "stream",
     "text": [
      "MoviePy - Done.\n",
      "RwJscjiB0Sc\n",
      "MoviePy - Writing audio in ./data_mp3/RwJscjiB0Sc__ы1.mp3\n"
     ]
    },
    {
     "name": "stderr",
     "output_type": "stream",
     "text": [
      "                                                                                                                       \r"
     ]
    },
    {
     "name": "stdout",
     "output_type": "stream",
     "text": [
      "MoviePy - Done.\n",
      "MoviePy - Writing audio in ./data_mp3/RwJscjiB0Sc__ы2.mp3\n"
     ]
    },
    {
     "name": "stderr",
     "output_type": "stream",
     "text": [
      "                                                                                                                       \r"
     ]
    },
    {
     "name": "stdout",
     "output_type": "stream",
     "text": [
      "MoviePy - Done.\n",
      "Rzs3beBNT9g\n",
      "MoviePy - Writing audio in ./data_mp3/Rzs3beBNT9g.mp3\n"
     ]
    },
    {
     "name": "stderr",
     "output_type": "stream",
     "text": [
      "                                                                                                                       \r"
     ]
    },
    {
     "name": "stdout",
     "output_type": "stream",
     "text": [
      "MoviePy - Done.\n",
      "SG2TUTIFwSE\n",
      "MoviePy - Writing audio in ./data_mp3/SG2TUTIFwSE.mp3\n"
     ]
    },
    {
     "name": "stderr",
     "output_type": "stream",
     "text": [
      "                                                                                                                       \r"
     ]
    },
    {
     "name": "stdout",
     "output_type": "stream",
     "text": [
      "MoviePy - Done.\n",
      "sKqfeWQOOZk\n",
      "MoviePy - Writing audio in ./data_mp3/sKqfeWQOOZk.mp3\n"
     ]
    },
    {
     "name": "stderr",
     "output_type": "stream",
     "text": [
      "                                                                                                                       \r"
     ]
    },
    {
     "name": "stdout",
     "output_type": "stream",
     "text": [
      "MoviePy - Done.\n",
      "SS-9nTMidqY\n",
      "MoviePy - Writing audio in ./data_mp3/SS-9nTMidqY.mp3\n"
     ]
    },
    {
     "name": "stderr",
     "output_type": "stream",
     "text": [
      "                                                                                                                       \r"
     ]
    },
    {
     "name": "stdout",
     "output_type": "stream",
     "text": [
      "MoviePy - Done.\n",
      "st-ZjwCy4uo\n",
      "MoviePy - Writing audio in ./data_mp3/st-ZjwCy4uo__ы1.mp3\n"
     ]
    },
    {
     "name": "stderr",
     "output_type": "stream",
     "text": [
      "                                                                                                                       \r"
     ]
    },
    {
     "name": "stdout",
     "output_type": "stream",
     "text": [
      "MoviePy - Done.\n",
      "MoviePy - Writing audio in ./data_mp3/st-ZjwCy4uo__ы2.mp3\n"
     ]
    },
    {
     "name": "stderr",
     "output_type": "stream",
     "text": [
      "                                                                                                                       \r"
     ]
    },
    {
     "name": "stdout",
     "output_type": "stream",
     "text": [
      "MoviePy - Done.\n",
      "MoviePy - Writing audio in ./data_mp3/st-ZjwCy4uo__ы3.mp3\n"
     ]
    },
    {
     "name": "stderr",
     "output_type": "stream",
     "text": [
      "                                                                                                                       \r"
     ]
    },
    {
     "name": "stdout",
     "output_type": "stream",
     "text": [
      "MoviePy - Done.\n",
      "MoviePy - Writing audio in ./data_mp3/st-ZjwCy4uo__ы4.mp3\n"
     ]
    },
    {
     "name": "stderr",
     "output_type": "stream",
     "text": [
      "                                                                                                                       \r"
     ]
    },
    {
     "name": "stdout",
     "output_type": "stream",
     "text": [
      "MoviePy - Done.\n",
      "MoviePy - Writing audio in ./data_mp3/st-ZjwCy4uo__ы5.mp3\n"
     ]
    },
    {
     "name": "stderr",
     "output_type": "stream",
     "text": [
      "                                                                                                                       \r"
     ]
    },
    {
     "name": "stdout",
     "output_type": "stream",
     "text": [
      "MoviePy - Done.\n",
      "MoviePy - Writing audio in ./data_mp3/st-ZjwCy4uo__ы6.mp3\n"
     ]
    },
    {
     "name": "stderr",
     "output_type": "stream",
     "text": [
      "                                                                                                                       \r"
     ]
    },
    {
     "name": "stdout",
     "output_type": "stream",
     "text": [
      "MoviePy - Done.\n",
      "MoviePy - Writing audio in ./data_mp3/st-ZjwCy4uo__ы7.mp3\n"
     ]
    },
    {
     "name": "stderr",
     "output_type": "stream",
     "text": [
      "                                                                                                                       \r"
     ]
    },
    {
     "name": "stdout",
     "output_type": "stream",
     "text": [
      "MoviePy - Done.\n",
      "thz_JqagxRU\n",
      "MoviePy - Writing audio in ./data_mp3/thz_JqagxRU.mp3\n"
     ]
    },
    {
     "name": "stderr",
     "output_type": "stream",
     "text": [
      "                                                                                                                       \r"
     ]
    },
    {
     "name": "stdout",
     "output_type": "stream",
     "text": [
      "MoviePy - Done.\n",
      "TqKFb72EyTM\n",
      "MoviePy - Writing audio in ./data_mp3/TqKFb72EyTM.mp3\n"
     ]
    },
    {
     "name": "stderr",
     "output_type": "stream",
     "text": [
      "                                                                                                                       \r"
     ]
    },
    {
     "name": "stdout",
     "output_type": "stream",
     "text": [
      "MoviePy - Done.\n",
      "u1_KbKR_sng\n",
      "MoviePy - Writing audio in ./data_mp3/u1_KbKR_sng.mp3\n"
     ]
    },
    {
     "name": "stderr",
     "output_type": "stream",
     "text": [
      "                                                                                                                       \r"
     ]
    },
    {
     "name": "stdout",
     "output_type": "stream",
     "text": [
      "MoviePy - Done.\n",
      "u4edBTV5_Uk\n",
      "MoviePy - Writing audio in ./data_mp3/u4edBTV5_Uk.mp3\n"
     ]
    },
    {
     "name": "stderr",
     "output_type": "stream",
     "text": [
      "                                                                                                                       \r"
     ]
    },
    {
     "name": "stdout",
     "output_type": "stream",
     "text": [
      "MoviePy - Done.\n",
      "UnRRb4BCsqE\n",
      "MoviePy - Writing audio in ./data_mp3/UnRRb4BCsqE__ы1.mp3\n"
     ]
    },
    {
     "name": "stderr",
     "output_type": "stream",
     "text": [
      "                                                                                                                       \r"
     ]
    },
    {
     "name": "stdout",
     "output_type": "stream",
     "text": [
      "MoviePy - Done.\n",
      "MoviePy - Writing audio in ./data_mp3/UnRRb4BCsqE__ы2.mp3\n"
     ]
    },
    {
     "name": "stderr",
     "output_type": "stream",
     "text": [
      "                                                                                                                       \r"
     ]
    },
    {
     "name": "stdout",
     "output_type": "stream",
     "text": [
      "MoviePy - Done.\n",
      "MoviePy - Writing audio in ./data_mp3/UnRRb4BCsqE__ы3.mp3\n"
     ]
    },
    {
     "name": "stderr",
     "output_type": "stream",
     "text": [
      "                                                                                                                       \r"
     ]
    },
    {
     "name": "stdout",
     "output_type": "stream",
     "text": [
      "MoviePy - Done.\n",
      "MoviePy - Writing audio in ./data_mp3/UnRRb4BCsqE__ы4.mp3\n"
     ]
    },
    {
     "name": "stderr",
     "output_type": "stream",
     "text": [
      "                                                                                                                       \r"
     ]
    },
    {
     "name": "stdout",
     "output_type": "stream",
     "text": [
      "MoviePy - Done.\n",
      "MoviePy - Writing audio in ./data_mp3/UnRRb4BCsqE__ы5.mp3\n"
     ]
    },
    {
     "name": "stderr",
     "output_type": "stream",
     "text": [
      "                                                                                                                       \r"
     ]
    },
    {
     "name": "stdout",
     "output_type": "stream",
     "text": [
      "MoviePy - Done.\n",
      "MoviePy - Writing audio in ./data_mp3/UnRRb4BCsqE__ы6.mp3\n"
     ]
    },
    {
     "name": "stderr",
     "output_type": "stream",
     "text": [
      "chunk:  23%|█████████████▌                                             | 3053/13231 [00:03<00:11, 881.47it/s, now=None]"
     ]
    }
   ],
   "source": [
    "# https://dev.to/jimajs/how-to-convert-mp4-to-mp3-using-python-1dcf\n",
    "\n",
    "d = './data/'\n",
    "g = './data_mp3/'\n",
    "for x in os.listdir(d):\n",
    "    name = x[:x.index('.mp4')]\n",
    "    print(name)\n",
    "    video = VideoFileClip('{0}{1}.mp4'.format(d, name))\n",
    "    if video.duration >= 600:\n",
    "        start, end = 0, 600\n",
    "        total_covered = 600\n",
    "        n = 0\n",
    "        finished = False\n",
    "        while not finished:\n",
    "            subvideo = video.subclip(start, end)\n",
    "            subvideo.audio.write_audiofile('{0}{1}__ы{2}.mp3'.format(g, name, n + 1))\n",
    "            if video.duration - end >= 600:\n",
    "                start = start + 600\n",
    "                end = min(video.duration, end + 600)\n",
    "                n = n + 1\n",
    "            else:\n",
    "                finished = True\n",
    "    else:\n",
    "        video.audio.write_audiofile('{0}{1}.mp3'.format(g, name))"
   ]
  },
  {
   "cell_type": "code",
   "execution_count": 5,
   "id": "2193a000-7408-477c-af42-f5b0e47224d2",
   "metadata": {},
   "outputs": [
    {
     "data": {
      "text/plain": [
       "['C:\\\\Users\\\\Edward\\\\Desktop\\\\music\\\\data_mp3\\\\-PVZWsClTPY.mp3',\n",
       " 'C:\\\\Users\\\\Edward\\\\Desktop\\\\music\\\\data_mp3\\\\0j7_Tb4LgPA.mp3',\n",
       " 'C:\\\\Users\\\\Edward\\\\Desktop\\\\music\\\\data_mp3\\\\0poLsDf1TvM.mp3',\n",
       " 'C:\\\\Users\\\\Edward\\\\Desktop\\\\music\\\\data_mp3\\\\1AfkQES9PPw__ы1.mp3',\n",
       " 'C:\\\\Users\\\\Edward\\\\Desktop\\\\music\\\\data_mp3\\\\1AfkQES9PPw__ы10.mp3',\n",
       " 'C:\\\\Users\\\\Edward\\\\Desktop\\\\music\\\\data_mp3\\\\1AfkQES9PPw__ы11.mp3',\n",
       " 'C:\\\\Users\\\\Edward\\\\Desktop\\\\music\\\\data_mp3\\\\1AfkQES9PPw__ы12.mp3',\n",
       " 'C:\\\\Users\\\\Edward\\\\Desktop\\\\music\\\\data_mp3\\\\1AfkQES9PPw__ы13.mp3',\n",
       " 'C:\\\\Users\\\\Edward\\\\Desktop\\\\music\\\\data_mp3\\\\1AfkQES9PPw__ы14.mp3',\n",
       " 'C:\\\\Users\\\\Edward\\\\Desktop\\\\music\\\\data_mp3\\\\1AfkQES9PPw__ы15.mp3',\n",
       " 'C:\\\\Users\\\\Edward\\\\Desktop\\\\music\\\\data_mp3\\\\1AfkQES9PPw__ы16.mp3',\n",
       " 'C:\\\\Users\\\\Edward\\\\Desktop\\\\music\\\\data_mp3\\\\1AfkQES9PPw__ы17.mp3',\n",
       " 'C:\\\\Users\\\\Edward\\\\Desktop\\\\music\\\\data_mp3\\\\1AfkQES9PPw__ы18.mp3',\n",
       " 'C:\\\\Users\\\\Edward\\\\Desktop\\\\music\\\\data_mp3\\\\1AfkQES9PPw__ы19.mp3',\n",
       " 'C:\\\\Users\\\\Edward\\\\Desktop\\\\music\\\\data_mp3\\\\1AfkQES9PPw__ы2.mp3',\n",
       " 'C:\\\\Users\\\\Edward\\\\Desktop\\\\music\\\\data_mp3\\\\1AfkQES9PPw__ы3.mp3',\n",
       " 'C:\\\\Users\\\\Edward\\\\Desktop\\\\music\\\\data_mp3\\\\1AfkQES9PPw__ы4.mp3',\n",
       " 'C:\\\\Users\\\\Edward\\\\Desktop\\\\music\\\\data_mp3\\\\1AfkQES9PPw__ы5.mp3',\n",
       " 'C:\\\\Users\\\\Edward\\\\Desktop\\\\music\\\\data_mp3\\\\1AfkQES9PPw__ы6.mp3',\n",
       " 'C:\\\\Users\\\\Edward\\\\Desktop\\\\music\\\\data_mp3\\\\1AfkQES9PPw__ы7.mp3',\n",
       " 'C:\\\\Users\\\\Edward\\\\Desktop\\\\music\\\\data_mp3\\\\1AfkQES9PPw__ы8.mp3',\n",
       " 'C:\\\\Users\\\\Edward\\\\Desktop\\\\music\\\\data_mp3\\\\1AfkQES9PPw__ы9.mp3',\n",
       " 'C:\\\\Users\\\\Edward\\\\Desktop\\\\music\\\\data_mp3\\\\1VgqTZptlt4.mp3',\n",
       " 'C:\\\\Users\\\\Edward\\\\Desktop\\\\music\\\\data_mp3\\\\2PN548CszJ4__ы1.mp3',\n",
       " 'C:\\\\Users\\\\Edward\\\\Desktop\\\\music\\\\data_mp3\\\\2PN548CszJ4__ы10.mp3',\n",
       " 'C:\\\\Users\\\\Edward\\\\Desktop\\\\music\\\\data_mp3\\\\2PN548CszJ4__ы11.mp3',\n",
       " 'C:\\\\Users\\\\Edward\\\\Desktop\\\\music\\\\data_mp3\\\\2PN548CszJ4__ы12.mp3',\n",
       " 'C:\\\\Users\\\\Edward\\\\Desktop\\\\music\\\\data_mp3\\\\2PN548CszJ4__ы2.mp3',\n",
       " 'C:\\\\Users\\\\Edward\\\\Desktop\\\\music\\\\data_mp3\\\\2PN548CszJ4__ы3.mp3',\n",
       " 'C:\\\\Users\\\\Edward\\\\Desktop\\\\music\\\\data_mp3\\\\2PN548CszJ4__ы4.mp3',\n",
       " 'C:\\\\Users\\\\Edward\\\\Desktop\\\\music\\\\data_mp3\\\\2PN548CszJ4__ы5.mp3',\n",
       " 'C:\\\\Users\\\\Edward\\\\Desktop\\\\music\\\\data_mp3\\\\2PN548CszJ4__ы6.mp3',\n",
       " 'C:\\\\Users\\\\Edward\\\\Desktop\\\\music\\\\data_mp3\\\\2PN548CszJ4__ы7.mp3',\n",
       " 'C:\\\\Users\\\\Edward\\\\Desktop\\\\music\\\\data_mp3\\\\2PN548CszJ4__ы8.mp3',\n",
       " 'C:\\\\Users\\\\Edward\\\\Desktop\\\\music\\\\data_mp3\\\\2PN548CszJ4__ы9.mp3',\n",
       " 'C:\\\\Users\\\\Edward\\\\Desktop\\\\music\\\\data_mp3\\\\36qnhrJGgfc.mp3',\n",
       " 'C:\\\\Users\\\\Edward\\\\Desktop\\\\music\\\\data_mp3\\\\36v6XBpa7CA.mp3',\n",
       " 'C:\\\\Users\\\\Edward\\\\Desktop\\\\music\\\\data_mp3\\\\40PLk5VKVKQ__ы1.mp3',\n",
       " 'C:\\\\Users\\\\Edward\\\\Desktop\\\\music\\\\data_mp3\\\\40PLk5VKVKQ__ы2.mp3',\n",
       " 'C:\\\\Users\\\\Edward\\\\Desktop\\\\music\\\\data_mp3\\\\40PLk5VKVKQ__ы3.mp3',\n",
       " 'C:\\\\Users\\\\Edward\\\\Desktop\\\\music\\\\data_mp3\\\\40PLk5VKVKQ__ы4.mp3',\n",
       " 'C:\\\\Users\\\\Edward\\\\Desktop\\\\music\\\\data_mp3\\\\5mHYwdeBDAE__ы1.mp3',\n",
       " 'C:\\\\Users\\\\Edward\\\\Desktop\\\\music\\\\data_mp3\\\\5mHYwdeBDAE__ы2.mp3',\n",
       " 'C:\\\\Users\\\\Edward\\\\Desktop\\\\music\\\\data_mp3\\\\5mHYwdeBDAE__ы3.mp3',\n",
       " 'C:\\\\Users\\\\Edward\\\\Desktop\\\\music\\\\data_mp3\\\\5mHYwdeBDAE__ы4.mp3',\n",
       " 'C:\\\\Users\\\\Edward\\\\Desktop\\\\music\\\\data_mp3\\\\5mHYwdeBDAE__ы5.mp3',\n",
       " 'C:\\\\Users\\\\Edward\\\\Desktop\\\\music\\\\data_mp3\\\\5mHYwdeBDAE__ы6.mp3',\n",
       " 'C:\\\\Users\\\\Edward\\\\Desktop\\\\music\\\\data_mp3\\\\6A4A9Xkx6Xo__ы1.mp3',\n",
       " 'C:\\\\Users\\\\Edward\\\\Desktop\\\\music\\\\data_mp3\\\\6A4A9Xkx6Xo__ы10.mp3',\n",
       " 'C:\\\\Users\\\\Edward\\\\Desktop\\\\music\\\\data_mp3\\\\6A4A9Xkx6Xo__ы11.mp3',\n",
       " 'C:\\\\Users\\\\Edward\\\\Desktop\\\\music\\\\data_mp3\\\\6A4A9Xkx6Xo__ы12.mp3',\n",
       " 'C:\\\\Users\\\\Edward\\\\Desktop\\\\music\\\\data_mp3\\\\6A4A9Xkx6Xo__ы2.mp3',\n",
       " 'C:\\\\Users\\\\Edward\\\\Desktop\\\\music\\\\data_mp3\\\\6A4A9Xkx6Xo__ы3.mp3',\n",
       " 'C:\\\\Users\\\\Edward\\\\Desktop\\\\music\\\\data_mp3\\\\6A4A9Xkx6Xo__ы4.mp3',\n",
       " 'C:\\\\Users\\\\Edward\\\\Desktop\\\\music\\\\data_mp3\\\\6A4A9Xkx6Xo__ы5.mp3',\n",
       " 'C:\\\\Users\\\\Edward\\\\Desktop\\\\music\\\\data_mp3\\\\6A4A9Xkx6Xo__ы6.mp3',\n",
       " 'C:\\\\Users\\\\Edward\\\\Desktop\\\\music\\\\data_mp3\\\\6A4A9Xkx6Xo__ы7.mp3',\n",
       " 'C:\\\\Users\\\\Edward\\\\Desktop\\\\music\\\\data_mp3\\\\6A4A9Xkx6Xo__ы8.mp3',\n",
       " 'C:\\\\Users\\\\Edward\\\\Desktop\\\\music\\\\data_mp3\\\\6A4A9Xkx6Xo__ы9.mp3',\n",
       " 'C:\\\\Users\\\\Edward\\\\Desktop\\\\music\\\\data_mp3\\\\6KDvQz-YfKY__ы1.mp3',\n",
       " 'C:\\\\Users\\\\Edward\\\\Desktop\\\\music\\\\data_mp3\\\\6KDvQz-YfKY__ы10.mp3',\n",
       " 'C:\\\\Users\\\\Edward\\\\Desktop\\\\music\\\\data_mp3\\\\6KDvQz-YfKY__ы11.mp3',\n",
       " 'C:\\\\Users\\\\Edward\\\\Desktop\\\\music\\\\data_mp3\\\\6KDvQz-YfKY__ы12.mp3',\n",
       " 'C:\\\\Users\\\\Edward\\\\Desktop\\\\music\\\\data_mp3\\\\6KDvQz-YfKY__ы2.mp3',\n",
       " 'C:\\\\Users\\\\Edward\\\\Desktop\\\\music\\\\data_mp3\\\\6KDvQz-YfKY__ы3.mp3',\n",
       " 'C:\\\\Users\\\\Edward\\\\Desktop\\\\music\\\\data_mp3\\\\6KDvQz-YfKY__ы4.mp3',\n",
       " 'C:\\\\Users\\\\Edward\\\\Desktop\\\\music\\\\data_mp3\\\\6KDvQz-YfKY__ы5.mp3',\n",
       " 'C:\\\\Users\\\\Edward\\\\Desktop\\\\music\\\\data_mp3\\\\6KDvQz-YfKY__ы6.mp3',\n",
       " 'C:\\\\Users\\\\Edward\\\\Desktop\\\\music\\\\data_mp3\\\\6KDvQz-YfKY__ы7.mp3',\n",
       " 'C:\\\\Users\\\\Edward\\\\Desktop\\\\music\\\\data_mp3\\\\6KDvQz-YfKY__ы8.mp3',\n",
       " 'C:\\\\Users\\\\Edward\\\\Desktop\\\\music\\\\data_mp3\\\\6KDvQz-YfKY__ы9.mp3',\n",
       " 'C:\\\\Users\\\\Edward\\\\Desktop\\\\music\\\\data_mp3\\\\6oFwfkx-3lg.mp3',\n",
       " 'C:\\\\Users\\\\Edward\\\\Desktop\\\\music\\\\data_mp3\\\\6QdLsPBa30o__ы1.mp3',\n",
       " 'C:\\\\Users\\\\Edward\\\\Desktop\\\\music\\\\data_mp3\\\\6QdLsPBa30o__ы10.mp3',\n",
       " 'C:\\\\Users\\\\Edward\\\\Desktop\\\\music\\\\data_mp3\\\\6QdLsPBa30o__ы11.mp3',\n",
       " 'C:\\\\Users\\\\Edward\\\\Desktop\\\\music\\\\data_mp3\\\\6QdLsPBa30o__ы12.mp3',\n",
       " 'C:\\\\Users\\\\Edward\\\\Desktop\\\\music\\\\data_mp3\\\\6QdLsPBa30o__ы2.mp3',\n",
       " 'C:\\\\Users\\\\Edward\\\\Desktop\\\\music\\\\data_mp3\\\\6QdLsPBa30o__ы3.mp3',\n",
       " 'C:\\\\Users\\\\Edward\\\\Desktop\\\\music\\\\data_mp3\\\\6QdLsPBa30o__ы4.mp3',\n",
       " 'C:\\\\Users\\\\Edward\\\\Desktop\\\\music\\\\data_mp3\\\\6QdLsPBa30o__ы5.mp3',\n",
       " 'C:\\\\Users\\\\Edward\\\\Desktop\\\\music\\\\data_mp3\\\\6QdLsPBa30o__ы6.mp3',\n",
       " 'C:\\\\Users\\\\Edward\\\\Desktop\\\\music\\\\data_mp3\\\\6QdLsPBa30o__ы7.mp3',\n",
       " 'C:\\\\Users\\\\Edward\\\\Desktop\\\\music\\\\data_mp3\\\\6QdLsPBa30o__ы8.mp3',\n",
       " 'C:\\\\Users\\\\Edward\\\\Desktop\\\\music\\\\data_mp3\\\\6QdLsPBa30o__ы9.mp3',\n",
       " 'C:\\\\Users\\\\Edward\\\\Desktop\\\\music\\\\data_mp3\\\\6spnsA8dQwA.mp3',\n",
       " 'C:\\\\Users\\\\Edward\\\\Desktop\\\\music\\\\data_mp3\\\\7HiOuTpi5dg__ы1.mp3',\n",
       " 'C:\\\\Users\\\\Edward\\\\Desktop\\\\music\\\\data_mp3\\\\7HiOuTpi5dg__ы2.mp3',\n",
       " 'C:\\\\Users\\\\Edward\\\\Desktop\\\\music\\\\data_mp3\\\\7HiOuTpi5dg__ы3.mp3',\n",
       " 'C:\\\\Users\\\\Edward\\\\Desktop\\\\music\\\\data_mp3\\\\7HiOuTpi5dg__ы4.mp3',\n",
       " 'C:\\\\Users\\\\Edward\\\\Desktop\\\\music\\\\data_mp3\\\\7HiOuTpi5dg__ы5.mp3',\n",
       " 'C:\\\\Users\\\\Edward\\\\Desktop\\\\music\\\\data_mp3\\\\7HiOuTpi5dg__ы6.mp3',\n",
       " 'C:\\\\Users\\\\Edward\\\\Desktop\\\\music\\\\data_mp3\\\\7MmhdFwERjE__ы1.mp3',\n",
       " 'C:\\\\Users\\\\Edward\\\\Desktop\\\\music\\\\data_mp3\\\\7MmhdFwERjE__ы10.mp3',\n",
       " 'C:\\\\Users\\\\Edward\\\\Desktop\\\\music\\\\data_mp3\\\\7MmhdFwERjE__ы11.mp3',\n",
       " 'C:\\\\Users\\\\Edward\\\\Desktop\\\\music\\\\data_mp3\\\\7MmhdFwERjE__ы12.mp3',\n",
       " 'C:\\\\Users\\\\Edward\\\\Desktop\\\\music\\\\data_mp3\\\\7MmhdFwERjE__ы2.mp3',\n",
       " 'C:\\\\Users\\\\Edward\\\\Desktop\\\\music\\\\data_mp3\\\\7MmhdFwERjE__ы3.mp3',\n",
       " 'C:\\\\Users\\\\Edward\\\\Desktop\\\\music\\\\data_mp3\\\\7MmhdFwERjE__ы4.mp3',\n",
       " 'C:\\\\Users\\\\Edward\\\\Desktop\\\\music\\\\data_mp3\\\\7MmhdFwERjE__ы5.mp3',\n",
       " 'C:\\\\Users\\\\Edward\\\\Desktop\\\\music\\\\data_mp3\\\\7MmhdFwERjE__ы6.mp3',\n",
       " 'C:\\\\Users\\\\Edward\\\\Desktop\\\\music\\\\data_mp3\\\\7MmhdFwERjE__ы7.mp3',\n",
       " 'C:\\\\Users\\\\Edward\\\\Desktop\\\\music\\\\data_mp3\\\\7MmhdFwERjE__ы8.mp3',\n",
       " 'C:\\\\Users\\\\Edward\\\\Desktop\\\\music\\\\data_mp3\\\\7MmhdFwERjE__ы9.mp3',\n",
       " 'C:\\\\Users\\\\Edward\\\\Desktop\\\\music\\\\data_mp3\\\\7SpIvGqi5Wk.mp3',\n",
       " 'C:\\\\Users\\\\Edward\\\\Desktop\\\\music\\\\data_mp3\\\\82FDvDi05w0.mp3',\n",
       " 'C:\\\\Users\\\\Edward\\\\Desktop\\\\music\\\\data_mp3\\\\8ZspunA4HlM__ы1.mp3',\n",
       " 'C:\\\\Users\\\\Edward\\\\Desktop\\\\music\\\\data_mp3\\\\8ZspunA4HlM__ы2.mp3',\n",
       " 'C:\\\\Users\\\\Edward\\\\Desktop\\\\music\\\\data_mp3\\\\8ZspunA4HlM__ы3.mp3',\n",
       " 'C:\\\\Users\\\\Edward\\\\Desktop\\\\music\\\\data_mp3\\\\8ZspunA4HlM__ы4.mp3',\n",
       " 'C:\\\\Users\\\\Edward\\\\Desktop\\\\music\\\\data_mp3\\\\8ZspunA4HlM__ы5.mp3',\n",
       " 'C:\\\\Users\\\\Edward\\\\Desktop\\\\music\\\\data_mp3\\\\8ZspunA4HlM__ы6.mp3',\n",
       " 'C:\\\\Users\\\\Edward\\\\Desktop\\\\music\\\\data_mp3\\\\9gM7FUXeIb0.mp3',\n",
       " 'C:\\\\Users\\\\Edward\\\\Desktop\\\\music\\\\data_mp3\\\\9mKCj4Nigpg.mp3',\n",
       " 'C:\\\\Users\\\\Edward\\\\Desktop\\\\music\\\\data_mp3\\\\9o2QPoPlhVI.mp3',\n",
       " 'C:\\\\Users\\\\Edward\\\\Desktop\\\\music\\\\data_mp3\\\\A5oXyThssps.mp3',\n",
       " 'C:\\\\Users\\\\Edward\\\\Desktop\\\\music\\\\data_mp3\\\\A7Pv8Tg4C2Q.mp3',\n",
       " 'C:\\\\Users\\\\Edward\\\\Desktop\\\\music\\\\data_mp3\\\\aChhwFF_SNQ.mp3',\n",
       " 'C:\\\\Users\\\\Edward\\\\Desktop\\\\music\\\\data_mp3\\\\AFNZosSiNRI.mp3',\n",
       " 'C:\\\\Users\\\\Edward\\\\Desktop\\\\music\\\\data_mp3\\\\aJIDqYZ7qM0__ы1.mp3',\n",
       " 'C:\\\\Users\\\\Edward\\\\Desktop\\\\music\\\\data_mp3\\\\aJIDqYZ7qM0__ы2.mp3',\n",
       " 'C:\\\\Users\\\\Edward\\\\Desktop\\\\music\\\\data_mp3\\\\aJIDqYZ7qM0__ы3.mp3',\n",
       " 'C:\\\\Users\\\\Edward\\\\Desktop\\\\music\\\\data_mp3\\\\aJIDqYZ7qM0__ы4.mp3',\n",
       " 'C:\\\\Users\\\\Edward\\\\Desktop\\\\music\\\\data_mp3\\\\aJIDqYZ7qM0__ы5.mp3',\n",
       " 'C:\\\\Users\\\\Edward\\\\Desktop\\\\music\\\\data_mp3\\\\AMpvHWfXNFs.mp3',\n",
       " 'C:\\\\Users\\\\Edward\\\\Desktop\\\\music\\\\data_mp3\\\\B6XZRAtrPJU.mp3',\n",
       " 'C:\\\\Users\\\\Edward\\\\Desktop\\\\music\\\\data_mp3\\\\BBEAZkmbyeY.mp3',\n",
       " 'C:\\\\Users\\\\Edward\\\\Desktop\\\\music\\\\data_mp3\\\\bdxTDbrxXSI.mp3',\n",
       " 'C:\\\\Users\\\\Edward\\\\Desktop\\\\music\\\\data_mp3\\\\bpOSxM0rNPM.mp3',\n",
       " 'C:\\\\Users\\\\Edward\\\\Desktop\\\\music\\\\data_mp3\\\\BtXec1z00pM.mp3',\n",
       " 'C:\\\\Users\\\\Edward\\\\Desktop\\\\music\\\\data_mp3\\\\ch-HHGuzwRU__ы1.mp3',\n",
       " 'C:\\\\Users\\\\Edward\\\\Desktop\\\\music\\\\data_mp3\\\\ch-HHGuzwRU__ы2.mp3',\n",
       " 'C:\\\\Users\\\\Edward\\\\Desktop\\\\music\\\\data_mp3\\\\ch-HHGuzwRU__ы3.mp3',\n",
       " 'C:\\\\Users\\\\Edward\\\\Desktop\\\\music\\\\data_mp3\\\\ch-HHGuzwRU__ы4.mp3',\n",
       " 'C:\\\\Users\\\\Edward\\\\Desktop\\\\music\\\\data_mp3\\\\ch-HHGuzwRU__ы5.mp3',\n",
       " 'C:\\\\Users\\\\Edward\\\\Desktop\\\\music\\\\data_mp3\\\\CqMFclGDA20.mp3',\n",
       " 'C:\\\\Users\\\\Edward\\\\Desktop\\\\music\\\\data_mp3\\\\cSPfeTwl8Kw.mp3',\n",
       " 'C:\\\\Users\\\\Edward\\\\Desktop\\\\music\\\\data_mp3\\\\CvRGpXtNc1o.mp3',\n",
       " 'C:\\\\Users\\\\Edward\\\\Desktop\\\\music\\\\data_mp3\\\\D6_b4Iueeo8.mp3',\n",
       " 'C:\\\\Users\\\\Edward\\\\Desktop\\\\music\\\\data_mp3\\\\d8081_cQZyY.mp3',\n",
       " 'C:\\\\Users\\\\Edward\\\\Desktop\\\\music\\\\data_mp3\\\\DDyoU8Rs-lE.mp3',\n",
       " 'C:\\\\Users\\\\Edward\\\\Desktop\\\\music\\\\data_mp3\\\\DGKayhZqZRU.mp3',\n",
       " 'C:\\\\Users\\\\Edward\\\\Desktop\\\\music\\\\data_mp3\\\\DIQRZkXB9Qk__ы1.mp3',\n",
       " 'C:\\\\Users\\\\Edward\\\\Desktop\\\\music\\\\data_mp3\\\\DIQRZkXB9Qk__ы2.mp3',\n",
       " 'C:\\\\Users\\\\Edward\\\\Desktop\\\\music\\\\data_mp3\\\\DIQRZkXB9Qk__ы3.mp3',\n",
       " 'C:\\\\Users\\\\Edward\\\\Desktop\\\\music\\\\data_mp3\\\\DIQRZkXB9Qk__ы4.mp3',\n",
       " 'C:\\\\Users\\\\Edward\\\\Desktop\\\\music\\\\data_mp3\\\\DIQRZkXB9Qk__ы5.mp3',\n",
       " 'C:\\\\Users\\\\Edward\\\\Desktop\\\\music\\\\data_mp3\\\\DIQRZkXB9Qk__ы6.mp3',\n",
       " 'C:\\\\Users\\\\Edward\\\\Desktop\\\\music\\\\data_mp3\\\\Eiijm2GhKAA__ы1.mp3',\n",
       " 'C:\\\\Users\\\\Edward\\\\Desktop\\\\music\\\\data_mp3\\\\Eiijm2GhKAA__ы10.mp3',\n",
       " 'C:\\\\Users\\\\Edward\\\\Desktop\\\\music\\\\data_mp3\\\\Eiijm2GhKAA__ы11.mp3',\n",
       " 'C:\\\\Users\\\\Edward\\\\Desktop\\\\music\\\\data_mp3\\\\Eiijm2GhKAA__ы12.mp3',\n",
       " 'C:\\\\Users\\\\Edward\\\\Desktop\\\\music\\\\data_mp3\\\\Eiijm2GhKAA__ы13.mp3',\n",
       " 'C:\\\\Users\\\\Edward\\\\Desktop\\\\music\\\\data_mp3\\\\Eiijm2GhKAA__ы14.mp3',\n",
       " 'C:\\\\Users\\\\Edward\\\\Desktop\\\\music\\\\data_mp3\\\\Eiijm2GhKAA__ы2.mp3',\n",
       " 'C:\\\\Users\\\\Edward\\\\Desktop\\\\music\\\\data_mp3\\\\Eiijm2GhKAA__ы3.mp3',\n",
       " 'C:\\\\Users\\\\Edward\\\\Desktop\\\\music\\\\data_mp3\\\\Eiijm2GhKAA__ы4.mp3',\n",
       " 'C:\\\\Users\\\\Edward\\\\Desktop\\\\music\\\\data_mp3\\\\Eiijm2GhKAA__ы5.mp3',\n",
       " 'C:\\\\Users\\\\Edward\\\\Desktop\\\\music\\\\data_mp3\\\\Eiijm2GhKAA__ы6.mp3',\n",
       " 'C:\\\\Users\\\\Edward\\\\Desktop\\\\music\\\\data_mp3\\\\Eiijm2GhKAA__ы7.mp3',\n",
       " 'C:\\\\Users\\\\Edward\\\\Desktop\\\\music\\\\data_mp3\\\\Eiijm2GhKAA__ы8.mp3',\n",
       " 'C:\\\\Users\\\\Edward\\\\Desktop\\\\music\\\\data_mp3\\\\Eiijm2GhKAA__ы9.mp3',\n",
       " 'C:\\\\Users\\\\Edward\\\\Desktop\\\\music\\\\data_mp3\\\\FdJ_SGof2GI.mp3',\n",
       " 'C:\\\\Users\\\\Edward\\\\Desktop\\\\music\\\\data_mp3\\\\fe8yiBw1ydc.mp3',\n",
       " 'C:\\\\Users\\\\Edward\\\\Desktop\\\\music\\\\data_mp3\\\\FIgQGRY0EmU__ы1.mp3',\n",
       " 'C:\\\\Users\\\\Edward\\\\Desktop\\\\music\\\\data_mp3\\\\FIgQGRY0EmU__ы2.mp3',\n",
       " 'C:\\\\Users\\\\Edward\\\\Desktop\\\\music\\\\data_mp3\\\\FIgQGRY0EmU__ы3.mp3',\n",
       " 'C:\\\\Users\\\\Edward\\\\Desktop\\\\music\\\\data_mp3\\\\FIgQGRY0EmU__ы4.mp3',\n",
       " 'C:\\\\Users\\\\Edward\\\\Desktop\\\\music\\\\data_mp3\\\\FIgQGRY0EmU__ы5.mp3',\n",
       " 'C:\\\\Users\\\\Edward\\\\Desktop\\\\music\\\\data_mp3\\\\FIgQGRY0EmU__ы6.mp3',\n",
       " 'C:\\\\Users\\\\Edward\\\\Desktop\\\\music\\\\data_mp3\\\\fJtBo36ke3g__ы1.mp3',\n",
       " 'C:\\\\Users\\\\Edward\\\\Desktop\\\\music\\\\data_mp3\\\\fJtBo36ke3g__ы2.mp3',\n",
       " 'C:\\\\Users\\\\Edward\\\\Desktop\\\\music\\\\data_mp3\\\\fJtBo36ke3g__ы3.mp3',\n",
       " 'C:\\\\Users\\\\Edward\\\\Desktop\\\\music\\\\data_mp3\\\\fJtBo36ke3g__ы4.mp3',\n",
       " 'C:\\\\Users\\\\Edward\\\\Desktop\\\\music\\\\data_mp3\\\\fJtBo36ke3g__ы5.mp3',\n",
       " 'C:\\\\Users\\\\Edward\\\\Desktop\\\\music\\\\data_mp3\\\\fJtBo36ke3g__ы6.mp3',\n",
       " 'C:\\\\Users\\\\Edward\\\\Desktop\\\\music\\\\data_mp3\\\\Fo-dHb8GTI8.mp3',\n",
       " 'C:\\\\Users\\\\Edward\\\\Desktop\\\\music\\\\data_mp3\\\\FRSTaBZfxK4.mp3',\n",
       " 'C:\\\\Users\\\\Edward\\\\Desktop\\\\music\\\\data_mp3\\\\FXk7qopHCMY.mp3',\n",
       " 'C:\\\\Users\\\\Edward\\\\Desktop\\\\music\\\\data_mp3\\\\G3lkluCt5-Y.mp3',\n",
       " 'C:\\\\Users\\\\Edward\\\\Desktop\\\\music\\\\data_mp3\\\\gBZi2w11XxU__ы1.mp3',\n",
       " 'C:\\\\Users\\\\Edward\\\\Desktop\\\\music\\\\data_mp3\\\\gBZi2w11XxU__ы10.mp3',\n",
       " 'C:\\\\Users\\\\Edward\\\\Desktop\\\\music\\\\data_mp3\\\\gBZi2w11XxU__ы11.mp3',\n",
       " 'C:\\\\Users\\\\Edward\\\\Desktop\\\\music\\\\data_mp3\\\\gBZi2w11XxU__ы12.mp3',\n",
       " 'C:\\\\Users\\\\Edward\\\\Desktop\\\\music\\\\data_mp3\\\\gBZi2w11XxU__ы2.mp3',\n",
       " 'C:\\\\Users\\\\Edward\\\\Desktop\\\\music\\\\data_mp3\\\\gBZi2w11XxU__ы3.mp3',\n",
       " 'C:\\\\Users\\\\Edward\\\\Desktop\\\\music\\\\data_mp3\\\\gBZi2w11XxU__ы4.mp3',\n",
       " 'C:\\\\Users\\\\Edward\\\\Desktop\\\\music\\\\data_mp3\\\\gBZi2w11XxU__ы5.mp3',\n",
       " 'C:\\\\Users\\\\Edward\\\\Desktop\\\\music\\\\data_mp3\\\\gBZi2w11XxU__ы6.mp3',\n",
       " 'C:\\\\Users\\\\Edward\\\\Desktop\\\\music\\\\data_mp3\\\\gBZi2w11XxU__ы7.mp3',\n",
       " 'C:\\\\Users\\\\Edward\\\\Desktop\\\\music\\\\data_mp3\\\\gBZi2w11XxU__ы8.mp3',\n",
       " 'C:\\\\Users\\\\Edward\\\\Desktop\\\\music\\\\data_mp3\\\\gBZi2w11XxU__ы9.mp3',\n",
       " 'C:\\\\Users\\\\Edward\\\\Desktop\\\\music\\\\data_mp3\\\\GzeBHIto4Ps__ы1.mp3',\n",
       " 'C:\\\\Users\\\\Edward\\\\Desktop\\\\music\\\\data_mp3\\\\GzeBHIto4Ps__ы2.mp3',\n",
       " 'C:\\\\Users\\\\Edward\\\\Desktop\\\\music\\\\data_mp3\\\\h8rGckNsF-M__ы1.mp3',\n",
       " 'C:\\\\Users\\\\Edward\\\\Desktop\\\\music\\\\data_mp3\\\\HfWlHvzu20Y.mp3',\n",
       " 'C:\\\\Users\\\\Edward\\\\Desktop\\\\music\\\\data_mp3\\\\HlP8B0KrJxk__ы1.mp3',\n",
       " 'C:\\\\Users\\\\Edward\\\\Desktop\\\\music\\\\data_mp3\\\\HlP8B0KrJxk__ы2.mp3',\n",
       " 'C:\\\\Users\\\\Edward\\\\Desktop\\\\music\\\\data_mp3\\\\HlP8B0KrJxk__ы3.mp3',\n",
       " 'C:\\\\Users\\\\Edward\\\\Desktop\\\\music\\\\data_mp3\\\\HlP8B0KrJxk__ы4.mp3',\n",
       " 'C:\\\\Users\\\\Edward\\\\Desktop\\\\music\\\\data_mp3\\\\HlP8B0KrJxk__ы5.mp3',\n",
       " 'C:\\\\Users\\\\Edward\\\\Desktop\\\\music\\\\data_mp3\\\\HlP8B0KrJxk__ы6.mp3',\n",
       " 'C:\\\\Users\\\\Edward\\\\Desktop\\\\music\\\\data_mp3\\\\huY252lNzx4__ы1.mp3',\n",
       " 'C:\\\\Users\\\\Edward\\\\Desktop\\\\music\\\\data_mp3\\\\huY252lNzx4__ы10.mp3',\n",
       " 'C:\\\\Users\\\\Edward\\\\Desktop\\\\music\\\\data_mp3\\\\huY252lNzx4__ы2.mp3',\n",
       " 'C:\\\\Users\\\\Edward\\\\Desktop\\\\music\\\\data_mp3\\\\huY252lNzx4__ы3.mp3',\n",
       " 'C:\\\\Users\\\\Edward\\\\Desktop\\\\music\\\\data_mp3\\\\huY252lNzx4__ы4.mp3',\n",
       " 'C:\\\\Users\\\\Edward\\\\Desktop\\\\music\\\\data_mp3\\\\huY252lNzx4__ы5.mp3',\n",
       " 'C:\\\\Users\\\\Edward\\\\Desktop\\\\music\\\\data_mp3\\\\huY252lNzx4__ы6.mp3',\n",
       " 'C:\\\\Users\\\\Edward\\\\Desktop\\\\music\\\\data_mp3\\\\huY252lNzx4__ы7.mp3',\n",
       " 'C:\\\\Users\\\\Edward\\\\Desktop\\\\music\\\\data_mp3\\\\huY252lNzx4__ы8.mp3',\n",
       " 'C:\\\\Users\\\\Edward\\\\Desktop\\\\music\\\\data_mp3\\\\huY252lNzx4__ы9.mp3',\n",
       " 'C:\\\\Users\\\\Edward\\\\Desktop\\\\music\\\\data_mp3\\\\hXkB92fjCgo__ы1.mp3',\n",
       " 'C:\\\\Users\\\\Edward\\\\Desktop\\\\music\\\\data_mp3\\\\hXkB92fjCgo__ы2.mp3',\n",
       " 'C:\\\\Users\\\\Edward\\\\Desktop\\\\music\\\\data_mp3\\\\hXkB92fjCgo__ы3.mp3',\n",
       " 'C:\\\\Users\\\\Edward\\\\Desktop\\\\music\\\\data_mp3\\\\hXkB92fjCgo__ы4.mp3',\n",
       " 'C:\\\\Users\\\\Edward\\\\Desktop\\\\music\\\\data_mp3\\\\hXkB92fjCgo__ы5.mp3',\n",
       " 'C:\\\\Users\\\\Edward\\\\Desktop\\\\music\\\\data_mp3\\\\hYA2d88vYOs.mp3',\n",
       " 'C:\\\\Users\\\\Edward\\\\Desktop\\\\music\\\\data_mp3\\\\HYVXIFfi5N0__ы1.mp3',\n",
       " 'C:\\\\Users\\\\Edward\\\\Desktop\\\\music\\\\data_mp3\\\\HYVXIFfi5N0__ы2.mp3',\n",
       " 'C:\\\\Users\\\\Edward\\\\Desktop\\\\music\\\\data_mp3\\\\HYVXIFfi5N0__ы3.mp3',\n",
       " 'C:\\\\Users\\\\Edward\\\\Desktop\\\\music\\\\data_mp3\\\\HYVXIFfi5N0__ы4.mp3',\n",
       " 'C:\\\\Users\\\\Edward\\\\Desktop\\\\music\\\\data_mp3\\\\HYVXIFfi5N0__ы5.mp3',\n",
       " 'C:\\\\Users\\\\Edward\\\\Desktop\\\\music\\\\data_mp3\\\\HYVXIFfi5N0__ы6.mp3',\n",
       " 'C:\\\\Users\\\\Edward\\\\Desktop\\\\music\\\\data_mp3\\\\i4EYGBeR97k__ы1.mp3',\n",
       " 'C:\\\\Users\\\\Edward\\\\Desktop\\\\music\\\\data_mp3\\\\i4EYGBeR97k__ы2.mp3',\n",
       " 'C:\\\\Users\\\\Edward\\\\Desktop\\\\music\\\\data_mp3\\\\i4EYGBeR97k__ы3.mp3',\n",
       " 'C:\\\\Users\\\\Edward\\\\Desktop\\\\music\\\\data_mp3\\\\i4EYGBeR97k__ы4.mp3',\n",
       " 'C:\\\\Users\\\\Edward\\\\Desktop\\\\music\\\\data_mp3\\\\i4EYGBeR97k__ы5.mp3',\n",
       " 'C:\\\\Users\\\\Edward\\\\Desktop\\\\music\\\\data_mp3\\\\i4EYGBeR97k__ы6.mp3',\n",
       " 'C:\\\\Users\\\\Edward\\\\Desktop\\\\music\\\\data_mp3\\\\iaDvKKGKAlQ__ы1.mp3',\n",
       " 'C:\\\\Users\\\\Edward\\\\Desktop\\\\music\\\\data_mp3\\\\iaDvKKGKAlQ__ы2.mp3',\n",
       " 'C:\\\\Users\\\\Edward\\\\Desktop\\\\music\\\\data_mp3\\\\iaDvKKGKAlQ__ы3.mp3',\n",
       " 'C:\\\\Users\\\\Edward\\\\Desktop\\\\music\\\\data_mp3\\\\iaDvKKGKAlQ__ы4.mp3',\n",
       " 'C:\\\\Users\\\\Edward\\\\Desktop\\\\music\\\\data_mp3\\\\iaDvKKGKAlQ__ы5.mp3',\n",
       " 'C:\\\\Users\\\\Edward\\\\Desktop\\\\music\\\\data_mp3\\\\iaDvKKGKAlQ__ы6.mp3',\n",
       " 'C:\\\\Users\\\\Edward\\\\Desktop\\\\music\\\\data_mp3\\\\iC-vWZzTPms.mp3',\n",
       " 'C:\\\\Users\\\\Edward\\\\Desktop\\\\music\\\\data_mp3\\\\IkncOaW6nJE.mp3',\n",
       " 'C:\\\\Users\\\\Edward\\\\Desktop\\\\music\\\\data_mp3\\\\iN80A6cSBxY.mp3',\n",
       " 'C:\\\\Users\\\\Edward\\\\Desktop\\\\music\\\\data_mp3\\\\i_IYl_D5yh4.mp3',\n",
       " 'C:\\\\Users\\\\Edward\\\\Desktop\\\\music\\\\data_mp3\\\\Jmz8xIK9Gts__ы1.mp3',\n",
       " 'C:\\\\Users\\\\Edward\\\\Desktop\\\\music\\\\data_mp3\\\\Jmz8xIK9Gts__ы2.mp3',\n",
       " 'C:\\\\Users\\\\Edward\\\\Desktop\\\\music\\\\data_mp3\\\\Jmz8xIK9Gts__ы3.mp3',\n",
       " 'C:\\\\Users\\\\Edward\\\\Desktop\\\\music\\\\data_mp3\\\\Jmz8xIK9Gts__ы4.mp3',\n",
       " 'C:\\\\Users\\\\Edward\\\\Desktop\\\\music\\\\data_mp3\\\\Jmz8xIK9Gts__ы5.mp3',\n",
       " 'C:\\\\Users\\\\Edward\\\\Desktop\\\\music\\\\data_mp3\\\\Jmz8xIK9Gts__ы6.mp3',\n",
       " 'C:\\\\Users\\\\Edward\\\\Desktop\\\\music\\\\data_mp3\\\\JwEKYSLuwUo__ы1.mp3',\n",
       " 'C:\\\\Users\\\\Edward\\\\Desktop\\\\music\\\\data_mp3\\\\JwEKYSLuwUo__ы2.mp3',\n",
       " 'C:\\\\Users\\\\Edward\\\\Desktop\\\\music\\\\data_mp3\\\\JwEKYSLuwUo__ы3.mp3',\n",
       " 'C:\\\\Users\\\\Edward\\\\Desktop\\\\music\\\\data_mp3\\\\JwEKYSLuwUo__ы4.mp3',\n",
       " 'C:\\\\Users\\\\Edward\\\\Desktop\\\\music\\\\data_mp3\\\\JwEKYSLuwUo__ы5.mp3',\n",
       " 'C:\\\\Users\\\\Edward\\\\Desktop\\\\music\\\\data_mp3\\\\JwEKYSLuwUo__ы6.mp3',\n",
       " 'C:\\\\Users\\\\Edward\\\\Desktop\\\\music\\\\data_mp3\\\\k5xDyG72wHE__ы1.mp3',\n",
       " 'C:\\\\Users\\\\Edward\\\\Desktop\\\\music\\\\data_mp3\\\\k5xDyG72wHE__ы10.mp3',\n",
       " 'C:\\\\Users\\\\Edward\\\\Desktop\\\\music\\\\data_mp3\\\\k5xDyG72wHE__ы11.mp3',\n",
       " 'C:\\\\Users\\\\Edward\\\\Desktop\\\\music\\\\data_mp3\\\\k5xDyG72wHE__ы12.mp3',\n",
       " 'C:\\\\Users\\\\Edward\\\\Desktop\\\\music\\\\data_mp3\\\\k5xDyG72wHE__ы13.mp3',\n",
       " 'C:\\\\Users\\\\Edward\\\\Desktop\\\\music\\\\data_mp3\\\\k5xDyG72wHE__ы14.mp3',\n",
       " 'C:\\\\Users\\\\Edward\\\\Desktop\\\\music\\\\data_mp3\\\\k5xDyG72wHE__ы15.mp3',\n",
       " 'C:\\\\Users\\\\Edward\\\\Desktop\\\\music\\\\data_mp3\\\\k5xDyG72wHE__ы16.mp3',\n",
       " 'C:\\\\Users\\\\Edward\\\\Desktop\\\\music\\\\data_mp3\\\\k5xDyG72wHE__ы17.mp3',\n",
       " 'C:\\\\Users\\\\Edward\\\\Desktop\\\\music\\\\data_mp3\\\\k5xDyG72wHE__ы18.mp3',\n",
       " 'C:\\\\Users\\\\Edward\\\\Desktop\\\\music\\\\data_mp3\\\\k5xDyG72wHE__ы2.mp3',\n",
       " 'C:\\\\Users\\\\Edward\\\\Desktop\\\\music\\\\data_mp3\\\\k5xDyG72wHE__ы3.mp3',\n",
       " 'C:\\\\Users\\\\Edward\\\\Desktop\\\\music\\\\data_mp3\\\\k5xDyG72wHE__ы4.mp3',\n",
       " 'C:\\\\Users\\\\Edward\\\\Desktop\\\\music\\\\data_mp3\\\\k5xDyG72wHE__ы5.mp3',\n",
       " 'C:\\\\Users\\\\Edward\\\\Desktop\\\\music\\\\data_mp3\\\\k5xDyG72wHE__ы6.mp3',\n",
       " 'C:\\\\Users\\\\Edward\\\\Desktop\\\\music\\\\data_mp3\\\\k5xDyG72wHE__ы7.mp3',\n",
       " 'C:\\\\Users\\\\Edward\\\\Desktop\\\\music\\\\data_mp3\\\\k5xDyG72wHE__ы8.mp3',\n",
       " 'C:\\\\Users\\\\Edward\\\\Desktop\\\\music\\\\data_mp3\\\\k5xDyG72wHE__ы9.mp3',\n",
       " 'C:\\\\Users\\\\Edward\\\\Desktop\\\\music\\\\data_mp3\\\\kvAd76GacPg.mp3',\n",
       " 'C:\\\\Users\\\\Edward\\\\Desktop\\\\music\\\\data_mp3\\\\kWam-Hh2lxE__ы1.mp3',\n",
       " 'C:\\\\Users\\\\Edward\\\\Desktop\\\\music\\\\data_mp3\\\\kWam-Hh2lxE__ы2.mp3',\n",
       " 'C:\\\\Users\\\\Edward\\\\Desktop\\\\music\\\\data_mp3\\\\kWam-Hh2lxE__ы3.mp3',\n",
       " 'C:\\\\Users\\\\Edward\\\\Desktop\\\\music\\\\data_mp3\\\\kWam-Hh2lxE__ы4.mp3',\n",
       " 'C:\\\\Users\\\\Edward\\\\Desktop\\\\music\\\\data_mp3\\\\kWam-Hh2lxE__ы5.mp3',\n",
       " 'C:\\\\Users\\\\Edward\\\\Desktop\\\\music\\\\data_mp3\\\\kWam-Hh2lxE__ы6.mp3',\n",
       " 'C:\\\\Users\\\\Edward\\\\Desktop\\\\music\\\\data_mp3\\\\kyquqw6GeXk.mp3',\n",
       " 'C:\\\\Users\\\\Edward\\\\Desktop\\\\music\\\\data_mp3\\\\lhGE5brBvNQ__ы1.mp3',\n",
       " 'C:\\\\Users\\\\Edward\\\\Desktop\\\\music\\\\data_mp3\\\\lhGE5brBvNQ__ы2.mp3',\n",
       " 'C:\\\\Users\\\\Edward\\\\Desktop\\\\music\\\\data_mp3\\\\lhGE5brBvNQ__ы3.mp3',\n",
       " 'C:\\\\Users\\\\Edward\\\\Desktop\\\\music\\\\data_mp3\\\\lhGE5brBvNQ__ы4.mp3',\n",
       " 'C:\\\\Users\\\\Edward\\\\Desktop\\\\music\\\\data_mp3\\\\lhGE5brBvNQ__ы5.mp3',\n",
       " 'C:\\\\Users\\\\Edward\\\\Desktop\\\\music\\\\data_mp3\\\\lhGE5brBvNQ__ы6.mp3',\n",
       " 'C:\\\\Users\\\\Edward\\\\Desktop\\\\music\\\\data_mp3\\\\LkoTnDuyrY4.mp3',\n",
       " 'C:\\\\Users\\\\Edward\\\\Desktop\\\\music\\\\data_mp3\\\\LPt1N_ba934.mp3',\n",
       " 'C:\\\\Users\\\\Edward\\\\Desktop\\\\music\\\\data_mp3\\\\LTkidXJXYTo.mp3',\n",
       " 'C:\\\\Users\\\\Edward\\\\Desktop\\\\music\\\\data_mp3\\\\LzEikWuxUFU.mp3',\n",
       " 'C:\\\\Users\\\\Edward\\\\Desktop\\\\music\\\\data_mp3\\\\m1wViPkNq3A.mp3',\n",
       " 'C:\\\\Users\\\\Edward\\\\Desktop\\\\music\\\\data_mp3\\\\MckVEuUh_yI.mp3',\n",
       " 'C:\\\\Users\\\\Edward\\\\Desktop\\\\music\\\\data_mp3\\\\mgDDgXgoG30__ы1.mp3',\n",
       " 'C:\\\\Users\\\\Edward\\\\Desktop\\\\music\\\\data_mp3\\\\mgDDgXgoG30__ы2.mp3',\n",
       " 'C:\\\\Users\\\\Edward\\\\Desktop\\\\music\\\\data_mp3\\\\mgDDgXgoG30__ы3.mp3',\n",
       " 'C:\\\\Users\\\\Edward\\\\Desktop\\\\music\\\\data_mp3\\\\mgDDgXgoG30__ы4.mp3',\n",
       " 'C:\\\\Users\\\\Edward\\\\Desktop\\\\music\\\\data_mp3\\\\NhrV6H78CCc__ы1.mp3',\n",
       " 'C:\\\\Users\\\\Edward\\\\Desktop\\\\music\\\\data_mp3\\\\NhrV6H78CCc__ы10.mp3',\n",
       " 'C:\\\\Users\\\\Edward\\\\Desktop\\\\music\\\\data_mp3\\\\NhrV6H78CCc__ы11.mp3',\n",
       " 'C:\\\\Users\\\\Edward\\\\Desktop\\\\music\\\\data_mp3\\\\NhrV6H78CCc__ы12.mp3',\n",
       " 'C:\\\\Users\\\\Edward\\\\Desktop\\\\music\\\\data_mp3\\\\NhrV6H78CCc__ы2.mp3',\n",
       " 'C:\\\\Users\\\\Edward\\\\Desktop\\\\music\\\\data_mp3\\\\NhrV6H78CCc__ы3.mp3',\n",
       " 'C:\\\\Users\\\\Edward\\\\Desktop\\\\music\\\\data_mp3\\\\NhrV6H78CCc__ы4.mp3',\n",
       " 'C:\\\\Users\\\\Edward\\\\Desktop\\\\music\\\\data_mp3\\\\NhrV6H78CCc__ы5.mp3',\n",
       " 'C:\\\\Users\\\\Edward\\\\Desktop\\\\music\\\\data_mp3\\\\NhrV6H78CCc__ы6.mp3',\n",
       " 'C:\\\\Users\\\\Edward\\\\Desktop\\\\music\\\\data_mp3\\\\NhrV6H78CCc__ы7.mp3',\n",
       " 'C:\\\\Users\\\\Edward\\\\Desktop\\\\music\\\\data_mp3\\\\NhrV6H78CCc__ы8.mp3',\n",
       " 'C:\\\\Users\\\\Edward\\\\Desktop\\\\music\\\\data_mp3\\\\NhrV6H78CCc__ы9.mp3',\n",
       " 'C:\\\\Users\\\\Edward\\\\Desktop\\\\music\\\\data_mp3\\\\nvMlrVdTsao.mp3',\n",
       " 'C:\\\\Users\\\\Edward\\\\Desktop\\\\music\\\\data_mp3\\\\NwfODOAY0iY.mp3',\n",
       " 'C:\\\\Users\\\\Edward\\\\Desktop\\\\music\\\\data_mp3\\\\NzgB1MkxBAk.mp3',\n",
       " 'C:\\\\Users\\\\Edward\\\\Desktop\\\\music\\\\data_mp3\\\\OBFA6cr2-6A.mp3',\n",
       " 'C:\\\\Users\\\\Edward\\\\Desktop\\\\music\\\\data_mp3\\\\OcSsojXfGIs.mp3',\n",
       " 'C:\\\\Users\\\\Edward\\\\Desktop\\\\music\\\\data_mp3\\\\OCWanch3NBk.mp3',\n",
       " 'C:\\\\Users\\\\Edward\\\\Desktop\\\\music\\\\data_mp3\\\\oDm0rpvL4A8.mp3',\n",
       " 'C:\\\\Users\\\\Edward\\\\Desktop\\\\music\\\\data_mp3\\\\OepFO4Nisms.mp3',\n",
       " 'C:\\\\Users\\\\Edward\\\\Desktop\\\\music\\\\data_mp3\\\\oNjq8SUArRU__ы1.mp3',\n",
       " 'C:\\\\Users\\\\Edward\\\\Desktop\\\\music\\\\data_mp3\\\\oNjq8SUArRU__ы2.mp3',\n",
       " 'C:\\\\Users\\\\Edward\\\\Desktop\\\\music\\\\data_mp3\\\\oNjq8SUArRU__ы3.mp3',\n",
       " 'C:\\\\Users\\\\Edward\\\\Desktop\\\\music\\\\data_mp3\\\\oNjq8SUArRU__ы4.mp3',\n",
       " 'C:\\\\Users\\\\Edward\\\\Desktop\\\\music\\\\data_mp3\\\\p9aUfwgkoc4.mp3',\n",
       " 'C:\\\\Users\\\\Edward\\\\Desktop\\\\music\\\\data_mp3\\\\PAmhPY5szZ8__ы1.mp3',\n",
       " 'C:\\\\Users\\\\Edward\\\\Desktop\\\\music\\\\data_mp3\\\\PAmhPY5szZ8__ы2.mp3',\n",
       " 'C:\\\\Users\\\\Edward\\\\Desktop\\\\music\\\\data_mp3\\\\PAmhPY5szZ8__ы3.mp3',\n",
       " 'C:\\\\Users\\\\Edward\\\\Desktop\\\\music\\\\data_mp3\\\\PAmhPY5szZ8__ы4.mp3',\n",
       " 'C:\\\\Users\\\\Edward\\\\Desktop\\\\music\\\\data_mp3\\\\PAmhPY5szZ8__ы5.mp3',\n",
       " 'C:\\\\Users\\\\Edward\\\\Desktop\\\\music\\\\data_mp3\\\\PAmhPY5szZ8__ы6.mp3',\n",
       " 'C:\\\\Users\\\\Edward\\\\Desktop\\\\music\\\\data_mp3\\\\PGNiXGX2nLU.mp3',\n",
       " 'C:\\\\Users\\\\Edward\\\\Desktop\\\\music\\\\data_mp3\\\\PLe3pznz9oM.mp3',\n",
       " 'C:\\\\Users\\\\Edward\\\\Desktop\\\\music\\\\data_mp3\\\\pOpG9xyjsDY.mp3',\n",
       " 'C:\\\\Users\\\\Edward\\\\Desktop\\\\music\\\\data_mp3\\\\pT-RkWoRcJg__ы1.mp3',\n",
       " 'C:\\\\Users\\\\Edward\\\\Desktop\\\\music\\\\data_mp3\\\\pT-RkWoRcJg__ы2.mp3',\n",
       " 'C:\\\\Users\\\\Edward\\\\Desktop\\\\music\\\\data_mp3\\\\pT-RkWoRcJg__ы3.mp3',\n",
       " 'C:\\\\Users\\\\Edward\\\\Desktop\\\\music\\\\data_mp3\\\\pT-RkWoRcJg__ы4.mp3',\n",
       " 'C:\\\\Users\\\\Edward\\\\Desktop\\\\music\\\\data_mp3\\\\QlXrndlCFIk__ы1.mp3',\n",
       " 'C:\\\\Users\\\\Edward\\\\Desktop\\\\music\\\\data_mp3\\\\QlXrndlCFIk__ы2.mp3',\n",
       " 'C:\\\\Users\\\\Edward\\\\Desktop\\\\music\\\\data_mp3\\\\QlXrndlCFIk__ы3.mp3',\n",
       " 'C:\\\\Users\\\\Edward\\\\Desktop\\\\music\\\\data_mp3\\\\QlXrndlCFIk__ы4.mp3',\n",
       " 'C:\\\\Users\\\\Edward\\\\Desktop\\\\music\\\\data_mp3\\\\QlXrndlCFIk__ы5.mp3',\n",
       " 'C:\\\\Users\\\\Edward\\\\Desktop\\\\music\\\\data_mp3\\\\QlXrndlCFIk__ы6.mp3',\n",
       " 'C:\\\\Users\\\\Edward\\\\Desktop\\\\music\\\\data_mp3\\\\QwTiL9-9ezs.mp3',\n",
       " 'C:\\\\Users\\\\Edward\\\\Desktop\\\\music\\\\data_mp3\\\\RwJscjiB0Sc__ы1.mp3',\n",
       " 'C:\\\\Users\\\\Edward\\\\Desktop\\\\music\\\\data_mp3\\\\RwJscjiB0Sc__ы2.mp3',\n",
       " 'C:\\\\Users\\\\Edward\\\\Desktop\\\\music\\\\data_mp3\\\\Rzs3beBNT9g.mp3',\n",
       " 'C:\\\\Users\\\\Edward\\\\Desktop\\\\music\\\\data_mp3\\\\SG2TUTIFwSE.mp3',\n",
       " 'C:\\\\Users\\\\Edward\\\\Desktop\\\\music\\\\data_mp3\\\\sKqfeWQOOZk.mp3',\n",
       " 'C:\\\\Users\\\\Edward\\\\Desktop\\\\music\\\\data_mp3\\\\SS-9nTMidqY.mp3',\n",
       " 'C:\\\\Users\\\\Edward\\\\Desktop\\\\music\\\\data_mp3\\\\st-ZjwCy4uo__ы1.mp3',\n",
       " 'C:\\\\Users\\\\Edward\\\\Desktop\\\\music\\\\data_mp3\\\\st-ZjwCy4uo__ы2.mp3',\n",
       " 'C:\\\\Users\\\\Edward\\\\Desktop\\\\music\\\\data_mp3\\\\st-ZjwCy4uo__ы3.mp3',\n",
       " 'C:\\\\Users\\\\Edward\\\\Desktop\\\\music\\\\data_mp3\\\\st-ZjwCy4uo__ы4.mp3',\n",
       " 'C:\\\\Users\\\\Edward\\\\Desktop\\\\music\\\\data_mp3\\\\st-ZjwCy4uo__ы5.mp3',\n",
       " 'C:\\\\Users\\\\Edward\\\\Desktop\\\\music\\\\data_mp3\\\\st-ZjwCy4uo__ы6.mp3',\n",
       " 'C:\\\\Users\\\\Edward\\\\Desktop\\\\music\\\\data_mp3\\\\st-ZjwCy4uo__ы7.mp3',\n",
       " 'C:\\\\Users\\\\Edward\\\\Desktop\\\\music\\\\data_mp3\\\\thz_JqagxRU.mp3',\n",
       " 'C:\\\\Users\\\\Edward\\\\Desktop\\\\music\\\\data_mp3\\\\TqKFb72EyTM.mp3',\n",
       " 'C:\\\\Users\\\\Edward\\\\Desktop\\\\music\\\\data_mp3\\\\u1_KbKR_sng.mp3',\n",
       " 'C:\\\\Users\\\\Edward\\\\Desktop\\\\music\\\\data_mp3\\\\u4edBTV5_Uk.mp3',\n",
       " 'C:\\\\Users\\\\Edward\\\\Desktop\\\\music\\\\data_mp3\\\\UnRRb4BCsqE__ы1.mp3',\n",
       " 'C:\\\\Users\\\\Edward\\\\Desktop\\\\music\\\\data_mp3\\\\UnRRb4BCsqE__ы10.mp3',\n",
       " 'C:\\\\Users\\\\Edward\\\\Desktop\\\\music\\\\data_mp3\\\\UnRRb4BCsqE__ы11.mp3',\n",
       " 'C:\\\\Users\\\\Edward\\\\Desktop\\\\music\\\\data_mp3\\\\UnRRb4BCsqE__ы12.mp3',\n",
       " 'C:\\\\Users\\\\Edward\\\\Desktop\\\\music\\\\data_mp3\\\\UnRRb4BCsqE__ы13.mp3',\n",
       " 'C:\\\\Users\\\\Edward\\\\Desktop\\\\music\\\\data_mp3\\\\UnRRb4BCsqE__ы14.mp3',\n",
       " 'C:\\\\Users\\\\Edward\\\\Desktop\\\\music\\\\data_mp3\\\\UnRRb4BCsqE__ы15.mp3',\n",
       " 'C:\\\\Users\\\\Edward\\\\Desktop\\\\music\\\\data_mp3\\\\UnRRb4BCsqE__ы16.mp3',\n",
       " 'C:\\\\Users\\\\Edward\\\\Desktop\\\\music\\\\data_mp3\\\\UnRRb4BCsqE__ы2.mp3',\n",
       " 'C:\\\\Users\\\\Edward\\\\Desktop\\\\music\\\\data_mp3\\\\UnRRb4BCsqE__ы3.mp3',\n",
       " 'C:\\\\Users\\\\Edward\\\\Desktop\\\\music\\\\data_mp3\\\\UnRRb4BCsqE__ы4.mp3',\n",
       " 'C:\\\\Users\\\\Edward\\\\Desktop\\\\music\\\\data_mp3\\\\UnRRb4BCsqE__ы5.mp3',\n",
       " 'C:\\\\Users\\\\Edward\\\\Desktop\\\\music\\\\data_mp3\\\\UnRRb4BCsqE__ы6.mp3',\n",
       " 'C:\\\\Users\\\\Edward\\\\Desktop\\\\music\\\\data_mp3\\\\UnRRb4BCsqE__ы7.mp3',\n",
       " 'C:\\\\Users\\\\Edward\\\\Desktop\\\\music\\\\data_mp3\\\\UnRRb4BCsqE__ы8.mp3',\n",
       " 'C:\\\\Users\\\\Edward\\\\Desktop\\\\music\\\\data_mp3\\\\UnRRb4BCsqE__ы9.mp3',\n",
       " 'C:\\\\Users\\\\Edward\\\\Desktop\\\\music\\\\data_mp3\\\\v0nmHymgM7Y.mp3',\n",
       " 'C:\\\\Users\\\\Edward\\\\Desktop\\\\music\\\\data_mp3\\\\VabgrlvtzLg.mp3',\n",
       " 'C:\\\\Users\\\\Edward\\\\Desktop\\\\music\\\\data_mp3\\\\VNhsh1YW8Co.mp3',\n",
       " 'C:\\\\Users\\\\Edward\\\\Desktop\\\\music\\\\data_mp3\\\\vRq0eD6c4JY.mp3',\n",
       " 'C:\\\\Users\\\\Edward\\\\Desktop\\\\music\\\\data_mp3\\\\wT-3tH3yrzI.mp3',\n",
       " 'C:\\\\Users\\\\Edward\\\\Desktop\\\\music\\\\data_mp3\\\\WTS7HBGpy5c.mp3',\n",
       " 'C:\\\\Users\\\\Edward\\\\Desktop\\\\music\\\\data_mp3\\\\xdOykEJSXIg.mp3',\n",
       " 'C:\\\\Users\\\\Edward\\\\Desktop\\\\music\\\\data_mp3\\\\XGhdSeKr4TM.mp3',\n",
       " 'C:\\\\Users\\\\Edward\\\\Desktop\\\\music\\\\data_mp3\\\\xglkW65SEeM.mp3',\n",
       " 'C:\\\\Users\\\\Edward\\\\Desktop\\\\music\\\\data_mp3\\\\XGUy0__LJKw.mp3',\n",
       " 'C:\\\\Users\\\\Edward\\\\Desktop\\\\music\\\\data_mp3\\\\xhsIu3iBBQw__ы1.mp3',\n",
       " 'C:\\\\Users\\\\Edward\\\\Desktop\\\\music\\\\data_mp3\\\\xhsIu3iBBQw__ы10.mp3',\n",
       " 'C:\\\\Users\\\\Edward\\\\Desktop\\\\music\\\\data_mp3\\\\xhsIu3iBBQw__ы11.mp3',\n",
       " 'C:\\\\Users\\\\Edward\\\\Desktop\\\\music\\\\data_mp3\\\\xhsIu3iBBQw__ы12.mp3',\n",
       " 'C:\\\\Users\\\\Edward\\\\Desktop\\\\music\\\\data_mp3\\\\xhsIu3iBBQw__ы13.mp3',\n",
       " 'C:\\\\Users\\\\Edward\\\\Desktop\\\\music\\\\data_mp3\\\\xhsIu3iBBQw__ы14.mp3',\n",
       " 'C:\\\\Users\\\\Edward\\\\Desktop\\\\music\\\\data_mp3\\\\xhsIu3iBBQw__ы15.mp3',\n",
       " 'C:\\\\Users\\\\Edward\\\\Desktop\\\\music\\\\data_mp3\\\\xhsIu3iBBQw__ы16.mp3',\n",
       " 'C:\\\\Users\\\\Edward\\\\Desktop\\\\music\\\\data_mp3\\\\xhsIu3iBBQw__ы17.mp3',\n",
       " 'C:\\\\Users\\\\Edward\\\\Desktop\\\\music\\\\data_mp3\\\\xhsIu3iBBQw__ы18.mp3',\n",
       " 'C:\\\\Users\\\\Edward\\\\Desktop\\\\music\\\\data_mp3\\\\xhsIu3iBBQw__ы19.mp3',\n",
       " 'C:\\\\Users\\\\Edward\\\\Desktop\\\\music\\\\data_mp3\\\\xhsIu3iBBQw__ы2.mp3',\n",
       " 'C:\\\\Users\\\\Edward\\\\Desktop\\\\music\\\\data_mp3\\\\xhsIu3iBBQw__ы20.mp3',\n",
       " 'C:\\\\Users\\\\Edward\\\\Desktop\\\\music\\\\data_mp3\\\\xhsIu3iBBQw__ы21.mp3',\n",
       " 'C:\\\\Users\\\\Edward\\\\Desktop\\\\music\\\\data_mp3\\\\xhsIu3iBBQw__ы3.mp3',\n",
       " 'C:\\\\Users\\\\Edward\\\\Desktop\\\\music\\\\data_mp3\\\\xhsIu3iBBQw__ы4.mp3',\n",
       " 'C:\\\\Users\\\\Edward\\\\Desktop\\\\music\\\\data_mp3\\\\xhsIu3iBBQw__ы5.mp3',\n",
       " 'C:\\\\Users\\\\Edward\\\\Desktop\\\\music\\\\data_mp3\\\\xhsIu3iBBQw__ы6.mp3',\n",
       " 'C:\\\\Users\\\\Edward\\\\Desktop\\\\music\\\\data_mp3\\\\xhsIu3iBBQw__ы7.mp3',\n",
       " 'C:\\\\Users\\\\Edward\\\\Desktop\\\\music\\\\data_mp3\\\\xhsIu3iBBQw__ы8.mp3',\n",
       " 'C:\\\\Users\\\\Edward\\\\Desktop\\\\music\\\\data_mp3\\\\xhsIu3iBBQw__ы9.mp3',\n",
       " 'C:\\\\Users\\\\Edward\\\\Desktop\\\\music\\\\data_mp3\\\\XJqe3EUGbQM.mp3',\n",
       " 'C:\\\\Users\\\\Edward\\\\Desktop\\\\music\\\\data_mp3\\\\xLeGykSUFdY.mp3',\n",
       " 'C:\\\\Users\\\\Edward\\\\Desktop\\\\music\\\\data_mp3\\\\Xv_SV_ki_Q0.mp3',\n",
       " 'C:\\\\Users\\\\Edward\\\\Desktop\\\\music\\\\data_mp3\\\\XWNsWZ5VtWc__ы1.mp3',\n",
       " 'C:\\\\Users\\\\Edward\\\\Desktop\\\\music\\\\data_mp3\\\\XWNsWZ5VtWc__ы10.mp3',\n",
       " 'C:\\\\Users\\\\Edward\\\\Desktop\\\\music\\\\data_mp3\\\\XWNsWZ5VtWc__ы11.mp3',\n",
       " 'C:\\\\Users\\\\Edward\\\\Desktop\\\\music\\\\data_mp3\\\\XWNsWZ5VtWc__ы12.mp3',\n",
       " 'C:\\\\Users\\\\Edward\\\\Desktop\\\\music\\\\data_mp3\\\\XWNsWZ5VtWc__ы13.mp3',\n",
       " 'C:\\\\Users\\\\Edward\\\\Desktop\\\\music\\\\data_mp3\\\\XWNsWZ5VtWc__ы14.mp3',\n",
       " 'C:\\\\Users\\\\Edward\\\\Desktop\\\\music\\\\data_mp3\\\\XWNsWZ5VtWc__ы15.mp3',\n",
       " 'C:\\\\Users\\\\Edward\\\\Desktop\\\\music\\\\data_mp3\\\\XWNsWZ5VtWc__ы16.mp3',\n",
       " 'C:\\\\Users\\\\Edward\\\\Desktop\\\\music\\\\data_mp3\\\\XWNsWZ5VtWc__ы17.mp3',\n",
       " 'C:\\\\Users\\\\Edward\\\\Desktop\\\\music\\\\data_mp3\\\\XWNsWZ5VtWc__ы18.mp3',\n",
       " 'C:\\\\Users\\\\Edward\\\\Desktop\\\\music\\\\data_mp3\\\\XWNsWZ5VtWc__ы19.mp3',\n",
       " 'C:\\\\Users\\\\Edward\\\\Desktop\\\\music\\\\data_mp3\\\\XWNsWZ5VtWc__ы2.mp3',\n",
       " 'C:\\\\Users\\\\Edward\\\\Desktop\\\\music\\\\data_mp3\\\\XWNsWZ5VtWc__ы20.mp3',\n",
       " 'C:\\\\Users\\\\Edward\\\\Desktop\\\\music\\\\data_mp3\\\\XWNsWZ5VtWc__ы21.mp3',\n",
       " 'C:\\\\Users\\\\Edward\\\\Desktop\\\\music\\\\data_mp3\\\\XWNsWZ5VtWc__ы22.mp3',\n",
       " 'C:\\\\Users\\\\Edward\\\\Desktop\\\\music\\\\data_mp3\\\\XWNsWZ5VtWc__ы23.mp3',\n",
       " 'C:\\\\Users\\\\Edward\\\\Desktop\\\\music\\\\data_mp3\\\\XWNsWZ5VtWc__ы3.mp3',\n",
       " 'C:\\\\Users\\\\Edward\\\\Desktop\\\\music\\\\data_mp3\\\\XWNsWZ5VtWc__ы4.mp3',\n",
       " 'C:\\\\Users\\\\Edward\\\\Desktop\\\\music\\\\data_mp3\\\\XWNsWZ5VtWc__ы5.mp3',\n",
       " 'C:\\\\Users\\\\Edward\\\\Desktop\\\\music\\\\data_mp3\\\\XWNsWZ5VtWc__ы6.mp3',\n",
       " 'C:\\\\Users\\\\Edward\\\\Desktop\\\\music\\\\data_mp3\\\\XWNsWZ5VtWc__ы7.mp3',\n",
       " 'C:\\\\Users\\\\Edward\\\\Desktop\\\\music\\\\data_mp3\\\\XWNsWZ5VtWc__ы8.mp3',\n",
       " 'C:\\\\Users\\\\Edward\\\\Desktop\\\\music\\\\data_mp3\\\\XWNsWZ5VtWc__ы9.mp3',\n",
       " 'C:\\\\Users\\\\Edward\\\\Desktop\\\\music\\\\data_mp3\\\\YJxSATlIgAg.mp3',\n",
       " 'C:\\\\Users\\\\Edward\\\\Desktop\\\\music\\\\data_mp3\\\\yw6ZjMyreDY.mp3',\n",
       " 'C:\\\\Users\\\\Edward\\\\Desktop\\\\music\\\\data_mp3\\\\z0jOyz222qc__ы1.mp3',\n",
       " 'C:\\\\Users\\\\Edward\\\\Desktop\\\\music\\\\data_mp3\\\\z0jOyz222qc__ы2.mp3',\n",
       " 'C:\\\\Users\\\\Edward\\\\Desktop\\\\music\\\\data_mp3\\\\z0jOyz222qc__ы3.mp3',\n",
       " 'C:\\\\Users\\\\Edward\\\\Desktop\\\\music\\\\data_mp3\\\\z0jOyz222qc__ы4.mp3',\n",
       " 'C:\\\\Users\\\\Edward\\\\Desktop\\\\music\\\\data_mp3\\\\z0jOyz222qc__ы5.mp3',\n",
       " 'C:\\\\Users\\\\Edward\\\\Desktop\\\\music\\\\data_mp3\\\\zeYu80utaf8.mp3',\n",
       " 'C:\\\\Users\\\\Edward\\\\Desktop\\\\music\\\\data_mp3\\\\ZSmJVeujJCE.mp3',\n",
       " 'C:\\\\Users\\\\Edward\\\\Desktop\\\\music\\\\data_mp3\\\\zTpycqGYRRM.mp3']"
      ]
     },
     "execution_count": 5,
     "metadata": {},
     "output_type": "execute_result"
    }
   ],
   "source": [
    "d = './data_mp3/'\n",
    "listed = [os.path.abspath('{0}{1}'.format(d, x)) for x in os.listdir(d)]\n",
    "listed"
   ]
  },
  {
   "cell_type": "code",
   "execution_count": 6,
   "id": "cc84517e-2237-487c-9264-07d2dcee1502",
   "metadata": {},
   "outputs": [],
   "source": [
    "from datasets import Dataset, Audio"
   ]
  },
  {
   "cell_type": "code",
   "execution_count": 17,
   "id": "e9d6f632-3606-434e-8057-c03030f608b7",
   "metadata": {},
   "outputs": [
    {
     "data": {
      "text/plain": [
       "{'path': 'C:\\\\Users\\\\Edward\\\\Desktop\\\\music\\\\data_mp3\\\\1AfkQES9PPw__ы1.mp3',\n",
       " 'array': array([0.        , 0.        , 0.        , ..., 0.05874589, 0.05481014,\n",
       "        0.04674564]),\n",
       " 'sampling_rate': 16000}"
      ]
     },
     "execution_count": 17,
     "metadata": {},
     "output_type": "execute_result"
    }
   ],
   "source": [
    "# https://huggingface.co/docs/datasets/en/audio_dataset\n",
    "\n",
    "audio_dataset = Dataset.from_dict({\"audio\": listed}).cast_column(\"audio\", Audio(sampling_rate=16000))\n",
    "# audio_sampling_rate = 44100\n",
    "audio_sampling_rate = 16000\n",
    "audio_dataset[3][\"audio\"]"
   ]
  },
  {
   "cell_type": "code",
   "execution_count": null,
   "id": "f8cac6dc-57a7-4811-9030-3302bc72d750",
   "metadata": {},
   "outputs": [],
   "source": []
  },
  {
   "cell_type": "code",
   "execution_count": 25,
   "id": "6932abdc-dd31-49c8-a384-7d64c8503413",
   "metadata": {},
   "outputs": [
    {
     "ename": "KeyboardInterrupt",
     "evalue": "",
     "output_type": "error",
     "traceback": [
      "\u001b[1;31m---------------------------------------------------------------------------\u001b[0m",
      "\u001b[1;31mKeyboardInterrupt\u001b[0m                         Traceback (most recent call last)",
      "Cell \u001b[1;32mIn[25], line 3\u001b[0m\n\u001b[0;32m      1\u001b[0m \u001b[38;5;66;03m# audio_dataset.features['audio'].sampling_rate\u001b[39;00m\n\u001b[0;32m      2\u001b[0m \u001b[38;5;66;03m# numpy.unique()\u001b[39;00m\n\u001b[1;32m----> 3\u001b[0m vv \u001b[38;5;241m=\u001b[39m [\u001b[43maudio_dataset\u001b[49m\u001b[43m[\u001b[49m\u001b[43mx\u001b[49m\u001b[43m]\u001b[49m[\u001b[38;5;124m'\u001b[39m\u001b[38;5;124maudio\u001b[39m\u001b[38;5;124m'\u001b[39m][\u001b[38;5;124m'\u001b[39m\u001b[38;5;124msampling_rate\u001b[39m\u001b[38;5;124m'\u001b[39m] \u001b[38;5;28;01mfor\u001b[39;00m x \u001b[38;5;129;01min\u001b[39;00m \u001b[38;5;28mrange\u001b[39m(\u001b[38;5;28mlen\u001b[39m(audio_dataset))]\n",
      "File \u001b[1;32m~\\Desktop\\music_env\\Lib\\site-packages\\datasets\\arrow_dataset.py:2866\u001b[0m, in \u001b[0;36mDataset.__getitem__\u001b[1;34m(self, key)\u001b[0m\n\u001b[0;32m   2864\u001b[0m \u001b[38;5;28;01mdef\u001b[39;00m \u001b[38;5;21m__getitem__\u001b[39m(\u001b[38;5;28mself\u001b[39m, key):  \u001b[38;5;66;03m# noqa: F811\u001b[39;00m\n\u001b[0;32m   2865\u001b[0m \u001b[38;5;250m    \u001b[39m\u001b[38;5;124;03m\"\"\"Can be used to index columns (by string names) or rows (by integer index or iterable of indices or bools).\"\"\"\u001b[39;00m\n\u001b[1;32m-> 2866\u001b[0m     \u001b[38;5;28;01mreturn\u001b[39;00m \u001b[38;5;28;43mself\u001b[39;49m\u001b[38;5;241;43m.\u001b[39;49m\u001b[43m_getitem\u001b[49m\u001b[43m(\u001b[49m\u001b[43mkey\u001b[49m\u001b[43m)\u001b[49m\n",
      "File \u001b[1;32m~\\Desktop\\music_env\\Lib\\site-packages\\datasets\\arrow_dataset.py:2851\u001b[0m, in \u001b[0;36mDataset._getitem\u001b[1;34m(self, key, **kwargs)\u001b[0m\n\u001b[0;32m   2849\u001b[0m formatter \u001b[38;5;241m=\u001b[39m get_formatter(format_type, features\u001b[38;5;241m=\u001b[39m\u001b[38;5;28mself\u001b[39m\u001b[38;5;241m.\u001b[39m_info\u001b[38;5;241m.\u001b[39mfeatures, \u001b[38;5;241m*\u001b[39m\u001b[38;5;241m*\u001b[39mformat_kwargs)\n\u001b[0;32m   2850\u001b[0m pa_subtable \u001b[38;5;241m=\u001b[39m query_table(\u001b[38;5;28mself\u001b[39m\u001b[38;5;241m.\u001b[39m_data, key, indices\u001b[38;5;241m=\u001b[39m\u001b[38;5;28mself\u001b[39m\u001b[38;5;241m.\u001b[39m_indices)\n\u001b[1;32m-> 2851\u001b[0m formatted_output \u001b[38;5;241m=\u001b[39m \u001b[43mformat_table\u001b[49m\u001b[43m(\u001b[49m\n\u001b[0;32m   2852\u001b[0m \u001b[43m    \u001b[49m\u001b[43mpa_subtable\u001b[49m\u001b[43m,\u001b[49m\u001b[43m \u001b[49m\u001b[43mkey\u001b[49m\u001b[43m,\u001b[49m\u001b[43m \u001b[49m\u001b[43mformatter\u001b[49m\u001b[38;5;241;43m=\u001b[39;49m\u001b[43mformatter\u001b[49m\u001b[43m,\u001b[49m\u001b[43m \u001b[49m\u001b[43mformat_columns\u001b[49m\u001b[38;5;241;43m=\u001b[39;49m\u001b[43mformat_columns\u001b[49m\u001b[43m,\u001b[49m\u001b[43m \u001b[49m\u001b[43moutput_all_columns\u001b[49m\u001b[38;5;241;43m=\u001b[39;49m\u001b[43moutput_all_columns\u001b[49m\n\u001b[0;32m   2853\u001b[0m \u001b[43m\u001b[49m\u001b[43m)\u001b[49m\n\u001b[0;32m   2854\u001b[0m \u001b[38;5;28;01mreturn\u001b[39;00m formatted_output\n",
      "File \u001b[1;32m~\\Desktop\\music_env\\Lib\\site-packages\\datasets\\formatting\\formatting.py:633\u001b[0m, in \u001b[0;36mformat_table\u001b[1;34m(table, key, formatter, format_columns, output_all_columns)\u001b[0m\n\u001b[0;32m    631\u001b[0m python_formatter \u001b[38;5;241m=\u001b[39m PythonFormatter(features\u001b[38;5;241m=\u001b[39mformatter\u001b[38;5;241m.\u001b[39mfeatures)\n\u001b[0;32m    632\u001b[0m \u001b[38;5;28;01mif\u001b[39;00m format_columns \u001b[38;5;129;01mis\u001b[39;00m \u001b[38;5;28;01mNone\u001b[39;00m:\n\u001b[1;32m--> 633\u001b[0m     \u001b[38;5;28;01mreturn\u001b[39;00m \u001b[43mformatter\u001b[49m\u001b[43m(\u001b[49m\u001b[43mpa_table\u001b[49m\u001b[43m,\u001b[49m\u001b[43m \u001b[49m\u001b[43mquery_type\u001b[49m\u001b[38;5;241;43m=\u001b[39;49m\u001b[43mquery_type\u001b[49m\u001b[43m)\u001b[49m\n\u001b[0;32m    634\u001b[0m \u001b[38;5;28;01melif\u001b[39;00m query_type \u001b[38;5;241m==\u001b[39m \u001b[38;5;124m\"\u001b[39m\u001b[38;5;124mcolumn\u001b[39m\u001b[38;5;124m\"\u001b[39m:\n\u001b[0;32m    635\u001b[0m     \u001b[38;5;28;01mif\u001b[39;00m key \u001b[38;5;129;01min\u001b[39;00m format_columns:\n",
      "File \u001b[1;32m~\\Desktop\\music_env\\Lib\\site-packages\\datasets\\formatting\\formatting.py:397\u001b[0m, in \u001b[0;36mFormatter.__call__\u001b[1;34m(self, pa_table, query_type)\u001b[0m\n\u001b[0;32m    395\u001b[0m \u001b[38;5;28;01mdef\u001b[39;00m \u001b[38;5;21m__call__\u001b[39m(\u001b[38;5;28mself\u001b[39m, pa_table: pa\u001b[38;5;241m.\u001b[39mTable, query_type: \u001b[38;5;28mstr\u001b[39m) \u001b[38;5;241m-\u001b[39m\u001b[38;5;241m>\u001b[39m Union[RowFormat, ColumnFormat, BatchFormat]:\n\u001b[0;32m    396\u001b[0m     \u001b[38;5;28;01mif\u001b[39;00m query_type \u001b[38;5;241m==\u001b[39m \u001b[38;5;124m\"\u001b[39m\u001b[38;5;124mrow\u001b[39m\u001b[38;5;124m\"\u001b[39m:\n\u001b[1;32m--> 397\u001b[0m         \u001b[38;5;28;01mreturn\u001b[39;00m \u001b[38;5;28;43mself\u001b[39;49m\u001b[38;5;241;43m.\u001b[39;49m\u001b[43mformat_row\u001b[49m\u001b[43m(\u001b[49m\u001b[43mpa_table\u001b[49m\u001b[43m)\u001b[49m\n\u001b[0;32m    398\u001b[0m     \u001b[38;5;28;01melif\u001b[39;00m query_type \u001b[38;5;241m==\u001b[39m \u001b[38;5;124m\"\u001b[39m\u001b[38;5;124mcolumn\u001b[39m\u001b[38;5;124m\"\u001b[39m:\n\u001b[0;32m    399\u001b[0m         \u001b[38;5;28;01mreturn\u001b[39;00m \u001b[38;5;28mself\u001b[39m\u001b[38;5;241m.\u001b[39mformat_column(pa_table)\n",
      "File \u001b[1;32m~\\Desktop\\music_env\\Lib\\site-packages\\datasets\\formatting\\formatting.py:438\u001b[0m, in \u001b[0;36mPythonFormatter.format_row\u001b[1;34m(self, pa_table)\u001b[0m\n\u001b[0;32m    436\u001b[0m     \u001b[38;5;28;01mreturn\u001b[39;00m LazyRow(pa_table, \u001b[38;5;28mself\u001b[39m)\n\u001b[0;32m    437\u001b[0m row \u001b[38;5;241m=\u001b[39m \u001b[38;5;28mself\u001b[39m\u001b[38;5;241m.\u001b[39mpython_arrow_extractor()\u001b[38;5;241m.\u001b[39mextract_row(pa_table)\n\u001b[1;32m--> 438\u001b[0m row \u001b[38;5;241m=\u001b[39m \u001b[38;5;28;43mself\u001b[39;49m\u001b[38;5;241;43m.\u001b[39;49m\u001b[43mpython_features_decoder\u001b[49m\u001b[38;5;241;43m.\u001b[39;49m\u001b[43mdecode_row\u001b[49m\u001b[43m(\u001b[49m\u001b[43mrow\u001b[49m\u001b[43m)\u001b[49m\n\u001b[0;32m    439\u001b[0m \u001b[38;5;28;01mreturn\u001b[39;00m row\n",
      "File \u001b[1;32m~\\Desktop\\music_env\\Lib\\site-packages\\datasets\\formatting\\formatting.py:216\u001b[0m, in \u001b[0;36mPythonFeaturesDecoder.decode_row\u001b[1;34m(self, row)\u001b[0m\n\u001b[0;32m    215\u001b[0m \u001b[38;5;28;01mdef\u001b[39;00m \u001b[38;5;21mdecode_row\u001b[39m(\u001b[38;5;28mself\u001b[39m, row: \u001b[38;5;28mdict\u001b[39m) \u001b[38;5;241m-\u001b[39m\u001b[38;5;241m>\u001b[39m \u001b[38;5;28mdict\u001b[39m:\n\u001b[1;32m--> 216\u001b[0m     \u001b[38;5;28;01mreturn\u001b[39;00m \u001b[38;5;28;43mself\u001b[39;49m\u001b[38;5;241;43m.\u001b[39;49m\u001b[43mfeatures\u001b[49m\u001b[38;5;241;43m.\u001b[39;49m\u001b[43mdecode_example\u001b[49m\u001b[43m(\u001b[49m\u001b[43mrow\u001b[49m\u001b[43m)\u001b[49m \u001b[38;5;28;01mif\u001b[39;00m \u001b[38;5;28mself\u001b[39m\u001b[38;5;241m.\u001b[39mfeatures \u001b[38;5;28;01melse\u001b[39;00m row\n",
      "File \u001b[1;32m~\\Desktop\\music_env\\Lib\\site-packages\\datasets\\features\\features.py:1987\u001b[0m, in \u001b[0;36mFeatures.decode_example\u001b[1;34m(self, example, token_per_repo_id)\u001b[0m\n\u001b[0;32m   1972\u001b[0m \u001b[38;5;28;01mdef\u001b[39;00m \u001b[38;5;21mdecode_example\u001b[39m(\u001b[38;5;28mself\u001b[39m, example: \u001b[38;5;28mdict\u001b[39m, token_per_repo_id: Optional[Dict[\u001b[38;5;28mstr\u001b[39m, Union[\u001b[38;5;28mstr\u001b[39m, \u001b[38;5;28mbool\u001b[39m, \u001b[38;5;28;01mNone\u001b[39;00m]]] \u001b[38;5;241m=\u001b[39m \u001b[38;5;28;01mNone\u001b[39;00m):\n\u001b[0;32m   1973\u001b[0m \u001b[38;5;250m    \u001b[39m\u001b[38;5;124;03m\"\"\"Decode example with custom feature decoding.\u001b[39;00m\n\u001b[0;32m   1974\u001b[0m \n\u001b[0;32m   1975\u001b[0m \u001b[38;5;124;03m    Args:\u001b[39;00m\n\u001b[1;32m   (...)\u001b[0m\n\u001b[0;32m   1983\u001b[0m \u001b[38;5;124;03m        `dict[str, Any]`\u001b[39;00m\n\u001b[0;32m   1984\u001b[0m \u001b[38;5;124;03m    \"\"\"\u001b[39;00m\n\u001b[0;32m   1986\u001b[0m     \u001b[38;5;28;01mreturn\u001b[39;00m {\n\u001b[1;32m-> 1987\u001b[0m         column_name: \u001b[43mdecode_nested_example\u001b[49m\u001b[43m(\u001b[49m\u001b[43mfeature\u001b[49m\u001b[43m,\u001b[49m\u001b[43m \u001b[49m\u001b[43mvalue\u001b[49m\u001b[43m,\u001b[49m\u001b[43m \u001b[49m\u001b[43mtoken_per_repo_id\u001b[49m\u001b[38;5;241;43m=\u001b[39;49m\u001b[43mtoken_per_repo_id\u001b[49m\u001b[43m)\u001b[49m\n\u001b[0;32m   1988\u001b[0m         \u001b[38;5;28;01mif\u001b[39;00m \u001b[38;5;28mself\u001b[39m\u001b[38;5;241m.\u001b[39m_column_requires_decoding[column_name]\n\u001b[0;32m   1989\u001b[0m         \u001b[38;5;28;01melse\u001b[39;00m value\n\u001b[0;32m   1990\u001b[0m         \u001b[38;5;28;01mfor\u001b[39;00m column_name, (feature, value) \u001b[38;5;129;01min\u001b[39;00m zip_dict(\n\u001b[0;32m   1991\u001b[0m             {key: value \u001b[38;5;28;01mfor\u001b[39;00m key, value \u001b[38;5;129;01min\u001b[39;00m \u001b[38;5;28mself\u001b[39m\u001b[38;5;241m.\u001b[39mitems() \u001b[38;5;28;01mif\u001b[39;00m key \u001b[38;5;129;01min\u001b[39;00m example}, example\n\u001b[0;32m   1992\u001b[0m         )\n\u001b[0;32m   1993\u001b[0m     }\n",
      "File \u001b[1;32m~\\Desktop\\music_env\\Lib\\site-packages\\datasets\\features\\features.py:1351\u001b[0m, in \u001b[0;36mdecode_nested_example\u001b[1;34m(schema, obj, token_per_repo_id)\u001b[0m\n\u001b[0;32m   1348\u001b[0m \u001b[38;5;28;01melif\u001b[39;00m \u001b[38;5;28misinstance\u001b[39m(schema, (Audio, Image)):\n\u001b[0;32m   1349\u001b[0m     \u001b[38;5;66;03m# we pass the token to read and decode files from private repositories in streaming mode\u001b[39;00m\n\u001b[0;32m   1350\u001b[0m     \u001b[38;5;28;01mif\u001b[39;00m obj \u001b[38;5;129;01mis\u001b[39;00m \u001b[38;5;129;01mnot\u001b[39;00m \u001b[38;5;28;01mNone\u001b[39;00m \u001b[38;5;129;01mand\u001b[39;00m schema\u001b[38;5;241m.\u001b[39mdecode:\n\u001b[1;32m-> 1351\u001b[0m         \u001b[38;5;28;01mreturn\u001b[39;00m \u001b[43mschema\u001b[49m\u001b[38;5;241;43m.\u001b[39;49m\u001b[43mdecode_example\u001b[49m\u001b[43m(\u001b[49m\u001b[43mobj\u001b[49m\u001b[43m,\u001b[49m\u001b[43m \u001b[49m\u001b[43mtoken_per_repo_id\u001b[49m\u001b[38;5;241;43m=\u001b[39;49m\u001b[43mtoken_per_repo_id\u001b[49m\u001b[43m)\u001b[49m\n\u001b[0;32m   1352\u001b[0m \u001b[38;5;28;01mreturn\u001b[39;00m obj\n",
      "File \u001b[1;32m~\\Desktop\\music_env\\Lib\\site-packages\\datasets\\features\\audio.py:191\u001b[0m, in \u001b[0;36mAudio.decode_example\u001b[1;34m(self, value, token_per_repo_id)\u001b[0m\n\u001b[0;32m    189\u001b[0m array \u001b[38;5;241m=\u001b[39m array\u001b[38;5;241m.\u001b[39mT\n\u001b[0;32m    190\u001b[0m \u001b[38;5;28;01mif\u001b[39;00m \u001b[38;5;28mself\u001b[39m\u001b[38;5;241m.\u001b[39mmono:\n\u001b[1;32m--> 191\u001b[0m     array \u001b[38;5;241m=\u001b[39m \u001b[43mlibrosa\u001b[49m\u001b[38;5;241;43m.\u001b[39;49m\u001b[43mto_mono\u001b[49m\u001b[43m(\u001b[49m\u001b[43marray\u001b[49m\u001b[43m)\u001b[49m\n\u001b[0;32m    192\u001b[0m \u001b[38;5;28;01mif\u001b[39;00m \u001b[38;5;28mself\u001b[39m\u001b[38;5;241m.\u001b[39msampling_rate \u001b[38;5;129;01mand\u001b[39;00m \u001b[38;5;28mself\u001b[39m\u001b[38;5;241m.\u001b[39msampling_rate \u001b[38;5;241m!=\u001b[39m sampling_rate:\n\u001b[0;32m    193\u001b[0m     array \u001b[38;5;241m=\u001b[39m librosa\u001b[38;5;241m.\u001b[39mresample(array, orig_sr\u001b[38;5;241m=\u001b[39msampling_rate, target_sr\u001b[38;5;241m=\u001b[39m\u001b[38;5;28mself\u001b[39m\u001b[38;5;241m.\u001b[39msampling_rate)\n",
      "File \u001b[1;32m~\\Desktop\\music_env\\Lib\\site-packages\\librosa\\core\\audio.py:508\u001b[0m, in \u001b[0;36mto_mono\u001b[1;34m(y)\u001b[0m\n\u001b[0;32m    505\u001b[0m util\u001b[38;5;241m.\u001b[39mvalid_audio(y, mono\u001b[38;5;241m=\u001b[39m\u001b[38;5;28;01mFalse\u001b[39;00m)\n\u001b[0;32m    507\u001b[0m \u001b[38;5;28;01mif\u001b[39;00m y\u001b[38;5;241m.\u001b[39mndim \u001b[38;5;241m>\u001b[39m \u001b[38;5;241m1\u001b[39m:\n\u001b[1;32m--> 508\u001b[0m     y \u001b[38;5;241m=\u001b[39m \u001b[43mnp\u001b[49m\u001b[38;5;241;43m.\u001b[39;49m\u001b[43mmean\u001b[49m\u001b[43m(\u001b[49m\u001b[43my\u001b[49m\u001b[43m,\u001b[49m\u001b[43m \u001b[49m\u001b[43maxis\u001b[49m\u001b[38;5;241;43m=\u001b[39;49m\u001b[38;5;28;43mtuple\u001b[39;49m\u001b[43m(\u001b[49m\u001b[38;5;28;43mrange\u001b[39;49m\u001b[43m(\u001b[49m\u001b[43my\u001b[49m\u001b[38;5;241;43m.\u001b[39;49m\u001b[43mndim\u001b[49m\u001b[43m \u001b[49m\u001b[38;5;241;43m-\u001b[39;49m\u001b[43m \u001b[49m\u001b[38;5;241;43m1\u001b[39;49m\u001b[43m)\u001b[49m\u001b[43m)\u001b[49m\u001b[43m)\u001b[49m\n\u001b[0;32m    510\u001b[0m \u001b[38;5;28;01mreturn\u001b[39;00m y\n",
      "File \u001b[1;32m~\\Desktop\\music_env\\Lib\\site-packages\\numpy\\core\\fromnumeric.py:3504\u001b[0m, in \u001b[0;36mmean\u001b[1;34m(a, axis, dtype, out, keepdims, where)\u001b[0m\n\u001b[0;32m   3501\u001b[0m     \u001b[38;5;28;01melse\u001b[39;00m:\n\u001b[0;32m   3502\u001b[0m         \u001b[38;5;28;01mreturn\u001b[39;00m mean(axis\u001b[38;5;241m=\u001b[39maxis, dtype\u001b[38;5;241m=\u001b[39mdtype, out\u001b[38;5;241m=\u001b[39mout, \u001b[38;5;241m*\u001b[39m\u001b[38;5;241m*\u001b[39mkwargs)\n\u001b[1;32m-> 3504\u001b[0m \u001b[38;5;28;01mreturn\u001b[39;00m \u001b[43m_methods\u001b[49m\u001b[38;5;241;43m.\u001b[39;49m\u001b[43m_mean\u001b[49m\u001b[43m(\u001b[49m\u001b[43ma\u001b[49m\u001b[43m,\u001b[49m\u001b[43m \u001b[49m\u001b[43maxis\u001b[49m\u001b[38;5;241;43m=\u001b[39;49m\u001b[43maxis\u001b[49m\u001b[43m,\u001b[49m\u001b[43m \u001b[49m\u001b[43mdtype\u001b[49m\u001b[38;5;241;43m=\u001b[39;49m\u001b[43mdtype\u001b[49m\u001b[43m,\u001b[49m\n\u001b[0;32m   3505\u001b[0m \u001b[43m                      \u001b[49m\u001b[43mout\u001b[49m\u001b[38;5;241;43m=\u001b[39;49m\u001b[43mout\u001b[49m\u001b[43m,\u001b[49m\u001b[43m \u001b[49m\u001b[38;5;241;43m*\u001b[39;49m\u001b[38;5;241;43m*\u001b[39;49m\u001b[43mkwargs\u001b[49m\u001b[43m)\u001b[49m\n",
      "File \u001b[1;32m~\\Desktop\\music_env\\Lib\\site-packages\\numpy\\core\\_methods.py:118\u001b[0m, in \u001b[0;36m_mean\u001b[1;34m(a, axis, dtype, out, keepdims, where)\u001b[0m\n\u001b[0;32m    115\u001b[0m         dtype \u001b[38;5;241m=\u001b[39m mu\u001b[38;5;241m.\u001b[39mdtype(\u001b[38;5;124m'\u001b[39m\u001b[38;5;124mf4\u001b[39m\u001b[38;5;124m'\u001b[39m)\n\u001b[0;32m    116\u001b[0m         is_float16_result \u001b[38;5;241m=\u001b[39m \u001b[38;5;28;01mTrue\u001b[39;00m\n\u001b[1;32m--> 118\u001b[0m ret \u001b[38;5;241m=\u001b[39m \u001b[43mumr_sum\u001b[49m\u001b[43m(\u001b[49m\u001b[43marr\u001b[49m\u001b[43m,\u001b[49m\u001b[43m \u001b[49m\u001b[43maxis\u001b[49m\u001b[43m,\u001b[49m\u001b[43m \u001b[49m\u001b[43mdtype\u001b[49m\u001b[43m,\u001b[49m\u001b[43m \u001b[49m\u001b[43mout\u001b[49m\u001b[43m,\u001b[49m\u001b[43m \u001b[49m\u001b[43mkeepdims\u001b[49m\u001b[43m,\u001b[49m\u001b[43m \u001b[49m\u001b[43mwhere\u001b[49m\u001b[38;5;241;43m=\u001b[39;49m\u001b[43mwhere\u001b[49m\u001b[43m)\u001b[49m\n\u001b[0;32m    119\u001b[0m \u001b[38;5;28;01mif\u001b[39;00m \u001b[38;5;28misinstance\u001b[39m(ret, mu\u001b[38;5;241m.\u001b[39mndarray):\n\u001b[0;32m    120\u001b[0m     \u001b[38;5;28;01mwith\u001b[39;00m _no_nep50_warning():\n",
      "\u001b[1;31mKeyboardInterrupt\u001b[0m: "
     ]
    }
   ],
   "source": [
    "# audio_dataset.features['audio'].sampling_rate\n",
    "# numpy.unique()\n",
    "vv = [audio_dataset[x]['audio']['sampling_rate'] for x in range(len(audio_dataset))]"
   ]
  },
  {
   "cell_type": "code",
   "execution_count": null,
   "id": "cb39b545-bcbe-40b8-8974-7e33e8effcbd",
   "metadata": {},
   "outputs": [],
   "source": []
  },
  {
   "cell_type": "code",
   "execution_count": 8,
   "id": "e82e02cd-60d6-43db-aec2-a169f485c35d",
   "metadata": {},
   "outputs": [],
   "source": [
    "processor = Wav2Vec2Processor.from_pretrained(\"facebook/data2vec-audio-base-960h\")"
   ]
  },
  {
   "cell_type": "code",
   "execution_count": 9,
   "id": "582d441c-64c8-443b-9c21-7f5f4e992374",
   "metadata": {},
   "outputs": [],
   "source": [
    "model = Data2VecAudioModel.from_pretrained(\"m-a-p/music2vec-v1\")"
   ]
  },
  {
   "cell_type": "code",
   "execution_count": 9,
   "id": "71462b92-f354-4fd5-93f7-a4f9b98a0883",
   "metadata": {},
   "outputs": [
    {
     "ename": "NameError",
     "evalue": "name 'dataset' is not defined",
     "output_type": "error",
     "traceback": [
      "\u001b[1;31m---------------------------------------------------------------------------\u001b[0m",
      "\u001b[1;31mNameError\u001b[0m                                 Traceback (most recent call last)",
      "Cell \u001b[1;32mIn[9], line 1\u001b[0m\n\u001b[1;32m----> 1\u001b[0m \u001b[43mdataset\u001b[49m[\u001b[38;5;241m0\u001b[39m]\n",
      "\u001b[1;31mNameError\u001b[0m: name 'dataset' is not defined"
     ]
    }
   ],
   "source": [
    "dataset[0]"
   ]
  },
  {
   "cell_type": "code",
   "execution_count": 10,
   "id": "6b35abed-474d-4a46-8f42-d18eb5effd7c",
   "metadata": {},
   "outputs": [
    {
     "data": {
      "text/plain": [
       "{'audio': 'C:\\\\Users\\\\Edward\\\\Desktop\\\\music\\\\data_mp3\\\\-PVZWsClTPY.mp3'}"
      ]
     },
     "execution_count": 10,
     "metadata": {},
     "output_type": "execute_result"
    }
   ],
   "source": [
    "audio_dataset[0]"
   ]
  },
  {
   "cell_type": "code",
   "execution_count": 61,
   "id": "f39f0e52-f32b-40c9-9b41-760f4b1a5cde",
   "metadata": {},
   "outputs": [
    {
     "data": {
      "text/plain": [
       "{'input_values': tensor([[0.0386, 0.0337, 0.0322,  ..., 0.0070, 0.0095, 0.0169]]), 'attention_mask': tensor([[1, 1, 1,  ..., 1, 1, 1]], dtype=torch.int32)}"
      ]
     },
     "execution_count": 61,
     "metadata": {},
     "output_type": "execute_result"
    }
   ],
   "source": [
    "inputs = processor(dataset[0][\"audio\"][\"array\"], sampling_rate=sampling_rate, return_tensors=\"pt\")\n",
    "inputs"
   ]
  },
  {
   "cell_type": "code",
   "execution_count": 46,
   "id": "b15bb831-d4e9-4834-8e40-aae5580e0077",
   "metadata": {},
   "outputs": [
    {
     "data": {
      "text/plain": [
       "{'input_values': tensor([[ 0.0007,  0.0007,  0.0007,  ...,  0.0009, -0.0051, -0.0074]]), 'attention_mask': tensor([[1, 1, 1,  ..., 1, 1, 1]], dtype=torch.int32)}"
      ]
     },
     "execution_count": 46,
     "metadata": {},
     "output_type": "execute_result"
    }
   ],
   "source": [
    "inputs = processor(audio_dataset[0][\"audio\"][\"array\"], sampling_rate=audio_sampling_rate, return_tensors=\"pt\")\n",
    "inputs"
   ]
  },
  {
   "cell_type": "code",
   "execution_count": 47,
   "id": "bed4df5e-fe51-49ff-bb5b-e5bb8d7ef672",
   "metadata": {},
   "outputs": [],
   "source": [
    "with torch.no_grad():\n",
    "    outputs = model(**inputs, output_hidden_states=True)"
   ]
  },
  {
   "cell_type": "code",
   "execution_count": 48,
   "id": "c190fb58-9d04-48d2-bd23-6b1c2cf4e223",
   "metadata": {},
   "outputs": [
    {
     "data": {
      "text/plain": [
       "Wav2Vec2BaseModelOutput(last_hidden_state=tensor([[[ 0.1345, -0.1465,  0.2681,  ..., -0.1875, -0.3243, -0.0597],\n",
       "         [-0.1109, -0.1576,  0.0502,  ...,  0.2249,  0.5372,  0.2880],\n",
       "         [-0.1154, -0.2889,  0.3150,  ...,  0.0689,  0.3019,  0.3286],\n",
       "         ...,\n",
       "         [ 0.1548,  0.1536,  0.0022,  ..., -0.1223, -0.0842, -0.1645],\n",
       "         [ 0.0096,  0.1074,  0.1260,  ..., -0.1637, -0.1988,  0.1999],\n",
       "         [-0.0775,  0.0783,  0.1579,  ..., -0.2650, -0.1214,  0.3753]]]), extract_features=tensor([[[-3.3838e-02, -7.6854e-02, -6.4751e-03,  ...,  2.0378e-01,\n",
       "           4.9978e-03, -7.0433e-02],\n",
       "         [-3.3839e-02, -7.6846e-02, -6.4619e-03,  ...,  2.0374e-01,\n",
       "           4.9788e-03, -7.0440e-02],\n",
       "         [-3.9145e-02, -8.1725e-02,  3.5260e-05,  ...,  2.5517e-01,\n",
       "           4.9253e-03, -6.8202e-02],\n",
       "         ...,\n",
       "         [-3.1891e-02, -7.9810e-02, -6.6606e-03,  ...,  1.8771e-01,\n",
       "           8.5438e-03, -6.5450e-02],\n",
       "         [-3.3275e-02, -3.2518e-02,  1.5001e-03,  ...,  1.9283e-01,\n",
       "           8.0968e-03, -6.3175e-02],\n",
       "         [-3.0784e-02, -5.5248e-02, -2.6816e-02,  ...,  1.3193e-01,\n",
       "           7.9480e-03, -5.6879e-02]]]), hidden_states=(tensor([[[ 0.0325, -0.1100, -0.2587,  ..., -0.1241,  0.1235, -0.4560],\n",
       "         [ 0.1197, -0.1388, -0.2741,  ..., -0.1596,  0.0405, -0.4470],\n",
       "         [ 0.2393, -0.2457, -0.2726,  ..., -0.0866,  0.3752, -0.4575],\n",
       "         ...,\n",
       "         [ 0.3473, -0.2199, -0.0479,  ..., -0.0234, -0.0316,  0.0994],\n",
       "         [ 0.2309, -0.0944, -0.0381,  ..., -0.1298, -0.1146, -0.0528],\n",
       "         [-0.0554,  0.2260, -0.1260,  ...,  0.0270, -0.1518, -0.4091]]]), tensor([[[-0.0955, -0.1474, -0.2690,  ...,  0.1136,  0.3399, -0.1258],\n",
       "         [ 0.0204, -0.0305, -0.3527,  ...,  0.0898,  0.3374, -0.0930],\n",
       "         [ 0.1164,  0.0329, -0.3987,  ...,  0.1401,  0.5615, -0.2329],\n",
       "         ...,\n",
       "         [ 0.0317, -0.1605, -0.1675,  ...,  0.0824,  0.3435,  0.0849],\n",
       "         [ 0.1027, -0.0785, -0.1806,  ...,  0.1022,  0.3134,  0.0456],\n",
       "         [ 0.0123, -0.0758, -0.0839,  ...,  0.1436,  0.1664, -0.0408]]]), tensor([[[ 0.1030, -0.1503, -0.1964,  ...,  0.0353,  0.1328,  0.2570],\n",
       "         [ 0.1277, -0.0309, -0.1772,  ...,  0.0408,  0.1738,  0.1259],\n",
       "         [ 0.1168,  0.0408, -0.2220,  ...,  0.0388,  0.4807,  0.0686],\n",
       "         ...,\n",
       "         [ 0.1108, -0.0772, -0.1633,  ...,  0.0656,  0.2730,  0.3599],\n",
       "         [ 0.1211, -0.0054, -0.1434,  ...,  0.0207,  0.2049,  0.2735],\n",
       "         [ 0.1181, -0.0829, -0.1178,  ..., -0.0078,  0.1939,  0.1231]]]), tensor([[[-0.0119, -0.0772, -0.1308,  ...,  0.0073,  0.0015,  0.1905],\n",
       "         [-0.0925, -0.0546, -0.1883,  ...,  0.0102, -0.0463,  0.1668],\n",
       "         [ 0.0242, -0.0902, -0.1004,  ...,  0.0367,  0.1806,  0.0218],\n",
       "         ...,\n",
       "         [ 0.1428, -0.0815, -0.2549,  ..., -0.0632, -0.3483,  0.3376],\n",
       "         [ 0.1637,  0.0435, -0.1351,  ..., -0.0278, -0.1715,  0.2699],\n",
       "         [ 0.1173,  0.1065, -0.0267,  ..., -0.0140, -0.0677,  0.1105]]]), tensor([[[ 0.0206, -0.0068, -0.1060,  ..., -0.1246, -0.1976,  0.1386],\n",
       "         [-0.0073,  0.0227,  0.0041,  ..., -0.0868, -0.1553,  0.1210],\n",
       "         [-0.0011, -0.0082, -0.0961,  ..., -0.0345, -0.0332, -0.0633],\n",
       "         ...,\n",
       "         [ 0.2800, -0.1827, -0.1436,  ...,  0.0027, -0.2740,  0.1675],\n",
       "         [ 0.2301, -0.0877, -0.1004,  ..., -0.0045, -0.1798,  0.0789],\n",
       "         [ 0.1670, -0.0595, -0.0727,  ..., -0.0315, -0.1065,  0.0237]]]), tensor([[[-0.0265, -0.1695, -0.0556,  ..., -0.2643, -0.2369,  0.0644],\n",
       "         [-0.0665, -0.2106,  0.0589,  ..., -0.2201, -0.0727,  0.1576],\n",
       "         [-0.0525, -0.1249,  0.0565,  ..., -0.2172,  0.0787,  0.0836],\n",
       "         ...,\n",
       "         [ 0.1716, -0.2542,  0.0466,  ..., -0.3438, -0.1629,  0.1095],\n",
       "         [ 0.1572, -0.2329,  0.0667,  ..., -0.3985, -0.1412,  0.1830],\n",
       "         [ 0.1098, -0.2423,  0.1004,  ..., -0.3880, -0.1338,  0.2437]]]), tensor([[[ 0.1644, -0.0835, -0.0182,  ..., -0.0238, -0.1755,  0.1676],\n",
       "         [ 0.0670, -0.1146,  0.0590,  ...,  0.0542,  0.1021,  0.3598],\n",
       "         [-0.0448, -0.0678,  0.0832,  ...,  0.1097,  0.2378,  0.1942],\n",
       "         ...,\n",
       "         [ 0.2471, -0.0403,  0.0976,  ..., -0.2056, -0.2431,  0.1853],\n",
       "         [ 0.2551, -0.0045,  0.1518,  ..., -0.2420, -0.1624,  0.3257],\n",
       "         [ 0.2129, -0.0453,  0.1728,  ..., -0.2978, -0.0748,  0.4057]]]), tensor([[[ 0.2377, -0.0718,  0.0088,  ..., -0.0422, -0.1516,  0.0554],\n",
       "         [ 0.0329,  0.0660, -0.1441,  ...,  0.0738,  0.2642,  0.4328],\n",
       "         [ 0.0480,  0.0922,  0.0196,  ...,  0.0521,  0.2256,  0.2776],\n",
       "         ...,\n",
       "         [ 0.2445,  0.0032,  0.0378,  ..., -0.1144, -0.2381,  0.0528],\n",
       "         [ 0.1518, -0.0357,  0.1735,  ..., -0.1029, -0.1327,  0.2548],\n",
       "         [ 0.1481, -0.0389,  0.2217,  ..., -0.1586,  0.0118,  0.3755]]]), tensor([[[ 0.1219, -0.0174,  0.0281,  ..., -0.0400, -0.1254, -0.0102],\n",
       "         [-0.0957, -0.0886, -0.0954,  ...,  0.0860,  0.1946,  0.3252],\n",
       "         [-0.0383, -0.0748,  0.0296,  ...,  0.0057,  0.1340,  0.1673],\n",
       "         ...,\n",
       "         [ 0.3147,  0.0270,  0.0817,  ..., -0.1678, -0.2280,  0.1254],\n",
       "         [ 0.2431,  0.0504,  0.1885,  ..., -0.2516, -0.2187,  0.3757],\n",
       "         [ 0.2229,  0.0204,  0.2202,  ..., -0.3416, -0.1013,  0.4577]]]), tensor([[[ 0.0649, -0.0336,  0.0250,  ..., -0.0244, -0.0964,  0.0006],\n",
       "         [-0.1021, -0.1517, -0.0646,  ...,  0.1169,  0.1791,  0.2855],\n",
       "         [-0.1507, -0.0971,  0.1151,  ...,  0.0232,  0.1299,  0.2349],\n",
       "         ...,\n",
       "         [ 0.2271,  0.0757, -0.0085,  ..., -0.2186, -0.2332,  0.1151],\n",
       "         [ 0.1026,  0.0721,  0.1328,  ..., -0.2011, -0.1965,  0.3730],\n",
       "         [ 0.0552,  0.0737,  0.1624,  ..., -0.2891, -0.1162,  0.4564]]]), tensor([[[ 0.0683, -0.0522,  0.0574,  ..., -0.0483, -0.1002, -0.0058],\n",
       "         [-0.1140, -0.1571,  0.0358,  ...,  0.1681,  0.2185,  0.2197],\n",
       "         [-0.1440, -0.1329,  0.2618,  ...,  0.0268,  0.0815,  0.2318],\n",
       "         ...,\n",
       "         [ 0.1478,  0.1038,  0.0186,  ..., -0.1858, -0.1286,  0.0222],\n",
       "         [ 0.0501,  0.0531,  0.1584,  ..., -0.1391, -0.1073,  0.3314],\n",
       "         [ 0.0057,  0.0251,  0.1901,  ..., -0.2056, -0.0382,  0.4362]]]), tensor([[[ 0.1325, -0.1181,  0.2341,  ..., -0.1626, -0.2523, -0.0743],\n",
       "         [-0.1376, -0.1816,  0.0760,  ...,  0.2250,  0.3880,  0.2506],\n",
       "         [-0.1291, -0.2141,  0.3105,  ...,  0.0681,  0.2335,  0.3102],\n",
       "         ...,\n",
       "         [ 0.1183,  0.1606, -0.0038,  ..., -0.1290, -0.1332, -0.0474],\n",
       "         [ 0.0011,  0.1008,  0.1625,  ..., -0.1177, -0.1547,  0.2719],\n",
       "         [-0.0658,  0.0607,  0.2166,  ..., -0.2066, -0.0701,  0.4310]]]), tensor([[[ 0.1345, -0.1465,  0.2681,  ..., -0.1875, -0.3243, -0.0597],\n",
       "         [-0.1109, -0.1576,  0.0502,  ...,  0.2249,  0.5372,  0.2880],\n",
       "         [-0.1154, -0.2889,  0.3150,  ...,  0.0689,  0.3019,  0.3286],\n",
       "         ...,\n",
       "         [ 0.1548,  0.1536,  0.0022,  ..., -0.1223, -0.0842, -0.1645],\n",
       "         [ 0.0096,  0.1074,  0.1260,  ..., -0.1637, -0.1988,  0.1999],\n",
       "         [-0.0775,  0.0783,  0.1579,  ..., -0.2650, -0.1214,  0.3753]]])), attentions=None)"
      ]
     },
     "execution_count": 48,
     "metadata": {},
     "output_type": "execute_result"
    }
   ],
   "source": [
    "outputs"
   ]
  },
  {
   "cell_type": "code",
   "execution_count": 49,
   "id": "e0e5e616-89e6-47c5-849b-e23ad3719ad5",
   "metadata": {},
   "outputs": [
    {
     "name": "stdout",
     "output_type": "stream",
     "text": [
      "torch.Size([13, 4124, 768])\n"
     ]
    }
   ],
   "source": [
    "# take a look at the output shape, there are 13 layers of representation\n",
    "# each layer performs differently in different downstream tasks, you should choose empirically\n",
    "all_layer_hidden_states = torch.stack(outputs.hidden_states).squeeze()\n",
    "print(all_layer_hidden_states.shape) # [13 layer, 292 timestep, 768 feature_dim]"
   ]
  },
  {
   "cell_type": "code",
   "execution_count": 50,
   "id": "c5a5dbb9-caf8-4dc9-b1b9-ad979fd59e42",
   "metadata": {},
   "outputs": [
    {
     "name": "stdout",
     "output_type": "stream",
     "text": [
      "torch.Size([13, 768])\n"
     ]
    }
   ],
   "source": [
    "# for utterance level classification tasks, you can simply reduce the representation in time\n",
    "time_reduced_hidden_states = all_layer_hidden_states.mean(-2)\n",
    "print(time_reduced_hidden_states.shape) # [13, 768]"
   ]
  },
  {
   "cell_type": "code",
   "execution_count": 52,
   "id": "510fd82e-1a11-4181-93fd-55fd61359cc4",
   "metadata": {},
   "outputs": [
    {
     "data": {
      "text/plain": [
       "tensor([[-0.0396, -0.0574, -0.0853,  ..., -0.0171, -0.0752, -0.0353],\n",
       "        [-0.0382, -0.0144, -0.0386,  ...,  0.0655,  0.0830, -0.0331],\n",
       "        [-0.0177,  0.0039, -0.0115,  ...,  0.0667,  0.0065, -0.0192],\n",
       "        ...,\n",
       "        [ 0.0232,  0.0188, -0.0244,  ..., -0.0080, -0.0143,  0.0144],\n",
       "        [ 0.0176,  0.0224, -0.0110,  ..., -0.0053, -0.0148,  0.0153],\n",
       "        [ 0.0030, -0.0094, -0.0175,  ..., -0.0075, -0.0089,  0.0003]])"
      ]
     },
     "execution_count": 52,
     "metadata": {},
     "output_type": "execute_result"
    }
   ],
   "source": [
    "time_reduced_hidden_states"
   ]
  },
  {
   "cell_type": "code",
   "execution_count": 51,
   "id": "964a7f80-3609-4312-8bcb-f9d40cb573fa",
   "metadata": {},
   "outputs": [
    {
     "name": "stdout",
     "output_type": "stream",
     "text": [
      "torch.Size([768])\n"
     ]
    }
   ],
   "source": [
    "# you can even use a learnable weighted average representation\n",
    "aggregator = nn.Conv1d(in_channels=13, out_channels=1, kernel_size=1)\n",
    "weighted_avg_hidden_states = aggregator(time_reduced_hidden_states).squeeze()\n",
    "print(weighted_avg_hidden_states.shape) # [768]"
   ]
  },
  {
   "cell_type": "code",
   "execution_count": null,
   "id": "7f13f7e2-af32-486a-9361-35a32ce0c017",
   "metadata": {},
   "outputs": [],
   "source": []
  },
  {
   "cell_type": "code",
   "execution_count": 56,
   "id": "57a88539-85e2-4709-a72f-662bcca6f044",
   "metadata": {},
   "outputs": [
    {
     "data": {
      "text/plain": [
       "torch.Size([1, 768])"
      ]
     },
     "execution_count": 56,
     "metadata": {},
     "output_type": "execute_result"
    }
   ],
   "source": [
    "weighted_avg_hidden_states.reshape(1, -1).shape"
   ]
  },
  {
   "cell_type": "code",
   "execution_count": 25,
   "id": "017b7ac7-0b44-4092-8cde-79e8ae63d51d",
   "metadata": {},
   "outputs": [
    {
     "name": "stdout",
     "output_type": "stream",
     "text": [
      "0 / 73\n",
      "1 / 73\n",
      "2 / 73\n",
      "3 / 73\n",
      "4 / 73\n",
      "5 / 73\n",
      "6 / 73\n",
      "7 / 73\n",
      "8 / 73\n",
      "9 / 73\n",
      "10 / 73\n",
      "11 / 73\n",
      "12 / 73\n",
      "13 / 73\n",
      "14 / 73\n",
      "15 / 73\n",
      "16 / 73\n",
      "17 / 73\n",
      "18 / 73\n",
      "19 / 73\n",
      "20 / 73\n",
      "21 / 73\n",
      "22 / 73\n",
      "23 / 73\n",
      "24 / 73\n",
      "25 / 73\n",
      "26 / 73\n",
      "27 / 73\n",
      "28 / 73\n",
      "29 / 73\n",
      "30 / 73\n",
      "31 / 73\n",
      "32 / 73\n",
      "33 / 73\n",
      "34 / 73\n",
      "35 / 73\n",
      "36 / 73\n",
      "37 / 73\n",
      "38 / 73\n",
      "39 / 73\n",
      "40 / 73\n",
      "41 / 73\n",
      "42 / 73\n",
      "43 / 73\n",
      "44 / 73\n",
      "45 / 73\n",
      "46 / 73\n",
      "47 / 73\n",
      "48 / 73\n",
      "49 / 73\n",
      "50 / 73\n",
      "51 / 73\n",
      "52 / 73\n",
      "53 / 73\n",
      "54 / 73\n",
      "55 / 73\n",
      "56 / 73\n",
      "57 / 73\n",
      "58 / 73\n",
      "59 / 73\n",
      "60 / 73\n",
      "61 / 73\n",
      "62 / 73\n",
      "63 / 73\n",
      "64 / 73\n",
      "65 / 73\n",
      "66 / 73\n",
      "67 / 73\n",
      "68 / 73\n",
      "69 / 73\n",
      "70 / 73\n",
      "71 / 73\n",
      "72 / 73\n"
     ]
    },
    {
     "data": {
      "text/plain": [
       "torch.Size([73, 768])"
      ]
     },
     "execution_count": 25,
     "metadata": {},
     "output_type": "execute_result"
    }
   ],
   "source": [
    "aggregator = nn.Conv1d(in_channels=13, out_channels=1, kernel_size=1)\n",
    "produced, idss, paths = [], [], []\n",
    "with torch.no_grad():\n",
    "    for j in range(len(dataset)):\n",
    "        print('{0} / {1}'.format(j, len(dataset)))\n",
    "        inputs = processor(dataset[j][\"audio\"][\"array\"], sampling_rate=sampling_rate, return_tensors=\"pt\")\n",
    "        outputs = model(**inputs, output_hidden_states=True)\n",
    "        all_layer_hidden_states = torch.stack(outputs.hidden_states).squeeze()\n",
    "        time_reduced_hidden_states = all_layer_hidden_states.mean(-2)\n",
    "        weighted_avg_hidden_states = aggregator(time_reduced_hidden_states).squeeze()\n",
    "        pp = weighted_avg_hidden_states.reshape(1, -1)\n",
    "        produced.append(pp)\n",
    "        ids = dataset[j]['id']\n",
    "        path = dataset[j][\"audio\"][\"path\"]\n",
    "        idss.append(ids)\n",
    "        paths.append(path)\n",
    "produced_torch = torch.cat(produced, dim=0)\n",
    "produced_torch.shape"
   ]
  },
  {
   "cell_type": "code",
   "execution_count": null,
   "id": "90899bec-4720-4098-851f-d7b4400e8767",
   "metadata": {},
   "outputs": [
    {
     "name": "stdout",
     "output_type": "stream",
     "text": [
      "0 / 438\n",
      "1 / 438\n",
      "2 / 438\n",
      "3 / 438\n",
      "4 / 438\n",
      "5 / 438\n",
      "6 / 438\n",
      "7 / 438\n",
      "8 / 438\n",
      "9 / 438\n"
     ]
    }
   ],
   "source": [
    "aggregator = nn.Conv1d(in_channels=13, out_channels=1, kernel_size=1)\n",
    "produced, idss, paths, vs = [], [], [], []\n",
    "with torch.no_grad():\n",
    "    for j in range(len(audio_dataset)):\n",
    "        print('{0} / {1}'.format(j, len(audio_dataset)))\n",
    "        inputs = processor(audio_dataset[j][\"audio\"][\"array\"], sampling_rate=audio_sampling_rate, return_tensors=\"pt\")\n",
    "        outputs = model(**inputs, output_hidden_states=True)\n",
    "        del inputs\n",
    "        all_layer_hidden_states = torch.stack(outputs.hidden_states).squeeze()\n",
    "        del outputs\n",
    "        time_reduced_hidden_states = all_layer_hidden_states.mean(-2)\n",
    "        del all_layer_hidden_states\n",
    "        weighted_avg_hidden_states = aggregator(time_reduced_hidden_states).squeeze()\n",
    "        del time_reduced_hidden_states\n",
    "        pp = weighted_avg_hidden_states.reshape(1, -1)\n",
    "        del weighted_avg_hidden_states\n",
    "        produced.append(pp)\n",
    "        ids = ''\n",
    "        path = audio_dataset[j][\"audio\"][\"path\"]\n",
    "        if '__ы' in path:\n",
    "            v = path[path.index('__ы') + len('__ы'):path.index('.mp3')]\n",
    "        else:\n",
    "            v = '0'\n",
    "        vs.append(v)\n",
    "        idss.append(ids)\n",
    "        paths.append(path)\n",
    "produced_torch = torch.cat(produced, dim=0)\n",
    "produced_torch"
   ]
  },
  {
   "cell_type": "code",
   "execution_count": null,
   "id": "f3f3c721-f8f1-477b-a533-55c411a0cf7d",
   "metadata": {},
   "outputs": [],
   "source": []
  },
  {
   "cell_type": "code",
   "execution_count": 57,
   "id": "8930163f-6103-43bc-bac9-e4d98c51f3dc",
   "metadata": {},
   "outputs": [
    {
     "data": {
      "text/plain": [
       "array([[-0.17924462, -0.1818508 , -0.20396414, ..., -0.18959528,\n",
       "        -0.21513417, -0.15637392],\n",
       "       [-0.2024005 , -0.19176118, -0.21066178, ..., -0.18284848,\n",
       "        -0.18747476, -0.19153412],\n",
       "       [-0.1705264 , -0.16472512, -0.17683412, ..., -0.18313701,\n",
       "        -0.20321685, -0.19530733],\n",
       "       [-0.18069902, -0.18456116, -0.18043108, ..., -0.17645   ,\n",
       "        -0.1881183 , -0.1822276 ]], dtype=float32)"
      ]
     },
     "execution_count": 57,
     "metadata": {},
     "output_type": "execute_result"
    }
   ],
   "source": [
    "produced_torch = torch.cat(produced, dim=0)\n",
    "produced_torch = produced_torch.numpy()\n",
    "produced_torch"
   ]
  },
  {
   "cell_type": "code",
   "execution_count": 58,
   "id": "8d17c22f-1a9a-4546-bfd8-bb508dc521ed",
   "metadata": {},
   "outputs": [
    {
     "data": {
      "text/plain": [
       "(4, 768)"
      ]
     },
     "execution_count": 58,
     "metadata": {},
     "output_type": "execute_result"
    }
   ],
   "source": [
    "produced_torch.shape"
   ]
  },
  {
   "cell_type": "code",
   "execution_count": 59,
   "id": "8e0abf60-f4d1-4ce7-a414-d6ded1591444",
   "metadata": {},
   "outputs": [],
   "source": [
    "import umap\n",
    "import hdbscan"
   ]
  },
  {
   "cell_type": "code",
   "execution_count": 60,
   "id": "89db4ad1-1e49-48d5-b0ff-819a30c1af85",
   "metadata": {},
   "outputs": [],
   "source": [
    "mapper = umap.UMAP(\n",
    "    n_neighbors=30,\n",
    "    min_dist=0.0,\n",
    "    n_components=2,\n",
    "    random_state=42,\n",
    ")\n",
    "\n",
    "clusterable_embedding = mapper.fit_transform(produced_torch)"
   ]
  },
  {
   "cell_type": "code",
   "execution_count": 61,
   "id": "31c6fb0c-4840-4fe1-8836-7c391244c8fb",
   "metadata": {},
   "outputs": [],
   "source": [
    "scanner = hdbscan.HDBSCAN(\n",
    "    min_samples=10,\n",
    "    min_cluster_size=500,\n",
    ")\n",
    "\n",
    "labels = scanner.fit_predict(clusterable_embedding)"
   ]
  },
  {
   "cell_type": "code",
   "execution_count": null,
   "id": "6349611b-305d-4562-b711-e7cc0b9c6815",
   "metadata": {},
   "outputs": [],
   "source": []
  },
  {
   "cell_type": "code",
   "execution_count": 62,
   "id": "cc66392a-6f9c-4a9e-94ad-8c6307846b50",
   "metadata": {},
   "outputs": [],
   "source": [
    "scanner = cluster.KMeans(n_clusters=3)\n",
    "\n",
    "labels = scanner.fit_predict(clusterable_embedding)"
   ]
  },
  {
   "cell_type": "code",
   "execution_count": 63,
   "id": "5063409f-56a6-4aa7-b38b-08b214c3f091",
   "metadata": {},
   "outputs": [
    {
     "data": {
      "text/html": [
       "<div>\n",
       "<style scoped>\n",
       "    .dataframe tbody tr th:only-of-type {\n",
       "        vertical-align: middle;\n",
       "    }\n",
       "\n",
       "    .dataframe tbody tr th {\n",
       "        vertical-align: top;\n",
       "    }\n",
       "\n",
       "    .dataframe thead th {\n",
       "        text-align: right;\n",
       "    }\n",
       "</style>\n",
       "<table border=\"1\" class=\"dataframe\">\n",
       "  <thead>\n",
       "    <tr style=\"text-align: right;\">\n",
       "      <th></th>\n",
       "      <th>x1</th>\n",
       "      <th>x2</th>\n",
       "      <th>labels</th>\n",
       "      <th>id</th>\n",
       "      <th>path</th>\n",
       "    </tr>\n",
       "  </thead>\n",
       "  <tbody>\n",
       "    <tr>\n",
       "      <th>0</th>\n",
       "      <td>-3.054098</td>\n",
       "      <td>-1.577676</td>\n",
       "      <td>0</td>\n",
       "      <td></td>\n",
       "      <td>C:\\Users\\Edward\\Desktop\\music\\data_sub_mp3\\0po...</td>\n",
       "    </tr>\n",
       "    <tr>\n",
       "      <th>1</th>\n",
       "      <td>-3.910137</td>\n",
       "      <td>-1.826775</td>\n",
       "      <td>1</td>\n",
       "      <td></td>\n",
       "      <td>C:\\Users\\Edward\\Desktop\\music\\data_sub_mp3\\9gM...</td>\n",
       "    </tr>\n",
       "    <tr>\n",
       "      <th>2</th>\n",
       "      <td>-3.373260</td>\n",
       "      <td>-0.658194</td>\n",
       "      <td>2</td>\n",
       "      <td></td>\n",
       "      <td>C:\\Users\\Edward\\Desktop\\music\\data_sub_mp3\\sKq...</td>\n",
       "    </tr>\n",
       "    <tr>\n",
       "      <th>3</th>\n",
       "      <td>-3.388057</td>\n",
       "      <td>-2.353068</td>\n",
       "      <td>1</td>\n",
       "      <td></td>\n",
       "      <td>C:\\Users\\Edward\\Desktop\\music\\data_sub_mp3\\xLe...</td>\n",
       "    </tr>\n",
       "  </tbody>\n",
       "</table>\n",
       "</div>"
      ],
      "text/plain": [
       "         x1        x2  labels id  \\\n",
       "0 -3.054098 -1.577676       0      \n",
       "1 -3.910137 -1.826775       1      \n",
       "2 -3.373260 -0.658194       2      \n",
       "3 -3.388057 -2.353068       1      \n",
       "\n",
       "                                                path  \n",
       "0  C:\\Users\\Edward\\Desktop\\music\\data_sub_mp3\\0po...  \n",
       "1  C:\\Users\\Edward\\Desktop\\music\\data_sub_mp3\\9gM...  \n",
       "2  C:\\Users\\Edward\\Desktop\\music\\data_sub_mp3\\sKq...  \n",
       "3  C:\\Users\\Edward\\Desktop\\music\\data_sub_mp3\\xLe...  "
      ]
     },
     "execution_count": 63,
     "metadata": {},
     "output_type": "execute_result"
    }
   ],
   "source": [
    "data = pandas.DataFrame(data=clusterable_embedding, columns=['x1', 'x2'])\n",
    "data['labels'] = labels\n",
    "data['id'] = idss\n",
    "data['path'] = paths\n",
    "data['vs'] = vs\n",
    "data"
   ]
  },
  {
   "cell_type": "code",
   "execution_count": 64,
   "id": "733c2cff-2c51-411a-8844-328e5d754bed",
   "metadata": {},
   "outputs": [
    {
     "data": {
      "text/plain": [
       "<Axes: xlabel='x1', ylabel='x2'>"
      ]
     },
     "execution_count": 64,
     "metadata": {},
     "output_type": "execute_result"
    },
    {
     "data": {
      "image/png": "[encoded data removed]",
      "text/plain": [
       "<Figure size 640x480 with 1 Axes>"
      ]
     },
     "metadata": {},
     "output_type": "display_data"
    }
   ],
   "source": [
    "seaborn.scatterplot(data=data, x=\"x1\", y=\"x2\", hue=\"labels\")"
   ]
  },
  {
   "cell_type": "code",
   "execution_count": 65,
   "id": "13e9492a-ab3e-439d-a2bd-abed2495e26d",
   "metadata": {},
   "outputs": [],
   "source": [
    "data.to_excel('labeled.xlsx')"
   ]
  },
  {
   "cell_type": "code",
   "execution_count": null,
   "id": "aaea979f-41cb-4472-82e5-70a21f223f68",
   "metadata": {},
   "outputs": [],
   "source": []
  },
  {
   "cell_type": "code",
   "execution_count": 23,
   "id": "8aeacde4-39e9-4903-b696-a3c99971a0b1",
   "metadata": {},
   "outputs": [
    {
     "data": {
      "text/plain": [
       "'C:/Users/Edward/.cache/huggingface/datasets/downloads/extracted/5bcdfe32bf897be9d35b8459d665a1979e1388392378913b3c587390c05864c3/dev_clean/1272/128104\\\\1272-128104-0000.flac'"
      ]
     },
     "execution_count": 23,
     "metadata": {},
     "output_type": "execute_result"
    }
   ],
   "source": [
    "dataset[0][\"audio\"][\"path\"]"
   ]
  },
  {
   "cell_type": "code",
   "execution_count": 24,
   "id": "a3d1498e-5f2b-435b-8da5-53e2197970f3",
   "metadata": {},
   "outputs": [
    {
     "data": {
      "text/plain": [
       "'1272-128104-0000'"
      ]
     },
     "execution_count": 24,
     "metadata": {},
     "output_type": "execute_result"
    }
   ],
   "source": [
    "dataset[0]['id']"
   ]
  },
  {
   "cell_type": "code",
   "execution_count": 55,
   "id": "72f2ccf3-abdd-4493-aad9-9f257b6f01fc",
   "metadata": {},
   "outputs": [
    {
     "data": {
      "text/plain": [
       "{'audio': {'path': 'C:\\\\Users\\\\Edward\\\\Desktop\\\\music\\\\data_sub_mp3\\\\0poLsDf1TvM.mp3',\n",
       "  'array': array([-1.20468566e-12, -7.22107920e-14, -1.79155996e-12, ...,\n",
       "          8.37958651e-05, -2.56313849e-03, -3.61391157e-03]),\n",
       "  'sampling_rate': 16000}}"
      ]
     },
     "execution_count": 55,
     "metadata": {},
     "output_type": "execute_result"
    }
   ],
   "source": []
  },
  {
   "cell_type": "code",
   "execution_count": null,
   "id": "6d01a012-49a8-4d1b-a4eb-a2b33a3c41a5",
   "metadata": {},
   "outputs": [],
   "source": []
  }
 ],
 "metadata": {
  "kernelspec": {
   "display_name": "Python 3 (ipykernel)",
   "language": "python",
   "name": "python3"
  },
  "language_info": {
   "codemirror_mode": {
    "name": "ipython",
    "version": 3
   },
   "file_extension": ".py",
   "mimetype": "text/x-python",
   "name": "python",
   "nbconvert_exporter": "python",
   "pygments_lexer": "ipython3",
   "version": "3.12.4"
  }
 },
 "nbformat": 4,
 "nbformat_minor": 5
}
